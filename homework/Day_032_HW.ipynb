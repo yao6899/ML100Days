from numpy.random import normal,uniform
from numpy.random import seed
import matplotlib.pyplot as plt
import numpy as np
import seaborn as sns
import pandas as pd
from scipy import stats
import math
import pylab
%matplotlib inline
mu=0
sigma=1
b=  stats.norm.cdf(1,mu, sigma)
print("P(Z<1)=",b)
mu=0
sigma=1
b=  stats.norm.cdf(1,mu, sigma)
a=  stats.norm.cdf(-1,mu, sigma)
print("P(Z>1 or Z<-1)=",1-(b-a))
mu=0
sigma=1
b=  stats.norm.cdf(2,mu, sigma)
print("P(Z<2)=",b)
#算法2
mu=2
sigma=2 #( 4 要開根號)
b= stats.norm.cdf(6,mu, sigma)
print("P(X<6)=",b)
