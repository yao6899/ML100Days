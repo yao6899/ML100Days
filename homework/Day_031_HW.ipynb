{
 "cells": [
  {
   "cell_type": "code",
   "execution_count": 3,
   "metadata": {},
   "outputs": [
    {
     "data": {
      "image/png": "[encoded data removed]",
      "text/plain": [
       "<Figure size 432x288 with 1 Axes>"
      ]
     },
     "metadata": {
      "needs_background": "light"
     },
     "output_type": "display_data"
    },
    {
     "data": {
      "text/plain": [
       "7.151123842018523e-08"
      ]
     },
     "execution_count": 3,
     "metadata": {},
     "output_type": "execute_result"
    }
   ],
   "source": [
    "# Q1: 大樂透的頭獎，你必須從49個挑選出 6 個號碼，\n",
    "# 且這六個號碼與頭獎的六個號碼一致，頭獎的機率是屬於哪一種分配?\n",
    "#A1:超幾何分配(Hypergeometric Distribution)\n",
    "\n",
    "\n",
    "#Q2: 運用範例的 python 程式碼，計算大樂透的中頭獎機率?\n",
    "from scipy import stats\n",
    "import numpy as np\n",
    "from scipy.stats import hypergeom\n",
    "import matplotlib.pyplot as plt\n",
    "[M,n,N]=[49,6,6]\n",
    "rv=hypergeom(M,n,N)\n",
    "x=np.arange(0,n+1)\n",
    "pmf_lottery=rv.pmf(x)\n",
    "\n",
    "fig=plt.figure()\n",
    "ax=fig.add_subplot(111)\n",
    "ax.plot(x,pmf_lottery,'bo')\n",
    "ax.vlines(x,0,pmf_lottery,lw=3)\n",
    "ax.set_xlabel('test')\n",
    "ax.set_ylabel('hypergeom PMF')\n",
    "plt.show()\n",
    "#解答中獎機率\n",
    "probs=stats.hypergeom.pmf(6,49,6,6)\n",
    "probs"
   ]
  },
  {
   "cell_type": "code",
   "execution_count": null,
   "metadata": {},
   "outputs": [],
   "source": []
  }
 ],
 "metadata": {
  "kernelspec": {
   "display_name": "Python 3",
   "language": "python",
   "name": "python3"
  },
  "language_info": {
   "codemirror_mode": {
    "name": "ipython",
    "version": 3
   },
   "file_extension": ".py",
   "mimetype": "text/x-python",
   "name": "python",
   "nbconvert_exporter": "python",
   "pygments_lexer": "ipython3",
   "version": "3.8.5"
  }
 },
 "nbformat": 4,
 "nbformat_minor": 4
}
