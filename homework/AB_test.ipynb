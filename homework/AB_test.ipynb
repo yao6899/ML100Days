{
  "nbformat": 4,
  "nbformat_minor": 0,
  "metadata": {
    "colab": {
      "name": "AB_test.ipynb",
      "provenance": [],
      "collapsed_sections": []
    },
    "kernelspec": {
      "name": "python3",
      "display_name": "Python 3"
    },
    "language_info": {
      "name": "python"
    }
  },
  "cells": [
    {
      "cell_type": "code",
      "metadata": {
        "id": "duXqnUkUeYLN"
      },
      "source": [
        "# from google.colab import files\n",
        "# upload=files.upload()"
      ],
      "execution_count": 2,
      "outputs": []
    },
    {
      "cell_type": "code",
      "metadata": {
        "id": "8pv9wCPzfNUD"
      },
      "source": [
        "# https://www.statsmodels.org/0.8.0/generated/statsmodels.stats.proportion.proportions_ztest.html\n",
        "# 語法 for 雙樣本比例檢定\n",
        "# statsmodels.stats.proportion.proportions_ztest(A, B, alternative='smaller')\n",
        "# 參數說明:\n",
        "# A: 兩組不良品的數量\n",
        "# B: 兩組的總樣本\n",
        "# alternative: ‘two-sided’, ‘smaller’, ‘larger’ 分別代表 雙尾檢定，左尾檢定與右尾檢定\n",
        "# 輸出\n",
        "# Z-test: 檢定量\n",
        "# P-value: 這樣檢定量下的 p-value值"
      ],
      "execution_count": null,
      "outputs": []
    },
    {
      "cell_type": "code",
      "metadata": {
        "colab": {
          "base_uri": "https://localhost:8080/"
        },
        "id": "mlwXnhsSetMu",
        "outputId": "9c72bf33-04c6-491a-a5e2-5fc2dc276369"
      },
      "source": [
        "# H0:p(a)!=p(b)兩組不良率不相同\n",
        "# H1:p(a)=p(b)兩組不良率相同\n",
        "import statsmodels.stats.proportion\n",
        "A = [75,30] # 有不良品的個數\n",
        "B = [300,300] #各組實驗總個數\n",
        "statsmodels.stats.proportion.proportions_ztest(A, B, alternative='two-sided')"
      ],
      "execution_count": 5,
      "outputs": [
        {
          "output_type": "execute_result",
          "data": {
            "text/plain": [
              "(4.834937784152282, 1.3318728439003627e-06)"
            ]
          },
          "metadata": {
            "tags": []
          },
          "execution_count": 5
        }
      ]
    },
    {
      "cell_type": "code",
      "metadata": {
        "id": "mUiERX_Af6IU"
      },
      "source": [
        ""
      ],
      "execution_count": null,
      "outputs": []
    }
  ]
}