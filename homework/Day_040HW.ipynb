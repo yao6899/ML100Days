from google.colab import files
upload=files.upload()

import pandas as pd
data=pd.read_csv('Titanic_train.csv')


#1.產稱一個新的變數 Survived_cate ，資料型態傳換成類別型態      
#2.把題目中的 Survived 用 Survived_cate 來做分析 
print(data.info())
data['Survived_cate']=data['Survived']
data['Survived_cate']=data['Survived_cate'].astype('object')


#我們先把遺失值刪除
#取出資料後，把遺失值刪除
data.isnull().any()
c_data=data[['Age','Survived_cate','Sex']].dropna()

#Q1: 產生一個新的變數(Age_above65_) Age>=65為 'Y'，其餘為'N'。

def age_map(x):
  if(x>=65):
    return('Y')
  else:
    return('N')
c_data['Age_above']=c_data['Age'].apply(age_map)
display(c_data)

#Q2: 添加女性和男性，產生一個新的變數(Age_above65_female)，女性或Age>=65為'Y'，其餘為'N'。


def age_map(row):
  if(row.Sex=='female'):
    return('Y')
  else:
    if(row.Age>=65):
      return('Y')
    else:
      return('N')
c_data['Age_above_female']=c_data[['Age','Sex']].apply(age_map,axis=1)

# Q3: 透過昨天課程的內容，驗證產生的兩個新變數，哪一個和目標變數(Survived_cate)的相關性較高?
# 兩個離散數據使用卡方檢定
#Age_above65
countTable=pd.crosstab(c_data['Age_above'],c_data['Survived_cate'])
df = min(countTable.shape[0], countTable.shape[1]) - 1

!pip install  researchpy
import researchpy
crosstab, res=researchpy.crosstab(c_data['Survived_cate'],c_data['Age_above'],test='chi-square')
print("Cramer's value is",res.loc[2,'results'])
def judgment_CramerV(df,V): #df自由度
    if df == 1:
        if V < 0.10:
            qual = 'negligible'
        elif V < 0.30:
            qual = 'small'
        elif V < 0.50:
            qual = 'medium'
        else:
            qual = 'large'
    elif df == 2:
        if V < 0.07:
            qual = 'negligible'
        elif V < 0.21:
            qual = 'small'
        elif V < 0.35:
            qual = 'medium'
        else:
            qual = 'large'
    elif df == 3:
        if V < 0.06:
            qual = 'negligible'
        elif V < 0.17:
            qual = 'small'
        elif V < 0.29:
            qual = 'medium'
        else:
            qual = 'large'
    elif df == 4:
        if V < 0.05:
            qual = 'negligible'
        elif V < 0.15:
            qual = 'small'
        elif V < 0.25:
            qual = 'medium'
        else:
            qual = 'large'
    else:
        if V < 0.05:
            qual = 'negligible'
        elif V < 0.13:
            qual = 'small'
        elif V < 0.22:
            qual = 'medium'
        else:
            qual = 'large'
    return(qual)

judgment_CramerV(df,res.loc[2,'results'])

#Age_above65_female
contTable = pd.crosstab(c_data['Age_above_female'], c_data['Survived_cate'])
contTable
df = min(contTable.shape[0], contTable.shape[1]) - 1
df
crosstab, res = researchpy.crosstab(c_data['Survived_cate'], c_data['Age_above_female'], test='chi-square')
#print(res)
print("Cramer's value is",res.loc[2,'results'])


judgment_CramerV(df,res.loc[2,'results'])










































