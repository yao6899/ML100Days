{
 "cells": [
  {
   "cell_type": "code",
   "execution_count": null,
   "metadata": {},
   "outputs": [],
   "source": [
    "\n",
    "# Q1: 吃減肥藥能在一個月內瘦超過十公斤，研究人員想推翻第四台廣告業者的說法，請試著寫出 $H_0$ 與 $H_1$ 。\n",
    "# Ans:\n",
    "# $H_0$: 吃減肥藥能在一個月內瘦能超過十公斤\n",
    "# $H_1$: 吃減肥藥能在一個月內瘦不能超過十公斤\n",
    "\n",
    "# Q2: 一位速食店店長認為其品牌在市場之佔有率至多為12%，於是該店長進行一個市場調查，一共訪問了3000為消費者，其中有311位表示喜歡該品牌，請試著寫出 $H_0$ 與 $H_1$ 。\n",
    "# Ans:\n",
    "# $H_0$: 其品牌在市場之佔有率超過 12% \n",
    "# $H_1$: 其品牌在市場之佔有率至多為 12% "
   ]
  }
 ],
 "metadata": {
  "kernelspec": {
   "display_name": "Python 3",
   "language": "python",
   "name": "python3"
  },
  "language_info": {
   "codemirror_mode": {
    "name": "ipython",
    "version": 3
   },
   "file_extension": ".py",
   "mimetype": "text/x-python",
   "name": "python",
   "nbconvert_exporter": "python",
   "pygments_lexer": "ipython3",
   "version": "3.8.5"
  }
 },
 "nbformat": 4,
 "nbformat_minor": 4
}
