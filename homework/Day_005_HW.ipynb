{
 "cells": [
  {
   "cell_type": "code",
   "execution_count": 1,
   "metadata": {},
   "outputs": [],
   "source": [
    "import numpy as np\n",
    "\n",
    "english_score = np.array([55,89,76,65,48,70])\n",
    "math_score = np.array([60,85,60,68,np.nan,60])\n",
    "chinese_score = np.array([65,90,82,72,66,77])"
   ]
  },
  {
   "cell_type": "code",
   "execution_count": 6,
   "metadata": {},
   "outputs": [
    {
     "name": "stdout",
     "output_type": "stream",
     "text": [
      "英文科\n",
      "平均 67.16666666666667\n",
      "最大值 89\n",
      "最小值 48\n",
      "標準差 13.433995020924426\n"
     ]
    }
   ],
   "source": [
    "print(\"英文科\")\n",
    "print(\"平均\",np.average(english_score))\n",
    "print(\"最大值\",np.max(english_score))\n",
    "print(\"最小值\",np.min(english_score))\n",
    "print(\"標準差\",np.std(english_score))"
   ]
  },
  {
   "cell_type": "code",
   "execution_count": 10,
   "metadata": {},
   "outputs": [
    {
     "name": "stdout",
     "output_type": "stream",
     "text": [
      "數學科\n",
      "平均 66.6\n",
      "最大值 85.0\n",
      "最小值 60.0\n",
      "標準差 9.707728879609279\n"
     ]
    }
   ],
   "source": [
    "print(\"數學科\")\n",
    "print(\"平均\",np.nanmean(math_score))\n",
    "print(\"最大值\",np.nanmax(math_score))\n",
    "print(\"最小值\",np.nanmin(math_score))\n",
    "print(\"標準差\",np.nanstd(math_score))"
   ]
  },
  {
   "cell_type": "code",
   "execution_count": 11,
   "metadata": {},
   "outputs": [
    {
     "name": "stdout",
     "output_type": "stream",
     "text": [
      "國文科\n",
      "平均 75.33333333333333\n",
      "最大值 90\n",
      "最小值 65\n",
      "標準差 8.825468196582484\n"
     ]
    }
   ],
   "source": [
    "print(\"國文科\")\n",
    "print(\"平均\",np.nanmean(chinese_score))\n",
    "print(\"最大值\",np.nanmax(chinese_score))\n",
    "print(\"最小值\",np.nanmin(chinese_score))\n",
    "print(\"標準差\",np.nanstd(chinese_score))"
   ]
  },
  {
   "cell_type": "code",
   "execution_count": 16,
   "metadata": {
    "scrolled": true
   },
   "outputs": [
    {
     "name": "stdout",
     "output_type": "stream",
     "text": [
      "數學科補考\n",
      "平均 64.66666666666667\n",
      "最大值 85\n",
      "最小值 55\n",
      "標準差 9.860132971832694\n",
      "[[1.         0.74056803 0.7855563 ]\n",
      " [0.74056803 1.         0.97792828]\n",
      " [0.7855563  0.97792828 1.        ]]\n"
     ]
    }
   ],
   "source": [
    "temp=np.array([60,85,60,68,55,60])\n",
    "print(\"數學科補考\")\n",
    "print(\"平均\",np.nanmean(temp))\n",
    "print(\"最大值\",np.nanmax(temp))\n",
    "print(\"最小值\",np.nanmin(temp))\n",
    "print(\"標準差\",np.nanstd(temp))\n",
    "x=np.vstack((temp,chinese_score,english_score))\n",
    "r=np.corrcoef(x)\n",
    "print(r)"
   ]
  },
  {
   "cell_type": "code",
   "execution_count": null,
   "metadata": {},
   "outputs": [],
   "source": []
  }
 ],
 "metadata": {
  "kernelspec": {
   "display_name": "Python 3",
   "language": "python",
   "name": "python3"
  },
  "language_info": {
   "codemirror_mode": {
    "name": "ipython",
    "version": 3
   },
   "file_extension": ".py",
   "mimetype": "text/x-python",
   "name": "python",
   "nbconvert_exporter": "python",
   "pygments_lexer": "ipython3",
   "version": "3.6.5"
  }
 },
 "nbformat": 4,
 "nbformat_minor": 2
}
