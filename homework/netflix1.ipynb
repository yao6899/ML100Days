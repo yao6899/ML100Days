{
  "nbformat": 4,
  "nbformat_minor": 0,
  "metadata": {
    "colab": {
      "name": "Netflix.ipynb",
      "provenance": [],
      "collapsed_sections": []
    },
    "kernelspec": {
      "name": "python3",
      "display_name": "Python 3"
    },
    "language_info": {
      "name": "python"
    }
  },
  "cells": [
    {
      "cell_type": "code",
      "metadata": {
        "colab": {
          "resources": {
            "http://localhost:8080/nbextensions/google.colab/files.js": {
              "data": "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",
              "ok": true,
              "headers": [
                [
                  "content-type",
                  "application/javascript"
                ]
              ],
              "status": 200,
              "status_text": ""
            }
          },
          "base_uri": "https://localhost:8080/",
          "height": 75
        },
        "id": "07mjgUcbmKRO",
        "outputId": "e4a06f33-1159-4a9d-b17b-bed631c560aa"
      },
      "source": [
        "from google.colab import files\n",
        "upload=files.upload()"
      ],
      "execution_count": null,
      "outputs": [
        {
          "output_type": "display_data",
          "data": {
            "text/html": [
              "\n",
              "     <input type=\"file\" id=\"files-37090c26-12a7-4529-ae0c-ec2bf3f576f4\" name=\"files[]\" multiple disabled\n",
              "        style=\"border:none\" />\n",
              "     <output id=\"result-37090c26-12a7-4529-ae0c-ec2bf3f576f4\">\n",
              "      Upload widget is only available when the cell has been executed in the\n",
              "      current browser session. Please rerun this cell to enable.\n",
              "      </output>\n",
              "      <script src=\"/nbextensions/google.colab/files.js\"></script> "
            ],
            "text/plain": [
              "<IPython.core.display.HTML object>"
            ]
          },
          "metadata": {
            "tags": []
          }
        },
        {
          "output_type": "stream",
          "text": [
            "Saving netflix_titles.csv to netflix_titles.csv\n"
          ],
          "name": "stdout"
        }
      ]
    },
    {
      "cell_type": "code",
      "metadata": {
        "id": "INznVpRol6sZ"
      },
      "source": [
        "# 本次的專題目標有以下四個，我們希望你能：\n",
        "# 觀察# TV shows 跟 Movies 的比例；年齡層的分類\n",
        "# 觀察# 製作國別與發佈內容\n",
        "# 建立內容類型的數據框的直方圖與Heatmap\n",
        "# 建立文字雲分析 - 找出最多人看的影片"
      ],
      "execution_count": null,
      "outputs": []
    },
    {
      "cell_type": "code",
      "metadata": {
        "id": "Pj7MANOjeyqh"
      },
      "source": [
        ""
      ],
      "execution_count": null,
      "outputs": []
    },
    {
      "cell_type": "code",
      "metadata": {
        "id": "ttbW8QKRnBi5"
      },
      "source": [
        "import pandas as pd\n",
        "data=pd.read_csv('netflix_titles.csv')"
      ],
      "execution_count": 93,
      "outputs": []
    },
    {
      "cell_type": "code",
      "metadata": {
        "colab": {
          "base_uri": "https://localhost:8080/",
          "height": 602
        },
        "id": "s52wi-Q5nLBb",
        "outputId": "e6e17d00-468a-4acd-fe13-7bf4bfe6f23c"
      },
      "source": [
        "data"
      ],
      "execution_count": 94,
      "outputs": [
        {
          "output_type": "execute_result",
          "data": {
            "text/html": [
              "<div>\n",
              "<style scoped>\n",
              "    .dataframe tbody tr th:only-of-type {\n",
              "        vertical-align: middle;\n",
              "    }\n",
              "\n",
              "    .dataframe tbody tr th {\n",
              "        vertical-align: top;\n",
              "    }\n",
              "\n",
              "    .dataframe thead th {\n",
              "        text-align: right;\n",
              "    }\n",
              "</style>\n",
              "<table border=\"1\" class=\"dataframe\">\n",
              "  <thead>\n",
              "    <tr style=\"text-align: right;\">\n",
              "      <th></th>\n",
              "      <th>show_id</th>\n",
              "      <th>type</th>\n",
              "      <th>title</th>\n",
              "      <th>director</th>\n",
              "      <th>cast</th>\n",
              "      <th>country</th>\n",
              "      <th>date_added</th>\n",
              "      <th>release_year</th>\n",
              "      <th>rating</th>\n",
              "      <th>duration</th>\n",
              "      <th>listed_in</th>\n",
              "      <th>description</th>\n",
              "    </tr>\n",
              "  </thead>\n",
              "  <tbody>\n",
              "    <tr>\n",
              "      <th>0</th>\n",
              "      <td>s1</td>\n",
              "      <td>TV Show</td>\n",
              "      <td>3%</td>\n",
              "      <td>NaN</td>\n",
              "      <td>João Miguel, Bianca Comparato, Michel Gomes, R...</td>\n",
              "      <td>Brazil</td>\n",
              "      <td>August 14, 2020</td>\n",
              "      <td>2020</td>\n",
              "      <td>TV-MA</td>\n",
              "      <td>4 Seasons</td>\n",
              "      <td>International TV Shows, TV Dramas, TV Sci-Fi &amp;...</td>\n",
              "      <td>In a future where the elite inhabit an island ...</td>\n",
              "    </tr>\n",
              "    <tr>\n",
              "      <th>1</th>\n",
              "      <td>s2</td>\n",
              "      <td>Movie</td>\n",
              "      <td>7:19</td>\n",
              "      <td>Jorge Michel Grau</td>\n",
              "      <td>Demián Bichir, Héctor Bonilla, Oscar Serrano, ...</td>\n",
              "      <td>Mexico</td>\n",
              "      <td>December 23, 2016</td>\n",
              "      <td>2016</td>\n",
              "      <td>TV-MA</td>\n",
              "      <td>93 min</td>\n",
              "      <td>Dramas, International Movies</td>\n",
              "      <td>After a devastating earthquake hits Mexico Cit...</td>\n",
              "    </tr>\n",
              "    <tr>\n",
              "      <th>2</th>\n",
              "      <td>s3</td>\n",
              "      <td>Movie</td>\n",
              "      <td>23:59</td>\n",
              "      <td>Gilbert Chan</td>\n",
              "      <td>Tedd Chan, Stella Chung, Henley Hii, Lawrence ...</td>\n",
              "      <td>Singapore</td>\n",
              "      <td>December 20, 2018</td>\n",
              "      <td>2011</td>\n",
              "      <td>R</td>\n",
              "      <td>78 min</td>\n",
              "      <td>Horror Movies, International Movies</td>\n",
              "      <td>When an army recruit is found dead, his fellow...</td>\n",
              "    </tr>\n",
              "    <tr>\n",
              "      <th>3</th>\n",
              "      <td>s4</td>\n",
              "      <td>Movie</td>\n",
              "      <td>9</td>\n",
              "      <td>Shane Acker</td>\n",
              "      <td>Elijah Wood, John C. Reilly, Jennifer Connelly...</td>\n",
              "      <td>United States</td>\n",
              "      <td>November 16, 2017</td>\n",
              "      <td>2009</td>\n",
              "      <td>PG-13</td>\n",
              "      <td>80 min</td>\n",
              "      <td>Action &amp; Adventure, Independent Movies, Sci-Fi...</td>\n",
              "      <td>In a postapocalyptic world, rag-doll robots hi...</td>\n",
              "    </tr>\n",
              "    <tr>\n",
              "      <th>4</th>\n",
              "      <td>s5</td>\n",
              "      <td>Movie</td>\n",
              "      <td>21</td>\n",
              "      <td>Robert Luketic</td>\n",
              "      <td>Jim Sturgess, Kevin Spacey, Kate Bosworth, Aar...</td>\n",
              "      <td>United States</td>\n",
              "      <td>January 1, 2020</td>\n",
              "      <td>2008</td>\n",
              "      <td>PG-13</td>\n",
              "      <td>123 min</td>\n",
              "      <td>Dramas</td>\n",
              "      <td>A brilliant group of students become card-coun...</td>\n",
              "    </tr>\n",
              "    <tr>\n",
              "      <th>...</th>\n",
              "      <td>...</td>\n",
              "      <td>...</td>\n",
              "      <td>...</td>\n",
              "      <td>...</td>\n",
              "      <td>...</td>\n",
              "      <td>...</td>\n",
              "      <td>...</td>\n",
              "      <td>...</td>\n",
              "      <td>...</td>\n",
              "      <td>...</td>\n",
              "      <td>...</td>\n",
              "      <td>...</td>\n",
              "    </tr>\n",
              "    <tr>\n",
              "      <th>7782</th>\n",
              "      <td>s7783</td>\n",
              "      <td>Movie</td>\n",
              "      <td>Zozo</td>\n",
              "      <td>Josef Fares</td>\n",
              "      <td>Imad Creidi, Antoinette Turk, Elias Gergi, Car...</td>\n",
              "      <td>Sweden, Czech Republic, United Kingdom, Denmar...</td>\n",
              "      <td>October 19, 2020</td>\n",
              "      <td>2005</td>\n",
              "      <td>TV-MA</td>\n",
              "      <td>99 min</td>\n",
              "      <td>Dramas, International Movies</td>\n",
              "      <td>When Lebanon's Civil War deprives Zozo of his ...</td>\n",
              "    </tr>\n",
              "    <tr>\n",
              "      <th>7783</th>\n",
              "      <td>s7784</td>\n",
              "      <td>Movie</td>\n",
              "      <td>Zubaan</td>\n",
              "      <td>Mozez Singh</td>\n",
              "      <td>Vicky Kaushal, Sarah-Jane Dias, Raaghav Chanan...</td>\n",
              "      <td>India</td>\n",
              "      <td>March 2, 2019</td>\n",
              "      <td>2015</td>\n",
              "      <td>TV-14</td>\n",
              "      <td>111 min</td>\n",
              "      <td>Dramas, International Movies, Music &amp; Musicals</td>\n",
              "      <td>A scrappy but poor boy worms his way into a ty...</td>\n",
              "    </tr>\n",
              "    <tr>\n",
              "      <th>7784</th>\n",
              "      <td>s7785</td>\n",
              "      <td>Movie</td>\n",
              "      <td>Zulu Man in Japan</td>\n",
              "      <td>NaN</td>\n",
              "      <td>Nasty C</td>\n",
              "      <td>NaN</td>\n",
              "      <td>September 25, 2020</td>\n",
              "      <td>2019</td>\n",
              "      <td>TV-MA</td>\n",
              "      <td>44 min</td>\n",
              "      <td>Documentaries, International Movies, Music &amp; M...</td>\n",
              "      <td>In this documentary, South African rapper Nast...</td>\n",
              "    </tr>\n",
              "    <tr>\n",
              "      <th>7785</th>\n",
              "      <td>s7786</td>\n",
              "      <td>TV Show</td>\n",
              "      <td>Zumbo's Just Desserts</td>\n",
              "      <td>NaN</td>\n",
              "      <td>Adriano Zumbo, Rachel Khoo</td>\n",
              "      <td>Australia</td>\n",
              "      <td>October 31, 2020</td>\n",
              "      <td>2019</td>\n",
              "      <td>TV-PG</td>\n",
              "      <td>1 Season</td>\n",
              "      <td>International TV Shows, Reality TV</td>\n",
              "      <td>Dessert wizard Adriano Zumbo looks for the nex...</td>\n",
              "    </tr>\n",
              "    <tr>\n",
              "      <th>7786</th>\n",
              "      <td>s7787</td>\n",
              "      <td>Movie</td>\n",
              "      <td>ZZ TOP: THAT LITTLE OL' BAND FROM TEXAS</td>\n",
              "      <td>Sam Dunn</td>\n",
              "      <td>NaN</td>\n",
              "      <td>United Kingdom, Canada, United States</td>\n",
              "      <td>March 1, 2020</td>\n",
              "      <td>2019</td>\n",
              "      <td>TV-MA</td>\n",
              "      <td>90 min</td>\n",
              "      <td>Documentaries, Music &amp; Musicals</td>\n",
              "      <td>This documentary delves into the mystique behi...</td>\n",
              "    </tr>\n",
              "  </tbody>\n",
              "</table>\n",
              "<p>7787 rows × 12 columns</p>\n",
              "</div>"
            ],
            "text/plain": [
              "     show_id  ...                                        description\n",
              "0         s1  ...  In a future where the elite inhabit an island ...\n",
              "1         s2  ...  After a devastating earthquake hits Mexico Cit...\n",
              "2         s3  ...  When an army recruit is found dead, his fellow...\n",
              "3         s4  ...  In a postapocalyptic world, rag-doll robots hi...\n",
              "4         s5  ...  A brilliant group of students become card-coun...\n",
              "...      ...  ...                                                ...\n",
              "7782   s7783  ...  When Lebanon's Civil War deprives Zozo of his ...\n",
              "7783   s7784  ...  A scrappy but poor boy worms his way into a ty...\n",
              "7784   s7785  ...  In this documentary, South African rapper Nast...\n",
              "7785   s7786  ...  Dessert wizard Adriano Zumbo looks for the nex...\n",
              "7786   s7787  ...  This documentary delves into the mystique behi...\n",
              "\n",
              "[7787 rows x 12 columns]"
            ]
          },
          "metadata": {
            "tags": []
          },
          "execution_count": 94
        }
      ]
    },
    {
      "cell_type": "code",
      "metadata": {
        "id": "w4e11hoznSW0"
      },
      "source": [
        "movie_proportion=len(data[data['type']=='Movie'])/len(data)\n",
        "TV_proportion=len(data[data['type']=='TV Show'])/len(data)"
      ],
      "execution_count": 95,
      "outputs": []
    },
    {
      "cell_type": "code",
      "metadata": {
        "colab": {
          "base_uri": "https://localhost:8080/"
        },
        "id": "662bwPvAnZ5z",
        "outputId": "92d72741-f477-489d-f470-71afa42cedec"
      },
      "source": [
        "TV_proportion"
      ],
      "execution_count": 96,
      "outputs": [
        {
          "output_type": "execute_result",
          "data": {
            "text/plain": [
              "0.3094901759342494"
            ]
          },
          "metadata": {
            "tags": []
          },
          "execution_count": 96
        }
      ]
    },
    {
      "cell_type": "code",
      "metadata": {
        "colab": {
          "base_uri": "https://localhost:8080/"
        },
        "id": "_LkpyIDhotYd",
        "outputId": "3945a66c-bbd1-403f-cc60-eca75346b447"
      },
      "source": [
        "print(f'Movies佔的比例為: {movie_proportion}')\n",
        "print(f'TV Show佔的比例為: {TV_proportion}')"
      ],
      "execution_count": 97,
      "outputs": [
        {
          "output_type": "stream",
          "text": [
            "Movies佔的比例為: 0.6905098240657506\n",
            "TV Show佔的比例為: 0.3094901759342494\n"
          ],
          "name": "stdout"
        }
      ]
    },
    {
      "cell_type": "code",
      "metadata": {
        "colab": {
          "base_uri": "https://localhost:8080/"
        },
        "id": "PoF-0HEKpIjl",
        "outputId": "f2597c3e-0bf3-4e43-fd21-c3c23b54428a"
      },
      "source": [
        "data.isnull().any() #有缺失值"
      ],
      "execution_count": 98,
      "outputs": [
        {
          "output_type": "execute_result",
          "data": {
            "text/plain": [
              "show_id         False\n",
              "type            False\n",
              "title           False\n",
              "director         True\n",
              "cast             True\n",
              "country          True\n",
              "date_added       True\n",
              "release_year    False\n",
              "rating           True\n",
              "duration        False\n",
              "listed_in       False\n",
              "description     False\n",
              "dtype: bool"
            ]
          },
          "metadata": {
            "tags": []
          },
          "execution_count": 98
        }
      ]
    },
    {
      "cell_type": "code",
      "metadata": {
        "colab": {
          "base_uri": "https://localhost:8080/"
        },
        "id": "X3nKPMvJqFyi",
        "outputId": "b6cf4308-42e4-4a4f-f2bd-30298f302357"
      },
      "source": [
        "#len(data[data['director'].isnull()=='True'].index)\n",
        "a=data['director'].isnull().sum()\n",
        "b=data['cast'].isnull().sum()\n",
        "c=data['country'].isnull().sum()\n",
        "d=data['date_added'].isnull().sum()\n",
        "e=data['rating'].isnull().sum()\n",
        "\n",
        "print(f'Director遺失數量: {a}\\n')\n",
        "print(f'Cast遺失數量: {b}\\n')\n",
        "print(f'Country遺失數量: {c}\\n')\n",
        "print(f'Date_added遺失數量: {d}\\n')\n",
        "print(f'Rating遺失數量: {e}\\n')"
      ],
      "execution_count": 99,
      "outputs": [
        {
          "output_type": "stream",
          "text": [
            "Director遺失數量: 2389\n",
            "\n",
            "Cast遺失數量: 718\n",
            "\n",
            "Country遺失數量: 507\n",
            "\n",
            "Date_added遺失數量: 10\n",
            "\n",
            "Rating遺失數量: 7\n",
            "\n"
          ],
          "name": "stdout"
        }
      ]
    },
    {
      "cell_type": "code",
      "metadata": {
        "colab": {
          "base_uri": "https://localhost:8080/"
        },
        "id": "ndve5ZhHLsDH",
        "outputId": "c8eddc85-899c-4167-de5e-a4199ebd2f55"
      },
      "source": [
        "data.isna().sum()"
      ],
      "execution_count": 100,
      "outputs": [
        {
          "output_type": "execute_result",
          "data": {
            "text/plain": [
              "show_id            0\n",
              "type               0\n",
              "title              0\n",
              "director        2389\n",
              "cast             718\n",
              "country          507\n",
              "date_added        10\n",
              "release_year       0\n",
              "rating             7\n",
              "duration           0\n",
              "listed_in          0\n",
              "description        0\n",
              "dtype: int64"
            ]
          },
          "metadata": {
            "tags": []
          },
          "execution_count": 100
        }
      ]
    },
    {
      "cell_type": "code",
      "metadata": {
        "id": "Z_QVVzS4qrKA",
        "colab": {
          "base_uri": "https://localhost:8080/"
        },
        "outputId": "c51cc5ab-274f-4227-f5cd-e58bbd6dd2a4"
      },
      "source": [
        "data.isnull().any"
      ],
      "execution_count": 101,
      "outputs": [
        {
          "output_type": "execute_result",
          "data": {
            "text/plain": [
              "<bound method DataFrame.any of       show_id   type  title  director  ...  rating  duration  listed_in  description\n",
              "0       False  False  False      True  ...   False     False      False        False\n",
              "1       False  False  False     False  ...   False     False      False        False\n",
              "2       False  False  False     False  ...   False     False      False        False\n",
              "3       False  False  False     False  ...   False     False      False        False\n",
              "4       False  False  False     False  ...   False     False      False        False\n",
              "...       ...    ...    ...       ...  ...     ...       ...        ...          ...\n",
              "7782    False  False  False     False  ...   False     False      False        False\n",
              "7783    False  False  False     False  ...   False     False      False        False\n",
              "7784    False  False  False      True  ...   False     False      False        False\n",
              "7785    False  False  False      True  ...   False     False      False        False\n",
              "7786    False  False  False     False  ...   False     False      False        False\n",
              "\n",
              "[7787 rows x 12 columns]>"
            ]
          },
          "metadata": {
            "tags": []
          },
          "execution_count": 101
        }
      ]
    },
    {
      "cell_type": "code",
      "metadata": {
        "colab": {
          "base_uri": "https://localhost:8080/",
          "height": 219
        },
        "id": "Hoy2vuAIq3eT",
        "outputId": "54fb2be5-1c83-44ac-9e71-725b00550eed"
      },
      "source": [
        "display(data['director'].value_counts())"
      ],
      "execution_count": 102,
      "outputs": [
        {
          "output_type": "display_data",
          "data": {
            "text/plain": [
              "Raúl Campos, Jan Suter           18\n",
              "Marcus Raboy                     16\n",
              "Jay Karas                        14\n",
              "Cathy Garcia-Molina              13\n",
              "Martin Scorsese                  12\n",
              "                                 ..\n",
              "Joe Nussbaum                      1\n",
              "Byun Hyuk                         1\n",
              "Michael Simon, Matthew McNeil     1\n",
              "Cody Cameron, Kris Pearn          1\n",
              "Chris Blake                       1\n",
              "Name: director, Length: 4049, dtype: int64"
            ]
          },
          "metadata": {
            "tags": []
          }
        }
      ]
    },
    {
      "cell_type": "code",
      "metadata": {
        "colab": {
          "base_uri": "https://localhost:8080/",
          "height": 585
        },
        "id": "8F6SS2E_uoco",
        "outputId": "737bab36-f660-45aa-bd9a-11016e5b486d"
      },
      "source": [
        "data[data['director'].isnull().values==True]"
      ],
      "execution_count": 103,
      "outputs": [
        {
          "output_type": "execute_result",
          "data": {
            "text/html": [
              "<div>\n",
              "<style scoped>\n",
              "    .dataframe tbody tr th:only-of-type {\n",
              "        vertical-align: middle;\n",
              "    }\n",
              "\n",
              "    .dataframe tbody tr th {\n",
              "        vertical-align: top;\n",
              "    }\n",
              "\n",
              "    .dataframe thead th {\n",
              "        text-align: right;\n",
              "    }\n",
              "</style>\n",
              "<table border=\"1\" class=\"dataframe\">\n",
              "  <thead>\n",
              "    <tr style=\"text-align: right;\">\n",
              "      <th></th>\n",
              "      <th>show_id</th>\n",
              "      <th>type</th>\n",
              "      <th>title</th>\n",
              "      <th>director</th>\n",
              "      <th>cast</th>\n",
              "      <th>country</th>\n",
              "      <th>date_added</th>\n",
              "      <th>release_year</th>\n",
              "      <th>rating</th>\n",
              "      <th>duration</th>\n",
              "      <th>listed_in</th>\n",
              "      <th>description</th>\n",
              "    </tr>\n",
              "  </thead>\n",
              "  <tbody>\n",
              "    <tr>\n",
              "      <th>0</th>\n",
              "      <td>s1</td>\n",
              "      <td>TV Show</td>\n",
              "      <td>3%</td>\n",
              "      <td>NaN</td>\n",
              "      <td>João Miguel, Bianca Comparato, Michel Gomes, R...</td>\n",
              "      <td>Brazil</td>\n",
              "      <td>August 14, 2020</td>\n",
              "      <td>2020</td>\n",
              "      <td>TV-MA</td>\n",
              "      <td>4 Seasons</td>\n",
              "      <td>International TV Shows, TV Dramas, TV Sci-Fi &amp;...</td>\n",
              "      <td>In a future where the elite inhabit an island ...</td>\n",
              "    </tr>\n",
              "    <tr>\n",
              "      <th>11</th>\n",
              "      <td>s12</td>\n",
              "      <td>TV Show</td>\n",
              "      <td>1983</td>\n",
              "      <td>NaN</td>\n",
              "      <td>Robert Więckiewicz, Maciej Musiał, Michalina O...</td>\n",
              "      <td>Poland, United States</td>\n",
              "      <td>November 30, 2018</td>\n",
              "      <td>2018</td>\n",
              "      <td>TV-MA</td>\n",
              "      <td>1 Season</td>\n",
              "      <td>Crime TV Shows, International TV Shows, TV Dramas</td>\n",
              "      <td>In this dark alt-history thriller, a naïve law...</td>\n",
              "    </tr>\n",
              "    <tr>\n",
              "      <th>16</th>\n",
              "      <td>s17</td>\n",
              "      <td>TV Show</td>\n",
              "      <td>Feb-09</td>\n",
              "      <td>NaN</td>\n",
              "      <td>Shahd El Yaseen, Shaila Sabt, Hala, Hanadi Al-...</td>\n",
              "      <td>NaN</td>\n",
              "      <td>March 20, 2019</td>\n",
              "      <td>2018</td>\n",
              "      <td>TV-14</td>\n",
              "      <td>1 Season</td>\n",
              "      <td>International TV Shows, TV Dramas</td>\n",
              "      <td>As a psychology professor faces Alzheimer's, h...</td>\n",
              "    </tr>\n",
              "    <tr>\n",
              "      <th>19</th>\n",
              "      <td>s20</td>\n",
              "      <td>Movie</td>\n",
              "      <td>'89</td>\n",
              "      <td>NaN</td>\n",
              "      <td>Lee Dixon, Ian Wright, Paul Merson</td>\n",
              "      <td>United Kingdom</td>\n",
              "      <td>May 16, 2018</td>\n",
              "      <td>2017</td>\n",
              "      <td>TV-PG</td>\n",
              "      <td>87 min</td>\n",
              "      <td>Sports Movies</td>\n",
              "      <td>Mixing old footage with interviews, this is th...</td>\n",
              "    </tr>\n",
              "    <tr>\n",
              "      <th>24</th>\n",
              "      <td>s25</td>\n",
              "      <td>TV Show</td>\n",
              "      <td>​SAINT SEIYA: Knights of the Zodiac</td>\n",
              "      <td>NaN</td>\n",
              "      <td>Bryson Baugus, Emily Neves, Blake Shepard, Pat...</td>\n",
              "      <td>Japan</td>\n",
              "      <td>January 23, 2020</td>\n",
              "      <td>2020</td>\n",
              "      <td>TV-14</td>\n",
              "      <td>2 Seasons</td>\n",
              "      <td>Anime Series, International TV Shows</td>\n",
              "      <td>Seiya and the Knights of the Zodiac rise again...</td>\n",
              "    </tr>\n",
              "    <tr>\n",
              "      <th>...</th>\n",
              "      <td>...</td>\n",
              "      <td>...</td>\n",
              "      <td>...</td>\n",
              "      <td>...</td>\n",
              "      <td>...</td>\n",
              "      <td>...</td>\n",
              "      <td>...</td>\n",
              "      <td>...</td>\n",
              "      <td>...</td>\n",
              "      <td>...</td>\n",
              "      <td>...</td>\n",
              "      <td>...</td>\n",
              "    </tr>\n",
              "    <tr>\n",
              "      <th>7775</th>\n",
              "      <td>s7776</td>\n",
              "      <td>TV Show</td>\n",
              "      <td>Zoids Wild</td>\n",
              "      <td>NaN</td>\n",
              "      <td>Kensho Ono, Takahiro Sakurai, Mikako Komatsu, ...</td>\n",
              "      <td>Japan</td>\n",
              "      <td>August 14, 2020</td>\n",
              "      <td>2018</td>\n",
              "      <td>TV-Y7</td>\n",
              "      <td>1 Season</td>\n",
              "      <td>Anime Series, Kids' TV</td>\n",
              "      <td>A quest for freedom and legendary treasure beg...</td>\n",
              "    </tr>\n",
              "    <tr>\n",
              "      <th>7777</th>\n",
              "      <td>s7778</td>\n",
              "      <td>TV Show</td>\n",
              "      <td>Zombie Dumb</td>\n",
              "      <td>NaN</td>\n",
              "      <td>NaN</td>\n",
              "      <td>NaN</td>\n",
              "      <td>July 1, 2019</td>\n",
              "      <td>2018</td>\n",
              "      <td>TV-Y7</td>\n",
              "      <td>2 Seasons</td>\n",
              "      <td>Kids' TV, Korean TV Shows, TV Comedies</td>\n",
              "      <td>While living alone in a spooky town, a young g...</td>\n",
              "    </tr>\n",
              "    <tr>\n",
              "      <th>7779</th>\n",
              "      <td>s7780</td>\n",
              "      <td>TV Show</td>\n",
              "      <td>Zona Rosa</td>\n",
              "      <td>NaN</td>\n",
              "      <td>Manu NNa, Ana Julia Yeyé, Ray Contreras, Pablo...</td>\n",
              "      <td>Mexico</td>\n",
              "      <td>November 26, 2019</td>\n",
              "      <td>2019</td>\n",
              "      <td>TV-MA</td>\n",
              "      <td>1 Season</td>\n",
              "      <td>International TV Shows, Spanish-Language TV Sh...</td>\n",
              "      <td>An assortment of talent takes the stage for a ...</td>\n",
              "    </tr>\n",
              "    <tr>\n",
              "      <th>7784</th>\n",
              "      <td>s7785</td>\n",
              "      <td>Movie</td>\n",
              "      <td>Zulu Man in Japan</td>\n",
              "      <td>NaN</td>\n",
              "      <td>Nasty C</td>\n",
              "      <td>NaN</td>\n",
              "      <td>September 25, 2020</td>\n",
              "      <td>2019</td>\n",
              "      <td>TV-MA</td>\n",
              "      <td>44 min</td>\n",
              "      <td>Documentaries, International Movies, Music &amp; M...</td>\n",
              "      <td>In this documentary, South African rapper Nast...</td>\n",
              "    </tr>\n",
              "    <tr>\n",
              "      <th>7785</th>\n",
              "      <td>s7786</td>\n",
              "      <td>TV Show</td>\n",
              "      <td>Zumbo's Just Desserts</td>\n",
              "      <td>NaN</td>\n",
              "      <td>Adriano Zumbo, Rachel Khoo</td>\n",
              "      <td>Australia</td>\n",
              "      <td>October 31, 2020</td>\n",
              "      <td>2019</td>\n",
              "      <td>TV-PG</td>\n",
              "      <td>1 Season</td>\n",
              "      <td>International TV Shows, Reality TV</td>\n",
              "      <td>Dessert wizard Adriano Zumbo looks for the nex...</td>\n",
              "    </tr>\n",
              "  </tbody>\n",
              "</table>\n",
              "<p>2389 rows × 12 columns</p>\n",
              "</div>"
            ],
            "text/plain": [
              "     show_id  ...                                        description\n",
              "0         s1  ...  In a future where the elite inhabit an island ...\n",
              "11       s12  ...  In this dark alt-history thriller, a naïve law...\n",
              "16       s17  ...  As a psychology professor faces Alzheimer's, h...\n",
              "19       s20  ...  Mixing old footage with interviews, this is th...\n",
              "24       s25  ...  Seiya and the Knights of the Zodiac rise again...\n",
              "...      ...  ...                                                ...\n",
              "7775   s7776  ...  A quest for freedom and legendary treasure beg...\n",
              "7777   s7778  ...  While living alone in a spooky town, a young g...\n",
              "7779   s7780  ...  An assortment of talent takes the stage for a ...\n",
              "7784   s7785  ...  In this documentary, South African rapper Nast...\n",
              "7785   s7786  ...  Dessert wizard Adriano Zumbo looks for the nex...\n",
              "\n",
              "[2389 rows x 12 columns]"
            ]
          },
          "metadata": {
            "tags": []
          },
          "execution_count": 103
        }
      ]
    },
    {
      "cell_type": "code",
      "metadata": {
        "id": "3oNrJT28vqtg"
      },
      "source": [
        "# from pandas_profiling import ProfileReport\n",
        "# import pandas_profiling\n",
        "# report = pandas_profiling.ProfileReport(data)"
      ],
      "execution_count": 104,
      "outputs": []
    },
    {
      "cell_type": "code",
      "metadata": {
        "colab": {
          "base_uri": "https://localhost:8080/"
        },
        "id": "sFXMOIrQMQDy",
        "outputId": "b3325fbe-b5e1-4684-90a0-021bf50e00dc"
      },
      "source": [
        "data.nunique()"
      ],
      "execution_count": 105,
      "outputs": [
        {
          "output_type": "execute_result",
          "data": {
            "text/plain": [
              "show_id         7787\n",
              "type               2\n",
              "title           7787\n",
              "director        4049\n",
              "cast            6831\n",
              "country          681\n",
              "date_added      1565\n",
              "release_year      73\n",
              "rating            14\n",
              "duration         216\n",
              "listed_in        492\n",
              "description     7769\n",
              "dtype: int64"
            ]
          },
          "metadata": {
            "tags": []
          },
          "execution_count": 105
        }
      ]
    },
    {
      "cell_type": "code",
      "metadata": {
        "colab": {
          "base_uri": "https://localhost:8080/",
          "height": 383
        },
        "id": "4nq9cLrBOBoq",
        "outputId": "75b89f4e-de74-405b-8ce4-2f53f3571e61"
      },
      "source": [
        "data[data['rating'].isnull()]"
      ],
      "execution_count": 106,
      "outputs": [
        {
          "output_type": "execute_result",
          "data": {
            "text/html": [
              "<div>\n",
              "<style scoped>\n",
              "    .dataframe tbody tr th:only-of-type {\n",
              "        vertical-align: middle;\n",
              "    }\n",
              "\n",
              "    .dataframe tbody tr th {\n",
              "        vertical-align: top;\n",
              "    }\n",
              "\n",
              "    .dataframe thead th {\n",
              "        text-align: right;\n",
              "    }\n",
              "</style>\n",
              "<table border=\"1\" class=\"dataframe\">\n",
              "  <thead>\n",
              "    <tr style=\"text-align: right;\">\n",
              "      <th></th>\n",
              "      <th>show_id</th>\n",
              "      <th>type</th>\n",
              "      <th>title</th>\n",
              "      <th>director</th>\n",
              "      <th>cast</th>\n",
              "      <th>country</th>\n",
              "      <th>date_added</th>\n",
              "      <th>release_year</th>\n",
              "      <th>rating</th>\n",
              "      <th>duration</th>\n",
              "      <th>listed_in</th>\n",
              "      <th>description</th>\n",
              "    </tr>\n",
              "  </thead>\n",
              "  <tbody>\n",
              "    <tr>\n",
              "      <th>67</th>\n",
              "      <td>s68</td>\n",
              "      <td>Movie</td>\n",
              "      <td>13TH: A Conversation with Oprah Winfrey &amp; Ava ...</td>\n",
              "      <td>NaN</td>\n",
              "      <td>Oprah Winfrey, Ava DuVernay</td>\n",
              "      <td>NaN</td>\n",
              "      <td>January 26, 2017</td>\n",
              "      <td>2017</td>\n",
              "      <td>NaN</td>\n",
              "      <td>37 min</td>\n",
              "      <td>Movies</td>\n",
              "      <td>Oprah Winfrey sits down with director Ava DuVe...</td>\n",
              "    </tr>\n",
              "    <tr>\n",
              "      <th>2359</th>\n",
              "      <td>s2360</td>\n",
              "      <td>TV Show</td>\n",
              "      <td>Gargantia on the Verdurous Planet</td>\n",
              "      <td>NaN</td>\n",
              "      <td>Kaito Ishikawa, Hisako Kanemoto, Ai Kayano, Ka...</td>\n",
              "      <td>Japan</td>\n",
              "      <td>December 1, 2016</td>\n",
              "      <td>2013</td>\n",
              "      <td>NaN</td>\n",
              "      <td>1 Season</td>\n",
              "      <td>Anime Series, International TV Shows</td>\n",
              "      <td>After falling through a wormhole, a space-dwel...</td>\n",
              "    </tr>\n",
              "    <tr>\n",
              "      <th>3660</th>\n",
              "      <td>s3661</td>\n",
              "      <td>TV Show</td>\n",
              "      <td>Little Lunch</td>\n",
              "      <td>NaN</td>\n",
              "      <td>Flynn Curry, Olivia Deeble, Madison Lu, Oisín ...</td>\n",
              "      <td>Australia</td>\n",
              "      <td>February 1, 2018</td>\n",
              "      <td>2015</td>\n",
              "      <td>NaN</td>\n",
              "      <td>1 Season</td>\n",
              "      <td>Kids' TV, TV Comedies</td>\n",
              "      <td>Adopting a child's perspective, this show take...</td>\n",
              "    </tr>\n",
              "    <tr>\n",
              "      <th>3736</th>\n",
              "      <td>s3737</td>\n",
              "      <td>Movie</td>\n",
              "      <td>Louis C.K. 2017</td>\n",
              "      <td>Louis C.K.</td>\n",
              "      <td>Louis C.K.</td>\n",
              "      <td>United States</td>\n",
              "      <td>April 4, 2017</td>\n",
              "      <td>2017</td>\n",
              "      <td>NaN</td>\n",
              "      <td>74 min</td>\n",
              "      <td>Movies</td>\n",
              "      <td>Louis C.K. muses on religion, eternal love, gi...</td>\n",
              "    </tr>\n",
              "    <tr>\n",
              "      <th>3737</th>\n",
              "      <td>s3738</td>\n",
              "      <td>Movie</td>\n",
              "      <td>Louis C.K.: Hilarious</td>\n",
              "      <td>Louis C.K.</td>\n",
              "      <td>Louis C.K.</td>\n",
              "      <td>United States</td>\n",
              "      <td>September 16, 2016</td>\n",
              "      <td>2010</td>\n",
              "      <td>NaN</td>\n",
              "      <td>84 min</td>\n",
              "      <td>Movies</td>\n",
              "      <td>Emmy-winning comedy writer Louis C.K. brings h...</td>\n",
              "    </tr>\n",
              "    <tr>\n",
              "      <th>3738</th>\n",
              "      <td>s3739</td>\n",
              "      <td>Movie</td>\n",
              "      <td>Louis C.K.: Live at the Comedy Store</td>\n",
              "      <td>Louis C.K.</td>\n",
              "      <td>Louis C.K.</td>\n",
              "      <td>United States</td>\n",
              "      <td>August 15, 2016</td>\n",
              "      <td>2015</td>\n",
              "      <td>NaN</td>\n",
              "      <td>66 min</td>\n",
              "      <td>Movies</td>\n",
              "      <td>The comic puts his trademark hilarious/thought...</td>\n",
              "    </tr>\n",
              "    <tr>\n",
              "      <th>4323</th>\n",
              "      <td>s4324</td>\n",
              "      <td>Movie</td>\n",
              "      <td>My Honor Was Loyalty</td>\n",
              "      <td>Alessandro Pepe</td>\n",
              "      <td>Leone Frisa, Paolo Vaccarino, Francesco Miglio...</td>\n",
              "      <td>Italy</td>\n",
              "      <td>March 1, 2017</td>\n",
              "      <td>2015</td>\n",
              "      <td>NaN</td>\n",
              "      <td>115 min</td>\n",
              "      <td>Dramas</td>\n",
              "      <td>Amid the chaos and horror of World War II, a c...</td>\n",
              "    </tr>\n",
              "  </tbody>\n",
              "</table>\n",
              "</div>"
            ],
            "text/plain": [
              "     show_id  ...                                        description\n",
              "67       s68  ...  Oprah Winfrey sits down with director Ava DuVe...\n",
              "2359   s2360  ...  After falling through a wormhole, a space-dwel...\n",
              "3660   s3661  ...  Adopting a child's perspective, this show take...\n",
              "3736   s3737  ...  Louis C.K. muses on religion, eternal love, gi...\n",
              "3737   s3738  ...  Emmy-winning comedy writer Louis C.K. brings h...\n",
              "3738   s3739  ...  The comic puts his trademark hilarious/thought...\n",
              "4323   s4324  ...  Amid the chaos and horror of World War II, a c...\n",
              "\n",
              "[7 rows x 12 columns]"
            ]
          },
          "metadata": {
            "tags": []
          },
          "execution_count": 106
        }
      ]
    },
    {
      "cell_type": "code",
      "metadata": {
        "colab": {
          "base_uri": "https://localhost:8080/",
          "height": 383
        },
        "id": "n8us9scuOYBC",
        "outputId": "9d73c58e-5fca-4aa7-e599-b4e0472d6ed0"
      },
      "source": [
        "data[data['rating'].isna()]"
      ],
      "execution_count": 107,
      "outputs": [
        {
          "output_type": "execute_result",
          "data": {
            "text/html": [
              "<div>\n",
              "<style scoped>\n",
              "    .dataframe tbody tr th:only-of-type {\n",
              "        vertical-align: middle;\n",
              "    }\n",
              "\n",
              "    .dataframe tbody tr th {\n",
              "        vertical-align: top;\n",
              "    }\n",
              "\n",
              "    .dataframe thead th {\n",
              "        text-align: right;\n",
              "    }\n",
              "</style>\n",
              "<table border=\"1\" class=\"dataframe\">\n",
              "  <thead>\n",
              "    <tr style=\"text-align: right;\">\n",
              "      <th></th>\n",
              "      <th>show_id</th>\n",
              "      <th>type</th>\n",
              "      <th>title</th>\n",
              "      <th>director</th>\n",
              "      <th>cast</th>\n",
              "      <th>country</th>\n",
              "      <th>date_added</th>\n",
              "      <th>release_year</th>\n",
              "      <th>rating</th>\n",
              "      <th>duration</th>\n",
              "      <th>listed_in</th>\n",
              "      <th>description</th>\n",
              "    </tr>\n",
              "  </thead>\n",
              "  <tbody>\n",
              "    <tr>\n",
              "      <th>67</th>\n",
              "      <td>s68</td>\n",
              "      <td>Movie</td>\n",
              "      <td>13TH: A Conversation with Oprah Winfrey &amp; Ava ...</td>\n",
              "      <td>NaN</td>\n",
              "      <td>Oprah Winfrey, Ava DuVernay</td>\n",
              "      <td>NaN</td>\n",
              "      <td>January 26, 2017</td>\n",
              "      <td>2017</td>\n",
              "      <td>NaN</td>\n",
              "      <td>37 min</td>\n",
              "      <td>Movies</td>\n",
              "      <td>Oprah Winfrey sits down with director Ava DuVe...</td>\n",
              "    </tr>\n",
              "    <tr>\n",
              "      <th>2359</th>\n",
              "      <td>s2360</td>\n",
              "      <td>TV Show</td>\n",
              "      <td>Gargantia on the Verdurous Planet</td>\n",
              "      <td>NaN</td>\n",
              "      <td>Kaito Ishikawa, Hisako Kanemoto, Ai Kayano, Ka...</td>\n",
              "      <td>Japan</td>\n",
              "      <td>December 1, 2016</td>\n",
              "      <td>2013</td>\n",
              "      <td>NaN</td>\n",
              "      <td>1 Season</td>\n",
              "      <td>Anime Series, International TV Shows</td>\n",
              "      <td>After falling through a wormhole, a space-dwel...</td>\n",
              "    </tr>\n",
              "    <tr>\n",
              "      <th>3660</th>\n",
              "      <td>s3661</td>\n",
              "      <td>TV Show</td>\n",
              "      <td>Little Lunch</td>\n",
              "      <td>NaN</td>\n",
              "      <td>Flynn Curry, Olivia Deeble, Madison Lu, Oisín ...</td>\n",
              "      <td>Australia</td>\n",
              "      <td>February 1, 2018</td>\n",
              "      <td>2015</td>\n",
              "      <td>NaN</td>\n",
              "      <td>1 Season</td>\n",
              "      <td>Kids' TV, TV Comedies</td>\n",
              "      <td>Adopting a child's perspective, this show take...</td>\n",
              "    </tr>\n",
              "    <tr>\n",
              "      <th>3736</th>\n",
              "      <td>s3737</td>\n",
              "      <td>Movie</td>\n",
              "      <td>Louis C.K. 2017</td>\n",
              "      <td>Louis C.K.</td>\n",
              "      <td>Louis C.K.</td>\n",
              "      <td>United States</td>\n",
              "      <td>April 4, 2017</td>\n",
              "      <td>2017</td>\n",
              "      <td>NaN</td>\n",
              "      <td>74 min</td>\n",
              "      <td>Movies</td>\n",
              "      <td>Louis C.K. muses on religion, eternal love, gi...</td>\n",
              "    </tr>\n",
              "    <tr>\n",
              "      <th>3737</th>\n",
              "      <td>s3738</td>\n",
              "      <td>Movie</td>\n",
              "      <td>Louis C.K.: Hilarious</td>\n",
              "      <td>Louis C.K.</td>\n",
              "      <td>Louis C.K.</td>\n",
              "      <td>United States</td>\n",
              "      <td>September 16, 2016</td>\n",
              "      <td>2010</td>\n",
              "      <td>NaN</td>\n",
              "      <td>84 min</td>\n",
              "      <td>Movies</td>\n",
              "      <td>Emmy-winning comedy writer Louis C.K. brings h...</td>\n",
              "    </tr>\n",
              "    <tr>\n",
              "      <th>3738</th>\n",
              "      <td>s3739</td>\n",
              "      <td>Movie</td>\n",
              "      <td>Louis C.K.: Live at the Comedy Store</td>\n",
              "      <td>Louis C.K.</td>\n",
              "      <td>Louis C.K.</td>\n",
              "      <td>United States</td>\n",
              "      <td>August 15, 2016</td>\n",
              "      <td>2015</td>\n",
              "      <td>NaN</td>\n",
              "      <td>66 min</td>\n",
              "      <td>Movies</td>\n",
              "      <td>The comic puts his trademark hilarious/thought...</td>\n",
              "    </tr>\n",
              "    <tr>\n",
              "      <th>4323</th>\n",
              "      <td>s4324</td>\n",
              "      <td>Movie</td>\n",
              "      <td>My Honor Was Loyalty</td>\n",
              "      <td>Alessandro Pepe</td>\n",
              "      <td>Leone Frisa, Paolo Vaccarino, Francesco Miglio...</td>\n",
              "      <td>Italy</td>\n",
              "      <td>March 1, 2017</td>\n",
              "      <td>2015</td>\n",
              "      <td>NaN</td>\n",
              "      <td>115 min</td>\n",
              "      <td>Dramas</td>\n",
              "      <td>Amid the chaos and horror of World War II, a c...</td>\n",
              "    </tr>\n",
              "  </tbody>\n",
              "</table>\n",
              "</div>"
            ],
            "text/plain": [
              "     show_id  ...                                        description\n",
              "67       s68  ...  Oprah Winfrey sits down with director Ava DuVe...\n",
              "2359   s2360  ...  After falling through a wormhole, a space-dwel...\n",
              "3660   s3661  ...  Adopting a child's perspective, this show take...\n",
              "3736   s3737  ...  Louis C.K. muses on religion, eternal love, gi...\n",
              "3737   s3738  ...  Emmy-winning comedy writer Louis C.K. brings h...\n",
              "3738   s3739  ...  The comic puts his trademark hilarious/thought...\n",
              "4323   s4324  ...  Amid the chaos and horror of World War II, a c...\n",
              "\n",
              "[7 rows x 12 columns]"
            ]
          },
          "metadata": {
            "tags": []
          },
          "execution_count": 107
        }
      ]
    },
    {
      "cell_type": "code",
      "metadata": {
        "colab": {
          "base_uri": "https://localhost:8080/"
        },
        "id": "v58rlzAuOj7F",
        "outputId": "cd5133b0-ae68-414b-999b-01e34b31376b"
      },
      "source": [
        "data['rating'].unique()\n",
        "##結果是美國電視電影分級制度"
      ],
      "execution_count": 108,
      "outputs": [
        {
          "output_type": "execute_result",
          "data": {
            "text/plain": [
              "array(['TV-MA', 'R', 'PG-13', 'TV-14', 'TV-PG', 'NR', 'TV-G', 'TV-Y', nan,\n",
              "       'TV-Y7', 'PG', 'G', 'NC-17', 'TV-Y7-FV', 'UR'], dtype=object)"
            ]
          },
          "metadata": {
            "tags": []
          },
          "execution_count": 108
        }
      ]
    },
    {
      "cell_type": "code",
      "metadata": {
        "colab": {
          "base_uri": "https://localhost:8080/"
        },
        "id": "QswRFMPnPSfT",
        "outputId": "220b8b1f-8ccc-4884-c125-49fb4d5a2a08"
      },
      "source": [
        "print(len(data[data['rating']=='TV-14']))"
      ],
      "execution_count": 109,
      "outputs": [
        {
          "output_type": "stream",
          "text": [
            "1931\n"
          ],
          "name": "stdout"
        }
      ]
    },
    {
      "cell_type": "code",
      "metadata": {
        "colab": {
          "base_uri": "https://localhost:8080/"
        },
        "id": "rvUiUwIUVqpJ",
        "outputId": "05bfd38d-e5da-4a0c-d742-0bae01378536"
      },
      "source": [
        "len(data[data['rating']=='TV-G'])"
      ],
      "execution_count": 110,
      "outputs": [
        {
          "output_type": "execute_result",
          "data": {
            "text/plain": [
              "194"
            ]
          },
          "metadata": {
            "tags": []
          },
          "execution_count": 110
        }
      ]
    },
    {
      "cell_type": "code",
      "metadata": {
        "colab": {
          "base_uri": "https://localhost:8080/"
        },
        "id": "34Y54ygsg7sO",
        "outputId": "2db0dbe6-f673-4737-d1be-ac742abcbbc5"
      },
      "source": [
        "data.iloc[67]"
      ],
      "execution_count": 111,
      "outputs": [
        {
          "output_type": "execute_result",
          "data": {
            "text/plain": [
              "show_id                                                       s68\n",
              "type                                                        Movie\n",
              "title           13TH: A Conversation with Oprah Winfrey & Ava ...\n",
              "director                                                      NaN\n",
              "cast                                  Oprah Winfrey, Ava DuVernay\n",
              "country                                                       NaN\n",
              "date_added                                       January 26, 2017\n",
              "release_year                                                 2017\n",
              "rating                                                        NaN\n",
              "duration                                                   37 min\n",
              "listed_in                                                  Movies\n",
              "description     Oprah Winfrey sits down with director Ava DuVe...\n",
              "Name: 67, dtype: object"
            ]
          },
          "metadata": {
            "tags": []
          },
          "execution_count": 111
        }
      ]
    },
    {
      "cell_type": "code",
      "metadata": {
        "colab": {
          "base_uri": "https://localhost:8080/"
        },
        "id": "4HBGvhFifnsO",
        "outputId": "435e7eb9-233a-434a-9ffb-d8eb948db227"
      },
      "source": [
        "#基於 Netflix shows,我們可以嘗試使用 replacements #指定id給予值\n",
        "rating_replacements={\n",
        "    67: 'TV-14',\n",
        "    2359: 'TV-14',\n",
        "    3660: 'PG-13',\n",
        "    4056: 'TV-G',\n",
        "    3736: 'TV-G',\n",
        "    3737: 'TV-G',\n",
        "    3738: 'TV-14',\n",
        "    4323: 'TV-14',\n",
        "}\n",
        "\n",
        "for id,x in rating_replacements.items():\n",
        "  data.iloc[id,8]=x\n",
        "\n",
        "\n",
        "data.iloc[67,8]='TV-16'  #這是ok的\n",
        "## rating是在第8個欄位   \n",
        "data['rating'].isnull().sum()"
      ],
      "execution_count": 112,
      "outputs": [
        {
          "output_type": "execute_result",
          "data": {
            "text/plain": [
              "0"
            ]
          },
          "metadata": {
            "tags": []
          },
          "execution_count": 112
        }
      ]
    },
    {
      "cell_type": "code",
      "metadata": {
        "colab": {
          "base_uri": "https://localhost:8080/"
        },
        "id": "usxpLYd_gw3C",
        "outputId": "8c1d9259-a334-4df3-8417-d08d5f36bcd0"
      },
      "source": [
        "data.iloc[67]"
      ],
      "execution_count": 113,
      "outputs": [
        {
          "output_type": "execute_result",
          "data": {
            "text/plain": [
              "show_id                                                       s68\n",
              "type                                                        Movie\n",
              "title           13TH: A Conversation with Oprah Winfrey & Ava ...\n",
              "director                                                      NaN\n",
              "cast                                  Oprah Winfrey, Ava DuVernay\n",
              "country                                                       NaN\n",
              "date_added                                       January 26, 2017\n",
              "release_year                                                 2017\n",
              "rating                                                      TV-16\n",
              "duration                                                   37 min\n",
              "listed_in                                                  Movies\n",
              "description     Oprah Winfrey sits down with director Ava DuVe...\n",
              "Name: 67, dtype: object"
            ]
          },
          "metadata": {
            "tags": []
          },
          "execution_count": 113
        }
      ]
    },
    {
      "cell_type": "code",
      "metadata": {
        "colab": {
          "base_uri": "https://localhost:8080/",
          "height": 253
        },
        "id": "q1pQxQ24QsqG",
        "outputId": "a6d809f4-1483-4a11-a9a6-2a9d18b40b20"
      },
      "source": [
        "display(data.isnull().sum()) #為了簡單處理, 先行丟棄director 跟 cast 欄位\n",
        "print(len(data))"
      ],
      "execution_count": 114,
      "outputs": [
        {
          "output_type": "display_data",
          "data": {
            "text/plain": [
              "show_id            0\n",
              "type               0\n",
              "title              0\n",
              "director        2389\n",
              "cast             718\n",
              "country          507\n",
              "date_added        10\n",
              "release_year       0\n",
              "rating             0\n",
              "duration           0\n",
              "listed_in          0\n",
              "description        0\n",
              "dtype: int64"
            ]
          },
          "metadata": {
            "tags": []
          }
        },
        {
          "output_type": "stream",
          "text": [
            "7787\n"
          ],
          "name": "stdout"
        }
      ]
    },
    {
      "cell_type": "code",
      "metadata": {
        "id": "RCu4ltZCRKa_"
      },
      "source": [
        "data=data.drop(['director','cast'],axis=1) "
      ],
      "execution_count": 115,
      "outputs": []
    },
    {
      "cell_type": "code",
      "metadata": {
        "colab": {
          "base_uri": "https://localhost:8080/"
        },
        "id": "y7DZehQNbrrv",
        "outputId": "0ecff229-7d00-4473-97d3-fc9980dbeff5"
      },
      "source": [
        "print(len(data))\n",
        "print(data.columns)"
      ],
      "execution_count": 116,
      "outputs": [
        {
          "output_type": "stream",
          "text": [
            "7787\n",
            "Index(['show_id', 'type', 'title', 'country', 'date_added', 'release_year',\n",
            "       'rating', 'duration', 'listed_in', 'description'],\n",
            "      dtype='object')\n"
          ],
          "name": "stdout"
        }
      ]
    },
    {
      "cell_type": "code",
      "metadata": {
        "id": "et6ZovYFb2A1"
      },
      "source": [
        "#! pip install https://github.com/pandas-profiling/pandas-profiling/archive/master.zip "
      ],
      "execution_count": 117,
      "outputs": []
    },
    {
      "cell_type": "code",
      "metadata": {
        "colab": {
          "base_uri": "https://localhost:8080/",
          "height": 526
        },
        "id": "PkmHSzxMlxGn",
        "outputId": "c4f1938f-0809-434e-8389-792078e9869e"
      },
      "source": [
        "data[data['date_added'].isnull()]"
      ],
      "execution_count": 118,
      "outputs": [
        {
          "output_type": "execute_result",
          "data": {
            "text/html": [
              "<div>\n",
              "<style scoped>\n",
              "    .dataframe tbody tr th:only-of-type {\n",
              "        vertical-align: middle;\n",
              "    }\n",
              "\n",
              "    .dataframe tbody tr th {\n",
              "        vertical-align: top;\n",
              "    }\n",
              "\n",
              "    .dataframe thead th {\n",
              "        text-align: right;\n",
              "    }\n",
              "</style>\n",
              "<table border=\"1\" class=\"dataframe\">\n",
              "  <thead>\n",
              "    <tr style=\"text-align: right;\">\n",
              "      <th></th>\n",
              "      <th>show_id</th>\n",
              "      <th>type</th>\n",
              "      <th>title</th>\n",
              "      <th>country</th>\n",
              "      <th>date_added</th>\n",
              "      <th>release_year</th>\n",
              "      <th>rating</th>\n",
              "      <th>duration</th>\n",
              "      <th>listed_in</th>\n",
              "      <th>description</th>\n",
              "    </tr>\n",
              "  </thead>\n",
              "  <tbody>\n",
              "    <tr>\n",
              "      <th>258</th>\n",
              "      <td>s259</td>\n",
              "      <td>TV Show</td>\n",
              "      <td>A Young Doctor's Notebook and Other Stories</td>\n",
              "      <td>United Kingdom</td>\n",
              "      <td>NaN</td>\n",
              "      <td>2013</td>\n",
              "      <td>TV-MA</td>\n",
              "      <td>2 Seasons</td>\n",
              "      <td>British TV Shows, TV Comedies, TV Dramas</td>\n",
              "      <td>Set during the Russian Revolution, this comic ...</td>\n",
              "    </tr>\n",
              "    <tr>\n",
              "      <th>549</th>\n",
              "      <td>s550</td>\n",
              "      <td>TV Show</td>\n",
              "      <td>Anthony Bourdain: Parts Unknown</td>\n",
              "      <td>United States</td>\n",
              "      <td>NaN</td>\n",
              "      <td>2018</td>\n",
              "      <td>TV-PG</td>\n",
              "      <td>5 Seasons</td>\n",
              "      <td>Docuseries</td>\n",
              "      <td>This CNN original series has chef Anthony Bour...</td>\n",
              "    </tr>\n",
              "    <tr>\n",
              "      <th>2263</th>\n",
              "      <td>s2264</td>\n",
              "      <td>TV Show</td>\n",
              "      <td>Frasier</td>\n",
              "      <td>United States</td>\n",
              "      <td>NaN</td>\n",
              "      <td>2003</td>\n",
              "      <td>TV-PG</td>\n",
              "      <td>11 Seasons</td>\n",
              "      <td>Classic &amp; Cult TV, TV Comedies</td>\n",
              "      <td>Frasier Crane is a snooty but lovable Seattle ...</td>\n",
              "    </tr>\n",
              "    <tr>\n",
              "      <th>2288</th>\n",
              "      <td>s2289</td>\n",
              "      <td>TV Show</td>\n",
              "      <td>Friends</td>\n",
              "      <td>United States</td>\n",
              "      <td>NaN</td>\n",
              "      <td>2003</td>\n",
              "      <td>TV-14</td>\n",
              "      <td>10 Seasons</td>\n",
              "      <td>Classic &amp; Cult TV, TV Comedies</td>\n",
              "      <td>This hit sitcom follows the merry misadventure...</td>\n",
              "    </tr>\n",
              "    <tr>\n",
              "      <th>2555</th>\n",
              "      <td>s2556</td>\n",
              "      <td>TV Show</td>\n",
              "      <td>Gunslinger Girl</td>\n",
              "      <td>Japan</td>\n",
              "      <td>NaN</td>\n",
              "      <td>2008</td>\n",
              "      <td>TV-14</td>\n",
              "      <td>2 Seasons</td>\n",
              "      <td>Anime Series, Crime TV Shows</td>\n",
              "      <td>On the surface, the Social Welfare Agency appe...</td>\n",
              "    </tr>\n",
              "    <tr>\n",
              "      <th>3374</th>\n",
              "      <td>s3375</td>\n",
              "      <td>TV Show</td>\n",
              "      <td>Kikoriki</td>\n",
              "      <td>NaN</td>\n",
              "      <td>NaN</td>\n",
              "      <td>2010</td>\n",
              "      <td>TV-Y</td>\n",
              "      <td>2 Seasons</td>\n",
              "      <td>Kids' TV</td>\n",
              "      <td>A wacky rabbit and his gang of animal pals hav...</td>\n",
              "    </tr>\n",
              "    <tr>\n",
              "      <th>3492</th>\n",
              "      <td>s3493</td>\n",
              "      <td>TV Show</td>\n",
              "      <td>La Familia P. Luche</td>\n",
              "      <td>United States</td>\n",
              "      <td>NaN</td>\n",
              "      <td>2012</td>\n",
              "      <td>TV-14</td>\n",
              "      <td>3 Seasons</td>\n",
              "      <td>International TV Shows, Spanish-Language TV Sh...</td>\n",
              "      <td>This irreverent sitcom featues Ludovico, Feder...</td>\n",
              "    </tr>\n",
              "    <tr>\n",
              "      <th>3946</th>\n",
              "      <td>s3947</td>\n",
              "      <td>TV Show</td>\n",
              "      <td>Maron</td>\n",
              "      <td>United States</td>\n",
              "      <td>NaN</td>\n",
              "      <td>2016</td>\n",
              "      <td>TV-MA</td>\n",
              "      <td>4 Seasons</td>\n",
              "      <td>TV Comedies</td>\n",
              "      <td>Marc Maron stars as Marc Maron, who interviews...</td>\n",
              "    </tr>\n",
              "    <tr>\n",
              "      <th>5137</th>\n",
              "      <td>s5138</td>\n",
              "      <td>TV Show</td>\n",
              "      <td>Red vs. Blue</td>\n",
              "      <td>United States</td>\n",
              "      <td>NaN</td>\n",
              "      <td>2015</td>\n",
              "      <td>NR</td>\n",
              "      <td>13 Seasons</td>\n",
              "      <td>TV Action &amp; Adventure, TV Comedies, TV Sci-Fi ...</td>\n",
              "      <td>This parody of first-person shooter games, mil...</td>\n",
              "    </tr>\n",
              "    <tr>\n",
              "      <th>6065</th>\n",
              "      <td>s6066</td>\n",
              "      <td>TV Show</td>\n",
              "      <td>The Adventures of Figaro Pho</td>\n",
              "      <td>Australia</td>\n",
              "      <td>NaN</td>\n",
              "      <td>2015</td>\n",
              "      <td>TV-Y7</td>\n",
              "      <td>2 Seasons</td>\n",
              "      <td>Kids' TV, TV Comedies</td>\n",
              "      <td>Imagine your worst fears, then multiply them: ...</td>\n",
              "    </tr>\n",
              "  </tbody>\n",
              "</table>\n",
              "</div>"
            ],
            "text/plain": [
              "     show_id  ...                                        description\n",
              "258     s259  ...  Set during the Russian Revolution, this comic ...\n",
              "549     s550  ...  This CNN original series has chef Anthony Bour...\n",
              "2263   s2264  ...  Frasier Crane is a snooty but lovable Seattle ...\n",
              "2288   s2289  ...  This hit sitcom follows the merry misadventure...\n",
              "2555   s2556  ...  On the surface, the Social Welfare Agency appe...\n",
              "3374   s3375  ...  A wacky rabbit and his gang of animal pals hav...\n",
              "3492   s3493  ...  This irreverent sitcom featues Ludovico, Feder...\n",
              "3946   s3947  ...  Marc Maron stars as Marc Maron, who interviews...\n",
              "5137   s5138  ...  This parody of first-person shooter games, mil...\n",
              "6065   s6066  ...  Imagine your worst fears, then multiply them: ...\n",
              "\n",
              "[10 rows x 10 columns]"
            ]
          },
          "metadata": {
            "tags": []
          },
          "execution_count": 118
        }
      ]
    },
    {
      "cell_type": "code",
      "metadata": {
        "id": "oaw77Jagl--V"
      },
      "source": [
        "data=data[data['date_added'].notna()] #因為10筆date_added數量少且不好搜尋出正確結果，所以我們把它刪除。"
      ],
      "execution_count": 119,
      "outputs": []
    },
    {
      "cell_type": "code",
      "metadata": {
        "colab": {
          "base_uri": "https://localhost:8080/"
        },
        "id": "9kt76ZljmCi6",
        "outputId": "d1c155f0-0802-47ce-fa46-91d25375981e"
      },
      "source": [
        "len(data)"
      ],
      "execution_count": 120,
      "outputs": [
        {
          "output_type": "execute_result",
          "data": {
            "text/plain": [
              "7777"
            ]
          },
          "metadata": {
            "tags": []
          },
          "execution_count": 120
        }
      ]
    },
    {
      "cell_type": "code",
      "metadata": {
        "colab": {
          "base_uri": "https://localhost:8080/"
        },
        "id": "kAD6Czz9mEbY",
        "outputId": "0da26ec9-e435-4284-e352-a58a58253103"
      },
      "source": [
        "data.isnull().sum()"
      ],
      "execution_count": 121,
      "outputs": [
        {
          "output_type": "execute_result",
          "data": {
            "text/plain": [
              "show_id           0\n",
              "type              0\n",
              "title             0\n",
              "country         506\n",
              "date_added        0\n",
              "release_year      0\n",
              "rating            0\n",
              "duration          0\n",
              "listed_in         0\n",
              "description       0\n",
              "dtype: int64"
            ]
          },
          "metadata": {
            "tags": []
          },
          "execution_count": 121
        }
      ]
    },
    {
      "cell_type": "code",
      "metadata": {
        "colab": {
          "base_uri": "https://localhost:8080/",
          "height": 535
        },
        "id": "hkWiNdJEp3X2",
        "outputId": "95888072-c3c3-49dc-94f8-1054b340c870"
      },
      "source": [
        "data[data['country'].isnull()]"
      ],
      "execution_count": 122,
      "outputs": [
        {
          "output_type": "execute_result",
          "data": {
            "text/html": [
              "<div>\n",
              "<style scoped>\n",
              "    .dataframe tbody tr th:only-of-type {\n",
              "        vertical-align: middle;\n",
              "    }\n",
              "\n",
              "    .dataframe tbody tr th {\n",
              "        vertical-align: top;\n",
              "    }\n",
              "\n",
              "    .dataframe thead th {\n",
              "        text-align: right;\n",
              "    }\n",
              "</style>\n",
              "<table border=\"1\" class=\"dataframe\">\n",
              "  <thead>\n",
              "    <tr style=\"text-align: right;\">\n",
              "      <th></th>\n",
              "      <th>show_id</th>\n",
              "      <th>type</th>\n",
              "      <th>title</th>\n",
              "      <th>country</th>\n",
              "      <th>date_added</th>\n",
              "      <th>release_year</th>\n",
              "      <th>rating</th>\n",
              "      <th>duration</th>\n",
              "      <th>listed_in</th>\n",
              "      <th>description</th>\n",
              "    </tr>\n",
              "  </thead>\n",
              "  <tbody>\n",
              "    <tr>\n",
              "      <th>16</th>\n",
              "      <td>s17</td>\n",
              "      <td>TV Show</td>\n",
              "      <td>Feb-09</td>\n",
              "      <td>NaN</td>\n",
              "      <td>March 20, 2019</td>\n",
              "      <td>2018</td>\n",
              "      <td>TV-14</td>\n",
              "      <td>1 Season</td>\n",
              "      <td>International TV Shows, TV Dramas</td>\n",
              "      <td>As a psychology professor faces Alzheimer's, h...</td>\n",
              "    </tr>\n",
              "    <tr>\n",
              "      <th>38</th>\n",
              "      <td>s39</td>\n",
              "      <td>TV Show</td>\n",
              "      <td>แผนร้ายนายเจ้าเล่ห์</td>\n",
              "      <td>NaN</td>\n",
              "      <td>March 30, 2019</td>\n",
              "      <td>2016</td>\n",
              "      <td>TV-14</td>\n",
              "      <td>1 Season</td>\n",
              "      <td>International TV Shows, Romantic TV Shows, TV ...</td>\n",
              "      <td>When two brothers fall for two sisters, they q...</td>\n",
              "    </tr>\n",
              "    <tr>\n",
              "      <th>67</th>\n",
              "      <td>s68</td>\n",
              "      <td>Movie</td>\n",
              "      <td>13TH: A Conversation with Oprah Winfrey &amp; Ava ...</td>\n",
              "      <td>NaN</td>\n",
              "      <td>January 26, 2017</td>\n",
              "      <td>2017</td>\n",
              "      <td>TV-16</td>\n",
              "      <td>37 min</td>\n",
              "      <td>Movies</td>\n",
              "      <td>Oprah Winfrey sits down with director Ava DuVe...</td>\n",
              "    </tr>\n",
              "    <tr>\n",
              "      <th>97</th>\n",
              "      <td>s98</td>\n",
              "      <td>Movie</td>\n",
              "      <td>3 Deewarein</td>\n",
              "      <td>NaN</td>\n",
              "      <td>December 31, 2019</td>\n",
              "      <td>2003</td>\n",
              "      <td>TV-MA</td>\n",
              "      <td>121 min</td>\n",
              "      <td>Dramas, International Movies, Thrillers</td>\n",
              "      <td>A reporter interviews three convicts on death ...</td>\n",
              "    </tr>\n",
              "    <tr>\n",
              "      <th>117</th>\n",
              "      <td>s118</td>\n",
              "      <td>Movie</td>\n",
              "      <td>5 Cowok Jagoan</td>\n",
              "      <td>NaN</td>\n",
              "      <td>January 5, 2019</td>\n",
              "      <td>2017</td>\n",
              "      <td>TV-MA</td>\n",
              "      <td>106 min</td>\n",
              "      <td>Action &amp; Adventure, Comedies, International Mo...</td>\n",
              "      <td>Yanto asks his friends to help save a girlfrie...</td>\n",
              "    </tr>\n",
              "    <tr>\n",
              "      <th>...</th>\n",
              "      <td>...</td>\n",
              "      <td>...</td>\n",
              "      <td>...</td>\n",
              "      <td>...</td>\n",
              "      <td>...</td>\n",
              "      <td>...</td>\n",
              "      <td>...</td>\n",
              "      <td>...</td>\n",
              "      <td>...</td>\n",
              "      <td>...</td>\n",
              "    </tr>\n",
              "    <tr>\n",
              "      <th>7739</th>\n",
              "      <td>s7740</td>\n",
              "      <td>Movie</td>\n",
              "      <td>Your Excellency</td>\n",
              "      <td>NaN</td>\n",
              "      <td>July 10, 2020</td>\n",
              "      <td>2019</td>\n",
              "      <td>TV-G</td>\n",
              "      <td>120 min</td>\n",
              "      <td>Comedies, International Movies</td>\n",
              "      <td>Bumbling through politics, a billionaire busin...</td>\n",
              "    </tr>\n",
              "    <tr>\n",
              "      <th>7746</th>\n",
              "      <td>s7747</td>\n",
              "      <td>TV Show</td>\n",
              "      <td>دفعة القاهرة</td>\n",
              "      <td>NaN</td>\n",
              "      <td>April 25, 2020</td>\n",
              "      <td>2019</td>\n",
              "      <td>TV-14</td>\n",
              "      <td>1 Season</td>\n",
              "      <td>International TV Shows, TV Dramas</td>\n",
              "      <td>A group of women leaves Kuwait to attend unive...</td>\n",
              "    </tr>\n",
              "    <tr>\n",
              "      <th>7765</th>\n",
              "      <td>s7766</td>\n",
              "      <td>Movie</td>\n",
              "      <td>Zero Hour</td>\n",
              "      <td>NaN</td>\n",
              "      <td>December 13, 2019</td>\n",
              "      <td>2018</td>\n",
              "      <td>TV-MA</td>\n",
              "      <td>89 min</td>\n",
              "      <td>International Movies, Thrillers</td>\n",
              "      <td>After his father passes, the heir to a retail ...</td>\n",
              "    </tr>\n",
              "    <tr>\n",
              "      <th>7777</th>\n",
              "      <td>s7778</td>\n",
              "      <td>TV Show</td>\n",
              "      <td>Zombie Dumb</td>\n",
              "      <td>NaN</td>\n",
              "      <td>July 1, 2019</td>\n",
              "      <td>2018</td>\n",
              "      <td>TV-Y7</td>\n",
              "      <td>2 Seasons</td>\n",
              "      <td>Kids' TV, Korean TV Shows, TV Comedies</td>\n",
              "      <td>While living alone in a spooky town, a young g...</td>\n",
              "    </tr>\n",
              "    <tr>\n",
              "      <th>7784</th>\n",
              "      <td>s7785</td>\n",
              "      <td>Movie</td>\n",
              "      <td>Zulu Man in Japan</td>\n",
              "      <td>NaN</td>\n",
              "      <td>September 25, 2020</td>\n",
              "      <td>2019</td>\n",
              "      <td>TV-MA</td>\n",
              "      <td>44 min</td>\n",
              "      <td>Documentaries, International Movies, Music &amp; M...</td>\n",
              "      <td>In this documentary, South African rapper Nast...</td>\n",
              "    </tr>\n",
              "  </tbody>\n",
              "</table>\n",
              "<p>506 rows × 10 columns</p>\n",
              "</div>"
            ],
            "text/plain": [
              "     show_id  ...                                        description\n",
              "16       s17  ...  As a psychology professor faces Alzheimer's, h...\n",
              "38       s39  ...  When two brothers fall for two sisters, they q...\n",
              "67       s68  ...  Oprah Winfrey sits down with director Ava DuVe...\n",
              "97       s98  ...  A reporter interviews three convicts on death ...\n",
              "117     s118  ...  Yanto asks his friends to help save a girlfrie...\n",
              "...      ...  ...                                                ...\n",
              "7739   s7740  ...  Bumbling through politics, a billionaire busin...\n",
              "7746   s7747  ...  A group of women leaves Kuwait to attend unive...\n",
              "7765   s7766  ...  After his father passes, the heir to a retail ...\n",
              "7777   s7778  ...  While living alone in a spooky town, a young g...\n",
              "7784   s7785  ...  In this documentary, South African rapper Nast...\n",
              "\n",
              "[506 rows x 10 columns]"
            ]
          },
          "metadata": {
            "tags": []
          },
          "execution_count": 122
        }
      ]
    },
    {
      "cell_type": "code",
      "metadata": {
        "id": "UfvcwlmiqIbe"
      },
      "source": [
        "data['country']=data['country'].fillna(data['country'].mode()[0]) \n",
        "#由於眾數可能存在多個，所以pandas返回的是一個Series,而不像mean（）返回的是一個值。[0]默認取第一個眾數。"
      ],
      "execution_count": 123,
      "outputs": []
    },
    {
      "cell_type": "code",
      "metadata": {
        "colab": {
          "base_uri": "https://localhost:8080/"
        },
        "id": "4Wum1_FWryzM",
        "outputId": "dd0f478e-583d-4ac7-e50e-f44f87286817"
      },
      "source": [
        "data.isnull().sum()"
      ],
      "execution_count": 124,
      "outputs": [
        {
          "output_type": "execute_result",
          "data": {
            "text/plain": [
              "show_id         0\n",
              "type            0\n",
              "title           0\n",
              "country         0\n",
              "date_added      0\n",
              "release_year    0\n",
              "rating          0\n",
              "duration        0\n",
              "listed_in       0\n",
              "description     0\n",
              "dtype: int64"
            ]
          },
          "metadata": {
            "tags": []
          },
          "execution_count": 124
        }
      ]
    },
    {
      "cell_type": "markdown",
      "metadata": {
        "id": "keF1XcrqsS1d"
      },
      "source": [
        " 產生新的特徵，利用日期相加取得新的年月資料"
      ]
    },
    {
      "cell_type": "code",
      "metadata": {
        "id": "W6Eo-610sYoN"
      },
      "source": [
        "data['year_added'] = data['date_added'].apply(lambda x: x.split(\" \")[-1])"
      ],
      "execution_count": 125,
      "outputs": []
    },
    {
      "cell_type": "code",
      "metadata": {
        "colab": {
          "base_uri": "https://localhost:8080/"
        },
        "id": "brvpqNJXtjkP",
        "outputId": "080ea7bd-7280-4567-f3cb-6d05c73f4f8c"
      },
      "source": [
        "data['year_added'].head()"
      ],
      "execution_count": 126,
      "outputs": [
        {
          "output_type": "execute_result",
          "data": {
            "text/plain": [
              "0    2020\n",
              "1    2016\n",
              "2    2018\n",
              "3    2017\n",
              "4    2020\n",
              "Name: year_added, dtype: object"
            ]
          },
          "metadata": {
            "tags": []
          },
          "execution_count": 126
        }
      ]
    },
    {
      "cell_type": "code",
      "metadata": {
        "id": "n0yk72ULtqTA"
      },
      "source": [
        "data['month_added']=data['date_added'].apply(lambda x: x.split()[0])"
      ],
      "execution_count": 127,
      "outputs": []
    },
    {
      "cell_type": "code",
      "metadata": {
        "colab": {
          "base_uri": "https://localhost:8080/"
        },
        "id": "S6aMcHRbuIIP",
        "outputId": "e72ee470-c6ab-4a10-d563-c5015f626723"
      },
      "source": [
        "data['month_added']"
      ],
      "execution_count": 128,
      "outputs": [
        {
          "output_type": "execute_result",
          "data": {
            "text/plain": [
              "0          August\n",
              "1        December\n",
              "2        December\n",
              "3        November\n",
              "4         January\n",
              "          ...    \n",
              "7782      October\n",
              "7783        March\n",
              "7784    September\n",
              "7785      October\n",
              "7786        March\n",
              "Name: month_added, Length: 7777, dtype: object"
            ]
          },
          "metadata": {
            "tags": []
          },
          "execution_count": 128
        }
      ]
    },
    {
      "cell_type": "code",
      "metadata": {
        "id": "PmO5aM_0uOuS"
      },
      "source": [
        "ratings_ages = {\n",
        "    'TV-PG': 'Older Kids',\n",
        "    'TV-MA': 'Adults',\n",
        "    'TV-Y7-FV': 'Older Kids',\n",
        "    'TV-Y7': 'Older Kids',\n",
        "    'TV-14': 'Teens',\n",
        "    'R': 'Adults',\n",
        "    'TV-Y': 'Kids',\n",
        "    'NR': 'Adults',\n",
        "    'PG-13': 'Teens',\n",
        "    'TV-G': 'Kids',\n",
        "    'PG': 'Older Kids',\n",
        "    'G': 'Kids',\n",
        "    'UR': 'Adults',\n",
        "    'NC-17': 'Adults',\n",
        "    'TV-16': 'Teens'\n",
        "\n",
        "}"
      ],
      "execution_count": 129,
      "outputs": []
    },
    {
      "cell_type": "code",
      "metadata": {
        "id": "O4Z0-2DVvPlD"
      },
      "source": [
        "data['target_ages']=data['rating'].replace(ratings_ages)"
      ],
      "execution_count": 130,
      "outputs": []
    },
    {
      "cell_type": "code",
      "metadata": {
        "colab": {
          "base_uri": "https://localhost:8080/",
          "height": 585
        },
        "id": "Yai_XUN5vxVZ",
        "outputId": "95ff419f-5acd-4b9a-c738-1cc6b1a18995"
      },
      "source": [
        "data"
      ],
      "execution_count": 131,
      "outputs": [
        {
          "output_type": "execute_result",
          "data": {
            "text/html": [
              "<div>\n",
              "<style scoped>\n",
              "    .dataframe tbody tr th:only-of-type {\n",
              "        vertical-align: middle;\n",
              "    }\n",
              "\n",
              "    .dataframe tbody tr th {\n",
              "        vertical-align: top;\n",
              "    }\n",
              "\n",
              "    .dataframe thead th {\n",
              "        text-align: right;\n",
              "    }\n",
              "</style>\n",
              "<table border=\"1\" class=\"dataframe\">\n",
              "  <thead>\n",
              "    <tr style=\"text-align: right;\">\n",
              "      <th></th>\n",
              "      <th>show_id</th>\n",
              "      <th>type</th>\n",
              "      <th>title</th>\n",
              "      <th>country</th>\n",
              "      <th>date_added</th>\n",
              "      <th>release_year</th>\n",
              "      <th>rating</th>\n",
              "      <th>duration</th>\n",
              "      <th>listed_in</th>\n",
              "      <th>description</th>\n",
              "      <th>year_added</th>\n",
              "      <th>month_added</th>\n",
              "      <th>target_ages</th>\n",
              "    </tr>\n",
              "  </thead>\n",
              "  <tbody>\n",
              "    <tr>\n",
              "      <th>0</th>\n",
              "      <td>s1</td>\n",
              "      <td>TV Show</td>\n",
              "      <td>3%</td>\n",
              "      <td>Brazil</td>\n",
              "      <td>August 14, 2020</td>\n",
              "      <td>2020</td>\n",
              "      <td>TV-MA</td>\n",
              "      <td>4 Seasons</td>\n",
              "      <td>International TV Shows, TV Dramas, TV Sci-Fi &amp;...</td>\n",
              "      <td>In a future where the elite inhabit an island ...</td>\n",
              "      <td>2020</td>\n",
              "      <td>August</td>\n",
              "      <td>Adults</td>\n",
              "    </tr>\n",
              "    <tr>\n",
              "      <th>1</th>\n",
              "      <td>s2</td>\n",
              "      <td>Movie</td>\n",
              "      <td>7:19</td>\n",
              "      <td>Mexico</td>\n",
              "      <td>December 23, 2016</td>\n",
              "      <td>2016</td>\n",
              "      <td>TV-MA</td>\n",
              "      <td>93 min</td>\n",
              "      <td>Dramas, International Movies</td>\n",
              "      <td>After a devastating earthquake hits Mexico Cit...</td>\n",
              "      <td>2016</td>\n",
              "      <td>December</td>\n",
              "      <td>Adults</td>\n",
              "    </tr>\n",
              "    <tr>\n",
              "      <th>2</th>\n",
              "      <td>s3</td>\n",
              "      <td>Movie</td>\n",
              "      <td>23:59</td>\n",
              "      <td>Singapore</td>\n",
              "      <td>December 20, 2018</td>\n",
              "      <td>2011</td>\n",
              "      <td>R</td>\n",
              "      <td>78 min</td>\n",
              "      <td>Horror Movies, International Movies</td>\n",
              "      <td>When an army recruit is found dead, his fellow...</td>\n",
              "      <td>2018</td>\n",
              "      <td>December</td>\n",
              "      <td>Adults</td>\n",
              "    </tr>\n",
              "    <tr>\n",
              "      <th>3</th>\n",
              "      <td>s4</td>\n",
              "      <td>Movie</td>\n",
              "      <td>9</td>\n",
              "      <td>United States</td>\n",
              "      <td>November 16, 2017</td>\n",
              "      <td>2009</td>\n",
              "      <td>PG-13</td>\n",
              "      <td>80 min</td>\n",
              "      <td>Action &amp; Adventure, Independent Movies, Sci-Fi...</td>\n",
              "      <td>In a postapocalyptic world, rag-doll robots hi...</td>\n",
              "      <td>2017</td>\n",
              "      <td>November</td>\n",
              "      <td>Teens</td>\n",
              "    </tr>\n",
              "    <tr>\n",
              "      <th>4</th>\n",
              "      <td>s5</td>\n",
              "      <td>Movie</td>\n",
              "      <td>21</td>\n",
              "      <td>United States</td>\n",
              "      <td>January 1, 2020</td>\n",
              "      <td>2008</td>\n",
              "      <td>PG-13</td>\n",
              "      <td>123 min</td>\n",
              "      <td>Dramas</td>\n",
              "      <td>A brilliant group of students become card-coun...</td>\n",
              "      <td>2020</td>\n",
              "      <td>January</td>\n",
              "      <td>Teens</td>\n",
              "    </tr>\n",
              "    <tr>\n",
              "      <th>...</th>\n",
              "      <td>...</td>\n",
              "      <td>...</td>\n",
              "      <td>...</td>\n",
              "      <td>...</td>\n",
              "      <td>...</td>\n",
              "      <td>...</td>\n",
              "      <td>...</td>\n",
              "      <td>...</td>\n",
              "      <td>...</td>\n",
              "      <td>...</td>\n",
              "      <td>...</td>\n",
              "      <td>...</td>\n",
              "      <td>...</td>\n",
              "    </tr>\n",
              "    <tr>\n",
              "      <th>7782</th>\n",
              "      <td>s7783</td>\n",
              "      <td>Movie</td>\n",
              "      <td>Zozo</td>\n",
              "      <td>Sweden, Czech Republic, United Kingdom, Denmar...</td>\n",
              "      <td>October 19, 2020</td>\n",
              "      <td>2005</td>\n",
              "      <td>TV-MA</td>\n",
              "      <td>99 min</td>\n",
              "      <td>Dramas, International Movies</td>\n",
              "      <td>When Lebanon's Civil War deprives Zozo of his ...</td>\n",
              "      <td>2020</td>\n",
              "      <td>October</td>\n",
              "      <td>Adults</td>\n",
              "    </tr>\n",
              "    <tr>\n",
              "      <th>7783</th>\n",
              "      <td>s7784</td>\n",
              "      <td>Movie</td>\n",
              "      <td>Zubaan</td>\n",
              "      <td>India</td>\n",
              "      <td>March 2, 2019</td>\n",
              "      <td>2015</td>\n",
              "      <td>TV-14</td>\n",
              "      <td>111 min</td>\n",
              "      <td>Dramas, International Movies, Music &amp; Musicals</td>\n",
              "      <td>A scrappy but poor boy worms his way into a ty...</td>\n",
              "      <td>2019</td>\n",
              "      <td>March</td>\n",
              "      <td>Teens</td>\n",
              "    </tr>\n",
              "    <tr>\n",
              "      <th>7784</th>\n",
              "      <td>s7785</td>\n",
              "      <td>Movie</td>\n",
              "      <td>Zulu Man in Japan</td>\n",
              "      <td>United States</td>\n",
              "      <td>September 25, 2020</td>\n",
              "      <td>2019</td>\n",
              "      <td>TV-MA</td>\n",
              "      <td>44 min</td>\n",
              "      <td>Documentaries, International Movies, Music &amp; M...</td>\n",
              "      <td>In this documentary, South African rapper Nast...</td>\n",
              "      <td>2020</td>\n",
              "      <td>September</td>\n",
              "      <td>Adults</td>\n",
              "    </tr>\n",
              "    <tr>\n",
              "      <th>7785</th>\n",
              "      <td>s7786</td>\n",
              "      <td>TV Show</td>\n",
              "      <td>Zumbo's Just Desserts</td>\n",
              "      <td>Australia</td>\n",
              "      <td>October 31, 2020</td>\n",
              "      <td>2019</td>\n",
              "      <td>TV-PG</td>\n",
              "      <td>1 Season</td>\n",
              "      <td>International TV Shows, Reality TV</td>\n",
              "      <td>Dessert wizard Adriano Zumbo looks for the nex...</td>\n",
              "      <td>2020</td>\n",
              "      <td>October</td>\n",
              "      <td>Older Kids</td>\n",
              "    </tr>\n",
              "    <tr>\n",
              "      <th>7786</th>\n",
              "      <td>s7787</td>\n",
              "      <td>Movie</td>\n",
              "      <td>ZZ TOP: THAT LITTLE OL' BAND FROM TEXAS</td>\n",
              "      <td>United Kingdom, Canada, United States</td>\n",
              "      <td>March 1, 2020</td>\n",
              "      <td>2019</td>\n",
              "      <td>TV-MA</td>\n",
              "      <td>90 min</td>\n",
              "      <td>Documentaries, Music &amp; Musicals</td>\n",
              "      <td>This documentary delves into the mystique behi...</td>\n",
              "      <td>2020</td>\n",
              "      <td>March</td>\n",
              "      <td>Adults</td>\n",
              "    </tr>\n",
              "  </tbody>\n",
              "</table>\n",
              "<p>7777 rows × 13 columns</p>\n",
              "</div>"
            ],
            "text/plain": [
              "     show_id     type  ... month_added target_ages\n",
              "0         s1  TV Show  ...      August      Adults\n",
              "1         s2    Movie  ...    December      Adults\n",
              "2         s3    Movie  ...    December      Adults\n",
              "3         s4    Movie  ...    November       Teens\n",
              "4         s5    Movie  ...     January       Teens\n",
              "...      ...      ...  ...         ...         ...\n",
              "7782   s7783    Movie  ...     October      Adults\n",
              "7783   s7784    Movie  ...       March       Teens\n",
              "7784   s7785    Movie  ...   September      Adults\n",
              "7785   s7786  TV Show  ...     October  Older Kids\n",
              "7786   s7787    Movie  ...       March      Adults\n",
              "\n",
              "[7777 rows x 13 columns]"
            ]
          },
          "metadata": {
            "tags": []
          },
          "execution_count": 131
        }
      ]
    },
    {
      "cell_type": "code",
      "metadata": {
        "colab": {
          "base_uri": "https://localhost:8080/"
        },
        "id": "hy-oSTRTwJrC",
        "outputId": "12ec5c33-abe5-4e9c-9929-4015c0f62fd3"
      },
      "source": [
        "data['target_ages'].unique()"
      ],
      "execution_count": 132,
      "outputs": [
        {
          "output_type": "execute_result",
          "data": {
            "text/plain": [
              "array(['Adults', 'Teens', 'Older Kids', 'Kids'], dtype=object)"
            ]
          },
          "metadata": {
            "tags": []
          },
          "execution_count": 132
        }
      ]
    },
    {
      "cell_type": "code",
      "metadata": {
        "id": "jiRtzpT7wjsz"
      },
      "source": [
        "#在某些條目中，國家具有多個值。所以將在第一列中添加一個新列，以便我們檢查witch區域是否有更多作品"
      ],
      "execution_count": 133,
      "outputs": []
    },
    {
      "cell_type": "code",
      "metadata": {
        "id": "RiX8gOvzxcdy"
      },
      "source": [
        "# Lets retrieve just the first country\n",
        "data['principal_country']=data['country'].apply(lambda x: x.split()[0])"
      ],
      "execution_count": 134,
      "outputs": []
    },
    {
      "cell_type": "code",
      "metadata": {
        "colab": {
          "base_uri": "https://localhost:8080/"
        },
        "id": "lwjySplXxpAx",
        "outputId": "6b626eed-926b-42e0-fbcd-6d0382f1651a"
      },
      "source": [
        "data.dtypes"
      ],
      "execution_count": 135,
      "outputs": [
        {
          "output_type": "execute_result",
          "data": {
            "text/plain": [
              "show_id              object\n",
              "type                 object\n",
              "title                object\n",
              "country              object\n",
              "date_added           object\n",
              "release_year          int64\n",
              "rating               object\n",
              "duration             object\n",
              "listed_in            object\n",
              "description          object\n",
              "year_added           object\n",
              "month_added          object\n",
              "target_ages          object\n",
              "principal_country    object\n",
              "dtype: object"
            ]
          },
          "metadata": {
            "tags": []
          },
          "execution_count": 135
        }
      ]
    },
    {
      "cell_type": "code",
      "metadata": {
        "id": "KClVJRDZxtZP"
      },
      "source": [
        "# # type should be a category\n",
        "# # target_ages is another category (4 classes)\n",
        "# # Year added should be integer so we can compare with `released_year`"
      ],
      "execution_count": 136,
      "outputs": []
    },
    {
      "cell_type": "code",
      "metadata": {
        "id": "wIFyzFsFhiEH"
      },
      "source": [
        "#type型態改為category\n",
        "data['type']=pd.Categorical(data['type'])\n",
        "data['target_ages']=pd.Categorical(data['target_ages'],categories=['Kids','Older Kids', 'Teens', 'Adults'])\n",
        "data['year_added']=pd.to_numeric(data['year_added'])"
      ],
      "execution_count": 137,
      "outputs": []
    },
    {
      "cell_type": "code",
      "metadata": {
        "colab": {
          "base_uri": "https://localhost:8080/"
        },
        "id": "GnXOdLY3ic1Z",
        "outputId": "dfd2e0a7-0739-481c-d5f7-a6d6751b7d05"
      },
      "source": [
        "data.dtypes"
      ],
      "execution_count": 138,
      "outputs": [
        {
          "output_type": "execute_result",
          "data": {
            "text/plain": [
              "show_id                object\n",
              "type                 category\n",
              "title                  object\n",
              "country                object\n",
              "date_added             object\n",
              "release_year            int64\n",
              "rating                 object\n",
              "duration               object\n",
              "listed_in              object\n",
              "description            object\n",
              "year_added              int64\n",
              "month_added            object\n",
              "target_ages          category\n",
              "principal_country      object\n",
              "dtype: object"
            ]
          },
          "metadata": {
            "tags": []
          },
          "execution_count": 138
        }
      ]
    },
    {
      "cell_type": "code",
      "metadata": {
        "id": "ckOENsUpysa4"
      },
      "source": [
        "# import plotly.express as px\n",
        "\n",
        "# fig = px.pie(data['type'].value_counts().reset_index(), values='type', names='index')\n",
        "# fig.update_traces(textposition='inside', textinfo='percent+label')\n",
        "# fig.show()"
      ],
      "execution_count": 139,
      "outputs": []
    },
    {
      "cell_type": "code",
      "metadata": {
        "id": "yVeyuhzpytun",
        "colab": {
          "base_uri": "https://localhost:8080/",
          "height": 542
        },
        "outputId": "39188393-b265-49a7-cdaf-b0dab66eaf8c"
      },
      "source": [
        "import plotly.express as px\n",
        "fig=px.pie(data['type'].value_counts().reset_index(),values='type',names='index')\n",
        "fig.update_traces(textposition='inside',textinfo='percent+label')\n",
        "fig.show()"
      ],
      "execution_count": 140,
      "outputs": [
        {
          "output_type": "display_data",
          "data": {
            "text/html": [
              "<html>\n",
              "<head><meta charset=\"utf-8\" /></head>\n",
              "<body>\n",
              "    <div>\n",
              "            <script src=\"https://cdnjs.cloudflare.com/ajax/libs/mathjax/2.7.5/MathJax.js?config=TeX-AMS-MML_SVG\"></script><script type=\"text/javascript\">if (window.MathJax) {MathJax.Hub.Config({SVG: {font: \"STIX-Web\"}});}</script>\n",
              "                <script type=\"text/javascript\">window.PlotlyConfig = {MathJaxConfig: 'local'};</script>\n",
              "        <script src=\"https://cdn.plot.ly/plotly-latest.min.js\"></script>    \n",
              "            <div id=\"fee770ce-daeb-4487-8b37-3347eede59b0\" class=\"plotly-graph-div\" style=\"height:525px; width:100%;\"></div>\n",
              "            <script type=\"text/javascript\">\n",
              "                \n",
              "                    window.PLOTLYENV=window.PLOTLYENV || {};\n",
              "                    \n",
              "                if (document.getElementById(\"fee770ce-daeb-4487-8b37-3347eede59b0\")) {\n",
              "                    Plotly.newPlot(\n",
              "                        'fee770ce-daeb-4487-8b37-3347eede59b0',\n",
              "                        [{\"domain\": {\"x\": [0.0, 1.0], \"y\": [0.0, 1.0]}, \"hoverlabel\": {\"namelength\": 0}, \"hovertemplate\": \"index=%{label}<br>type=%{value}\", \"labels\": [\"Movie\", \"TV Show\"], \"legendgroup\": \"\", \"name\": \"\", \"showlegend\": true, \"textinfo\": \"percent+label\", \"textposition\": \"inside\", \"type\": \"pie\", \"values\": [5377, 2400]}],\n",
              "                        {\"legend\": {\"tracegroupgap\": 0}, \"margin\": {\"t\": 60}, \"template\": {\"data\": {\"bar\": [{\"error_x\": {\"color\": \"#2a3f5f\"}, \"error_y\": {\"color\": \"#2a3f5f\"}, \"marker\": {\"line\": {\"color\": \"#E5ECF6\", \"width\": 0.5}}, \"type\": \"bar\"}], \"barpolar\": [{\"marker\": {\"line\": {\"color\": \"#E5ECF6\", \"width\": 0.5}}, \"type\": \"barpolar\"}], \"carpet\": [{\"aaxis\": {\"endlinecolor\": \"#2a3f5f\", \"gridcolor\": \"white\", \"linecolor\": \"white\", \"minorgridcolor\": \"white\", \"startlinecolor\": \"#2a3f5f\"}, \"baxis\": {\"endlinecolor\": \"#2a3f5f\", \"gridcolor\": \"white\", \"linecolor\": \"white\", \"minorgridcolor\": \"white\", \"startlinecolor\": \"#2a3f5f\"}, \"type\": \"carpet\"}], \"choropleth\": [{\"colorbar\": {\"outlinewidth\": 0, \"ticks\": \"\"}, \"type\": \"choropleth\"}], \"contour\": [{\"colorbar\": {\"outlinewidth\": 0, \"ticks\": \"\"}, \"colorscale\": [[0.0, \"#0d0887\"], [0.1111111111111111, \"#46039f\"], [0.2222222222222222, \"#7201a8\"], [0.3333333333333333, \"#9c179e\"], [0.4444444444444444, \"#bd3786\"], [0.5555555555555556, \"#d8576b\"], [0.6666666666666666, \"#ed7953\"], [0.7777777777777778, \"#fb9f3a\"], [0.8888888888888888, \"#fdca26\"], [1.0, \"#f0f921\"]], \"type\": \"contour\"}], \"contourcarpet\": [{\"colorbar\": {\"outlinewidth\": 0, \"ticks\": \"\"}, \"type\": \"contourcarpet\"}], \"heatmap\": [{\"colorbar\": {\"outlinewidth\": 0, \"ticks\": \"\"}, \"colorscale\": [[0.0, \"#0d0887\"], [0.1111111111111111, \"#46039f\"], [0.2222222222222222, \"#7201a8\"], [0.3333333333333333, \"#9c179e\"], [0.4444444444444444, \"#bd3786\"], [0.5555555555555556, \"#d8576b\"], [0.6666666666666666, \"#ed7953\"], [0.7777777777777778, \"#fb9f3a\"], [0.8888888888888888, \"#fdca26\"], [1.0, \"#f0f921\"]], \"type\": \"heatmap\"}], \"heatmapgl\": [{\"colorbar\": {\"outlinewidth\": 0, \"ticks\": \"\"}, \"colorscale\": [[0.0, \"#0d0887\"], [0.1111111111111111, \"#46039f\"], [0.2222222222222222, \"#7201a8\"], [0.3333333333333333, \"#9c179e\"], [0.4444444444444444, \"#bd3786\"], [0.5555555555555556, \"#d8576b\"], [0.6666666666666666, \"#ed7953\"], [0.7777777777777778, \"#fb9f3a\"], [0.8888888888888888, \"#fdca26\"], [1.0, \"#f0f921\"]], \"type\": \"heatmapgl\"}], \"histogram\": [{\"marker\": {\"colorbar\": {\"outlinewidth\": 0, \"ticks\": \"\"}}, \"type\": \"histogram\"}], \"histogram2d\": [{\"colorbar\": {\"outlinewidth\": 0, \"ticks\": \"\"}, \"colorscale\": [[0.0, \"#0d0887\"], [0.1111111111111111, \"#46039f\"], [0.2222222222222222, \"#7201a8\"], [0.3333333333333333, \"#9c179e\"], [0.4444444444444444, \"#bd3786\"], [0.5555555555555556, \"#d8576b\"], [0.6666666666666666, \"#ed7953\"], [0.7777777777777778, \"#fb9f3a\"], [0.8888888888888888, \"#fdca26\"], [1.0, \"#f0f921\"]], \"type\": \"histogram2d\"}], \"histogram2dcontour\": [{\"colorbar\": {\"outlinewidth\": 0, \"ticks\": \"\"}, \"colorscale\": [[0.0, \"#0d0887\"], [0.1111111111111111, \"#46039f\"], [0.2222222222222222, \"#7201a8\"], [0.3333333333333333, \"#9c179e\"], [0.4444444444444444, \"#bd3786\"], [0.5555555555555556, \"#d8576b\"], [0.6666666666666666, \"#ed7953\"], [0.7777777777777778, \"#fb9f3a\"], [0.8888888888888888, \"#fdca26\"], [1.0, \"#f0f921\"]], \"type\": \"histogram2dcontour\"}], \"mesh3d\": [{\"colorbar\": {\"outlinewidth\": 0, \"ticks\": \"\"}, \"type\": \"mesh3d\"}], \"parcoords\": [{\"line\": {\"colorbar\": {\"outlinewidth\": 0, \"ticks\": \"\"}}, \"type\": \"parcoords\"}], \"pie\": [{\"automargin\": true, \"type\": \"pie\"}], \"scatter\": [{\"marker\": {\"colorbar\": {\"outlinewidth\": 0, \"ticks\": \"\"}}, \"type\": \"scatter\"}], \"scatter3d\": [{\"line\": {\"colorbar\": {\"outlinewidth\": 0, \"ticks\": \"\"}}, \"marker\": {\"colorbar\": {\"outlinewidth\": 0, \"ticks\": \"\"}}, \"type\": \"scatter3d\"}], \"scattercarpet\": [{\"marker\": {\"colorbar\": {\"outlinewidth\": 0, \"ticks\": \"\"}}, \"type\": \"scattercarpet\"}], \"scattergeo\": [{\"marker\": {\"colorbar\": {\"outlinewidth\": 0, \"ticks\": \"\"}}, \"type\": \"scattergeo\"}], \"scattergl\": [{\"marker\": {\"colorbar\": {\"outlinewidth\": 0, \"ticks\": \"\"}}, \"type\": \"scattergl\"}], \"scattermapbox\": [{\"marker\": {\"colorbar\": {\"outlinewidth\": 0, \"ticks\": \"\"}}, \"type\": \"scattermapbox\"}], \"scatterpolar\": [{\"marker\": {\"colorbar\": {\"outlinewidth\": 0, \"ticks\": \"\"}}, \"type\": \"scatterpolar\"}], \"scatterpolargl\": [{\"marker\": {\"colorbar\": {\"outlinewidth\": 0, \"ticks\": \"\"}}, \"type\": \"scatterpolargl\"}], \"scatterternary\": [{\"marker\": {\"colorbar\": {\"outlinewidth\": 0, \"ticks\": \"\"}}, \"type\": \"scatterternary\"}], \"surface\": [{\"colorbar\": {\"outlinewidth\": 0, \"ticks\": \"\"}, \"colorscale\": [[0.0, \"#0d0887\"], [0.1111111111111111, \"#46039f\"], [0.2222222222222222, \"#7201a8\"], [0.3333333333333333, \"#9c179e\"], [0.4444444444444444, \"#bd3786\"], [0.5555555555555556, \"#d8576b\"], [0.6666666666666666, \"#ed7953\"], [0.7777777777777778, \"#fb9f3a\"], [0.8888888888888888, \"#fdca26\"], [1.0, \"#f0f921\"]], \"type\": \"surface\"}], \"table\": [{\"cells\": {\"fill\": {\"color\": \"#EBF0F8\"}, \"line\": {\"color\": \"white\"}}, \"header\": {\"fill\": {\"color\": \"#C8D4E3\"}, \"line\": {\"color\": \"white\"}}, \"type\": \"table\"}]}, \"layout\": {\"annotationdefaults\": {\"arrowcolor\": \"#2a3f5f\", \"arrowhead\": 0, \"arrowwidth\": 1}, \"coloraxis\": {\"colorbar\": {\"outlinewidth\": 0, \"ticks\": \"\"}}, \"colorscale\": {\"diverging\": [[0, \"#8e0152\"], [0.1, \"#c51b7d\"], [0.2, \"#de77ae\"], [0.3, \"#f1b6da\"], [0.4, \"#fde0ef\"], [0.5, \"#f7f7f7\"], [0.6, \"#e6f5d0\"], [0.7, \"#b8e186\"], [0.8, \"#7fbc41\"], [0.9, \"#4d9221\"], [1, \"#276419\"]], \"sequential\": [[0.0, \"#0d0887\"], [0.1111111111111111, \"#46039f\"], [0.2222222222222222, \"#7201a8\"], [0.3333333333333333, \"#9c179e\"], [0.4444444444444444, \"#bd3786\"], [0.5555555555555556, \"#d8576b\"], [0.6666666666666666, \"#ed7953\"], [0.7777777777777778, \"#fb9f3a\"], [0.8888888888888888, \"#fdca26\"], [1.0, \"#f0f921\"]], \"sequentialminus\": [[0.0, \"#0d0887\"], [0.1111111111111111, \"#46039f\"], [0.2222222222222222, \"#7201a8\"], [0.3333333333333333, \"#9c179e\"], [0.4444444444444444, \"#bd3786\"], [0.5555555555555556, \"#d8576b\"], [0.6666666666666666, \"#ed7953\"], [0.7777777777777778, \"#fb9f3a\"], [0.8888888888888888, \"#fdca26\"], [1.0, \"#f0f921\"]]}, \"colorway\": [\"#636efa\", \"#EF553B\", \"#00cc96\", \"#ab63fa\", \"#FFA15A\", \"#19d3f3\", \"#FF6692\", \"#B6E880\", \"#FF97FF\", \"#FECB52\"], \"font\": {\"color\": \"#2a3f5f\"}, \"geo\": {\"bgcolor\": \"white\", \"lakecolor\": \"white\", \"landcolor\": \"#E5ECF6\", \"showlakes\": true, \"showland\": true, \"subunitcolor\": \"white\"}, \"hoverlabel\": {\"align\": \"left\"}, \"hovermode\": \"closest\", \"mapbox\": {\"style\": \"light\"}, \"paper_bgcolor\": \"white\", \"plot_bgcolor\": \"#E5ECF6\", \"polar\": {\"angularaxis\": {\"gridcolor\": \"white\", \"linecolor\": \"white\", \"ticks\": \"\"}, \"bgcolor\": \"#E5ECF6\", \"radialaxis\": {\"gridcolor\": \"white\", \"linecolor\": \"white\", \"ticks\": \"\"}}, \"scene\": {\"xaxis\": {\"backgroundcolor\": \"#E5ECF6\", \"gridcolor\": \"white\", \"gridwidth\": 2, \"linecolor\": \"white\", \"showbackground\": true, \"ticks\": \"\", \"zerolinecolor\": \"white\"}, \"yaxis\": {\"backgroundcolor\": \"#E5ECF6\", \"gridcolor\": \"white\", \"gridwidth\": 2, \"linecolor\": \"white\", \"showbackground\": true, \"ticks\": \"\", \"zerolinecolor\": \"white\"}, \"zaxis\": {\"backgroundcolor\": \"#E5ECF6\", \"gridcolor\": \"white\", \"gridwidth\": 2, \"linecolor\": \"white\", \"showbackground\": true, \"ticks\": \"\", \"zerolinecolor\": \"white\"}}, \"shapedefaults\": {\"line\": {\"color\": \"#2a3f5f\"}}, \"ternary\": {\"aaxis\": {\"gridcolor\": \"white\", \"linecolor\": \"white\", \"ticks\": \"\"}, \"baxis\": {\"gridcolor\": \"white\", \"linecolor\": \"white\", \"ticks\": \"\"}, \"bgcolor\": \"#E5ECF6\", \"caxis\": {\"gridcolor\": \"white\", \"linecolor\": \"white\", \"ticks\": \"\"}}, \"title\": {\"x\": 0.05}, \"xaxis\": {\"automargin\": true, \"gridcolor\": \"white\", \"linecolor\": \"white\", \"ticks\": \"\", \"title\": {\"standoff\": 15}, \"zerolinecolor\": \"white\", \"zerolinewidth\": 2}, \"yaxis\": {\"automargin\": true, \"gridcolor\": \"white\", \"linecolor\": \"white\", \"ticks\": \"\", \"title\": {\"standoff\": 15}, \"zerolinecolor\": \"white\", \"zerolinewidth\": 2}}}},\n",
              "                        {\"responsive\": true}\n",
              "                    ).then(function(){\n",
              "                            \n",
              "var gd = document.getElementById('fee770ce-daeb-4487-8b37-3347eede59b0');\n",
              "var x = new MutationObserver(function (mutations, observer) {{\n",
              "        var display = window.getComputedStyle(gd).display;\n",
              "        if (!display || display === 'none') {{\n",
              "            console.log([gd, 'removed!']);\n",
              "            Plotly.purge(gd);\n",
              "            observer.disconnect();\n",
              "        }}\n",
              "}});\n",
              "\n",
              "// Listen for the removal of the full notebook cells\n",
              "var notebookContainer = gd.closest('#notebook-container');\n",
              "if (notebookContainer) {{\n",
              "    x.observe(notebookContainer, {childList: true});\n",
              "}}\n",
              "\n",
              "// Listen for the clearing of the current output cell\n",
              "var outputEl = gd.closest('.output');\n",
              "if (outputEl) {{\n",
              "    x.observe(outputEl, {childList: true});\n",
              "}}\n",
              "\n",
              "                        })\n",
              "                };\n",
              "                \n",
              "            </script>\n",
              "        </div>\n",
              "</body>\n",
              "</html>"
            ]
          },
          "metadata": {
            "tags": []
          }
        }
      ]
    },
    {
      "cell_type": "code",
      "metadata": {
        "colab": {
          "base_uri": "https://localhost:8080/"
        },
        "id": "u8LTDiCjmJFU",
        "outputId": "4d6bc7f3-2d8f-45d8-9c00-037dffbd4295"
      },
      "source": [
        "len(data)"
      ],
      "execution_count": 141,
      "outputs": [
        {
          "output_type": "execute_result",
          "data": {
            "text/plain": [
              "7777"
            ]
          },
          "metadata": {
            "tags": []
          },
          "execution_count": 141
        }
      ]
    },
    {
      "cell_type": "code",
      "metadata": {
        "colab": {
          "base_uri": "https://localhost:8080/",
          "height": 512
        },
        "id": "5t5KiFAKlm8l",
        "outputId": "a76bdd45-274e-4b5f-f3b3-e789d5602c52"
      },
      "source": [
        "#新增rating 的資料子集\n",
        "#方便做年齡層的分布查詢\n",
        "def generate_rating_df(df):\n",
        "    rating_df = df.groupby(['rating', 'target_ages']).agg({'show_id':'count'}).reset_index()\n",
        "    rating_df=rating_df[rating_df['show_id']!=0]\n",
        "    rating_df.columns = ['rating', 'target_ages', 'counts']\n",
        "    rating_df = rating_df.sort_values('target_ages')\n",
        "    return rating_df\n",
        "rating_df = generate_rating_df(data)\n",
        "rating_df.reset_index(inplace=True)\n",
        "rating_df"
      ],
      "execution_count": 142,
      "outputs": [
        {
          "output_type": "execute_result",
          "data": {
            "text/html": [
              "<div>\n",
              "<style scoped>\n",
              "    .dataframe tbody tr th:only-of-type {\n",
              "        vertical-align: middle;\n",
              "    }\n",
              "\n",
              "    .dataframe tbody tr th {\n",
              "        vertical-align: top;\n",
              "    }\n",
              "\n",
              "    .dataframe thead th {\n",
              "        text-align: right;\n",
              "    }\n",
              "</style>\n",
              "<table border=\"1\" class=\"dataframe\">\n",
              "  <thead>\n",
              "    <tr style=\"text-align: right;\">\n",
              "      <th></th>\n",
              "      <th>index</th>\n",
              "      <th>rating</th>\n",
              "      <th>target_ages</th>\n",
              "      <th>counts</th>\n",
              "    </tr>\n",
              "  </thead>\n",
              "  <tbody>\n",
              "    <tr>\n",
              "      <th>0</th>\n",
              "      <td>0</td>\n",
              "      <td>G</td>\n",
              "      <td>Kids</td>\n",
              "      <td>39</td>\n",
              "    </tr>\n",
              "    <tr>\n",
              "      <th>1</th>\n",
              "      <td>32</td>\n",
              "      <td>TV-G</td>\n",
              "      <td>Kids</td>\n",
              "      <td>197</td>\n",
              "    </tr>\n",
              "    <tr>\n",
              "      <th>2</th>\n",
              "      <td>44</td>\n",
              "      <td>TV-Y</td>\n",
              "      <td>Kids</td>\n",
              "      <td>279</td>\n",
              "    </tr>\n",
              "    <tr>\n",
              "      <th>3</th>\n",
              "      <td>13</td>\n",
              "      <td>PG</td>\n",
              "      <td>Older Kids</td>\n",
              "      <td>247</td>\n",
              "    </tr>\n",
              "    <tr>\n",
              "      <th>4</th>\n",
              "      <td>41</td>\n",
              "      <td>TV-PG</td>\n",
              "      <td>Older Kids</td>\n",
              "      <td>804</td>\n",
              "    </tr>\n",
              "    <tr>\n",
              "      <th>5</th>\n",
              "      <td>49</td>\n",
              "      <td>TV-Y7</td>\n",
              "      <td>Older Kids</td>\n",
              "      <td>270</td>\n",
              "    </tr>\n",
              "    <tr>\n",
              "      <th>6</th>\n",
              "      <td>53</td>\n",
              "      <td>TV-Y7-FV</td>\n",
              "      <td>Older Kids</td>\n",
              "      <td>6</td>\n",
              "    </tr>\n",
              "    <tr>\n",
              "      <th>7</th>\n",
              "      <td>18</td>\n",
              "      <td>PG-13</td>\n",
              "      <td>Teens</td>\n",
              "      <td>387</td>\n",
              "    </tr>\n",
              "    <tr>\n",
              "      <th>8</th>\n",
              "      <td>26</td>\n",
              "      <td>TV-14</td>\n",
              "      <td>Teens</td>\n",
              "      <td>1930</td>\n",
              "    </tr>\n",
              "    <tr>\n",
              "      <th>9</th>\n",
              "      <td>30</td>\n",
              "      <td>TV-16</td>\n",
              "      <td>Teens</td>\n",
              "      <td>1</td>\n",
              "    </tr>\n",
              "    <tr>\n",
              "      <th>10</th>\n",
              "      <td>7</td>\n",
              "      <td>NC-17</td>\n",
              "      <td>Adults</td>\n",
              "      <td>3</td>\n",
              "    </tr>\n",
              "    <tr>\n",
              "      <th>11</th>\n",
              "      <td>11</td>\n",
              "      <td>NR</td>\n",
              "      <td>Adults</td>\n",
              "      <td>83</td>\n",
              "    </tr>\n",
              "    <tr>\n",
              "      <th>12</th>\n",
              "      <td>23</td>\n",
              "      <td>R</td>\n",
              "      <td>Adults</td>\n",
              "      <td>665</td>\n",
              "    </tr>\n",
              "    <tr>\n",
              "      <th>13</th>\n",
              "      <td>39</td>\n",
              "      <td>TV-MA</td>\n",
              "      <td>Adults</td>\n",
              "      <td>2861</td>\n",
              "    </tr>\n",
              "    <tr>\n",
              "      <th>14</th>\n",
              "      <td>59</td>\n",
              "      <td>UR</td>\n",
              "      <td>Adults</td>\n",
              "      <td>5</td>\n",
              "    </tr>\n",
              "  </tbody>\n",
              "</table>\n",
              "</div>"
            ],
            "text/plain": [
              "    index    rating target_ages  counts\n",
              "0       0         G        Kids      39\n",
              "1      32      TV-G        Kids     197\n",
              "2      44      TV-Y        Kids     279\n",
              "3      13        PG  Older Kids     247\n",
              "4      41     TV-PG  Older Kids     804\n",
              "5      49     TV-Y7  Older Kids     270\n",
              "6      53  TV-Y7-FV  Older Kids       6\n",
              "7      18     PG-13       Teens     387\n",
              "8      26     TV-14       Teens    1930\n",
              "9      30     TV-16       Teens       1\n",
              "10      7     NC-17      Adults       3\n",
              "11     11        NR      Adults      83\n",
              "12     23         R      Adults     665\n",
              "13     39     TV-MA      Adults    2861\n",
              "14     59        UR      Adults       5"
            ]
          },
          "metadata": {
            "tags": []
          },
          "execution_count": 142
        }
      ]
    },
    {
      "cell_type": "code",
      "metadata": {
        "colab": {
          "base_uri": "https://localhost:8080/"
        },
        "id": "ViJ267XAvpPL",
        "outputId": "b8c42a64-22fc-4144-f744-df1c9f9f65c0"
      },
      "source": [
        "rating_df.iloc[1]"
      ],
      "execution_count": 143,
      "outputs": [
        {
          "output_type": "execute_result",
          "data": {
            "text/plain": [
              "index            32\n",
              "rating         TV-G\n",
              "target_ages    Kids\n",
              "counts          197\n",
              "Name: 1, dtype: object"
            ]
          },
          "metadata": {
            "tags": []
          },
          "execution_count": 143
        }
      ]
    },
    {
      "cell_type": "code",
      "metadata": {
        "colab": {
          "base_uri": "https://localhost:8080/",
          "height": 542
        },
        "id": "NlrR4QU_lp_u",
        "outputId": "c426100a-3357-41fb-feaf-c3e7a7b449d2"
      },
      "source": [
        "fig=px.bar(rating_df,x='rating',y='counts',color='target_ages')\n",
        "fig.show()"
      ],
      "execution_count": 144,
      "outputs": [
        {
          "output_type": "display_data",
          "data": {
            "text/html": [
              "<html>\n",
              "<head><meta charset=\"utf-8\" /></head>\n",
              "<body>\n",
              "    <div>\n",
              "            <script src=\"https://cdnjs.cloudflare.com/ajax/libs/mathjax/2.7.5/MathJax.js?config=TeX-AMS-MML_SVG\"></script><script type=\"text/javascript\">if (window.MathJax) {MathJax.Hub.Config({SVG: {font: \"STIX-Web\"}});}</script>\n",
              "                <script type=\"text/javascript\">window.PlotlyConfig = {MathJaxConfig: 'local'};</script>\n",
              "        <script src=\"https://cdn.plot.ly/plotly-latest.min.js\"></script>    \n",
              "            <div id=\"d8970a67-65de-4b02-874c-5a2a67ed8865\" class=\"plotly-graph-div\" style=\"height:525px; width:100%;\"></div>\n",
              "            <script type=\"text/javascript\">\n",
              "                \n",
              "                    window.PLOTLYENV=window.PLOTLYENV || {};\n",
              "                    \n",
              "                if (document.getElementById(\"d8970a67-65de-4b02-874c-5a2a67ed8865\")) {\n",
              "                    Plotly.newPlot(\n",
              "                        'd8970a67-65de-4b02-874c-5a2a67ed8865',\n",
              "                        [{\"alignmentgroup\": \"True\", \"hoverlabel\": {\"namelength\": 0}, \"hovertemplate\": \"target_ages=Kids<br>rating=%{x}<br>counts=%{y}\", \"legendgroup\": \"target_ages=Kids\", \"marker\": {\"color\": \"#636efa\"}, \"name\": \"target_ages=Kids\", \"offsetgroup\": \"target_ages=Kids\", \"orientation\": \"v\", \"showlegend\": true, \"textposition\": \"auto\", \"type\": \"bar\", \"x\": [\"G\", \"TV-G\", \"TV-Y\"], \"xaxis\": \"x\", \"y\": [39, 197, 279], \"yaxis\": \"y\"}, {\"alignmentgroup\": \"True\", \"hoverlabel\": {\"namelength\": 0}, \"hovertemplate\": \"target_ages=Older Kids<br>rating=%{x}<br>counts=%{y}\", \"legendgroup\": \"target_ages=Older Kids\", \"marker\": {\"color\": \"#EF553B\"}, \"name\": \"target_ages=Older Kids\", \"offsetgroup\": \"target_ages=Older Kids\", \"orientation\": \"v\", \"showlegend\": true, \"textposition\": \"auto\", \"type\": \"bar\", \"x\": [\"PG\", \"TV-PG\", \"TV-Y7\", \"TV-Y7-FV\"], \"xaxis\": \"x\", \"y\": [247, 804, 270, 6], \"yaxis\": \"y\"}, {\"alignmentgroup\": \"True\", \"hoverlabel\": {\"namelength\": 0}, \"hovertemplate\": \"target_ages=Teens<br>rating=%{x}<br>counts=%{y}\", \"legendgroup\": \"target_ages=Teens\", \"marker\": {\"color\": \"#00cc96\"}, \"name\": \"target_ages=Teens\", \"offsetgroup\": \"target_ages=Teens\", \"orientation\": \"v\", \"showlegend\": true, \"textposition\": \"auto\", \"type\": \"bar\", \"x\": [\"PG-13\", \"TV-14\", \"TV-16\"], \"xaxis\": \"x\", \"y\": [387, 1930, 1], \"yaxis\": \"y\"}, {\"alignmentgroup\": \"True\", \"hoverlabel\": {\"namelength\": 0}, \"hovertemplate\": \"target_ages=Adults<br>rating=%{x}<br>counts=%{y}\", \"legendgroup\": \"target_ages=Adults\", \"marker\": {\"color\": \"#ab63fa\"}, \"name\": \"target_ages=Adults\", \"offsetgroup\": \"target_ages=Adults\", \"orientation\": \"v\", \"showlegend\": true, \"textposition\": \"auto\", \"type\": \"bar\", \"x\": [\"NC-17\", \"NR\", \"R\", \"TV-MA\", \"UR\"], \"xaxis\": \"x\", \"y\": [3, 83, 665, 2861, 5], \"yaxis\": \"y\"}],\n",
              "                        {\"barmode\": \"relative\", \"legend\": {\"tracegroupgap\": 0}, \"margin\": {\"t\": 60}, \"template\": {\"data\": {\"bar\": [{\"error_x\": {\"color\": \"#2a3f5f\"}, \"error_y\": {\"color\": \"#2a3f5f\"}, \"marker\": {\"line\": {\"color\": \"#E5ECF6\", \"width\": 0.5}}, \"type\": \"bar\"}], \"barpolar\": [{\"marker\": {\"line\": {\"color\": \"#E5ECF6\", \"width\": 0.5}}, \"type\": \"barpolar\"}], \"carpet\": [{\"aaxis\": {\"endlinecolor\": \"#2a3f5f\", \"gridcolor\": \"white\", \"linecolor\": \"white\", \"minorgridcolor\": \"white\", \"startlinecolor\": \"#2a3f5f\"}, \"baxis\": {\"endlinecolor\": \"#2a3f5f\", \"gridcolor\": \"white\", \"linecolor\": \"white\", \"minorgridcolor\": \"white\", \"startlinecolor\": \"#2a3f5f\"}, \"type\": \"carpet\"}], \"choropleth\": [{\"colorbar\": {\"outlinewidth\": 0, \"ticks\": \"\"}, \"type\": \"choropleth\"}], \"contour\": [{\"colorbar\": {\"outlinewidth\": 0, \"ticks\": \"\"}, \"colorscale\": [[0.0, \"#0d0887\"], [0.1111111111111111, \"#46039f\"], [0.2222222222222222, \"#7201a8\"], [0.3333333333333333, \"#9c179e\"], [0.4444444444444444, \"#bd3786\"], [0.5555555555555556, \"#d8576b\"], [0.6666666666666666, \"#ed7953\"], [0.7777777777777778, \"#fb9f3a\"], [0.8888888888888888, \"#fdca26\"], [1.0, \"#f0f921\"]], \"type\": \"contour\"}], \"contourcarpet\": [{\"colorbar\": {\"outlinewidth\": 0, \"ticks\": \"\"}, \"type\": \"contourcarpet\"}], \"heatmap\": [{\"colorbar\": {\"outlinewidth\": 0, \"ticks\": \"\"}, \"colorscale\": [[0.0, \"#0d0887\"], [0.1111111111111111, \"#46039f\"], [0.2222222222222222, \"#7201a8\"], [0.3333333333333333, \"#9c179e\"], [0.4444444444444444, \"#bd3786\"], [0.5555555555555556, \"#d8576b\"], [0.6666666666666666, \"#ed7953\"], [0.7777777777777778, \"#fb9f3a\"], [0.8888888888888888, \"#fdca26\"], [1.0, \"#f0f921\"]], \"type\": \"heatmap\"}], \"heatmapgl\": [{\"colorbar\": {\"outlinewidth\": 0, \"ticks\": \"\"}, \"colorscale\": [[0.0, \"#0d0887\"], [0.1111111111111111, \"#46039f\"], [0.2222222222222222, \"#7201a8\"], [0.3333333333333333, \"#9c179e\"], [0.4444444444444444, \"#bd3786\"], [0.5555555555555556, \"#d8576b\"], [0.6666666666666666, \"#ed7953\"], [0.7777777777777778, \"#fb9f3a\"], [0.8888888888888888, \"#fdca26\"], [1.0, \"#f0f921\"]], \"type\": \"heatmapgl\"}], \"histogram\": [{\"marker\": {\"colorbar\": {\"outlinewidth\": 0, \"ticks\": \"\"}}, \"type\": \"histogram\"}], \"histogram2d\": [{\"colorbar\": {\"outlinewidth\": 0, \"ticks\": \"\"}, \"colorscale\": [[0.0, \"#0d0887\"], [0.1111111111111111, \"#46039f\"], [0.2222222222222222, \"#7201a8\"], [0.3333333333333333, \"#9c179e\"], [0.4444444444444444, \"#bd3786\"], [0.5555555555555556, \"#d8576b\"], [0.6666666666666666, \"#ed7953\"], [0.7777777777777778, \"#fb9f3a\"], [0.8888888888888888, \"#fdca26\"], [1.0, \"#f0f921\"]], \"type\": \"histogram2d\"}], \"histogram2dcontour\": [{\"colorbar\": {\"outlinewidth\": 0, \"ticks\": \"\"}, \"colorscale\": [[0.0, \"#0d0887\"], [0.1111111111111111, \"#46039f\"], [0.2222222222222222, \"#7201a8\"], [0.3333333333333333, \"#9c179e\"], [0.4444444444444444, \"#bd3786\"], [0.5555555555555556, \"#d8576b\"], [0.6666666666666666, \"#ed7953\"], [0.7777777777777778, \"#fb9f3a\"], [0.8888888888888888, \"#fdca26\"], [1.0, \"#f0f921\"]], \"type\": \"histogram2dcontour\"}], \"mesh3d\": [{\"colorbar\": {\"outlinewidth\": 0, \"ticks\": \"\"}, \"type\": \"mesh3d\"}], \"parcoords\": [{\"line\": {\"colorbar\": {\"outlinewidth\": 0, \"ticks\": \"\"}}, \"type\": \"parcoords\"}], \"pie\": [{\"automargin\": true, \"type\": \"pie\"}], \"scatter\": [{\"marker\": {\"colorbar\": {\"outlinewidth\": 0, \"ticks\": \"\"}}, \"type\": \"scatter\"}], \"scatter3d\": [{\"line\": {\"colorbar\": {\"outlinewidth\": 0, \"ticks\": \"\"}}, \"marker\": {\"colorbar\": {\"outlinewidth\": 0, \"ticks\": \"\"}}, \"type\": \"scatter3d\"}], \"scattercarpet\": [{\"marker\": {\"colorbar\": {\"outlinewidth\": 0, \"ticks\": \"\"}}, \"type\": \"scattercarpet\"}], \"scattergeo\": [{\"marker\": {\"colorbar\": {\"outlinewidth\": 0, \"ticks\": \"\"}}, \"type\": \"scattergeo\"}], \"scattergl\": [{\"marker\": {\"colorbar\": {\"outlinewidth\": 0, \"ticks\": \"\"}}, \"type\": \"scattergl\"}], \"scattermapbox\": [{\"marker\": {\"colorbar\": {\"outlinewidth\": 0, \"ticks\": \"\"}}, \"type\": \"scattermapbox\"}], \"scatterpolar\": [{\"marker\": {\"colorbar\": {\"outlinewidth\": 0, \"ticks\": \"\"}}, \"type\": \"scatterpolar\"}], \"scatterpolargl\": [{\"marker\": {\"colorbar\": {\"outlinewidth\": 0, \"ticks\": \"\"}}, \"type\": \"scatterpolargl\"}], \"scatterternary\": [{\"marker\": {\"colorbar\": {\"outlinewidth\": 0, \"ticks\": \"\"}}, \"type\": \"scatterternary\"}], \"surface\": [{\"colorbar\": {\"outlinewidth\": 0, \"ticks\": \"\"}, \"colorscale\": [[0.0, \"#0d0887\"], [0.1111111111111111, \"#46039f\"], [0.2222222222222222, \"#7201a8\"], [0.3333333333333333, \"#9c179e\"], [0.4444444444444444, \"#bd3786\"], [0.5555555555555556, \"#d8576b\"], [0.6666666666666666, \"#ed7953\"], [0.7777777777777778, \"#fb9f3a\"], [0.8888888888888888, \"#fdca26\"], [1.0, \"#f0f921\"]], \"type\": \"surface\"}], \"table\": [{\"cells\": {\"fill\": {\"color\": \"#EBF0F8\"}, \"line\": {\"color\": \"white\"}}, \"header\": {\"fill\": {\"color\": \"#C8D4E3\"}, \"line\": {\"color\": \"white\"}}, \"type\": \"table\"}]}, \"layout\": {\"annotationdefaults\": {\"arrowcolor\": \"#2a3f5f\", \"arrowhead\": 0, \"arrowwidth\": 1}, \"coloraxis\": {\"colorbar\": {\"outlinewidth\": 0, \"ticks\": \"\"}}, \"colorscale\": {\"diverging\": [[0, \"#8e0152\"], [0.1, \"#c51b7d\"], [0.2, \"#de77ae\"], [0.3, \"#f1b6da\"], [0.4, \"#fde0ef\"], [0.5, \"#f7f7f7\"], [0.6, \"#e6f5d0\"], [0.7, \"#b8e186\"], [0.8, \"#7fbc41\"], [0.9, \"#4d9221\"], [1, \"#276419\"]], \"sequential\": [[0.0, \"#0d0887\"], [0.1111111111111111, \"#46039f\"], [0.2222222222222222, \"#7201a8\"], [0.3333333333333333, \"#9c179e\"], [0.4444444444444444, \"#bd3786\"], [0.5555555555555556, \"#d8576b\"], [0.6666666666666666, \"#ed7953\"], [0.7777777777777778, \"#fb9f3a\"], [0.8888888888888888, \"#fdca26\"], [1.0, \"#f0f921\"]], \"sequentialminus\": [[0.0, \"#0d0887\"], [0.1111111111111111, \"#46039f\"], [0.2222222222222222, \"#7201a8\"], [0.3333333333333333, \"#9c179e\"], [0.4444444444444444, \"#bd3786\"], [0.5555555555555556, \"#d8576b\"], [0.6666666666666666, \"#ed7953\"], [0.7777777777777778, \"#fb9f3a\"], [0.8888888888888888, \"#fdca26\"], [1.0, \"#f0f921\"]]}, \"colorway\": [\"#636efa\", \"#EF553B\", \"#00cc96\", \"#ab63fa\", \"#FFA15A\", \"#19d3f3\", \"#FF6692\", \"#B6E880\", \"#FF97FF\", \"#FECB52\"], \"font\": {\"color\": \"#2a3f5f\"}, \"geo\": {\"bgcolor\": \"white\", \"lakecolor\": \"white\", \"landcolor\": \"#E5ECF6\", \"showlakes\": true, \"showland\": true, \"subunitcolor\": \"white\"}, \"hoverlabel\": {\"align\": \"left\"}, \"hovermode\": \"closest\", \"mapbox\": {\"style\": \"light\"}, \"paper_bgcolor\": \"white\", \"plot_bgcolor\": \"#E5ECF6\", \"polar\": {\"angularaxis\": {\"gridcolor\": \"white\", \"linecolor\": \"white\", \"ticks\": \"\"}, \"bgcolor\": \"#E5ECF6\", \"radialaxis\": {\"gridcolor\": \"white\", \"linecolor\": \"white\", \"ticks\": \"\"}}, \"scene\": {\"xaxis\": {\"backgroundcolor\": \"#E5ECF6\", \"gridcolor\": \"white\", \"gridwidth\": 2, \"linecolor\": \"white\", \"showbackground\": true, \"ticks\": \"\", \"zerolinecolor\": \"white\"}, \"yaxis\": {\"backgroundcolor\": \"#E5ECF6\", \"gridcolor\": \"white\", \"gridwidth\": 2, \"linecolor\": \"white\", \"showbackground\": true, \"ticks\": \"\", \"zerolinecolor\": \"white\"}, \"zaxis\": {\"backgroundcolor\": \"#E5ECF6\", \"gridcolor\": \"white\", \"gridwidth\": 2, \"linecolor\": \"white\", \"showbackground\": true, \"ticks\": \"\", \"zerolinecolor\": \"white\"}}, \"shapedefaults\": {\"line\": {\"color\": \"#2a3f5f\"}}, \"ternary\": {\"aaxis\": {\"gridcolor\": \"white\", \"linecolor\": \"white\", \"ticks\": \"\"}, \"baxis\": {\"gridcolor\": \"white\", \"linecolor\": \"white\", \"ticks\": \"\"}, \"bgcolor\": \"#E5ECF6\", \"caxis\": {\"gridcolor\": \"white\", \"linecolor\": \"white\", \"ticks\": \"\"}}, \"title\": {\"x\": 0.05}, \"xaxis\": {\"automargin\": true, \"gridcolor\": \"white\", \"linecolor\": \"white\", \"ticks\": \"\", \"title\": {\"standoff\": 15}, \"zerolinecolor\": \"white\", \"zerolinewidth\": 2}, \"yaxis\": {\"automargin\": true, \"gridcolor\": \"white\", \"linecolor\": \"white\", \"ticks\": \"\", \"title\": {\"standoff\": 15}, \"zerolinecolor\": \"white\", \"zerolinewidth\": 2}}}, \"xaxis\": {\"anchor\": \"y\", \"domain\": [0.0, 1.0], \"title\": {\"text\": \"rating\"}}, \"yaxis\": {\"anchor\": \"x\", \"domain\": [0.0, 1.0], \"title\": {\"text\": \"counts\"}}},\n",
              "                        {\"responsive\": true}\n",
              "                    ).then(function(){\n",
              "                            \n",
              "var gd = document.getElementById('d8970a67-65de-4b02-874c-5a2a67ed8865');\n",
              "var x = new MutationObserver(function (mutations, observer) {{\n",
              "        var display = window.getComputedStyle(gd).display;\n",
              "        if (!display || display === 'none') {{\n",
              "            console.log([gd, 'removed!']);\n",
              "            Plotly.purge(gd);\n",
              "            observer.disconnect();\n",
              "        }}\n",
              "}});\n",
              "\n",
              "// Listen for the removal of the full notebook cells\n",
              "var notebookContainer = gd.closest('#notebook-container');\n",
              "if (notebookContainer) {{\n",
              "    x.observe(notebookContainer, {childList: true});\n",
              "}}\n",
              "\n",
              "// Listen for the clearing of the current output cell\n",
              "var outputEl = gd.closest('.output');\n",
              "if (outputEl) {{\n",
              "    x.observe(outputEl, {childList: true});\n",
              "}}\n",
              "\n",
              "                        })\n",
              "                };\n",
              "                \n",
              "            </script>\n",
              "        </div>\n",
              "</body>\n",
              "</html>"
            ]
          },
          "metadata": {
            "tags": []
          }
        }
      ]
    },
    {
      "cell_type": "code",
      "metadata": {
        "id": "-bxMEvR4pIcw"
      },
      "source": [
        "#針對影集或是歌劇\n",
        "movie_df=data[data['type']=='Movie']\n",
        "show_df=data[data['type']=='TV Show']"
      ],
      "execution_count": 145,
      "outputs": []
    },
    {
      "cell_type": "code",
      "metadata": {
        "colab": {
          "base_uri": "https://localhost:8080/",
          "height": 609
        },
        "id": "0Z3Y-XB7xUKI",
        "outputId": "634a2088-7996-4a2b-a024-316a2e32eab8"
      },
      "source": [
        "#新增 資料子集\n",
        "#針對影集或是歌劇\n",
        "from plotly.tools import make_subplots\n",
        "import plotly.graph_objects as go\n",
        "\n",
        "movie_rating_df = generate_rating_df(movie_df)\n",
        "show_rating_df = generate_rating_df(show_df)\n",
        "\n",
        "fig = make_subplots(rows=1, cols=2, specs=[[{\"type\": \"pie\"}, {\"type\": \"pie\"}]])\n",
        "\n",
        "fig.add_trace(\n",
        "    go.Pie(labels=movie_rating_df['target_ages'], values=movie_rating_df['counts']),\n",
        "    row=1, col=1\n",
        ")\n",
        "fig.add_trace(\n",
        "    go.Pie(labels=show_rating_df['target_ages'], values=show_rating_df['counts']),\n",
        "    row=1, col=2\n",
        ")\n",
        "\n",
        "fig.update_traces(textposition='inside', hole=.4, hoverinfo=\"label+percent+name\")\n",
        "fig.update_layout(\n",
        "    title_text=\"Rating distribution by Type of content\",\n",
        "    # Add annotations in the center of the donut pies.\n",
        "    annotations=[dict(text='Movies', x=0.16, y=0.5, font_size=12, showarrow=False),\n",
        "                 dict(text='TV Shows', x=0.82, y=0.5, font_size=12, showarrow=False)])\n",
        "fig.show()"
      ],
      "execution_count": 146,
      "outputs": [
        {
          "output_type": "stream",
          "text": [
            "/usr/local/lib/python3.7/dist-packages/plotly/tools.py:465: DeprecationWarning:\n",
            "\n",
            "plotly.tools.make_subplots is deprecated, please use plotly.subplots.make_subplots instead\n",
            "\n"
          ],
          "name": "stderr"
        },
        {
          "output_type": "display_data",
          "data": {
            "text/html": [
              "<html>\n",
              "<head><meta charset=\"utf-8\" /></head>\n",
              "<body>\n",
              "    <div>\n",
              "            <script src=\"https://cdnjs.cloudflare.com/ajax/libs/mathjax/2.7.5/MathJax.js?config=TeX-AMS-MML_SVG\"></script><script type=\"text/javascript\">if (window.MathJax) {MathJax.Hub.Config({SVG: {font: \"STIX-Web\"}});}</script>\n",
              "                <script type=\"text/javascript\">window.PlotlyConfig = {MathJaxConfig: 'local'};</script>\n",
              "        <script src=\"https://cdn.plot.ly/plotly-latest.min.js\"></script>    \n",
              "            <div id=\"82b6a618-1cca-4ce4-a1e3-ec519aeba991\" class=\"plotly-graph-div\" style=\"height:525px; width:100%;\"></div>\n",
              "            <script type=\"text/javascript\">\n",
              "                \n",
              "                    window.PLOTLYENV=window.PLOTLYENV || {};\n",
              "                    \n",
              "                if (document.getElementById(\"82b6a618-1cca-4ce4-a1e3-ec519aeba991\")) {\n",
              "                    Plotly.newPlot(\n",
              "                        '82b6a618-1cca-4ce4-a1e3-ec519aeba991',\n",
              "                        [{\"domain\": {\"x\": [0.0, 0.45], \"y\": [0.0, 1.0]}, \"hole\": 0.4, \"hoverinfo\": \"label+percent+name\", \"labels\": [\"Kids\", \"Kids\", \"Kids\", \"Older Kids\", \"Older Kids\", \"Older Kids\", \"Older Kids\", \"Teens\", \"Teens\", \"Teens\", \"Adults\", \"Adults\", \"Adults\", \"Adults\", \"Adults\"], \"textposition\": \"inside\", \"type\": \"pie\", \"values\": [39, 113, 117, 247, 505, 95, 5, 386, 1274, 1, 3, 79, 663, 1845, 5]}, {\"domain\": {\"x\": [0.55, 1.0], \"y\": [0.0, 1.0]}, \"hole\": 0.4, \"hoverinfo\": \"label+percent+name\", \"labels\": [\"Kids\", \"Kids\", \"Older Kids\", \"Older Kids\", \"Older Kids\", \"Teens\", \"Teens\", \"Adults\", \"Adults\", \"Adults\"], \"textposition\": \"inside\", \"type\": \"pie\", \"values\": [84, 162, 299, 175, 1, 1, 656, 4, 2, 1016]}],\n",
              "                        {\"annotations\": [{\"font\": {\"size\": 12}, \"showarrow\": false, \"text\": \"Movies\", \"x\": 0.16, \"y\": 0.5}, {\"font\": {\"size\": 12}, \"showarrow\": false, \"text\": \"TV Shows\", \"x\": 0.82, \"y\": 0.5}], \"template\": {\"data\": {\"bar\": [{\"error_x\": {\"color\": \"#2a3f5f\"}, \"error_y\": {\"color\": \"#2a3f5f\"}, \"marker\": {\"line\": {\"color\": \"#E5ECF6\", \"width\": 0.5}}, \"type\": \"bar\"}], \"barpolar\": [{\"marker\": {\"line\": {\"color\": \"#E5ECF6\", \"width\": 0.5}}, \"type\": \"barpolar\"}], \"carpet\": [{\"aaxis\": {\"endlinecolor\": \"#2a3f5f\", \"gridcolor\": \"white\", \"linecolor\": \"white\", \"minorgridcolor\": \"white\", \"startlinecolor\": \"#2a3f5f\"}, \"baxis\": {\"endlinecolor\": \"#2a3f5f\", \"gridcolor\": \"white\", \"linecolor\": \"white\", \"minorgridcolor\": \"white\", \"startlinecolor\": \"#2a3f5f\"}, \"type\": \"carpet\"}], \"choropleth\": [{\"colorbar\": {\"outlinewidth\": 0, \"ticks\": \"\"}, \"type\": \"choropleth\"}], \"contour\": [{\"colorbar\": {\"outlinewidth\": 0, \"ticks\": \"\"}, \"colorscale\": [[0.0, \"#0d0887\"], [0.1111111111111111, \"#46039f\"], [0.2222222222222222, \"#7201a8\"], [0.3333333333333333, \"#9c179e\"], [0.4444444444444444, \"#bd3786\"], [0.5555555555555556, \"#d8576b\"], [0.6666666666666666, \"#ed7953\"], [0.7777777777777778, \"#fb9f3a\"], [0.8888888888888888, \"#fdca26\"], [1.0, \"#f0f921\"]], \"type\": \"contour\"}], \"contourcarpet\": [{\"colorbar\": {\"outlinewidth\": 0, \"ticks\": \"\"}, \"type\": \"contourcarpet\"}], \"heatmap\": [{\"colorbar\": {\"outlinewidth\": 0, \"ticks\": \"\"}, \"colorscale\": [[0.0, \"#0d0887\"], [0.1111111111111111, \"#46039f\"], [0.2222222222222222, \"#7201a8\"], [0.3333333333333333, \"#9c179e\"], [0.4444444444444444, \"#bd3786\"], [0.5555555555555556, \"#d8576b\"], [0.6666666666666666, \"#ed7953\"], [0.7777777777777778, \"#fb9f3a\"], [0.8888888888888888, \"#fdca26\"], [1.0, \"#f0f921\"]], \"type\": \"heatmap\"}], \"heatmapgl\": [{\"colorbar\": {\"outlinewidth\": 0, \"ticks\": \"\"}, \"colorscale\": [[0.0, \"#0d0887\"], [0.1111111111111111, \"#46039f\"], [0.2222222222222222, \"#7201a8\"], [0.3333333333333333, \"#9c179e\"], [0.4444444444444444, \"#bd3786\"], [0.5555555555555556, \"#d8576b\"], [0.6666666666666666, \"#ed7953\"], [0.7777777777777778, \"#fb9f3a\"], [0.8888888888888888, \"#fdca26\"], [1.0, \"#f0f921\"]], \"type\": \"heatmapgl\"}], \"histogram\": [{\"marker\": {\"colorbar\": {\"outlinewidth\": 0, \"ticks\": \"\"}}, \"type\": \"histogram\"}], \"histogram2d\": [{\"colorbar\": {\"outlinewidth\": 0, \"ticks\": \"\"}, \"colorscale\": [[0.0, \"#0d0887\"], [0.1111111111111111, \"#46039f\"], [0.2222222222222222, \"#7201a8\"], [0.3333333333333333, \"#9c179e\"], [0.4444444444444444, \"#bd3786\"], [0.5555555555555556, \"#d8576b\"], [0.6666666666666666, \"#ed7953\"], [0.7777777777777778, \"#fb9f3a\"], [0.8888888888888888, \"#fdca26\"], [1.0, \"#f0f921\"]], \"type\": \"histogram2d\"}], \"histogram2dcontour\": [{\"colorbar\": {\"outlinewidth\": 0, \"ticks\": \"\"}, \"colorscale\": [[0.0, \"#0d0887\"], [0.1111111111111111, \"#46039f\"], [0.2222222222222222, \"#7201a8\"], [0.3333333333333333, \"#9c179e\"], [0.4444444444444444, \"#bd3786\"], [0.5555555555555556, \"#d8576b\"], [0.6666666666666666, \"#ed7953\"], [0.7777777777777778, \"#fb9f3a\"], [0.8888888888888888, \"#fdca26\"], [1.0, \"#f0f921\"]], \"type\": \"histogram2dcontour\"}], \"mesh3d\": [{\"colorbar\": {\"outlinewidth\": 0, \"ticks\": \"\"}, \"type\": \"mesh3d\"}], \"parcoords\": [{\"line\": {\"colorbar\": {\"outlinewidth\": 0, \"ticks\": \"\"}}, \"type\": \"parcoords\"}], \"pie\": [{\"automargin\": true, \"type\": \"pie\"}], \"scatter\": [{\"marker\": {\"colorbar\": {\"outlinewidth\": 0, \"ticks\": \"\"}}, \"type\": \"scatter\"}], \"scatter3d\": [{\"line\": {\"colorbar\": {\"outlinewidth\": 0, \"ticks\": \"\"}}, \"marker\": {\"colorbar\": {\"outlinewidth\": 0, \"ticks\": \"\"}}, \"type\": \"scatter3d\"}], \"scattercarpet\": [{\"marker\": {\"colorbar\": {\"outlinewidth\": 0, \"ticks\": \"\"}}, \"type\": \"scattercarpet\"}], \"scattergeo\": [{\"marker\": {\"colorbar\": {\"outlinewidth\": 0, \"ticks\": \"\"}}, \"type\": \"scattergeo\"}], \"scattergl\": [{\"marker\": {\"colorbar\": {\"outlinewidth\": 0, \"ticks\": \"\"}}, \"type\": \"scattergl\"}], \"scattermapbox\": [{\"marker\": {\"colorbar\": {\"outlinewidth\": 0, \"ticks\": \"\"}}, \"type\": \"scattermapbox\"}], \"scatterpolar\": [{\"marker\": {\"colorbar\": {\"outlinewidth\": 0, \"ticks\": \"\"}}, \"type\": \"scatterpolar\"}], \"scatterpolargl\": [{\"marker\": {\"colorbar\": {\"outlinewidth\": 0, \"ticks\": \"\"}}, \"type\": \"scatterpolargl\"}], \"scatterternary\": [{\"marker\": {\"colorbar\": {\"outlinewidth\": 0, \"ticks\": \"\"}}, \"type\": \"scatterternary\"}], \"surface\": [{\"colorbar\": {\"outlinewidth\": 0, \"ticks\": \"\"}, \"colorscale\": [[0.0, \"#0d0887\"], [0.1111111111111111, \"#46039f\"], [0.2222222222222222, \"#7201a8\"], [0.3333333333333333, \"#9c179e\"], [0.4444444444444444, \"#bd3786\"], [0.5555555555555556, \"#d8576b\"], [0.6666666666666666, \"#ed7953\"], [0.7777777777777778, \"#fb9f3a\"], [0.8888888888888888, \"#fdca26\"], [1.0, \"#f0f921\"]], \"type\": \"surface\"}], \"table\": [{\"cells\": {\"fill\": {\"color\": \"#EBF0F8\"}, \"line\": {\"color\": \"white\"}}, \"header\": {\"fill\": {\"color\": \"#C8D4E3\"}, \"line\": {\"color\": \"white\"}}, \"type\": \"table\"}]}, \"layout\": {\"annotationdefaults\": {\"arrowcolor\": \"#2a3f5f\", \"arrowhead\": 0, \"arrowwidth\": 1}, \"coloraxis\": {\"colorbar\": {\"outlinewidth\": 0, \"ticks\": \"\"}}, \"colorscale\": {\"diverging\": [[0, \"#8e0152\"], [0.1, \"#c51b7d\"], [0.2, \"#de77ae\"], [0.3, \"#f1b6da\"], [0.4, \"#fde0ef\"], [0.5, \"#f7f7f7\"], [0.6, \"#e6f5d0\"], [0.7, \"#b8e186\"], [0.8, \"#7fbc41\"], [0.9, \"#4d9221\"], [1, \"#276419\"]], \"sequential\": [[0.0, \"#0d0887\"], [0.1111111111111111, \"#46039f\"], [0.2222222222222222, \"#7201a8\"], [0.3333333333333333, \"#9c179e\"], [0.4444444444444444, \"#bd3786\"], [0.5555555555555556, \"#d8576b\"], [0.6666666666666666, \"#ed7953\"], [0.7777777777777778, \"#fb9f3a\"], [0.8888888888888888, \"#fdca26\"], [1.0, \"#f0f921\"]], \"sequentialminus\": [[0.0, \"#0d0887\"], [0.1111111111111111, \"#46039f\"], [0.2222222222222222, \"#7201a8\"], [0.3333333333333333, \"#9c179e\"], [0.4444444444444444, \"#bd3786\"], [0.5555555555555556, \"#d8576b\"], [0.6666666666666666, \"#ed7953\"], [0.7777777777777778, \"#fb9f3a\"], [0.8888888888888888, \"#fdca26\"], [1.0, \"#f0f921\"]]}, \"colorway\": [\"#636efa\", \"#EF553B\", \"#00cc96\", \"#ab63fa\", \"#FFA15A\", \"#19d3f3\", \"#FF6692\", \"#B6E880\", \"#FF97FF\", \"#FECB52\"], \"font\": {\"color\": \"#2a3f5f\"}, \"geo\": {\"bgcolor\": \"white\", \"lakecolor\": \"white\", \"landcolor\": \"#E5ECF6\", \"showlakes\": true, \"showland\": true, \"subunitcolor\": \"white\"}, \"hoverlabel\": {\"align\": \"left\"}, \"hovermode\": \"closest\", \"mapbox\": {\"style\": \"light\"}, \"paper_bgcolor\": \"white\", \"plot_bgcolor\": \"#E5ECF6\", \"polar\": {\"angularaxis\": {\"gridcolor\": \"white\", \"linecolor\": \"white\", \"ticks\": \"\"}, \"bgcolor\": \"#E5ECF6\", \"radialaxis\": {\"gridcolor\": \"white\", \"linecolor\": \"white\", \"ticks\": \"\"}}, \"scene\": {\"xaxis\": {\"backgroundcolor\": \"#E5ECF6\", \"gridcolor\": \"white\", \"gridwidth\": 2, \"linecolor\": \"white\", \"showbackground\": true, \"ticks\": \"\", \"zerolinecolor\": \"white\"}, \"yaxis\": {\"backgroundcolor\": \"#E5ECF6\", \"gridcolor\": \"white\", \"gridwidth\": 2, \"linecolor\": \"white\", \"showbackground\": true, \"ticks\": \"\", \"zerolinecolor\": \"white\"}, \"zaxis\": {\"backgroundcolor\": \"#E5ECF6\", \"gridcolor\": \"white\", \"gridwidth\": 2, \"linecolor\": \"white\", \"showbackground\": true, \"ticks\": \"\", \"zerolinecolor\": \"white\"}}, \"shapedefaults\": {\"line\": {\"color\": \"#2a3f5f\"}}, \"ternary\": {\"aaxis\": {\"gridcolor\": \"white\", \"linecolor\": \"white\", \"ticks\": \"\"}, \"baxis\": {\"gridcolor\": \"white\", \"linecolor\": \"white\", \"ticks\": \"\"}, \"bgcolor\": \"#E5ECF6\", \"caxis\": {\"gridcolor\": \"white\", \"linecolor\": \"white\", \"ticks\": \"\"}}, \"title\": {\"x\": 0.05}, \"xaxis\": {\"automargin\": true, \"gridcolor\": \"white\", \"linecolor\": \"white\", \"ticks\": \"\", \"title\": {\"standoff\": 15}, \"zerolinecolor\": \"white\", \"zerolinewidth\": 2}, \"yaxis\": {\"automargin\": true, \"gridcolor\": \"white\", \"linecolor\": \"white\", \"ticks\": \"\", \"title\": {\"standoff\": 15}, \"zerolinecolor\": \"white\", \"zerolinewidth\": 2}}}, \"title\": {\"text\": \"Rating distribution by Type of content\"}},\n",
              "                        {\"responsive\": true}\n",
              "                    ).then(function(){\n",
              "                            \n",
              "var gd = document.getElementById('82b6a618-1cca-4ce4-a1e3-ec519aeba991');\n",
              "var x = new MutationObserver(function (mutations, observer) {{\n",
              "        var display = window.getComputedStyle(gd).display;\n",
              "        if (!display || display === 'none') {{\n",
              "            console.log([gd, 'removed!']);\n",
              "            Plotly.purge(gd);\n",
              "            observer.disconnect();\n",
              "        }}\n",
              "}});\n",
              "\n",
              "// Listen for the removal of the full notebook cells\n",
              "var notebookContainer = gd.closest('#notebook-container');\n",
              "if (notebookContainer) {{\n",
              "    x.observe(notebookContainer, {childList: true});\n",
              "}}\n",
              "\n",
              "// Listen for the clearing of the current output cell\n",
              "var outputEl = gd.closest('.output');\n",
              "if (outputEl) {{\n",
              "    x.observe(outputEl, {childList: true});\n",
              "}}\n",
              "\n",
              "                        })\n",
              "                };\n",
              "                \n",
              "            </script>\n",
              "        </div>\n",
              "</body>\n",
              "</html>"
            ]
          },
          "metadata": {
            "tags": []
          }
        }
      ]
    },
    {
      "cell_type": "code",
      "metadata": {
        "colab": {
          "base_uri": "https://localhost:8080/",
          "height": 417
        },
        "id": "3So2a7xLyEP-",
        "outputId": "da45aee2-63be-48d8-afcf-e085713e9114"
      },
      "source": [
        "country_df = data['principal_country'].value_counts().reset_index()\n",
        "country_df"
      ],
      "execution_count": 147,
      "outputs": [
        {
          "output_type": "execute_result",
          "data": {
            "text/html": [
              "<div>\n",
              "<style scoped>\n",
              "    .dataframe tbody tr th:only-of-type {\n",
              "        vertical-align: middle;\n",
              "    }\n",
              "\n",
              "    .dataframe tbody tr th {\n",
              "        vertical-align: top;\n",
              "    }\n",
              "\n",
              "    .dataframe thead th {\n",
              "        text-align: right;\n",
              "    }\n",
              "</style>\n",
              "<table border=\"1\" class=\"dataframe\">\n",
              "  <thead>\n",
              "    <tr style=\"text-align: right;\">\n",
              "      <th></th>\n",
              "      <th>index</th>\n",
              "      <th>principal_country</th>\n",
              "    </tr>\n",
              "  </thead>\n",
              "  <tbody>\n",
              "    <tr>\n",
              "      <th>0</th>\n",
              "      <td>United</td>\n",
              "      <td>3978</td>\n",
              "    </tr>\n",
              "    <tr>\n",
              "      <th>1</th>\n",
              "      <td>India</td>\n",
              "      <td>923</td>\n",
              "    </tr>\n",
              "    <tr>\n",
              "      <th>2</th>\n",
              "      <td>South</td>\n",
              "      <td>229</td>\n",
              "    </tr>\n",
              "    <tr>\n",
              "      <th>3</th>\n",
              "      <td>Japan</td>\n",
              "      <td>225</td>\n",
              "    </tr>\n",
              "    <tr>\n",
              "      <th>4</th>\n",
              "      <td>Canada</td>\n",
              "      <td>177</td>\n",
              "    </tr>\n",
              "    <tr>\n",
              "      <th>...</th>\n",
              "      <td>...</td>\n",
              "      <td>...</td>\n",
              "    </tr>\n",
              "    <tr>\n",
              "      <th>121</th>\n",
              "      <td>Slovenia,</td>\n",
              "      <td>1</td>\n",
              "    </tr>\n",
              "    <tr>\n",
              "      <th>122</th>\n",
              "      <td>Namibia</td>\n",
              "      <td>1</td>\n",
              "    </tr>\n",
              "    <tr>\n",
              "      <th>123</th>\n",
              "      <td>Iceland,</td>\n",
              "      <td>1</td>\n",
              "    </tr>\n",
              "    <tr>\n",
              "      <th>124</th>\n",
              "      <td>Iran,</td>\n",
              "      <td>1</td>\n",
              "    </tr>\n",
              "    <tr>\n",
              "      <th>125</th>\n",
              "      <td>Senegal</td>\n",
              "      <td>1</td>\n",
              "    </tr>\n",
              "  </tbody>\n",
              "</table>\n",
              "<p>126 rows × 2 columns</p>\n",
              "</div>"
            ],
            "text/plain": [
              "         index  principal_country\n",
              "0       United               3978\n",
              "1        India                923\n",
              "2        South                229\n",
              "3        Japan                225\n",
              "4       Canada                177\n",
              "..         ...                ...\n",
              "121  Slovenia,                  1\n",
              "122    Namibia                  1\n",
              "123   Iceland,                  1\n",
              "124      Iran,                  1\n",
              "125    Senegal                  1\n",
              "\n",
              "[126 rows x 2 columns]"
            ]
          },
          "metadata": {
            "tags": []
          },
          "execution_count": 147
        }
      ]
    },
    {
      "cell_type": "code",
      "metadata": {
        "colab": {
          "base_uri": "https://localhost:8080/",
          "height": 1000
        },
        "id": "sumy9LHkz7WW",
        "outputId": "4d971981-a8f6-4373-943d-050d836e5f10"
      },
      "source": [
        "#按國別分別顯示影集與歌劇的產出分布,使用圓餅圖\n",
        "\n",
        "country_df = country_df[country_df['principal_country'] /  country_df['principal_country'].sum() > 0.01]\n",
        "display(country_df)\n",
        "fig = px.pie(country_df, values='principal_country', names='index')\n",
        "fig.show()"
      ],
      "execution_count": 148,
      "outputs": [
        {
          "output_type": "display_data",
          "data": {
            "text/html": [
              "<div>\n",
              "<style scoped>\n",
              "    .dataframe tbody tr th:only-of-type {\n",
              "        vertical-align: middle;\n",
              "    }\n",
              "\n",
              "    .dataframe tbody tr th {\n",
              "        vertical-align: top;\n",
              "    }\n",
              "\n",
              "    .dataframe thead th {\n",
              "        text-align: right;\n",
              "    }\n",
              "</style>\n",
              "<table border=\"1\" class=\"dataframe\">\n",
              "  <thead>\n",
              "    <tr style=\"text-align: right;\">\n",
              "      <th></th>\n",
              "      <th>index</th>\n",
              "      <th>principal_country</th>\n",
              "    </tr>\n",
              "  </thead>\n",
              "  <tbody>\n",
              "    <tr>\n",
              "      <th>0</th>\n",
              "      <td>United</td>\n",
              "      <td>3978</td>\n",
              "    </tr>\n",
              "    <tr>\n",
              "      <th>1</th>\n",
              "      <td>India</td>\n",
              "      <td>923</td>\n",
              "    </tr>\n",
              "    <tr>\n",
              "      <th>2</th>\n",
              "      <td>South</td>\n",
              "      <td>229</td>\n",
              "    </tr>\n",
              "    <tr>\n",
              "      <th>3</th>\n",
              "      <td>Japan</td>\n",
              "      <td>225</td>\n",
              "    </tr>\n",
              "    <tr>\n",
              "      <th>4</th>\n",
              "      <td>Canada</td>\n",
              "      <td>177</td>\n",
              "    </tr>\n",
              "    <tr>\n",
              "      <th>5</th>\n",
              "      <td>Spain</td>\n",
              "      <td>134</td>\n",
              "    </tr>\n",
              "    <tr>\n",
              "      <th>6</th>\n",
              "      <td>France</td>\n",
              "      <td>115</td>\n",
              "    </tr>\n",
              "    <tr>\n",
              "      <th>7</th>\n",
              "      <td>Egypt</td>\n",
              "      <td>101</td>\n",
              "    </tr>\n",
              "    <tr>\n",
              "      <th>8</th>\n",
              "      <td>Turkey</td>\n",
              "      <td>100</td>\n",
              "    </tr>\n",
              "    <tr>\n",
              "      <th>9</th>\n",
              "      <td>Mexico</td>\n",
              "      <td>100</td>\n",
              "    </tr>\n",
              "    <tr>\n",
              "      <th>10</th>\n",
              "      <td>Canada,</td>\n",
              "      <td>82</td>\n",
              "    </tr>\n",
              "    <tr>\n",
              "      <th>11</th>\n",
              "      <td>Australia</td>\n",
              "      <td>82</td>\n",
              "    </tr>\n",
              "    <tr>\n",
              "      <th>12</th>\n",
              "      <td>France,</td>\n",
              "      <td>81</td>\n",
              "    </tr>\n",
              "    <tr>\n",
              "      <th>13</th>\n",
              "      <td>Taiwan</td>\n",
              "      <td>78</td>\n",
              "    </tr>\n",
              "  </tbody>\n",
              "</table>\n",
              "</div>"
            ],
            "text/plain": [
              "        index  principal_country\n",
              "0      United               3978\n",
              "1       India                923\n",
              "2       South                229\n",
              "3       Japan                225\n",
              "4      Canada                177\n",
              "5       Spain                134\n",
              "6      France                115\n",
              "7       Egypt                101\n",
              "8      Turkey                100\n",
              "9      Mexico                100\n",
              "10    Canada,                 82\n",
              "11  Australia                 82\n",
              "12    France,                 81\n",
              "13     Taiwan                 78"
            ]
          },
          "metadata": {
            "tags": []
          }
        },
        {
          "output_type": "display_data",
          "data": {
            "text/html": [
              "<html>\n",
              "<head><meta charset=\"utf-8\" /></head>\n",
              "<body>\n",
              "    <div>\n",
              "            <script src=\"https://cdnjs.cloudflare.com/ajax/libs/mathjax/2.7.5/MathJax.js?config=TeX-AMS-MML_SVG\"></script><script type=\"text/javascript\">if (window.MathJax) {MathJax.Hub.Config({SVG: {font: \"STIX-Web\"}});}</script>\n",
              "                <script type=\"text/javascript\">window.PlotlyConfig = {MathJaxConfig: 'local'};</script>\n",
              "        <script src=\"https://cdn.plot.ly/plotly-latest.min.js\"></script>    \n",
              "            <div id=\"e6b49aaf-b539-4f19-8226-53de8333d4fd\" class=\"plotly-graph-div\" style=\"height:525px; width:100%;\"></div>\n",
              "            <script type=\"text/javascript\">\n",
              "                \n",
              "                    window.PLOTLYENV=window.PLOTLYENV || {};\n",
              "                    \n",
              "                if (document.getElementById(\"e6b49aaf-b539-4f19-8226-53de8333d4fd\")) {\n",
              "                    Plotly.newPlot(\n",
              "                        'e6b49aaf-b539-4f19-8226-53de8333d4fd',\n",
              "                        [{\"domain\": {\"x\": [0.0, 1.0], \"y\": [0.0, 1.0]}, \"hoverlabel\": {\"namelength\": 0}, \"hovertemplate\": \"index=%{label}<br>principal_country=%{value}\", \"labels\": [\"United\", \"India\", \"South\", \"Japan\", \"Canada\", \"Spain\", \"France\", \"Egypt\", \"Turkey\", \"Mexico\", \"Canada,\", \"Australia\", \"France,\", \"Taiwan\"], \"legendgroup\": \"\", \"name\": \"\", \"showlegend\": true, \"type\": \"pie\", \"values\": [3978, 923, 229, 225, 177, 134, 115, 101, 100, 100, 82, 82, 81, 78]}],\n",
              "                        {\"legend\": {\"tracegroupgap\": 0}, \"margin\": {\"t\": 60}, \"template\": {\"data\": {\"bar\": [{\"error_x\": {\"color\": \"#2a3f5f\"}, \"error_y\": {\"color\": \"#2a3f5f\"}, \"marker\": {\"line\": {\"color\": \"#E5ECF6\", \"width\": 0.5}}, \"type\": \"bar\"}], \"barpolar\": [{\"marker\": {\"line\": {\"color\": \"#E5ECF6\", \"width\": 0.5}}, \"type\": \"barpolar\"}], \"carpet\": [{\"aaxis\": {\"endlinecolor\": \"#2a3f5f\", \"gridcolor\": \"white\", \"linecolor\": \"white\", \"minorgridcolor\": \"white\", \"startlinecolor\": \"#2a3f5f\"}, \"baxis\": {\"endlinecolor\": \"#2a3f5f\", \"gridcolor\": \"white\", \"linecolor\": \"white\", \"minorgridcolor\": \"white\", \"startlinecolor\": \"#2a3f5f\"}, \"type\": \"carpet\"}], \"choropleth\": [{\"colorbar\": {\"outlinewidth\": 0, \"ticks\": \"\"}, \"type\": \"choropleth\"}], \"contour\": [{\"colorbar\": {\"outlinewidth\": 0, \"ticks\": \"\"}, \"colorscale\": [[0.0, \"#0d0887\"], [0.1111111111111111, \"#46039f\"], [0.2222222222222222, \"#7201a8\"], [0.3333333333333333, \"#9c179e\"], [0.4444444444444444, \"#bd3786\"], [0.5555555555555556, \"#d8576b\"], [0.6666666666666666, \"#ed7953\"], [0.7777777777777778, \"#fb9f3a\"], [0.8888888888888888, \"#fdca26\"], [1.0, \"#f0f921\"]], \"type\": \"contour\"}], \"contourcarpet\": [{\"colorbar\": {\"outlinewidth\": 0, \"ticks\": \"\"}, \"type\": \"contourcarpet\"}], \"heatmap\": [{\"colorbar\": {\"outlinewidth\": 0, \"ticks\": \"\"}, \"colorscale\": [[0.0, \"#0d0887\"], [0.1111111111111111, \"#46039f\"], [0.2222222222222222, \"#7201a8\"], [0.3333333333333333, \"#9c179e\"], [0.4444444444444444, \"#bd3786\"], [0.5555555555555556, \"#d8576b\"], [0.6666666666666666, \"#ed7953\"], [0.7777777777777778, \"#fb9f3a\"], [0.8888888888888888, \"#fdca26\"], [1.0, \"#f0f921\"]], \"type\": \"heatmap\"}], \"heatmapgl\": [{\"colorbar\": {\"outlinewidth\": 0, \"ticks\": \"\"}, \"colorscale\": [[0.0, \"#0d0887\"], [0.1111111111111111, \"#46039f\"], [0.2222222222222222, \"#7201a8\"], [0.3333333333333333, \"#9c179e\"], [0.4444444444444444, \"#bd3786\"], [0.5555555555555556, \"#d8576b\"], [0.6666666666666666, \"#ed7953\"], [0.7777777777777778, \"#fb9f3a\"], [0.8888888888888888, \"#fdca26\"], [1.0, \"#f0f921\"]], \"type\": \"heatmapgl\"}], \"histogram\": [{\"marker\": {\"colorbar\": {\"outlinewidth\": 0, \"ticks\": \"\"}}, \"type\": \"histogram\"}], \"histogram2d\": [{\"colorbar\": {\"outlinewidth\": 0, \"ticks\": \"\"}, \"colorscale\": [[0.0, \"#0d0887\"], [0.1111111111111111, \"#46039f\"], [0.2222222222222222, \"#7201a8\"], [0.3333333333333333, \"#9c179e\"], [0.4444444444444444, \"#bd3786\"], [0.5555555555555556, \"#d8576b\"], [0.6666666666666666, \"#ed7953\"], [0.7777777777777778, \"#fb9f3a\"], [0.8888888888888888, \"#fdca26\"], [1.0, \"#f0f921\"]], \"type\": \"histogram2d\"}], \"histogram2dcontour\": [{\"colorbar\": {\"outlinewidth\": 0, \"ticks\": \"\"}, \"colorscale\": [[0.0, \"#0d0887\"], [0.1111111111111111, \"#46039f\"], [0.2222222222222222, \"#7201a8\"], [0.3333333333333333, \"#9c179e\"], [0.4444444444444444, \"#bd3786\"], [0.5555555555555556, \"#d8576b\"], [0.6666666666666666, \"#ed7953\"], [0.7777777777777778, \"#fb9f3a\"], [0.8888888888888888, \"#fdca26\"], [1.0, \"#f0f921\"]], \"type\": \"histogram2dcontour\"}], \"mesh3d\": [{\"colorbar\": {\"outlinewidth\": 0, \"ticks\": \"\"}, \"type\": \"mesh3d\"}], \"parcoords\": [{\"line\": {\"colorbar\": {\"outlinewidth\": 0, \"ticks\": \"\"}}, \"type\": \"parcoords\"}], \"pie\": [{\"automargin\": true, \"type\": \"pie\"}], \"scatter\": [{\"marker\": {\"colorbar\": {\"outlinewidth\": 0, \"ticks\": \"\"}}, \"type\": \"scatter\"}], \"scatter3d\": [{\"line\": {\"colorbar\": {\"outlinewidth\": 0, \"ticks\": \"\"}}, \"marker\": {\"colorbar\": {\"outlinewidth\": 0, \"ticks\": \"\"}}, \"type\": \"scatter3d\"}], \"scattercarpet\": [{\"marker\": {\"colorbar\": {\"outlinewidth\": 0, \"ticks\": \"\"}}, \"type\": \"scattercarpet\"}], \"scattergeo\": [{\"marker\": {\"colorbar\": {\"outlinewidth\": 0, \"ticks\": \"\"}}, \"type\": \"scattergeo\"}], \"scattergl\": [{\"marker\": {\"colorbar\": {\"outlinewidth\": 0, \"ticks\": \"\"}}, \"type\": \"scattergl\"}], \"scattermapbox\": [{\"marker\": {\"colorbar\": {\"outlinewidth\": 0, \"ticks\": \"\"}}, \"type\": \"scattermapbox\"}], \"scatterpolar\": [{\"marker\": {\"colorbar\": {\"outlinewidth\": 0, \"ticks\": \"\"}}, \"type\": \"scatterpolar\"}], \"scatterpolargl\": [{\"marker\": {\"colorbar\": {\"outlinewidth\": 0, \"ticks\": \"\"}}, \"type\": \"scatterpolargl\"}], \"scatterternary\": [{\"marker\": {\"colorbar\": {\"outlinewidth\": 0, \"ticks\": \"\"}}, \"type\": \"scatterternary\"}], \"surface\": [{\"colorbar\": {\"outlinewidth\": 0, \"ticks\": \"\"}, \"colorscale\": [[0.0, \"#0d0887\"], [0.1111111111111111, \"#46039f\"], [0.2222222222222222, \"#7201a8\"], [0.3333333333333333, \"#9c179e\"], [0.4444444444444444, \"#bd3786\"], [0.5555555555555556, \"#d8576b\"], [0.6666666666666666, \"#ed7953\"], [0.7777777777777778, \"#fb9f3a\"], [0.8888888888888888, \"#fdca26\"], [1.0, \"#f0f921\"]], \"type\": \"surface\"}], \"table\": [{\"cells\": {\"fill\": {\"color\": \"#EBF0F8\"}, \"line\": {\"color\": \"white\"}}, \"header\": {\"fill\": {\"color\": \"#C8D4E3\"}, \"line\": {\"color\": \"white\"}}, \"type\": \"table\"}]}, \"layout\": {\"annotationdefaults\": {\"arrowcolor\": \"#2a3f5f\", \"arrowhead\": 0, \"arrowwidth\": 1}, \"coloraxis\": {\"colorbar\": {\"outlinewidth\": 0, \"ticks\": \"\"}}, \"colorscale\": {\"diverging\": [[0, \"#8e0152\"], [0.1, \"#c51b7d\"], [0.2, \"#de77ae\"], [0.3, \"#f1b6da\"], [0.4, \"#fde0ef\"], [0.5, \"#f7f7f7\"], [0.6, \"#e6f5d0\"], [0.7, \"#b8e186\"], [0.8, \"#7fbc41\"], [0.9, \"#4d9221\"], [1, \"#276419\"]], \"sequential\": [[0.0, \"#0d0887\"], [0.1111111111111111, \"#46039f\"], [0.2222222222222222, \"#7201a8\"], [0.3333333333333333, \"#9c179e\"], [0.4444444444444444, \"#bd3786\"], [0.5555555555555556, \"#d8576b\"], [0.6666666666666666, \"#ed7953\"], [0.7777777777777778, \"#fb9f3a\"], [0.8888888888888888, \"#fdca26\"], [1.0, \"#f0f921\"]], \"sequentialminus\": [[0.0, \"#0d0887\"], [0.1111111111111111, \"#46039f\"], [0.2222222222222222, \"#7201a8\"], [0.3333333333333333, \"#9c179e\"], [0.4444444444444444, \"#bd3786\"], [0.5555555555555556, \"#d8576b\"], [0.6666666666666666, \"#ed7953\"], [0.7777777777777778, \"#fb9f3a\"], [0.8888888888888888, \"#fdca26\"], [1.0, \"#f0f921\"]]}, \"colorway\": [\"#636efa\", \"#EF553B\", \"#00cc96\", \"#ab63fa\", \"#FFA15A\", \"#19d3f3\", \"#FF6692\", \"#B6E880\", \"#FF97FF\", \"#FECB52\"], \"font\": {\"color\": \"#2a3f5f\"}, \"geo\": {\"bgcolor\": \"white\", \"lakecolor\": \"white\", \"landcolor\": \"#E5ECF6\", \"showlakes\": true, \"showland\": true, \"subunitcolor\": \"white\"}, \"hoverlabel\": {\"align\": \"left\"}, \"hovermode\": \"closest\", \"mapbox\": {\"style\": \"light\"}, \"paper_bgcolor\": \"white\", \"plot_bgcolor\": \"#E5ECF6\", \"polar\": {\"angularaxis\": {\"gridcolor\": \"white\", \"linecolor\": \"white\", \"ticks\": \"\"}, \"bgcolor\": \"#E5ECF6\", \"radialaxis\": {\"gridcolor\": \"white\", \"linecolor\": \"white\", \"ticks\": \"\"}}, \"scene\": {\"xaxis\": {\"backgroundcolor\": \"#E5ECF6\", \"gridcolor\": \"white\", \"gridwidth\": 2, \"linecolor\": \"white\", \"showbackground\": true, \"ticks\": \"\", \"zerolinecolor\": \"white\"}, \"yaxis\": {\"backgroundcolor\": \"#E5ECF6\", \"gridcolor\": \"white\", \"gridwidth\": 2, \"linecolor\": \"white\", \"showbackground\": true, \"ticks\": \"\", \"zerolinecolor\": \"white\"}, \"zaxis\": {\"backgroundcolor\": \"#E5ECF6\", \"gridcolor\": \"white\", \"gridwidth\": 2, \"linecolor\": \"white\", \"showbackground\": true, \"ticks\": \"\", \"zerolinecolor\": \"white\"}}, \"shapedefaults\": {\"line\": {\"color\": \"#2a3f5f\"}}, \"ternary\": {\"aaxis\": {\"gridcolor\": \"white\", \"linecolor\": \"white\", \"ticks\": \"\"}, \"baxis\": {\"gridcolor\": \"white\", \"linecolor\": \"white\", \"ticks\": \"\"}, \"bgcolor\": \"#E5ECF6\", \"caxis\": {\"gridcolor\": \"white\", \"linecolor\": \"white\", \"ticks\": \"\"}}, \"title\": {\"x\": 0.05}, \"xaxis\": {\"automargin\": true, \"gridcolor\": \"white\", \"linecolor\": \"white\", \"ticks\": \"\", \"title\": {\"standoff\": 15}, \"zerolinecolor\": \"white\", \"zerolinewidth\": 2}, \"yaxis\": {\"automargin\": true, \"gridcolor\": \"white\", \"linecolor\": \"white\", \"ticks\": \"\", \"title\": {\"standoff\": 15}, \"zerolinecolor\": \"white\", \"zerolinewidth\": 2}}}},\n",
              "                        {\"responsive\": true}\n",
              "                    ).then(function(){\n",
              "                            \n",
              "var gd = document.getElementById('e6b49aaf-b539-4f19-8226-53de8333d4fd');\n",
              "var x = new MutationObserver(function (mutations, observer) {{\n",
              "        var display = window.getComputedStyle(gd).display;\n",
              "        if (!display || display === 'none') {{\n",
              "            console.log([gd, 'removed!']);\n",
              "            Plotly.purge(gd);\n",
              "            observer.disconnect();\n",
              "        }}\n",
              "}});\n",
              "\n",
              "// Listen for the removal of the full notebook cells\n",
              "var notebookContainer = gd.closest('#notebook-container');\n",
              "if (notebookContainer) {{\n",
              "    x.observe(notebookContainer, {childList: true});\n",
              "}}\n",
              "\n",
              "// Listen for the clearing of the current output cell\n",
              "var outputEl = gd.closest('.output');\n",
              "if (outputEl) {{\n",
              "    x.observe(outputEl, {childList: true});\n",
              "}}\n",
              "\n",
              "                        })\n",
              "                };\n",
              "                \n",
              "            </script>\n",
              "        </div>\n",
              "</body>\n",
              "</html>"
            ]
          },
          "metadata": {
            "tags": []
          }
        }
      ]
    },
    {
      "cell_type": "code",
      "metadata": {
        "colab": {
          "base_uri": "https://localhost:8080/",
          "height": 542
        },
        "id": "l1X3bzgZ0FtL",
        "outputId": "60e7dba5-1742-4a98-e1c2-5c784637e413"
      },
      "source": [
        "#按國別分別顯示影集與歌劇的產出分布,使用歷史分布\n",
        "fig = px.histogram(data, x='principal_country')\n",
        "fig.update_xaxes(categoryorder='total descending')\n",
        "fig.show()"
      ],
      "execution_count": 149,
      "outputs": [
        {
          "output_type": "display_data",
          "data": {
            "text/html": [
              "<html>\n",
              "<head><meta charset=\"utf-8\" /></head>\n",
              "<body>\n",
              "    <div>\n",
              "            <script src=\"https://cdnjs.cloudflare.com/ajax/libs/mathjax/2.7.5/MathJax.js?config=TeX-AMS-MML_SVG\"></script><script type=\"text/javascript\">if (window.MathJax) {MathJax.Hub.Config({SVG: {font: \"STIX-Web\"}});}</script>\n",
              "                <script type=\"text/javascript\">window.PlotlyConfig = {MathJaxConfig: 'local'};</script>\n",
              "        <script src=\"https://cdn.plot.ly/plotly-latest.min.js\"></script>    \n",
              "            <div id=\"c2105799-5591-4cd1-9e5c-fcc829cbb7f2\" class=\"plotly-graph-div\" style=\"height:525px; width:100%;\"></div>\n",
              "            <script type=\"text/javascript\">\n",
              "                \n",
              "                    window.PLOTLYENV=window.PLOTLYENV || {};\n",
              "                    \n",
              "                if (document.getElementById(\"c2105799-5591-4cd1-9e5c-fcc829cbb7f2\")) {\n",
              "                    Plotly.newPlot(\n",
              "                        'c2105799-5591-4cd1-9e5c-fcc829cbb7f2',\n",
              "                        [{\"alignmentgroup\": \"True\", \"bingroup\": \"x\", \"hoverlabel\": {\"namelength\": 0}, \"hovertemplate\": \"principal_country=%{x}<br>count=%{y}\", \"legendgroup\": \"\", \"marker\": {\"color\": \"#636efa\"}, \"name\": \"\", \"offsetgroup\": \"\", \"orientation\": \"v\", \"showlegend\": false, \"type\": \"histogram\", \"x\": [\"Brazil\", \"Mexico\", \"Singapore\", \"United\", \"United\", \"Turkey\", \"Egypt\", \"United\", \"India\", \"India\", \"United\", \"Poland,\", \"Mexico\", \"Thailand\", \"United\", \"Nigeria\", \"United\", \"Norway,\", \"India\", \"United\", \"India\", \"India\", \"India\", \"India\", \"Japan\", \"United\", \"United\", \"South\", \"Italy\", \"United\", \"Canada\", \"Indonesia\", \"Indonesia\", \"United\", \"Canada\", \"United\", \"Romania\", \"Romania\", \"United\", \"Spain\", \"Turkey\", \"Iceland\", \"Turkey\", \"Nigeria\", \"United\", \"Turkey\", \"United\", \"United\", \"South\", \"France\", \"United\", \"South\", \"Spain\", \"United\", \"Portugal,\", \"United\", \"United\", \"Indonesia\", \"United\", \"India\", \"United\", \"South\", \"United\", \"United\", \"United\", \"United\", \"United\", \"United\", \"Hong\", \"United\", \"United\", \"United\", \"United\", \"Italy\", \"Spain\", \"United\", \"United\", \"France\", \"India\", \"United\", \"Turkey\", \"South\", \"United\", \"United\", \"United\", \"United\", \"India\", \"Canada\", \"United\", \"South\", \"India\", \"South\", \"Argentina\", \"United\", \"United\", \"South\", \"United\", \"United\", \"United\", \"Indonesia\", \"India\", \"Canada\", \"Germany\", \"Egypt\", \"United\", \"Denmark,\", \"Poland\", \"Japan\", \"United\", \"Kenya\", \"United\", \"Italy\", \"Spain\", \"Canada\", \"Spain\", \"United\", \"Nigeria\", \"United\", \"United\", \"Italy\", \"United\", \"United\", \"United\", \"Indonesia\", \"Romania\", \"United\", \"New\", \"United\", \"United\", \"India\", \"United\", \"United\", \"India\", \"Spain\", \"United\", \"Pakistan\", \"India\", \"Australia\", \"Australia\", \"Australia,\", \"Australia\", \"United\", \"United\", \"India\", \"Nigeria\", \"Australia\", \"Mexico,\", \"United\", \"United\", \"China,\", \"India\", \"United\", \"Taiwan\", \"United\", \"United\", \"United\", \"Turkey\", \"Taiwan\", \"Canada\", \"United\", \"United\", \"United\", \"France,\", \"United\", \"United\", \"United\", \"United\", \"United\", \"United\", \"Netherlands,\", \"Canada,\", \"United\", \"India\", \"Denmark\", \"United\", \"United\", \"United\", \"United\", \"United\", \"United\", \"Taiwan\", \"United\", \"United\", \"United\", \"United\", \"Germany\", \"United\", \"Hong\", \"Taiwan\", \"United\", \"United\", \"South\", \"France,\", \"United\", \"Argentina\", \"United\", \"United\", \"United\", \"China\", \"South\", \"United\", \"Philippines\", \"South\", \"France\", \"United\", \"United\", \"United\", \"United\", \"Brazil\", \"United\", \"United\", \"Netherlands\", \"United\", \"Germany\", \"United\", \"United\", \"United\", \"United\", \"Brazil\", \"Spain\", \"Canada\", \"India\", \"Philippines\", \"United\", \"Iran,\", \"United\", \"United\", \"United\", \"Japan\", \"United\", \"Argentina,\", \"United\", \"United\", \"United\", \"Taiwan\", \"Taiwan\", \"Israel,\", \"United\", \"United\", \"Taiwan\", \"United\", \"Taiwan\", \"United\", \"Nigeria\", \"India\", \"Uruguay,\", \"United\", \"United\", \"France\", \"Philippines\", \"United\", \"India\", \"United\", \"Japan\", \"Canada\", \"United\", \"United\", \"Singapore,\", \"United\", \"Japan\", \"Canada\", \"United\", \"Turkey\", \"India\", \"India\", \"India\", \"India\", \"India\", \"India\", \"India\", \"India\", \"India\", \"India\", \"India\", \"India\", \"United\", \"India\", \"India\", \"India\", \"Egypt\", \"United\", \"Pakistan\", \"India\", \"South\", \"United\", \"United\", \"United\", \"United\", \"United\", \"South\", \"Argentina\", \"Mexico\", \"Hong\", \"China\", \"United\", \"Canada\", \"United\", \"United\", \"Turkey,\", \"India\", \"Bulgaria,\", \"Canada\", \"France\", \"Spain\", \"United\", \"United\", \"United\", \"United\", \"France\", \"United\", \"India\", \"India\", \"Australia,\", \"Hong\", \"India\", \"United\", \"Canada,\", \"United\", \"United\", \"Brazil\", \"United\", \"Brazil\", \"United\", \"United\", \"United\", \"United\", \"United\", \"United\", \"United\", \"United\", \"United\", \"United\", \"Singapore\", \"United\", \"United\", \"United\", \"Taiwan\", \"Germany,\", \"Mauritius,\", \"India\", \"Japan\", \"Japan\", \"India\", \"Argentina\", \"India\", \"India\", \"United\", \"Japan\", \"Japan\", \"United\", \"United\", \"United\", \"India\", \"India\", \"India\", \"India\", \"United\", \"India\", \"United\", \"Japan\", \"India\", \"India\", \"Japan\", \"India\", \"United\", \"United\", \"Lebanon\", \"India\", \"United\", \"Mexico\", \"Egypt\", \"United\", \"India\", \"United\", \"Colombia\", \"Spain\", \"Uruguay,\", \"Mexico\", \"United\", \"United\", \"Egypt,\", \"France,\", \"Uruguay\", \"United\", \"Turkey\", \"United\", \"United\", \"Australia\", \"Canada\", \"United\", \"Soviet\", \"United\", \"Japan\", \"Brazil\", \"United\", \"United\", \"United\", \"United\", \"United\", \"United\", \"Sweden,\", \"South\", \"United\", \"United\", \"United\", \"Malaysia\", \"United\", \"Ireland,\", \"Colombia\", \"Spain,\", \"United\", \"United\", \"United\", \"United\", \"United\", \"Philippines\", \"United\", \"United\", \"United\", \"Mexico\", \"Brazil\", \"United\", \"Hong\", \"Germany\", \"United\", \"Argentina\", \"United\", \"United\", \"United\", \"Philippines\", \"United\", \"United\", \"United\", \"United\", \"United\", \"United\", \"United\", \"Japan,\", \"United\", \"Colombia\", \"Philippines\", \"Denmark,\", \"South\", \"Spain\", \"United\", \"India\", \"Egypt\", \"United\", \"United\", \"United\", \"United\", \"United\", \"United\", \"United\", \"United\", \"United\", \"United\", \"United\", \"United\", \"United\", \"United\", \"United\", \"United\", \"Canada\", \"Canada,\", \"United\", \"United\", \"United\", \"United\", \"United\", \"United\", \"United\", \"United\", \"United\", \"United\", \"United\", \"India\", \"Philippines\", \"Turkey\", \"India\", \"United\", \"United\", \"United\", \"India\", \"United\", \"United\", \"United\", \"United\", \"France\", \"Egypt\", \"United\", \"Egypt\", \"United\", \"Taiwan\", \"United\", \"Serbia,\", \"Colombia\", \"Egypt\", \"Brazil\", \"India\", \"India\", \"Spain\", \"Canada,\", \"United\", \"Iceland,\", \"Egypt\", \"India\", \"India\", \"United\", \"India\", \"Singapore\", \"France\", \"United\", \"India\", \"Taiwan\", \"Japan\", \"United\", \"United\", \"Ireland,\", \"United\", \"United\", \"United\", \"Finland\", \"India,\", \"United\", \"India\", \"United\", \"China,\", \"China\", \"Spain,\", \"Brazil\", \"India\", \"India\", \"India\", \"United\", \"India\", \"India\", \"United\", \"Canada\", \"Japan\", \"United\", \"Brazil,\", \"United\", \"South\", \"United\", \"United\", \"Egypt\", \"United\", \"United\", \"United\", \"India\", \"United\", \"United\", \"India\", \"Japan\", \"United\", \"Argentina\", \"Spain\", \"India\", \"United\", \"United\", \"United\", \"France,\", \"United\", \"France\", \"United\", \"Colombia\", \"Japan\", \"United\", \"India,\", \"France,\", \"Egypt\", \"United\", \"Netherlands\", \"South\", \"Iceland\", \"United\", \"United\", \"Indonesia\", \"India\", \"Canada,\", \"United\", \"United\", \"United\", \"South\", \"United\", \"United\", \"India\", \"Indonesia,\", \"United\", \"United\", \"India\", \"India\", \"United\", \"China\", \"Australia\", \"United\", \"India\", \"United\", \"Norway\", \"United\", \"United\", \"Peru\", \"India\", \"South\", \"United\", \"Canada\", \"Taiwan\", \"Japan\", \"United\", \"France,\", \"United\", \"United\", \"Canada,\", \"Japan\", \"United\", \"Chile\", \"United\", \"United\", \"Australia\", \"Romania,\", \"United\", \"Australia\", \"United\", \"United\", \"United\", \"India\", \"Bulgaria,\", \"Taiwan\", \"United\", \"United\", \"Indonesia\", \"United\", \"United\", \"Sweden,\", \"United\", \"United\", \"United\", \"United\", \"United\", \"India\", \"India\", \"India\", \"Mexico\", \"Ghana\", \"India\", \"United\", \"United\", \"United\", \"Japan\", \"India\", \"India\", \"India\", \"India\", \"India\", \"United\", \"United\", \"United\", \"India\", \"United\", \"United\", \"India\", \"Turkey\", \"Turkey\", \"France,\", \"United\", \"Italy\", \"United\", \"India\", \"South\", \"Germany\", \"India\", \"Brazil\", \"Australia\", \"Japan\", \"Taiwan\", \"United\", \"Thailand\", \"United\", \"Canada\", \"United\", \"United\", \"Australia,\", \"Canada\", \"India\", \"United\", \"United\", \"United\", \"United\", \"Thailand\", \"United\", \"South\", \"South\", \"Singapore,\", \"United\", \"France,\", \"India\", \"India\", \"India\", \"United\", \"United\", \"Japan\", \"United\", \"Japan,\", \"United\", \"Chile\", \"United\", \"United\", \"United\", \"Pakistan\", \"Turkey\", \"Nigeria\", \"United\", \"United\", \"United\", \"India\", \"Thailand\", \"India\", \"United\", \"Thailand\", \"Thailand\", \"United\", \"Thailand\", \"Thailand\", \"Thailand\", \"Thailand\", \"Spain\", \"India\", \"Saudi\", \"Germany\", \"Australia,\", \"United\", \"United\", \"United\", \"United\", \"United\", \"United\", \"United\", \"United\", \"United\", \"United\", \"United\", \"United\", \"United\", \"United\", \"United\", \"United\", \"Philippines\", \"India\", \"India\", \"United\", \"India\", \"Chile\", \"United\", \"India\", \"United\", \"United\", \"United\", \"Italy\", \"United\", \"India\", \"United\", \"United\", \"Norway,\", \"United\", \"United\", \"United\", \"United\", \"India\", \"Namibia\", \"Mexico,\", \"India\", \"India\", \"United\", \"United\", \"Taiwan\", \"Taiwan\", \"Russia\", \"Germany\", \"United\", \"United\", \"Canada\", \"Japan\", \"United\", \"Australia,\", \"Australia,\", \"South\", \"United\", \"Mexico\", \"Canada\", \"Philippines\", \"United\", \"United\", \"United\", \"Indonesia\", \"South\", \"Egypt\", \"United\", \"Mexico\", \"United\", \"United\", \"United\", \"United\", \"Nigeria\", \"United\", \"United\", \"United\", \"Egypt\", \"Japan,\", \"United\", \"United\", \"United\", \"United\", \"Turkey\", \"India\", \"United\", \"United\", \"United\", \"Nigeria\", \"United\", \"Lebanon\", \"Belgium,\", \"New\", \"United\", \"Uruguay,\", \"Canada\", \"United\", \"United\", \"United\", \"United\", \"United\", \"United\", \"United\", \"United\", \"United\", \"United\", \"Germany\", \"Turkey\", \"Australia\", \"Germany\", \"Germany\", \"Japan\", \"Japan\", \"Japan\", \"United\", \"United\", \"United\", \"United\", \"South\", \"United\", \"United\", \"Canada\", \"United\", \"United\", \"India\", \"United\", \"United\", \"Russia\", \"United\", \"United\", \"Canada\", \"Philippines\", \"United\", \"Spain\", \"India\", \"Egypt\", \"Japan\", \"United\", \"Japan\", \"United\", \"Japan\", \"Turkey\", \"United\", \"United\", \"United\", \"United\", \"India,\", \"India\", \"India\", \"India\", \"India\", \"India\", \"India\", \"India\", \"India\", \"India\", \"India\", \"United\", \"India\", \"India\", \"India\", \"India\", \"Germany\", \"Germany\", \"Germany\", \"Germany\", \"United\", \"United\", \"United\", \"United\", \"United\", \"United\", \"United\", \"United\", \"United\", \"United\", \"Denmark\", \"United\", \"France\", \"United\", \"United\", \"United\", \"United\", \"United\", \"United\", \"United\", \"United\", \"United\", \"United\", \"United\", \"United\", \"United\", \"United\", \"United\", \"India\", \"United\", \"United\", \"United\", \"India\", \"Germany\", \"India\", \"Turkey,\", \"United\", \"United\", \"Philippines,\", \"Canada\", \"United\", \"Vietnam\", \"Canada\", \"Spain\", \"Egypt\", \"India\", \"India\", \"Ireland,\", \"United\", \"Japan\", \"Saudi\", \"United\", \"India\", \"United\", \"Turkey\", \"United\", \"United\", \"Spain\", \"United\", \"United\", \"Turkey\", \"United\", \"Russia,\", \"United\", \"United\", \"United\", \"Argentina,\", \"France,\", \"Canada,\", \"United\", \"United\", \"United\", \"Japan\", \"United\", \"Japan\", \"Japan\", \"Japan\", \"Japan\", \"United\", \"Germany,\", \"France\", \"Hong\", \"United\", \"Australia,\", \"South\", \"France\", \"Thailand\", \"South\", \"France\", \"India\", \"United\", \"Brazil\", \"Argentina,\", \"United\", \"Norway\", \"United\", \"Canada\", \"Japan\", \"France,\", \"United\", \"United\", \"United\", \"United\", \"United\", \"Germany,\", \"United\", \"India\", \"Canada\", \"Japan\", \"Thailand\", \"United\", \"United\", \"Canada\", \"United\", \"United\", \"Canada\", \"Denmark,\", \"United\", \"India\", \"India\", \"United\", \"United\", \"Ireland,\", \"United\", \"India\", \"India\", \"Spain\", \"United\", \"United\", \"United\", \"Colombia\", \"India\", \"United\", \"Spain\", \"United\", \"India\", \"New\", \"United\", \"Netherlands\", \"Canada\", \"Canada\", \"Australia\", \"United\", \"United\", \"Sweden\", \"Russia\", \"United\", \"India\", \"United\", \"Canada\", \"United\", \"Norway,\", \"Finland,\", \"Denmark\", \"Brazil\", \"Philippines\", \"Spain\", \"Denmark,\", \"New\", \"United\", \"United\", \"India\", \"Lebanon\", \"United\", \"United\", \"Canada,\", \"Singapore\", \"Egypt\", \"Brazil\", \"United\", \"Spain\", \"Bulgaria,\", \"South\", \"United\", \"India,\", \"United\", \"United\", \"United\", \"United\", \"United\", \"Canada,\", \"United\", \"United\", \"Canada\", \"United\", \"United\", \"France,\", \"United\", \"India\", \"Hong\", \"United\", \"United\", \"India\", \"United\", \"United\", \"Australia\", \"United\", \"United\", \"United\", \"United\", \"Philippines\", \"Indonesia\", \"United\", \"United\", \"United\", \"United\", \"India\", \"South\", \"United\", \"United\", \"United\", \"United\", \"Taiwan\", \"United\", \"France\", \"Turkey\", \"United\", \"Brazil\", \"China\", \"India,\", \"United\", \"Canada\", \"Canada\", \"Canada\", \"India\", \"France,\", \"United\", \"United\", \"Brazil\", \"United\", \"United\", \"India\", \"Indonesia,\", \"Netherlands,\", \"India\", \"India\", \"Bulgaria,\", \"United\", \"United\", \"United\", \"United\", \"United\", \"United\", \"United\", \"United\", \"France,\", \"Turkey\", \"South\", \"United\", \"United\", \"United\", \"United\", \"South\", \"United\", \"United\", \"Philippines\", \"Philippines,\", \"France,\", \"Kuwait\", \"Turkey\", \"India\", \"India\", \"Belgium,\", \"United\", \"United\", \"Spain\", \"Norway\", \"Japan\", \"Indonesia\", \"Argentina\", \"South\", \"Egypt\", \"United\", \"India\", \"United\", \"United\", \"United\", \"United\", \"United\", \"United\", \"Sweden\", \"Italy\", \"France\", \"United\", \"United\", \"United\", \"United\", \"Spain\", \"Mexico,\", \"United\", \"United\", \"Canada\", \"United\", \"South\", \"Canada\", \"Ireland\", \"United\", \"Philippines\", \"Egypt\", \"United\", \"Taiwan\", \"India\", \"United\", \"France\", \"United\", \"United\", \"France,\", \"India\", \"United\", \"United\", \"United\", \"United\", \"France,\", \"Ireland\", \"Japan\", \"United\", \"United\", \"India\", \"Philippines\", \"India\", \"United\", \"Mexico\", \"Mexico\", \"Argentina\", \"United\", \"Canada,\", \"United\", \"Japan\", \"United\", \"United\", \"United\", \"United\", \"France\", \"Iceland\", \"United\", \"Japan\", \"United\", \"Hong\", \"Hong\", \"United\", \"Nigeria\", \"United\", \"United\", \"United\", \"United\", \"South\", \"China,\", \"United\", \"Spain\", \"United\", \"Canada\", \"United\", \"Norway\", \"United\", \"United\", \"Japan\", \"India\", \"Indonesia\", \"United\", \"India\", \"India\", \"India\", \"India\", \"India\", \"India\", \"Pakistan\", \"United\", \"India\", \"India\", \"India\", \"United\", \"India\", \"United\", \"India\", \"Germany,\", \"United\", \"Indonesia\", \"United\", \"South\", \"Germany\", \"United\", \"United\", \"United\", \"United\", \"United\", \"United\", \"United\", \"Canada,\", \"India\", \"India\", \"United\", \"United\", \"United\", \"Canada\", \"Hong\", \"United\", \"Brazil\", \"India,\", \"Australia\", \"Indonesia\", \"United\", \"United\", \"United\", \"South\", \"United\", \"South\", \"United\", \"United\", \"United\", \"United\", \"United\", \"United\", \"United\", \"India\", \"United\", \"United\", \"United\", \"United\", \"India\", \"India\", \"United\", \"United\", \"United\", \"United\", \"India\", \"South\", \"India\", \"United\", \"United\", \"United\", \"United\", \"Nigeria\", \"South\", \"United\", \"Lebanon\", \"United\", \"Japan\", \"Japan\", \"United\", \"India\", \"United\", \"China\", \"United\", \"United\", \"India\", \"United\", \"United\", \"United\", \"South\", \"United\", \"India\", \"India\", \"China\", \"United\", \"United\", \"United\", \"United\", \"United\", \"United\", \"United\", \"United\", \"United\", \"United\", \"United\", \"United\", \"Germany\", \"Canada,\", \"United\", \"United\", \"United\", \"United\", \"Canada\", \"Canada\", \"Canada\", \"United\", \"United\", \"United\", \"Argentina\", \"United\", \"India\", \"United\", \"United\", \"United\", \"United\", \"Malaysia\", \"India\", \"Pakistan\", \"India\", \"United\", \"India\", \"Turkey\", \"South\", \"United\", \"United\", \"United\", \"United\", \"United\", \"United\", \"United\", \"Nigeria\", \"Taiwan,\", \"United\", \"Brazil,\", \"Brazil\", \"United\", \"United\", \"United\", \"Turkey,\", \"Japan\", \"United\", \"United\", \"United\", \"India\", \"United\", \"India\", \"Spain\", \"United\", \"Australia,\", \"United\", \"United\", \"United\", \"United\", \"United\", \"France,\", \"Taiwan\", \"United\", \"Germany,\", \"France,\", \"United\", \"United\", \"United\", \"Mexico,\", \"United\", \"United\", \"United\", \"United\", \"United\", \"United\", \"United\", \"Mexico\", \"United\", \"United\", \"United\", \"United\", \"Spain\", \"Mexico\", \"United\", \"United\", \"Canada\", \"Japan\", \"France,\", \"United\", \"United\", \"Italy,\", \"India\", \"United\", \"United\", \"United\", \"Nigeria\", \"South\", \"United\", \"United\", \"United\", \"India\", \"United\", \"India\", \"Germany,\", \"United\", \"South\", \"India\", \"Canada,\", \"United\", \"United\", \"United\", \"United\", \"United\", \"United\", \"United\", \"Mexico\", \"India\", \"United\", \"United\", \"Czech\", \"United\", \"Vietnam\", \"United\", \"Ireland\", \"Turkey\", \"Turkey\", \"United\", \"United\", \"India\", \"Mexico\", \"United\", \"United\", \"Zimbabwe\", \"United\", \"United\", \"United\", \"United\", \"Canada\", \"United\", \"United\", \"United\", \"United\", \"United\", \"Netherlands\", \"United\", \"Canada\", \"United\", \"United\", \"Nigeria\", \"Brazil\", \"Australia\", \"United\", \"United\", \"United\", \"United\", \"United\", \"United\", \"South\", \"United\", \"Indonesia\", \"Philippines\", \"United\", \"United\", \"Nigeria\", \"Nigeria\", \"United\", \"India\", \"United\", \"Argentina\", \"United\", \"United\", \"United\", \"India\", \"Mexico\", \"Mexico\", \"France\", \"United\", \"United\", \"Germany\", \"Spain\", \"United\", \"United\", \"United\", \"United\", \"Malaysia\", \"Taiwan,\", \"China,\", \"United\", \"United\", \"Philippines\", \"United\", \"United\", \"Canada,\", \"Italy\", \"United\", \"Hungary\", \"United\", \"United\", \"France\", \"Japan,\", \"Japan\", \"India\", \"United\", \"United\", \"United\", \"United\", \"Turkey\", \"Turkey\", \"United\", \"Australia\", \"India\", \"Turkey\", \"Turkey\", \"Turkey\", \"United\", \"Mexico\", \"United\", \"United\", \"United\", \"Argentina\", \"India\", \"United\", \"United\", \"United\", \"United\", \"United\", \"Australia\", \"Germany,\", \"United\", \"United\", \"United\", \"Germany\", \"United\", \"Mexico\", \"India\", \"United\", \"United\", \"United\", \"United\", \"United\", \"Mexico\", \"Mexico\", \"United\", \"United\", \"Indonesia\", \"France\", \"United\", \"United\", \"Ireland\", \"Germany,\", \"India\", \"United\", \"Mexico\", \"Mexico\", \"United\", \"Canada\", \"United\", \"United\", \"New\", \"Egypt\", \"India\", \"India\", \"India\", \"United\", \"United\", \"Brazil\", \"United\", \"United\", \"United\", \"United\", \"United\", \"United\", \"United\", \"Sweden\", \"United\", \"United\", \"Canada\", \"United\", \"United\", \"United\", \"China\", \"Bulgaria\", \"United\", \"Taiwan\", \"United\", \"United\", \"United\", \"Netherlands\", \"United\", \"United\", \"Philippines,\", \"United\", \"United\", \"United\", \"India\", \"United\", \"United\", \"Finland,\", \"United\", \"United\", \"India\", \"United\", \"Taiwan\", \"South\", \"Canada\", \"United\", \"India\", \"United\", \"United\", \"Colombia\", \"United\", \"United\", \"United\", \"United\", \"United\", \"United\", \"Turkey\", \"India\", \"Spain,\", \"United\", \"Australia\", \"India\", \"India\", \"United\", \"United\", \"United\", \"Canada\", \"United\", \"India\", \"India\", \"India\", \"Turkey\", \"Turkey\", \"United\", \"United\", \"United\", \"United\", \"Denmark,\", \"United\", \"United\", \"United\", \"United\", \"United\", \"United\", \"United\", \"United\", \"United\", \"United\", \"United\", \"United\", \"United\", \"South\", \"Argentina\", \"United\", \"United\", \"United\", \"Argentina,\", \"Spain\", \"France,\", \"Taiwan\", \"Egypt\", \"United\", \"United\", \"India\", \"United\", \"Finland,\", \"Canada\", \"Japan\", \"India\", \"India\", \"United\", \"India\", \"United\", \"India\", \"India\", \"India\", \"India\", \"Malaysia\", \"India\", \"India\", \"China,\", \"Mexico\", \"United\", \"United\", \"China\", \"United\", \"United\", \"United\", \"France,\", \"United\", \"United\", \"South\", \"Germany\", \"United\", \"United\", \"India\", \"India\", \"India\", \"India\", \"India\", \"India\", \"Indonesia\", \"Indonesia\", \"India\", \"United\", \"United\", \"United\", \"Canada\", \"Japan\", \"United\", \"United\", \"United\", \"United\", \"Egypt\", \"Hong\", \"United\", \"India\", \"Kenya\", \"United\", \"United\", \"United\", \"United\", \"South\", \"United\", \"France,\", \"Brazil\", \"United\", \"France,\", \"South\", \"India\", \"India\", \"United\", \"United\", \"United\", \"United\", \"United\", \"Germany\", \"United\", \"Lebanon\", \"India\", \"United\", \"United\", \"United\", \"United\", \"United\", \"Denmark,\", \"India\", \"India,\", \"United\", \"United\", \"United\", \"France\", \"France\", \"France\", \"United\", \"Hong\", \"Hong\", \"United\", \"United\", \"United\", \"Spain\", \"United\", \"United\", \"United\", \"United\", \"United\", \"India\", \"United\", \"India\", \"Japan\", \"India,\", \"Brazil\", \"United\", \"China\", \"Hong\", \"United\", \"Russia,\", \"United\", \"United\", \"United\", \"United\", \"France,\", \"United\", \"United\", \"Japan\", \"Japan\", \"Hong\", \"United\", \"United\", \"United\", \"United\", \"United\", \"United\", \"United\", \"United\", \"United\", \"United\", \"United\", \"United\", \"United\", \"United\", \"United\", \"Germany\", \"United\", \"United\", \"United\", \"United\", \"United\", \"United\", \"United\", \"United\", \"United\", \"United\", \"Germany,\", \"Japan\", \"Hong\", \"India\", \"India\", \"United\", \"United\", \"United\", \"Spain\", \"United\", \"United\", \"Chile,\", \"Japan\", \"United\", \"China,\", \"United\", \"United\", \"Pakistan,\", \"India\", \"United\", \"United\", \"India\", \"India\", \"Japan\", \"United\", \"Spain\", \"United\", \"United\", \"United\", \"France,\", \"United\", \"Brazil\", \"United\", \"United\", \"United\", \"United\", \"United\", \"United\", \"United\", \"Taiwan\", \"United\", \"India\", \"United\", \"United\", \"United\", \"United\", \"United\", \"United\", \"United\", \"United\", \"Argentina\", \"Brazil\", \"Italy\", \"India\", \"India\", \"Philippines,\", \"United\", \"Indonesia\", \"India\", \"France\", \"Egypt\", \"India\", \"India\", \"India\", \"India\", \"India\", \"India\", \"Turkey\", \"United\", \"Spain\", \"United\", \"United\", \"Colombia\", \"Colombia\", \"Mexico,\", \"Mexico\", \"Venezuela\", \"United\", \"Spain\", \"Mexico\", \"United\", \"Mexico\", \"Mexico\", \"Spain\", \"United\", \"Argentina\", \"Argentina,\", \"United\", \"Chile\", \"United\", \"Colombia\", \"Mexico\", \"Colombia,\", \"United\", \"United\", \"Egypt\", \"India\", \"Brazil,\", \"Netherlands\", \"Nigeria\", \"United\", \"United\", \"United\", \"Spain\", \"Spain\", \"United\", \"United\", \"United\", \"France\", \"United\", \"United\", \"Canada\", \"United\", \"United\", \"India\", \"Brazil\", \"United\", \"United\", \"Indonesia\", \"Australia\", \"United\", \"Czech\", \"Canada,\", \"United\", \"United\", \"India\", \"United\", \"United\", \"United\", \"United\", \"Canada,\", \"India\", \"India\", \"Germany\", \"United\", \"United\", \"South\", \"Canada\", \"United\", \"Hong\", \"France,\", \"United\", \"United\", \"United\", \"United\", \"Denmark,\", \"Japan\", \"United\", \"United\", \"Spain,\", \"United\", \"Poland\", \"Egypt\", \"United\", \"Argentina\", \"Mexico\", \"China\", \"India\", \"Turkey\", \"Egypt\", \"Italy\", \"United\", \"United\", \"United\", \"Japan\", \"Spain\", \"United\", \"Spain,\", \"India\", \"United\", \"Canada\", \"United\", \"Spain,\", \"Philippines\", \"United\", \"Philippines\", \"United\", \"United\", \"United\", \"United\", \"India\", \"United\", \"China\", \"Spain\", \"United\", \"United\", \"Philippines\", \"United\", \"Norway\", \"United\", \"United\", \"United\", \"Germany\", \"Japan\", \"United\", \"United\", \"United\", \"United\", \"South\", \"United\", \"United\", \"United\", \"United\", \"Spain,\", \"Turkey\", \"Turkey\", \"Turkey\", \"Turkey\", \"United\", \"United\", \"United\", \"United\", \"Chile\", \"India\", \"United\", \"France\", \"Japan\", \"United\", \"United\", \"Singapore\", \"India\", \"United\", \"Taiwan\", \"United\", \"Sweden\", \"United\", \"Mexico,\", \"United\", \"South\", \"Germany\", \"United\", \"France\", \"United\", \"India\", \"United\", \"United\", \"Poland\", \"India\", \"Canada\", \"Philippines\", \"Australia\", \"Egypt\", \"Russia\", \"France\", \"France\", \"India\", \"United\", \"United\", \"United\", \"United\", \"United\", \"Japan\", \"Japan\", \"Japan\", \"Japan\", \"Japan\", \"United\", \"United\", \"United\", \"India\", \"Israel\", \"United\", \"United\", \"India\", \"Canada\", \"United\", \"United\", \"United\", \"United\", \"United\", \"Brazil\", \"Germany\", \"United\", \"Colombia\", \"Argentina\", \"India\", \"United\", \"India\", \"United\", \"Poland\", \"Nigeria\", \"United\", \"Nigeria\", \"United\", \"United\", \"United\", \"Turkey\", \"United\", \"Indonesia\", \"United\", \"United\", \"United\", \"Japan\", \"Philippines\", \"United\", \"Philippines\", \"Italy,\", \"United\", \"United\", \"India\", \"India\", \"India\", \"United\", \"United\", \"United\", \"Japan\", \"United\", \"United\", \"United\", \"Netherlands\", \"Philippines\", \"United\", \"United\", \"Cambodia,\", \"United\", \"United\", \"United\", \"United\", \"Brazil\", \"United\", \"India\", \"United\", \"United\", \"Hong\", \"United\", \"United\", \"India\", \"United\", \"Canada,\", \"China\", \"China,\", \"Egypt\", \"United\", \"United\", \"United\", \"United\", \"South\", \"United\", \"Hong\", \"United\", \"United\", \"Japan\", \"Argentina,\", \"Japan\", \"United\", \"United\", \"Spain\", \"United\", \"United\", \"Mexico\", \"United\", \"United\", \"United\", \"Philippines\", \"United\", \"Canada,\", \"United\", \"Spain\", \"United\", \"United\", \"India\", \"United\", \"India\", \"United\", \"Japan\", \"Brazil\", \"United\", \"United\", \"United\", \"Italy,\", \"South\", \"United\", \"United\", \"United\", \"Germany,\", \"Spain,\", \"Philippines\", \"United\", \"United\", \"United\", \"United\", \"United\", \"Italy\", \"Mexico\", \"Mexico\", \"United\", \"United\", \"Germany\", \"United\", \"United\", \"United\", \"United\", \"Germany\", \"United\", \"United\", \"United\", \"United\", \"United\", \"United\", \"United\", \"United\", \"United\", \"United\", \"United\", \"Egypt\", \"United\", \"South\", \"United\", \"United\", \"Austria,\", \"United\", \"United\", \"Germany\", \"United\", \"India\", \"United\", \"United\", \"Egypt\", \"United\", \"France,\", \"United\", \"United\", \"Canada\", \"United\", \"United\", \"United\", \"United\", \"United\", \"Spain\", \"India\", \"United\", \"India\", \"United\", \"Canada,\", \"United\", \"United\", \"Japan\", \"Japan\", \"United\", \"France,\", \"United\", \"Canada,\", \"Vietnam\", \"United\", \"United\", \"United\", \"Italy,\", \"United\", \"Turkey\", \"Turkey\", \"India\", \"United\", \"United\", \"Brazil,\", \"United\", \"India\", \"United\", \"France\", \"India\", \"United\", \"Russia\", \"United\", \"Indonesia\", \"India\", \"United\", \"Egypt\", \"United\", \"India,\", \"United\", \"United\", \"Taiwan\", \"United\", \"France\", \"India\", \"India\", \"United\", \"Japan\", \"India\", \"Kenya,\", \"United\", \"United\", \"South\", \"United\", \"Japan\", \"United\", \"Indonesia\", \"Indonesia\", \"Taiwan\", \"Nigeria\", \"Japan,\", \"India\", \"India\", \"United\", \"United\", \"United\", \"United\", \"India\", \"United\", \"United\", \"United\", \"Sweden\", \"United\", \"United\", \"United\", \"Italy,\", \"United\", \"United\", \"France,\", \"United\", \"United\", \"United\", \"United\", \"United\", \"Spain\", \"United\", \"Lebanon\", \"India\", \"India\", \"Thailand,\", \"Japan,\", \"United\", \"Japan\", \"Canada\", \"United\", \"India\", \"Japan\", \"United\", \"Japan\", \"United\", \"United\", \"India\", \"India\", \"Indonesia\", \"United\", \"United\", \"United\", \"United\", \"United\", \"France\", \"United\", \"United\", \"United\", \"India\", \"United\", \"Netherlands,\", \"Thailand\", \"United\", \"Philippines\", \"Taiwan\", \"United\", \"United\", \"United\", \"United\", \"India\", \"United\", \"Japan\", \"Japan\", \"France,\", \"United\", \"United\", \"Australia\", \"United\", \"Japan\", \"Japan\", \"United\", \"United\", \"United\", \"United\", \"United\", \"Australia\", \"United\", \"United\", \"Argentina\", \"Argentina\", \"United\", \"Japan\", \"United\", \"China,\", \"United\", \"United\", \"United\", \"United\", \"Japan\", \"Japan\", \"Japan\", \"South\", \"Australia\", \"India\", \"Japan\", \"United\", \"United\", \"United\", \"Australia\", \"India\", \"India\", \"India\", \"Italy,\", \"United\", \"Turkey\", \"Egypt\", \"United\", \"Turkey\", \"United\", \"United\", \"United\", \"United\", \"United\", \"Egypt\", \"United\", \"Japan\", \"Brazil\", \"United\", \"United\", \"United\", \"United\", \"United\", \"South\", \"United\", \"United\", \"United\", \"United\", \"Canada\", \"Canada\", \"United\", \"India\", \"Spain,\", \"United\", \"United\", \"United\", \"United\", \"India\", \"Philippines\", \"United\", \"South\", \"Germany,\", \"Japan\", \"United\", \"United\", \"Spain\", \"India\", \"United\", \"India\", \"United\", \"United\", \"United\", \"United\", \"United\", \"United\", \"United\", \"Japan\", \"United\", \"United\", \"United\", \"Taiwan\", \"United\", \"Colombia\", \"United\", \"Nigeria\", \"United\", \"United\", \"United\", \"Argentina\", \"United\", \"Canada\", \"Italy\", \"United\", \"Canada\", \"France\", \"United\", \"United\", \"Uruguay,\", \"United\", \"Argentina\", \"India\", \"India\", \"Spain,\", \"Canada\", \"India\", \"India\", \"India\", \"Japan\", \"India\", \"United\", \"United\", \"India\", \"United\", \"France\", \"Chile\", \"Turkey\", \"Turkey\", \"Australia\", \"Germany,\", \"United\", \"India\", \"India\", \"Indonesia,\", \"Spain\", \"Turkey\", \"India\", \"Japan\", \"United\", \"United\", \"United\", \"United\", \"Nigeria\", \"United\", \"India\", \"India\", \"United\", \"United\", \"United\", \"India\", \"United\", \"India\", \"Egypt\", \"Ireland\", \"China\", \"United\", \"United\", \"United\", \"United\", \"Australia\", \"Australia\", \"United\", \"United\", \"Netherlands\", \"United\", \"Malaysia\", \"United\", \"Taiwan\", \"South\", \"United\", \"Italy,\", \"India\", \"United\", \"United\", \"India\", \"Thailand\", \"Mexico\", \"United\", \"United\", \"United\", \"India\", \"India\", \"United\", \"United\", \"United\", \"Russia,\", \"Ireland\", \"United\", \"India\", \"United\", \"United\", \"United\", \"United\", \"United\", \"United\", \"United\", \"Malaysia\", \"United\", \"United\", \"United\", \"India\", \"United\", \"United\", \"India\", \"India\", \"Israel\", \"India\", \"Mexico\", \"United\", \"United\", \"Indonesia\", \"India\", \"United\", \"United\", \"United\", \"United\", \"United\", \"United\", \"Australia\", \"Canada,\", \"United\", \"India\", \"Turkey\", \"Ireland,\", \"India,\", \"Germany\", \"France,\", \"United\", \"Canada\", \"United\", \"United\", \"Australia\", \"Indonesia\", \"United\", \"France,\", \"United\", \"United\", \"Australia\", \"United\", \"Canada\", \"United\", \"Lebanon\", \"South\", \"Canada\", \"United\", \"France,\", \"Argentina\", \"Hong\", \"United\", \"United\", \"Canada,\", \"United\", \"United\", \"India\", \"United\", \"Philippines\", \"South\", \"United\", \"United\", \"Philippines\", \"United\", \"United\", \"Colombia\", \"United\", \"India\", \"United\", \"China\", \"Lebanon,\", \"Hong\", \"United\", \"Spain\", \"United\", \"India\", \"Denmark\", \"United\", \"South\", \"Japan\", \"Japan\", \"United\", \"United\", \"South\", \"Egypt\", \"India\", \"China\", \"Japan\", \"Japan\", \"Japan\", \"Japan\", \"United\", \"India\", \"United\", \"United\", \"United\", \"Spain\", \"South\", \"Romania,\", \"Thailand\", \"Australia\", \"India\", \"Canada\", \"United\", \"Japan\", \"United\", \"United\", \"India\", \"United\", \"Canada\", \"United\", \"United\", \"India,\", \"Argentina\", \"United\", \"United\", \"India\", \"United\", \"Australia\", \"United\", \"United\", \"West\", \"United\", \"United\", \"France\", \"Denmark\", \"Pakistan\", \"United\", \"United\", \"United\", \"Turkey\", \"United\", \"Australia\", \"South\", \"United\", \"United\", \"United\", \"United\", \"Germany\", \"United\", \"United\", \"United\", \"Spain\", \"United\", \"Spain\", \"United\", \"Thailand\", \"Thailand\", \"India\", \"Norway\", \"United\", \"United\", \"United\", \"United\", \"United\", \"Chile,\", \"Canada\", \"United\", \"United\", \"India\", \"United\", \"Hong\", \"United\", \"United\", \"United\", \"United\", \"India\", \"Thailand,\", \"United\", \"United\", \"Thailand\", \"United\", \"United\", \"United\", \"United\", \"India\", \"United\", \"South\", \"Ireland,\", \"United\", \"United\", \"United\", \"United\", \"Japan\", \"United\", \"United\", \"United\", \"United\", \"Turkey\", \"Belgium\", \"Germany,\", \"Poland,\", \"United\", \"United\", \"India\", \"United\", \"United\", \"United\", \"United\", \"Slovenia,\", \"United\", \"United\", \"United\", \"United\", \"Mexico,\", \"United\", \"Canada,\", \"United\", \"United\", \"Peru\", \"United\", \"United\", \"South\", \"Germany\", \"United\", \"United\", \"United\", \"United\", \"India\", \"United\", \"United\", \"United\", \"United\", \"India\", \"India\", \"United\", \"India\", \"India\", \"Pakistan\", \"United\", \"New\", \"Canada\", \"Indonesia,\", \"Japan\", \"United\", \"India\", \"United\", \"United\", \"United\", \"United\", \"India\", \"United\", \"United\", \"South\", \"South\", \"United\", \"United\", \"United\", \"Argentina\", \"India,\", \"United\", \"United\", \"United\", \"United\", \"United\", \"France\", \"India\", \"United\", \"Mexico\", \"United\", \"Australia\", \"France\", \"China\", \"United\", \"Switzerland,\", \"China,\", \"Canada,\", \"United\", \"United\", \"Australia\", \"United\", \"Sweden,\", \"United\", \"United\", \"United\", \"Thailand\", \"India\", \"United\", \"United\", \"France\", \"Spain\", \"United\", \"United\", \"United\", \"United\", \"United\", \"United\", \"United\", \"United\", \"Mexico,\", \"United\", \"United\", \"United\", \"South\", \"United\", \"United\", \"United\", \"China\", \"Canada,\", \"China,\", \"Japan\", \"India\", \"United\", \"United\", \"Spain\", \"United\", \"United\", \"India\", \"United\", \"United\", \"United\", \"United\", \"United\", \"South\", \"United\", \"India\", \"United\", \"France\", \"South\", \"Turkey\", \"Singapore\", \"United\", \"United\", \"United\", \"Taiwan\", \"United\", \"United\", \"Spain\", \"Thailand\", \"United\", \"Nigeria\", \"United\", \"Kuwait\", \"United\", \"Kuwait\", \"United\", \"United\", \"France,\", \"United\", \"Canada,\", \"Japan\", \"Taiwan\", \"United\", \"United\", \"Turkey\", \"Serbia,\", \"India\", \"United\", \"United\", \"United\", \"India\", \"United\", \"Canada\", \"United\", \"United\", \"United\", \"United\", \"United\", \"United\", \"United\", \"United\", \"Germany,\", \"Mexico\", \"Japan\", \"South\", \"Thailand\", \"France\", \"China,\", \"United\", \"India\", \"Germany,\", \"India\", \"Turkey\", \"India\", \"United\", \"United\", \"United\", \"United\", \"United\", \"United\", \"Israel\", \"United\", \"United\", \"United\", \"Canada,\", \"United\", \"Australia\", \"Mexico\", \"Canada\", \"United\", \"United\", \"India\", \"Turkey\", \"United\", \"United\", \"Canada\", \"United\", \"Belgium\", \"United\", \"Argentina\", \"Japan\", \"Japan\", \"Japan\", \"Japan\", \"Japan\", \"South\", \"United\", \"Argentina,\", \"Canada\", \"South\", \"United\", \"Hong\", \"Hong\", \"China,\", \"Hong\", \"India\", \"India\", \"South\", \"United\", \"Australia\", \"Taiwan\", \"United\", \"Canada,\", \"Finland,\", \"United\", \"Japan\", \"India,\", \"Philippines\", \"India\", \"India\", \"India\", \"Germany\", \"Indonesia\", \"United\", \"Nigeria\", \"South\", \"India\", \"United\", \"United\", \"Philippines\", \"United\", \"United\", \"United\", \"Nigeria\", \"Spain\", \"South\", \"Egypt\", \"South\", \"India\", \"United\", \"Nigeria\", \"United\", \"Australia\", \"United\", \"Taiwan,\", \"India\", \"India\", \"India\", \"India\", \"India\", \"France,\", \"Canada\", \"United\", \"United\", \"United\", \"United\", \"United\", \"United\", \"United\", \"Vietnam\", \"United\", \"India\", \"Sweden\", \"Malaysia\", \"India\", \"India\", \"India\", \"United\", \"Cambodia\", \"United\", \"India\", \"India\", \"United\", \"India\", \"Pakistan\", \"United\", \"United\", \"Chile\", \"India\", \"Japan\", \"Japan\", \"Israel,\", \"India\", \"India\", \"United\", \"Poland\", \"Spain,\", \"United\", \"United\", \"United\", \"United\", \"United\", \"United\", \"United\", \"United\", \"United\", \"United\", \"United\", \"United\", \"United\", \"United\", \"United\", \"United\", \"United\", \"Mexico,\", \"United\", \"United\", \"United\", \"United\", \"United\", \"United\", \"United\", \"United\", \"Ireland,\", \"United\", \"United\", \"United\", \"India\", \"India\", \"Canada,\", \"United\", \"United\", \"United\", \"United\", \"United\", \"United\", \"United\", \"United\", \"United\", \"United\", \"United\", \"United\", \"United\", \"United\", \"Japan\", \"India\", \"United\", \"Russia\", \"Jordan\", \"United\", \"United\", \"United\", \"United\", \"United\", \"United\", \"South\", \"United\", \"United\", \"United\", \"India\", \"United\", \"United\", \"United\", \"United\", \"India\", \"United\", \"United\", \"India\", \"United\", \"United\", \"United\", \"United\", \"United\", \"United\", \"United\", \"United\", \"United\", \"Japan\", \"Taiwan\", \"India\", \"India\", \"Brazil\", \"United\", \"United\", \"India\", \"United\", \"United\", \"United\", \"France\", \"Austria\", \"Japan\", \"Chile\", \"Mexico\", \"United\", \"United\", \"United\", \"India\", \"India\", \"India\", \"United\", \"United\", \"United\", \"United\", \"United\", \"United\", \"Kuwait\", \"South\", \"United\", \"United\", \"United\", \"United\", \"Brazil\", \"Denmark\", \"Germany,\", \"Argentina\", \"Philippines\", \"Taiwan\", \"United\", \"United\", \"Hong\", \"United\", \"United\", \"Canada\", \"United\", \"United\", \"Japan\", \"United\", \"Japan\", \"Japan\", \"South\", \"United\", \"Taiwan\", \"Turkey\", \"Turkey\", \"India\", \"India\", \"India\", \"India\", \"India\", \"India\", \"India\", \"India\", \"India\", \"Japan\", \"India\", \"India\", \"India\", \"India\", \"India\", \"India\", \"United\", \"India\", \"India\", \"United\", \"India\", \"India\", \"United\", \"United\", \"Philippines\", \"India\", \"South\", \"India\", \"India\", \"South\", \"India\", \"India\", \"Japan\", \"India\", \"India\", \"Turkey\", \"Brazil\", \"Egypt\", \"United\", \"India\", \"Indonesia,\", \"India\", \"Nigeria\", \"United\", \"United\", \"Australia\", \"Australia\", \"India\", \"United\", \"United\", \"United\", \"United\", \"United\", \"United\", \"United\", \"United\", \"India\", \"United\", \"India\", \"India\", \"Australia\", \"India\", \"United\", \"United\", \"United\", \"United\", \"United\", \"United\", \"United\", \"India\", \"United\", \"United\", \"United\", \"United\", \"United\", \"United\", \"United\", \"United\", \"United\", \"United\", \"United\", \"United\", \"Pakistan\", \"India\", \"India\", \"India\", \"India\", \"India\", \"India\", \"India\", \"India\", \"India\", \"India\", \"India\", \"China\", \"United\", \"United\", \"United\", \"United\", \"Philippines\", \"Russia\", \"Netherlands,\", \"Germany\", \"Turkey\", \"United\", \"United\", \"United\", \"France\", \"Japan\", \"Turkey\", \"United\", \"United\", \"United\", \"India\", \"United\", \"United\", \"United\", \"United\", \"United\", \"United\", \"United\", \"United\", \"Hungary\", \"United\", \"Canada\", \"United\", \"Nigeria\", \"China,\", \"United\", \"China\", \"United\", \"United\", \"United\", \"United\", \"France,\", \"South\", \"United\", \"India\", \"India\", \"India\", \"Canada\", \"United\", \"United\", \"United\", \"United\", \"Brazil\", \"Philippines\", \"United\", \"Malaysia\", \"Spain,\", \"United\", \"Japan\", \"United\", \"United\", \"United\", \"United\", \"Taiwan\", \"United\", \"Turkey\", \"Turkey\", \"Canada,\", \"India\", \"United\", \"India\", \"Bangladesh\", \"United\", \"United\", \"United\", \"United\", \"Malaysia\", \"United\", \"India\", \"Norway,\", \"United\", \"United\", \"United\", \"United\", \"India\", \"United\", \"United\", \"United\", \"United\", \"India\", \"United\", \"India\", \"United\", \"India\", \"United\", \"India\", \"India\", \"India\", \"United\", \"United\", \"Hong\", \"Mexico,\", \"United\", \"United\", \"China,\", \"Indonesia\", \"United\", \"India\", \"Japan\", \"Japan\", \"United\", \"Turkey\", \"Turkey\", \"India\", \"India\", \"India\", \"United\", \"India\", \"India\", \"United\", \"United\", \"Argentina\", \"United\", \"United\", \"Spain\", \"Italy\", \"United\", \"Colombia\", \"United\", \"United\", \"Taiwan\", \"Spain\", \"Mexico\", \"France\", \"Colombia\", \"United\", \"Mexico\", \"France\", \"Mexico,\", \"Taiwan\", \"Mexico\", \"Colombia,\", \"India\", \"India\", \"Thailand\", \"India\", \"India\", \"United\", \"Hong\", \"United\", \"United\", \"United\", \"France\", \"United\", \"Colombia\", \"Brazil\", \"India\", \"United\", \"India\", \"India\", \"India\", \"India\", \"United\", \"Singapore\", \"Nigeria\", \"United\", \"United\", \"United\", \"Russia\", \"United\", \"Colombia\", \"South\", \"United\", \"United\", \"United\", \"Nigeria,\", \"Japan\", \"United\", \"United\", \"United\", \"United\", \"Germany\", \"United\", \"Taiwan\", \"United\", \"United\", \"United\", \"Netherlands,\", \"France\", \"France\", \"United\", \"United\", \"United\", \"France,\", \"United\", \"United\", \"United\", \"United\", \"United\", \"United\", \"India\", \"United\", \"United\", \"United\", \"United\", \"United\", \"China\", \"Mexico\", \"Mexico\", \"Hong\", \"United\", \"United\", \"United\", \"United\", \"United\", \"United\", \"United\", \"Denmark\", \"Denmark\", \"United\", \"United\", \"United\", \"United\", \"United\", \"United\", \"United\", \"Canada\", \"Denmark,\", \"Denmark,\", \"United\", \"United\", \"India\", \"United\", \"United\", \"India\", \"United\", \"United\", \"France\", \"United\", \"United\", \"United\", \"United\", \"United\", \"United\", \"Egypt\", \"Malaysia,\", \"South\", \"Japan\", \"Turkey\", \"Turkey\", \"United\", \"United\", \"India\", \"United\", \"Canada\", \"South\", \"South\", \"United\", \"United\", \"India\", \"United\", \"India\", \"India\", \"United\", \"Sweden,\", \"Taiwan\", \"United\", \"United\", \"Egypt\", \"Canada\", \"Hong\", \"Nigeria\", \"United\", \"United\", \"Mexico\", \"United\", \"United\", \"India\", \"Norway,\", \"India\", \"United\", \"United\", \"China,\", \"United\", \"Taiwan\", \"Egypt\", \"Nigeria\", \"Brazil\", \"Lebanon\", \"United\", \"United\", \"United\", \"United\", \"Hong\", \"United\", \"Australia\", \"Australia\", \"Australia\", \"United\", \"United\", \"United\", \"United\", \"India\", \"United\", \"United\", \"United\", \"United\", \"United\", \"United\", \"United\", \"United\", \"India\", \"Japan\", \"United\", \"United\", \"South\", \"Spain\", \"South\", \"Nigeria\", \"United\", \"United\", \"United\", \"United\", \"United\", \"Mexico\", \"Spain\", \"Mexico\", \"United\", \"India\", \"United\", \"United\", \"United\", \"Canada,\", \"Turkey\", \"Spain\", \"France,\", \"Mexico\", \"Russia\", \"India\", \"United\", \"Philippines\", \"South\", \"United\", \"Germany\", \"United\", \"United\", \"United\", \"United\", \"Canada\", \"United\", \"United\", \"Hong\", \"Hong\", \"Germany\", \"India\", \"Mexico\", \"United\", \"Mexico\", \"United\", \"Colombia\", \"United\", \"United\", \"United\", \"Canada\", \"France\", \"Canada\", \"United\", \"Nigeria\", \"United\", \"Japan\", \"United\", \"United\", \"United\", \"United\", \"United\", \"Taiwan\", \"Sweden\", \"Turkey\", \"India\", \"South\", \"Japan\", \"Japan\", \"India\", \"Taiwan\", \"United\", \"Taiwan\", \"Taiwan\", \"United\", \"Taiwan\", \"Indonesia\", \"Indonesia\", \"South\", \"Hong\", \"Romania\", \"United\", \"United\", \"Nigeria\", \"Canada,\", \"United\", \"Indonesia\", \"Turkey\", \"Taiwan\", \"India\", \"Taiwan\", \"China\", \"China,\", \"Hong\", \"Australia\", \"India\", \"South\", \"United\", \"United\", \"Egypt\", \"United\", \"United\", \"Philippines\", \"Indonesia\", \"United\", \"Japan\", \"United\", \"United\", \"Germany,\", \"Turkey\", \"Brazil\", \"United\", \"United\", \"South\", \"United\", \"United\", \"United\", \"Colombia\", \"Hong\", \"India\", \"Japan\", \"United\", \"Brazil\", \"United\", \"Brazil\", \"Brazil\", \"Argentina\", \"Argentina\", \"South\", \"United\", \"India\", \"India\", \"India\", \"China\", \"India\", \"India\", \"Brazil\", \"Mexico\", \"India\", \"Italy\", \"United\", \"Canada,\", \"Australia\", \"China,\", \"United\", \"Japan\", \"India\", \"Argentina,\", \"India\", \"India\", \"United\", \"India\", \"United\", \"United\", \"India,\", \"United\", \"India\", \"United\", \"Mexico\", \"Australia,\", \"United\", \"United\", \"United\", \"Hong\", \"India\", \"United\", \"United\", \"United\", \"India\", \"United\", \"India\", \"India\", \"Chile\", \"Italy\", \"Japan\", \"Japan\", \"United\", \"South\", \"France,\", \"Uruguay,\", \"France\", \"India\", \"United\", \"Norway\", \"India\", \"United\", \"India\", \"India\", \"United\", \"India\", \"Hong\", \"Turkey,\", \"Japan\", \"India\", \"India\", \"India\", \"India\", \"India\", \"United\", \"United\", \"United\", \"Germany\", \"Australia\", \"Israel\", \"India\", \"India\", \"India\", \"Argentina\", \"United\", \"United\", \"United\", \"United\", \"United\", \"India\", \"Egypt\", \"United\", \"United\", \"United\", \"South\", \"United\", \"United\", \"United\", \"India\", \"India\", \"United\", \"United\", \"United\", \"China,\", \"United\", \"United\", \"India\", \"India\", \"United\", \"India\", \"India\", \"United\", \"India\", \"India\", \"United\", \"United\", \"India\", \"India\", \"India\", \"India\", \"India\", \"Canada,\", \"Spain\", \"United\", \"Argentina,\", \"Canada,\", \"United\", \"United\", \"United\", \"United\", \"Japan\", \"United\", \"Brazil\", \"United\", \"United\", \"Philippines\", \"United\", \"United\", \"United\", \"France\", \"United\", \"United\", \"United\", \"United\", \"India\", \"India\", \"United\", \"United\", \"United\", \"France\", \"Hong\", \"United\", \"United\", \"Canada\", \"India\", \"United\", \"United\", \"Japan\", \"United\", \"United\", \"United\", \"United\", \"United\", \"United\", \"United\", \"United\", \"United\", \"United\", \"Japan\", \"India\", \"United\", \"United\", \"India\", \"Saudi\", \"Saudi\", \"United\", \"Russia\", \"United\", \"United\", \"India\", \"India\", \"South\", \"United\", \"Hong\", \"United\", \"Argentina\", \"South\", \"India\", \"Mexico\", \"India\", \"Brazil\", \"United\", \"Indonesia\", \"Hong\", \"Egypt\", \"United\", \"France,\", \"China,\", \"United\", \"United\", \"India\", \"Mexico\", \"Mexico\", \"Canada\", \"United\", \"United\", \"United\", \"United\", \"United\", \"Italy,\", \"Canada\", \"Poland,\", \"United\", \"Nigeria\", \"United\", \"United\", \"Japan\", \"Australia\", \"India\", \"India\", \"India\", \"United\", \"United\", \"South\", \"Argentina\", \"South\", \"Germany,\", \"United\", \"United\", \"United\", \"South\", \"Saudi\", \"United\", \"Canada,\", \"Indonesia\", \"New\", \"France\", \"United\", \"United\", \"United\", \"United\", \"India\", \"India\", \"Spain\", \"United\", \"United\", \"Nigeria\", \"Nigeria\", \"India\", \"United\", \"United\", \"United\", \"United\", \"China\", \"India\", \"Mexico\", \"United\", \"France,\", \"Chile\", \"Argentina,\", \"India\", \"United\", \"Netherlands,\", \"India\", \"United\", \"United\", \"Canada,\", \"United\", \"United\", \"United\", \"United\", \"United\", \"United\", \"Canada\", \"Japan\", \"Japan\", \"India\", \"United\", \"United\", \"Canada\", \"United\", \"India\", \"India\", \"India\", \"United\", \"United\", \"India\", \"United\", \"United\", \"United\", \"United\", \"United\", \"United\", \"Czech\", \"United\", \"Indonesia\", \"United\", \"France,\", \"United\", \"Argentina\", \"United\", \"United\", \"Japan\", \"Singapore\", \"Austria\", \"United\", \"United\", \"United\", \"United\", \"United\", \"France\", \"United\", \"South\", \"United\", \"India\", \"United\", \"Canada,\", \"Turkey\", \"France,\", \"Spain\", \"Japan\", \"United\", \"United\", \"India\", \"South\", \"India\", \"Netherlands\", \"Netherlands\", \"India\", \"United\", \"United\", \"Mexico\", \"Japan\", \"Taiwan\", \"India\", \"Singapore\", \"Norway,\", \"United\", \"South\", \"United\", \"Taiwan\", \"United\", \"United\", \"United\", \"United\", \"United\", \"India\", \"United\", \"Malaysia\", \"United\", \"United\", \"United\", \"United\", \"Japan\", \"Japan\", \"Japan\", \"Japan\", \"United\", \"India\", \"Egypt\", \"United\", \"India\", \"United\", \"Nigeria\", \"France\", \"China,\", \"India\", \"South\", \"Nigeria\", \"United\", \"Mexico\", \"United\", \"United\", \"Spain\", \"United\", \"Turkey\", \"United\", \"United\", \"Thailand\", \"Canada\", \"Egypt\", \"Germany,\", \"United\", \"United\", \"United\", \"United\", \"United\", \"United\", \"United\", \"United\", \"United\", \"United\", \"United\", \"United\", \"United\", \"United\", \"United\", \"India,\", \"Canada\", \"United\", \"United\", \"Japan\", \"United\", \"United\", \"United\", \"United\", \"United\", \"United\", \"United\", \"United\", \"United\", \"United\", \"United\", \"United\", \"United\", \"United\", \"United\", \"Argentina\", \"United\", \"United\", \"France,\", \"Pakistan,\", \"Egypt\", \"Netherlands\", \"Germany,\", \"France\", \"United\", \"India\", \"United\", \"Israel\", \"Brazil\", \"Canada\", \"United\", \"Japan\", \"United\", \"India\", \"India\", \"Australia,\", \"India\", \"Australia\", \"United\", \"United\", \"United\", \"United\", \"United\", \"India\", \"United\", \"United\", \"Israel,\", \"United\", \"United\", \"Mexico\", \"United\", \"United\", \"United\", \"South\", \"Hong\", \"United\", \"Canada\", \"India\", \"Egypt\", \"India\", \"Chile,\", \"France,\", \"United\", \"Turkey\", \"United\", \"United\", \"India\", \"Chile\", \"India\", \"India\", \"Malaysia\", \"India\", \"India\", \"India\", \"India\", \"Malaysia\", \"India\", \"France\", \"United\", \"India\", \"India\", \"India\", \"United\", \"United\", \"United\", \"United\", \"United\", \"United\", \"Taiwan\", \"India\", \"Philippines\", \"United\", \"Spain\", \"United\", \"Mexico\", \"United\", \"India\", \"Philippines\", \"Canada\", \"Canada\", \"United\", \"Spain\", \"India\", \"India\", \"South\", \"United\", \"Taiwan\", \"Thailand\", \"Egypt\", \"United\", \"Philippines\", \"Canada\", \"South\", \"India\", \"Germany\", \"United\", \"Georgia,\", \"United\", \"Italy\", \"Egypt\", \"United\", \"Japan\", \"Switzerland,\", \"United\", \"South\", \"United\", \"United\", \"United\", \"United\", \"United\", \"United\", \"United\", \"South\", \"United\", \"Taiwan\", \"United\", \"United\", \"South\", \"South\", \"United\", \"United\", \"Canada\", \"Canada\", \"United\", \"South\", \"South\", \"Hong\", \"United\", \"South\", \"South\", \"United\", \"Egypt\", \"Turkey,\", \"Indonesia\", \"Indonesia\", \"United\", \"United\", \"United\", \"Turkey\", \"Thailand\", \"Italy\", \"United\", \"South\", \"United\", \"Brazil\", \"United\", \"United\", \"United\", \"South\", \"United\", \"Singapore\", \"India\", \"France\", \"United\", \"India\", \"India\", \"India\", \"United\", \"United\", \"Italy,\", \"Japan\", \"United\", \"France\", \"Germany\", \"United\", \"Mexico,\", \"Spain\", \"Ireland\", \"United\", \"United\", \"India\", \"India\", \"United\", \"Thailand\", \"United\", \"United\", \"United\", \"Mexico,\", \"United\", \"Japan\", \"Japan\", \"Japan\", \"Japan\", \"Japan\", \"Japan\", \"Japan\", \"Japan\", \"Japan\", \"India\", \"Uruguay\", \"Chile\", \"United\", \"United\", \"United\", \"United\", \"India\", \"United\", \"United\", \"United\", \"United\", \"India\", \"United\", \"United\", \"United\", \"United\", \"United\", \"United\", \"United\", \"United\", \"United\", \"India\", \"United\", \"United\", \"United\", \"China\", \"United\", \"United\", \"India\", \"India\", \"United\", \"Japan\", \"Chile,\", \"Turkey\", \"United\", \"United\", \"United\", \"United\", \"Nigeria\", \"United\", \"United\", \"United\", \"United\", \"India\", \"China,\", \"United\", \"India\", \"Puerto\", \"United\", \"United\", \"United\", \"Turkey\", \"United\", \"United\", \"United\", \"United\", \"United\", \"South\", \"United\", \"United\", \"United\", \"India\", \"Nigeria\", \"Germany,\", \"Japan\", \"Canada,\", \"Japan\", \"Spain,\", \"Turkey\", \"India\", \"United\", \"India\", \"Chile\", \"Japan\", \"Japan\", \"United\", \"Egypt\", \"India\", \"Mexico\", \"Philippines\", \"United\", \"Argentina\", \"United\", \"Norway\", \"India\", \"Chile\", \"Poland\", \"Netherlands,\", \"Brazil\", \"United\", \"France,\", \"United\", \"United\", \"United\", \"India,\", \"United\", \"United\", \"Norway\", \"United\", \"Canada\", \"United\", \"Argentina\", \"United\", \"France,\", \"Brazil\", \"Brazil\", \"United\", \"United\", \"United\", \"United\", \"United\", \"United\", \"United\", \"United\", \"United\", \"United\", \"United\", \"United\", \"United\", \"United\", \"United\", \"United\", \"United\", \"United\", \"United\", \"United\", \"France\", \"United\", \"United\", \"United\", \"United\", \"Taiwan\", \"Germany\", \"United\", \"United\", \"Israel\", \"Italy\", \"Japan\", \"United\", \"United\", \"Denmark,\", \"Denmark,\", \"Brazil\", \"United\", \"United\", \"United\", \"France,\", \"Australia\", \"Norway,\", \"United\", \"United\", \"United\", \"Hong\", \"United\", \"United\", \"United\", \"United\", \"United\", \"United\", \"United\", \"India\", \"United\", \"Spain\", \"Spain,\", \"Taiwan\", \"United\", \"Germany\", \"Australia\", \"France\", \"India\", \"South\", \"Thailand\", \"Thailand\", \"United\", \"India\", \"Canada\", \"Canada\", \"United\", \"Romania\", \"India\", \"United\", \"United\", \"Nigeria\", \"Nigeria\", \"South\", \"Japan\", \"United\", \"Germany,\", \"Brazil\", \"United\", \"United\", \"France\", \"Denmark,\", \"United\", \"India\", \"Egypt\", \"Egypt\", \"Brazil\", \"Hungary\", \"Taiwan\", \"United\", \"Italy\", \"Nigeria\", \"Hong\", \"Brazil,\", \"India\", \"Hong\", \"India,\", \"United\", \"United\", \"United\", \"United\", \"United\", \"United\", \"United\", \"United\", \"Egypt\", \"China\", \"United\", \"India\", \"India\", \"Italy,\", \"India\", \"India\", \"Thailand\", \"United\", \"Indonesia\", \"India\", \"United\", \"India\", \"United\", \"Canada\", \"United\", \"United\", \"South\", \"Philippines\", \"India\", \"United\", \"United\", \"Japan\", \"South\", \"United\", \"Thailand\", \"Japan\", \"Turkey\", \"United\", \"Denmark,\", \"United\", \"Australia,\", \"United\", \"United\", \"Brazil\", \"United\", \"South\", \"United\", \"China,\", \"United\", \"United\", \"South\", \"China,\", \"United\", \"Hong\", \"United\", \"United\", \"Spain,\", \"United\", \"Philippines\", \"United\", \"Turkey\", \"United\", \"India\", \"France\", \"France\", \"United\", \"United\", \"Australia,\", \"India\", \"India\", \"United\", \"Canada,\", \"United\", \"Spain\", \"United\", \"United\", \"China\", \"United\", \"Japan\", \"France,\", \"United\", \"United\", \"Australia\", \"United\", \"United\", \"United\", \"United\", \"United\", \"United\", \"Germany\", \"China,\", \"Turkey\", \"Thailand\", \"India\", \"United\", \"United\", \"India\", \"United\", \"United\", \"India\", \"United\", \"India\", \"India\", \"United\", \"Colombia\", \"Venezuela,\", \"United\", \"United\", \"France,\", \"Australia\", \"Peru\", \"India\", \"United\", \"United\", \"Philippines\", \"India\", \"India\", \"India,\", \"Thailand\", \"United\", \"United\", \"Hong\", \"United\", \"United\", \"Argentina\", \"United\", \"Spain\", \"Mexico,\", \"United\", \"India\", \"South\", \"United\", \"India\", \"Lebanon\", \"Canada\", \"India\", \"Canada\", \"United\", \"Spain\", \"France\", \"Brazil\", \"United\", \"United\", \"United\", \"Egypt\", \"United\", \"United\", \"Canada\", \"United\", \"Japan\", \"Spain\", \"India\", \"India\", \"Pakistan\", \"United\", \"France\", \"South\", \"United\", \"India\", \"United\", \"United\", \"United\", \"Colombia,\", \"Malaysia\", \"United\", \"United\", \"United\", \"India\", \"United\", \"Mexico\", \"United\", \"United\", \"United\", \"Turkey\", \"United\", \"United\", \"United\", \"United\", \"United\", \"India\", \"United\", \"Nigeria\", \"India\", \"India,\", \"United\", \"Lebanon\", \"Germany\", \"Thailand\", \"United\", \"United\", \"United\", \"India\", \"China\", \"Turkey\", \"Malaysia\", \"India\", \"Colombia,\", \"United\", \"United\", \"Ireland,\", \"United\", \"United\", \"Hong\", \"Uruguay\", \"Argentina,\", \"Canada\", \"United\", \"Germany\", \"United\", \"United\", \"South\", \"France,\", \"United\", \"United\", \"United\", \"Germany,\", \"India\", \"United\", \"Germany\", \"United\", \"India\", \"France,\", \"United\", \"India\", \"India\", \"India\", \"Thailand\", \"Nigeria\", \"India\", \"India\", \"United\", \"Colombia\", \"Canada,\", \"United\", \"United\", \"India\", \"United\", \"India\", \"Australia\", \"United\", \"India\", \"United\", \"United\", \"Pakistan,\", \"United\", \"United\", \"India\", \"India\", \"Argentina\", \"France,\", \"India\", \"France\", \"Spain,\", \"United\", \"United\", \"United\", \"France,\", \"United\", \"India\", \"United\", \"United\", \"Canada,\", \"United\", \"United\", \"United\", \"Spain,\", \"United\", \"Spain\", \"United\", \"United\", \"United\", \"United\", \"France,\", \"United\", \"Japan\", \"Japan\", \"United\", \"Japan\", \"Japan\", \"United\", \"United\", \"Canada,\", \"Canada\", \"India\", \"Japan\", \"South\", \"Switzerland,\", \"United\", \"United\", \"South\", \"United\", \"Portugal,\", \"United\", \"United\", \"Indonesia\", \"India\", \"South\", \"United\", \"India\", \"Ghana\", \"United\", \"India\", \"United\", \"India\", \"United\", \"United\", \"United\", \"United\", \"United\", \"United\", \"United\", \"France,\", \"United\", \"United\", \"United\", \"United\", \"United\", \"United\", \"United\", \"United\", \"United\", \"United\", \"United\", \"United\", \"United\", \"United\", \"United\", \"United\", \"United\", \"United\", \"United\", \"United\", \"United\", \"United\", \"United\", \"India,\", \"India\", \"United\", \"United\", \"India\", \"India\", \"United\", \"South\", \"United\", \"United\", \"United\", \"South\", \"United\", \"India\", \"Hong\", \"United\", \"United\", \"United\", \"United\", \"United\", \"South\", \"United\", \"South\", \"United\", \"India\", \"United\", \"United\", \"India\", \"United\", \"India\", \"United\", \"Thailand\", \"United\", \"Canada\", \"Canada,\", \"Argentina\", \"India\", \"South\", \"United\", \"Japan\", \"Argentina\", \"United\", \"Ireland\", \"India\", \"Malaysia\", \"United\", \"Canada,\", \"United\", \"Canada\", \"Canada\", \"Canada,\", \"United\", \"India\", \"United\", \"United\", \"United\", \"China\", \"India\", \"India\", \"India\", \"India\", \"India\", \"United\", \"India\", \"United\", \"India\", \"China\", \"India\", \"Netherlands\", \"United\", \"United\", \"United\", \"United\", \"India\", \"Taiwan\", \"United\", \"United\", \"South\", \"United\", \"United\", \"United\", \"United\", \"Spain,\", \"Sweden\", \"United\", \"Australia,\", \"United\", \"United\", \"India\", \"United\", \"India\", \"India\", \"United\", \"France\", \"Malaysia\", \"India\", \"India\", \"United\", \"United\", \"Brazil\", \"United\", \"India\", \"United\", \"India\", \"United\", \"Brazil\", \"United\", \"India\", \"India\", \"Norway,\", \"India\", \"United\", \"China\", \"United\", \"India\", \"South\", \"United\", \"United\", \"Australia\", \"France,\", \"India\", \"India\", \"India\", \"India\", \"India\", \"Australia\", \"India\", \"United\", \"United\", \"United\", \"United\", \"India\", \"India\", \"India\", \"India\", \"Singapore,\", \"India\", \"Canada\", \"South\", \"India\", \"India\", \"United\", \"India\", \"Pakistan\", \"United\", \"United\", \"United\", \"United\", \"United\", \"Canada\", \"United\", \"United\", \"India\", \"Japan\", \"Japan\", \"Egypt\", \"India\", \"Mexico\", \"United\", \"United\", \"United\", \"United\", \"United\", \"Brazil\", \"United\", \"United\", \"Mexico\", \"Ireland\", \"United\", \"Canada\", \"Canada\", \"Australia,\", \"Japan\", \"South\", \"United\", \"United\", \"Australia\", \"United\", \"India\", \"United\", \"United\", \"Taiwan\", \"United\", \"Egypt\", \"United\", \"United\", \"India\", \"India\", \"United\", \"United\", \"United\", \"United\", \"United\", \"United\", \"United\", \"United\", \"United\", \"United\", \"Malaysia\", \"Canada,\", \"United\", \"United\", \"Mexico\", \"South\", \"South\", \"South\", \"Canada\", \"United\", \"Germany,\", \"United\", \"United\", \"Canada\", \"United\", \"United\", \"United\", \"Turkey\", \"Peru,\", \"United\", \"Egypt\", \"Hong\", \"India\", \"United\", \"Hong\", \"Singapore,\", \"South\", \"United\", \"Japan\", \"United\", \"United\", \"South\", \"United\", \"Mexico\", \"United\", \"United\", \"United\", \"United\", \"United\", \"Mexico\", \"Mexico\", \"Colombia\", \"United\", \"Brazil\", \"United\", \"United\", \"United\", \"Australia\", \"United\", \"United\", \"Germany\", \"United\", \"Japan,\", \"United\", \"Malaysia\", \"India\", \"United\", \"Australia,\", \"Netherlands\", \"United\", \"United\", \"India\", \"Malaysia\", \"India\", \"Germany\", \"United\", \"Denmark\", \"India\", \"Argentina\", \"Japan\", \"United\", \"United\", \"Japan\", \"Mexico\", \"India\", \"Nigeria\", \"United\", \"United\", \"Italy\", \"United\", \"South\", \"South\", \"United\", \"United\", \"France\", \"Germany\", \"India\", \"United\", \"United\", \"India\", \"United\", \"United\", \"United\", \"United\", \"United\", \"United\", \"United\", \"France\", \"United\", \"United\", \"Egypt\", \"United\", \"United\", \"United\", \"United\", \"Mexico,\", \"Canada,\", \"Japan\", \"South\", \"Turkey\", \"Turkey\", \"India\", \"India,\", \"Mexico\", \"United\", \"United\", \"United\", \"South\", \"Ireland,\", \"France\", \"Canada\", \"United\", \"Thailand\", \"India\", \"United\", \"United\", \"United\", \"Mexico\", \"Italy\", \"United\", \"United\", \"United\", \"United\", \"India\", \"United\", \"United\", \"Mexico\", \"Indonesia\", \"South\", \"Germany,\", \"India\", \"Mexico\", \"Hong\", \"United\", \"India\", \"South\", \"United\", \"United\", \"United\", \"United\", \"India\", \"Japan\", \"Canada\", \"United\", \"United\", \"United\", \"United\", \"United\", \"United\", \"United\", \"United\", \"Canada\", \"India\", \"United\", \"Italy\", \"Hong\", \"United\", \"United\", \"India\", \"India\", \"India\", \"India\", \"Pakistan\", \"India\", \"Indonesia\", \"India,\", \"Italy,\", \"Spain\", \"Turkey\", \"Canada\", \"India\", \"Pakistan\", \"India\", \"United\", \"United\", \"France,\", \"India\", \"India\", \"Japan\", \"Japan\", \"India\", \"Philippines\", \"India\", \"Senegal\", \"India\", \"Egypt\", \"United\", \"Egypt\", \"United\", \"United\", \"United\", \"United\", \"United\", \"United\", \"United\", \"India\", \"Brazil\", \"India\", \"United\", \"Egypt\", \"France\", \"United\", \"South\", \"United\", \"Japan\", \"United\", \"India\", \"United\", \"Israel,\", \"United\", \"India\", \"India\", \"Italy\", \"India\", \"United\", \"United\", \"United\", \"United\", \"Australia,\", \"South\", \"Colombia\", \"Spain\", \"United\", \"United\", \"France\", \"Austria,\", \"Canada\", \"Australia,\", \"India\", \"United\", \"United\", \"India\", \"India\", \"India\", \"India\", \"United\", \"United\", \"India\", \"Indonesia\", \"India\", \"United\", \"United\", \"India\", \"United\", \"United\", \"Egypt\", \"South\", \"United\", \"Italy\", \"United\", \"United\", \"United\", \"India\", \"United\", \"United\", \"United\", \"United\", \"Japan\", \"United\", \"Italy,\", \"United\", \"Egypt\", \"United\", \"United\", \"United\", \"Canada,\", \"United\", \"France\", \"Germany\", \"United\", \"China\", \"United\", \"United\", \"United\", \"United\", \"United\", \"United\", \"United\", \"United\", \"Hong\", \"Mexico,\", \"United\", \"United\", \"United\", \"Sweden,\", \"United\", \"Argentina\", \"United\", \"United\", \"United\", \"South\", \"Hong\", \"South\", \"Australia\", \"United\", \"United\", \"United\", \"Egypt\", \"India\", \"Argentina\", \"Taiwan\", \"United\", \"United\", \"United\", \"United\", \"United\", \"United\", \"United\", \"United\", \"United\", \"United\", \"United\", \"United\", \"United\", \"United\", \"United\", \"United\", \"India\", \"United\", \"India\", \"Mexico,\", \"United\", \"United\", \"United\", \"Mexico\", \"Turkey\", \"United\", \"United\", \"Canada\", \"South\", \"United\", \"Guatemala\", \"United\", \"United\", \"India\", \"South\", \"Ukraine\", \"United\", \"China\", \"United\", \"United\", \"United\", \"India\", \"India\", \"India\", \"United\", \"United\", \"France\", \"United\", \"United\", \"United\", \"Philippines\", \"Spain\", \"United\", \"United\", \"United\", \"United\", \"United\", \"United\", \"United\", \"Mexico\", \"United\", \"Hong\", \"United\", \"France\", \"India\", \"China,\", \"Israel\", \"India\", \"India\", \"Italy,\", \"India\", \"United\", \"India\", \"China\", \"India\", \"Hong\", \"United\", \"United\", \"United\", \"United\", \"United\", \"India\", \"United\", \"United\", \"India\", \"United\", \"Egypt\", \"United\", \"Philippines\", \"United\", \"United\", \"Philippines\", \"United\", \"United\", \"South\", \"United\", \"United\", \"India,\", \"India\", \"Canada,\", \"United\", \"Brazil,\", \"United\", \"India\", \"India\", \"United\", \"India\", \"United\", \"United\", \"Australia\", \"Australia\", \"India\", \"India\", \"United\", \"India\", \"United\", \"United\", \"United\", \"United\", \"United\", \"United\", \"Israel\", \"India\", \"India,\", \"Thailand\", \"Indonesia\", \"Indonesia\", \"Indonesia\", \"Colombia\", \"Italy,\", \"United\", \"United\", \"India\", \"United\", \"India\", \"South\", \"Poland\", \"United\", \"United\", \"Canada,\", \"United\", \"India\", \"United\", \"United\", \"Russia\", \"France\", \"United\", \"United\", \"Mexico\", \"United\", \"Colombia,\", \"United\", \"United\", \"Bangladesh\", \"United\", \"Germany\", \"Spain\", \"India,\", \"Singapore,\", \"India\", \"India\", \"Indonesia\", \"United\", \"Australia\", \"China\", \"Switzerland,\", \"United\", \"Peru\", \"Brazil\", \"United\", \"Japan\", \"United\", \"United\", \"United\", \"Philippines\", \"Australia\", \"Pakistan,\", \"Saudi\", \"Nigeria\", \"United\", \"Thailand,\", \"United\", \"United\", \"Spain\", \"China,\", \"United\", \"China,\", \"Vietnam\", \"United\", \"South\", \"United\", \"Germany\", \"Italy\", \"Canada\", \"United\", \"United\", \"Thailand\", \"Thailand\", \"Thailand\", \"United\", \"United\", \"United\", \"United\", \"Nigeria\", \"United\", \"Canada,\", \"United\", \"United\", \"United\", \"United\", \"Spain\", \"Japan\", \"United\", \"United\", \"United\", \"United\", \"United\", \"South\", \"Argentina\", \"India\", \"United\", \"United\", \"Indonesia\", \"Mexico\", \"Mexico\", \"United\", \"India,\", \"Japan\", \"India\", \"Spain\", \"Mexico\", \"United\", \"United\", \"Czech\", \"Canada\", \"United\", \"United\", \"United\", \"Mexico,\", \"Taiwan\", \"Spain\", \"South\", \"United\", \"India\", \"United\", \"China\", \"United\", \"United\", \"Australia,\", \"Egypt\", \"United\", \"India\", \"Japan\", \"United\", \"Nigeria\", \"India\", \"Egypt\", \"Thailand\", \"Japan\", \"Mexico\", \"United\", \"United\", \"United\", \"United\", \"United\", \"United\", \"United\", \"United\", \"United\", \"Spain\", \"South\", \"United\", \"France\", \"Russia\", \"United\", \"United\", \"India\", \"Canada,\", \"United\", \"Brazil\", \"United\", \"United\", \"United\", \"United\", \"United\", \"United\", \"United\", \"United\", \"United\", \"United\", \"United\", \"United\", \"United\", \"United\", \"United\", \"United\", \"United\", \"United\", \"United\", \"United\", \"United\", \"United\", \"United\", \"United\", \"United\", \"Jamaica,\", \"United\", \"United\", \"United\", \"United\", \"United\", \"Spain\", \"India\", \"United\", \"United\", \"United\", \"Canada\", \"Canada,\", \"United\", \"United\", \"United\", \"United\", \"United\", \"United\", \"United\", \"United\", \"Canada\", \"United\", \"United\", \"United\", \"United\", \"United\", \"South\", \"Philippines\", \"Australia\", \"Switzerland\", \"United\", \"Japan\", \"United\", \"United\", \"United\", \"South\", \"United\", \"Egypt\", \"United\", \"United\", \"Germany\", \"United\", \"United\", \"India\", \"Thailand\", \"United\", \"United\", \"United\", \"United\", \"Spain\", \"South\", \"United\", \"Australia,\", \"United\", \"India\", \"India\", \"United\", \"United\", \"Canada\", \"United\", \"United\", \"South\", \"United\", \"United\", \"South\", \"France,\", \"Lebanon\", \"India\", \"France\", \"United\", \"United\", \"United\", \"United\", \"Australia,\", \"Netherlands,\", \"United\", \"United\", \"United\", \"South\", \"United\", \"Brazil\", \"South\", \"United\", \"Poland,\", \"Germany,\", \"United\", \"Turkey\", \"United\", \"Turkey\", \"United\", \"United\", \"United\", \"United\", \"Italy,\", \"Italy\", \"Thailand\", \"India\", \"Singapore\", \"United\", \"United\", \"United\", \"United\", \"Israel\", \"United\", \"South\", \"United\", \"Denmark,\", \"Italy\", \"Mexico,\", \"Spain\", \"United\", \"India,\", \"Belarus\", \"India,\", \"India\", \"India\", \"United\", \"India\", \"Brazil\", \"United\", \"United\", \"Canada\", \"United\", \"United\", \"United\", \"United\", \"United\", \"Canada\", \"United\", \"Canada\", \"United\", \"India\", \"United\", \"United\", \"United\", \"United\", \"Spain\", \"United\", \"United\", \"United\", \"United\", \"United\", \"India\", \"India\", \"Indonesia\", \"United\", \"Indonesia\", \"Indonesia\", \"United\", \"United\", \"United\", \"United\", \"United\", \"United\", \"United\", \"United\", \"United\", \"Indonesia\", \"South\", \"India\", \"India\", \"United\", \"Canada\", \"Canada\", \"United\", \"United\", \"United\", \"United\", \"United\", \"United\", \"Japan\", \"Japan\", \"Japan\", \"China,\", \"Hong\", \"United\", \"Japan\", \"Nigeria\", \"United\", \"Germany\", \"India\", \"India\", \"Belgium\", \"United\", \"India\", \"India\", \"United\", \"United\", \"China\", \"United\", \"Spain\", \"United\", \"France,\", \"United\", \"Saudi\", \"India\", \"Malaysia\", \"Australia\", \"United\", \"United\", \"United\", \"Cyprus\", \"United\", \"United\", \"India\", \"India\", \"United\", \"Lebanon\", \"Argentina,\", \"India\", \"India\", \"Egypt\", \"Indonesia\", \"France\", \"Indonesia\", \"United\", \"United\", \"Egypt\", \"Nigeria\", \"United\", \"Lebanon,\", \"United\", \"Egypt\", \"United\", \"United\", \"South\", \"United\", \"India\", \"United\", \"United\", \"United\", \"United\", \"Japan\", \"Thailand\", \"Pakistan\", \"India\", \"United\", \"India\", \"United\", \"United\", \"Hong\", \"United\", \"United\", \"India\", \"United\", \"United\", \"Japan,\", \"Argentina,\", \"Hong\", \"India\", \"Mexico\", \"United\", \"United\", \"United\", \"France\", \"United\", \"Japan\", \"Japan\", \"Japan\", \"United\", \"United\", \"India\", \"United\", \"India\", \"India\", \"India\", \"India\", \"United\", \"India\", \"India\", \"United\", \"Philippines\", \"South\", \"United\", \"United\", \"Sweden\", \"Norway\", \"United\", \"United\", \"United\", \"Indonesia\", \"Indonesia\", \"United\", \"United\", \"Mexico,\", \"Taiwan\", \"United\", \"Nigeria\", \"Canada\", \"United\", \"United\", \"Canada\", \"United\", \"United\", \"United\", \"United\", \"Argentina\", \"France\", \"United\", \"South\", \"Spain\", \"Philippines\", \"United\", \"United\", \"United\", \"United\", \"United\", \"United\", \"United\", \"Israel,\", \"Finland,\", \"United\", \"Egypt\", \"Singapore\", \"Spain,\", \"Italy\", \"United\", \"Nigeria\", \"Poland\", \"Canada,\", \"United\", \"France,\", \"United\", \"France,\", \"United\", \"Switzerland\", \"United\", \"United\", \"United\", \"United\", \"United\", \"United\", \"United\", \"United\", \"United\", \"United\", \"United\", \"United\", \"Spain,\", \"Hong\", \"Spain\", \"United\", \"United\", \"United\", \"Egypt\", \"Italy\", \"Hong\", \"United\", \"United\", \"Brazil\", \"Brazil\", \"United\", \"United\", \"United\", \"United\", \"United\", \"United\", \"United\", \"Italy\", \"United\", \"United\", \"China\", \"United\", \"United\", \"United\", \"Canada,\", \"United\", \"Egypt\", \"United\", \"Australia,\", \"Chile,\", \"Nigeria\", \"United\", \"Egypt\", \"United\", \"India\", \"India\", \"Canada,\", \"United\", \"United\", \"France\", \"United\", \"Saudi\", \"United\", \"United\", \"United\", \"France\", \"United\", \"United\", \"United\", \"United\", \"United\", \"United\", \"United\", \"United\", \"United\", \"United\", \"United\", \"United\", \"Ireland,\", \"Belgium\", \"United\", \"United\", \"New\", \"Philippines\", \"South\", \"Nigeria\", \"Taiwan\", \"South\", \"United\", \"United\", \"United\", \"Hong\", \"Ghana,\", \"United\", \"Turkey\", \"United\", \"United\", \"United\", \"United\", \"Israel,\", \"South\", \"India\", \"Canada\", \"United\", \"United\", \"United\", \"United\", \"New\", \"Canada,\", \"Egypt\", \"Nigeria\", \"France\", \"United\", \"United\", \"United\", \"United\", \"United\", \"Australia\", \"Egypt\", \"Spain,\", \"Brazil\", \"Mexico,\", \"United\", \"United\", \"Canada\", \"United\", \"United\", \"United\", \"Brazil,\", \"United\", \"United\", \"United\", \"France\", \"United\", \"Mexico\", \"United\", \"Poland,\", \"United\", \"France,\", \"United\", \"United\", \"United\", \"United\", \"United\", \"Canada\", \"United\", \"Israel,\", \"United\", \"Egypt\", \"Japan\", \"United\", \"South\", \"United\", \"India\", \"France\", \"Poland\", \"Argentina\", \"United\", \"United\", \"United\", \"Poland\", \"United\", \"United\", \"France,\", \"United\", \"United\", \"United\", \"United\", \"India\", \"Indonesia\", \"United\", \"United\", \"United\", \"India\", \"United\", \"United\", \"Australia\", \"Austria,\", \"United\", \"Canada,\", \"Mexico,\", \"Denmark\", \"Egypt\", \"Greece,\", \"Romania\", \"United\", \"United\", \"United\", \"Canada\", \"Canada,\", \"China,\", \"United\", \"Nigeria\", \"United\", \"Argentina,\", \"United\", \"United\", \"Italy,\", \"United\", \"Japan\", \"United\", \"Taiwan\", \"United\", \"Czech\", \"United\", \"United\", \"United\", \"United\", \"Japan\", \"Japan\", \"United\", \"Argentina,\", \"United\", \"Indonesia\", \"Indonesia\", \"United\", \"Singapore\", \"Singapore\", \"Indonesia\", \"United\", \"South\", \"Canada\", \"United\", \"United\", \"United\", \"United\", \"United\", \"United\", \"Brazil\", \"United\", \"United\", \"United\", \"Egypt,\", \"Kuwait\", \"Japan\", \"United\", \"United\", \"United\", \"Spain,\", \"United\", \"United\", \"United\", \"United\", \"United\", \"United\", \"United\", \"United\", \"France,\", \"United\", \"United\", \"United\", \"United\", \"Taiwan\", \"United\", \"Nigeria\", \"United\", \"United\", \"United\", \"United\", \"Brazil\", \"United\", \"United\", \"Hong\", \"United\", \"United\", \"United\", \"United\", \"United\", \"Hong\", \"United\", \"United\", \"United\", \"United\", \"Japan\", \"Japan\", \"United\", \"United\", \"United\", \"United\", \"United\", \"New\", \"France\", \"United\", \"United\", \"United\", \"Spain\", \"Norway\", \"United\", \"United\", \"Japan\", \"France,\", \"Indonesia\", \"United\", \"United\", \"Nigeria\", \"Taiwan,\", \"United\", \"Spain\", \"Turkey\", \"Philippines\", \"Spain\", \"United\", \"United\", \"India\", \"Israel\", \"Colombia\", \"United\", \"United\", \"South\", \"United\", \"United\", \"United\", \"United\", \"United\", \"United\", \"United\", \"United\", \"Nigeria\", \"Hong\", \"South\", \"United\", \"United\", \"United\", \"United\", \"India\", \"United\", \"Colombia\", \"Hong\", \"United\", \"United\", \"United\", \"United\", \"China\", \"United\", \"South\", \"United\", \"United\", \"United\", \"United\", \"United\", \"United\", \"Poland\", \"United\", \"United\", \"United\", \"United\", \"United\", \"Spain,\", \"United\", \"Indonesia\", \"United\", \"Canada\", \"United\", \"Canada\", \"Spain\", \"United\", \"United\", \"United\", \"Spain\", \"United\", \"United\", \"Canada\", \"United\", \"United\", \"Thailand\", \"United\", \"United\", \"France\", \"India\", \"Mexico\", \"United\", \"United\", \"India\", \"Philippines\", \"India\", \"Canada\", \"Canada,\", \"United\", \"United\", \"United\", \"United\", \"United\", \"Spain\", \"United\", \"United\", \"Spain,\", \"Singapore\", \"Australia\", \"United\", \"Mexico\", \"United\", \"Denmark\", \"United\", \"Canada,\", \"United\", \"Spain,\", \"United\", \"Mexico\", \"United\", \"United\", \"United\", \"United\", \"United\", \"Egypt\", \"Australia\", \"France\", \"United\", \"United\", \"Spain,\", \"Spain\", \"United\", \"United\", \"United\", \"United\", \"United\", \"Japan\", \"Nigeria\", \"United\", \"Austria\", \"France\", \"United\", \"United\", \"United\", \"United\", \"Thailand\", \"India,\", \"Indonesia\", \"South\", \"United\", \"United\", \"United\", \"Brazil\", \"Ireland,\", \"United\", \"United\", \"United\", \"South\", \"China\", \"United\", \"Argentina\", \"United\", \"United\", \"Lebanon,\", \"United\", \"United\", \"Canada,\", \"South\", \"United\", \"United\", \"Egypt\", \"India\", \"Egypt\", \"United\", \"Belgium,\", \"South\", \"United\", \"India\", \"United\", \"United\", \"United\", \"United\", \"Australia\", \"France,\", \"United\", \"Brazil\", \"Chile,\", \"United\", \"United\", \"United\", \"United\", \"United\", \"Egypt\", \"United\", \"Paraguay,\", \"United\", \"United\", \"United\", \"United\", \"Germany\", \"United\", \"United\", \"Spain\", \"United\", \"United\", \"Spain,\", \"United\", \"India\", \"China\", \"United\", \"United\", \"India\", \"China\", \"Australia\", \"United\", \"South\", \"United\", \"South\", \"United\", \"South\", \"Italy\", \"India\", \"United\", \"Spain,\", \"Norway,\", \"Canada,\", \"United\", \"United\", \"France,\", \"Spain\", \"Netherlands,\", \"France,\", \"Germany\", \"United\", \"Ireland,\", \"Ireland\", \"United\", \"United\", \"United\", \"United\", \"United\", \"Denmark,\", \"New\", \"New\", \"Argentina,\", \"United\", \"Nigeria\", \"Philippines\", \"United\", \"United\", \"United\", \"United\", \"Poland\", \"Hong\", \"United\", \"Canada,\", \"United\", \"Canada\", \"United\", \"Canada\", \"United\", \"United\", \"United\", \"India\", \"United\", \"Italy,\", \"France,\", \"Japan\", \"Egypt\", \"United\", \"United\", \"United\", \"United\", \"Italy\", \"United\", \"United\", \"United\", \"Spain\", \"United\", \"South\", \"United\", \"Brazil\", \"Chile,\", \"United\", \"United\", \"Spain\", \"United\", \"Russia\", \"United\", \"Hong\", \"United\", \"United\", \"Germany,\", \"Nigeria\", \"United\", \"United\", \"United\", \"France\", \"Spain\", \"Spain\", \"South\", \"Poland\", \"United\", \"United\", \"Canada,\", \"Philippines\", \"United\", \"Denmark\", \"United\", \"New\", \"United\", \"Belgium,\", \"Sweden\", \"United\", \"United\", \"Spain,\", \"United\", \"United\", \"United\", \"United\", \"Italy\", \"Japan\", \"United\", \"United\", \"United\", \"United\", \"Spain\", \"United\", \"United\", \"Australia,\", \"Canada\", \"United\", \"Spain,\", \"Canada\", \"United\", \"Indonesia,\", \"United\", \"United\", \"Germany\", \"Canada,\", \"United\", \"United\", \"Singapore\", \"Spain\", \"United\", \"United\", \"Mexico\", \"France\", \"United\", \"Philippines\", \"Canada,\", \"United\", \"United\", \"United\", \"France,\", \"United\", \"United\", \"France,\", \"Turkey,\", \"United\", \"United\", \"United\", \"Taiwan\", \"United\", \"Philippines\", \"Croatia\", \"Spain\", \"United\", \"United\", \"United\", \"United\", \"United\", \"United\", \"United\", \"Mexico\", \"United\", \"Ghana\", \"United\", \"United\", \"United\", \"United\", \"Spain\", \"Germany\", \"United\", \"United\", \"Somalia,\", \"United\", \"United\", \"United\", \"Poland\", \"India\", \"United\", \"United\", \"Egypt\", \"Italy\", \"United\", \"United\", \"United\", \"Canada,\", \"South\", \"France\", \"United\", \"United\", \"China\", \"Taiwan\", \"United\", \"United\", \"United\", \"China\", \"South\", \"Ireland,\", \"United\", \"Spain,\", \"Japan\", \"Turkey\", \"United\", \"United\", \"United\", \"Canada\", \"United\", \"Colombia\", \"Colombia\", \"United\", \"United\", \"Denmark,\", \"Indonesia\", \"United\", \"United\", \"United\", \"India\", \"United\", \"United\", \"United\", \"Spain\", \"Canada\", \"United\", \"New\", \"United\", \"United\", \"United\", \"United\", \"South\", \"Netherlands\", \"France\", \"United\", \"United\", \"Serbia,\", \"Egypt\", \"United\", \"United\", \"United\", \"China\", \"United\", \"United\", \"United\", \"Russia\", \"United\", \"Colombia\", \"United\", \"United\", \"Taiwan\", \"Australia,\", \"India\", \"Nigeria\", \"United\", \"United\", \"United\", \"United\", \"United\", \"United\", \"Italy,\", \"United\", \"United\", \"Denmark,\", \"Australia\", \"South\", \"Egypt\", \"Germany,\", \"United\", \"Mexico\", \"United\", \"United\", \"United\", \"Nigeria\", \"Japan\", \"Japan\", \"United\", \"United\", \"United\", \"India\", \"United\", \"United\", \"United\", \"Ireland,\", \"Italy\", \"United\", \"Canada,\", \"Spain,\", \"Spain\", \"Spain\", \"Mexico\", \"Indonesia\", \"United\", \"Spain\", \"India,\", \"United\", \"United\", \"United\", \"Ukraine\", \"United\", \"United\", \"United\", \"Argentina\", \"South\", \"South\", \"United\", \"United\", \"United\", \"United\", \"Poland\", \"United\", \"France\", \"United\", \"United\", \"United\", \"United\", \"France\", \"United\", \"United\", \"United\", \"United\", \"United\", \"United\", \"Thailand\", \"United\", \"United\", \"Egypt\", \"Egypt\", \"United\", \"United\", \"United\", \"Philippines\", \"United\", \"United\", \"United\", \"United\", \"United\", \"Argentina\", \"United\", \"United\", \"United\", \"Egypt\", \"Philippines\", \"Mexico\", \"United\", \"United\", \"United\", \"United\", \"United\", \"United\", \"United\", \"Georgia\", \"United\", \"United\", \"Spain\", \"Italy\", \"United\", \"United\", \"Spain\", \"United\", \"United\", \"United\", \"United\", \"United\", \"United\", \"Singapore\", \"Ireland,\", \"United\", \"Belgium\", \"United\", \"Hong\", \"United\", \"United\", \"Singapore\", \"United\", \"Thailand\", \"South\", \"Thailand\", \"United\", \"United\", \"United\", \"United\", \"Belgium,\", \"United\", \"Australia\", \"Philippines\", \"United\", \"China\", \"United\", \"Iceland\", \"United\", \"United\", \"United\", \"United\", \"United\", \"Taiwan\", \"United\", \"India\", \"United\", \"United\", \"Egypt\", \"China\", \"United\", \"Spain\", \"Australia,\", \"New\", \"United\", \"Philippines\", \"Nigeria\", \"Nigeria\", \"United\", \"United\", \"United\", \"United\", \"United\", \"Australia\", \"Canada,\", \"United\", \"India\", \"United\", \"United\", \"South\", \"United\", \"United\", \"Egypt\", \"France\", \"China\", \"United\", \"Israel\", \"Poland,\", \"France\", \"United\", \"France\", \"United\", \"United\", \"United\", \"United\", \"United\", \"Lebanon\", \"Canada\", \"United\", \"Turkey\", \"Taiwan\", \"United\", \"Ireland\", \"Hong\", \"India\", \"Canada\", \"India\", \"India\", \"United\", \"United\", \"United\", \"United\", \"United\", \"Canada\", \"France,\", \"United\", \"United\", \"Spain\", \"Brazil\", \"Belgium\", \"Thailand\", \"Indonesia\", \"Egypt\", \"South\", \"China\", \"Belgium\", \"India,\", \"United\", \"United\", \"United\", \"United\", \"Thailand\", \"United\", \"United\", \"United\", \"United\", \"India\", \"Hong\", \"Spain\", \"United\", \"Philippines\", \"United\", \"United\", \"Canada,\", \"India\", \"United\", \"United\", \"Australia\", \"United\", \"Spain\", \"China\", \"United\", \"United\", \"United\", \"United\", \"United\", \"India\", \"United\", \"United\", \"Mexico\", \"China\", \"India\", \"Taiwan\", \"United\", \"United\", \"United\", \"United\", \"India\", \"India\", \"Mexico,\", \"South\", \"United\", \"United\", \"United\", \"United\", \"United\", \"Spain,\", \"United\", \"United\", \"United\", \"United\", \"United\", \"Germany,\", \"United\", \"South\", \"United\", \"United\", \"United\", \"United\", \"United\", \"France\", \"United\", \"Russia\", \"United\", \"United\", \"Canada\", \"Spain\", \"United\", \"United\", \"United\", \"Argentina\", \"Argentina\", \"Singapore\", \"India\", \"India\", \"United\", \"Canada,\", \"Turkey\", \"United\", \"United\", \"United\", \"United\", \"United\", \"United\", \"United\", \"United\", \"United\", \"South\", \"South\", \"France\", \"United\", \"Indonesia\", \"United\", \"United\", \"Netherlands\", \"Thailand\", \"United\", \"United\", \"United\", \"India\", \"Japan\", \"India\", \"Spain\", \"United\", \"Canada,\", \"United\", \"United\", \"India\", \"United\", \"Spain\", \"United\", \"United\", \"India\", \"Canada\", \"Canada\", \"Canada\", \"Canada\", \"Canada\", \"Canada\", \"United\", \"Canada\", \"Canada\", \"Canada\", \"Canada\", \"Thailand\", \"South\", \"United\", \"United\", \"United\", \"United\", \"United\", \"France,\", \"Canada\", \"United\", \"United\", \"United\", \"Canada,\", \"United\", \"United\", \"United\", \"United\", \"United\", \"United\", \"Turkey\", \"Canada,\", \"United\", \"United\", \"United\", \"United\", \"Canada\", \"South\", \"United\", \"United\", \"United\", \"United\", \"South\", \"United\", \"United\", \"United\", \"United\", \"United\", \"United\", \"United\", \"United\", \"United\", \"United\", \"India\", \"India\", \"United\", \"United\", \"India\", \"United\", \"United\", \"Thailand,\", \"United\", \"United\", \"United\", \"United\", \"United\", \"United\", \"France\", \"Russia\", \"United\", \"United\", \"India\", \"United\", \"United\", \"United\", \"United\", \"United\", \"Canada\", \"Canada\", \"United\", \"United\", \"Canada\", \"Canada\", \"Canada\", \"United\", \"United\", \"Canada\", \"United\", \"United\", \"United\", \"India\", \"United\", \"Canada,\", \"India\", \"India\", \"United\", \"Japan\", \"United\", \"South\", \"United\", \"United\", \"United\", \"United\", \"Turkey\", \"United\", \"United\", \"United\", \"United\", \"Japan,\", \"France\", \"Spain\", \"United\", \"Hong\", \"United\", \"United\", \"India\", \"Spain\", \"Taiwan\", \"United\", \"Canada\", \"United\", \"South\", \"Australia\", \"India\", \"United\", \"India\", \"Philippines\", \"India\", \"India\", \"India\", \"India\", \"United\", \"Thailand\", \"India\", \"United\", \"United\", \"United\", \"Japan\", \"Italy\", \"Poland\", \"India\", \"India\", \"France\", \"United\", \"Canada\", \"United\", \"United\", \"Spain\", \"United\", \"United\", \"United\", \"Spain\", \"India\", \"Spain\", \"United\", \"United\", \"United\", \"United\", \"South\", \"United\", \"United\", \"United\", \"United\", \"South\", \"France,\", \"United\", \"Italy\", \"United\", \"Switzerland,\", \"Belgium,\", \"United\", \"Canada\", \"Colombia\", \"United\", \"Argentina,\", \"Philippines\", \"United\", \"United\", \"India\", \"United\", \"Canada,\", \"Belgium\", \"United\", \"Spain\", \"United\", \"United\", \"Germany\", \"China\", \"United\", \"Singapore\", \"Egypt\", \"United\", \"United\", \"United\", \"Mexico\", \"Romania,\", \"France\", \"Spain\", \"United\", \"Nigeria\", \"Malaysia\", \"United\", \"India\", \"India\", \"India\", \"Australia\", \"China\", \"Egypt\", \"United\", \"India\", \"United\", \"United\", \"United\", \"South\", \"Brazil\", \"Egypt\", \"Spain\", \"United\", \"Japan\", \"France\", \"United\", \"United\", \"India\", \"United\", \"India\", \"South\", \"India\", \"India\", \"United\", \"United\", \"United\", \"Spain\", \"United\", \"Spain\", \"United\", \"Mexico\", \"Spain\", \"France,\", \"Indonesia\", \"Indonesia\", \"Lebanon,\", \"India\", \"United\", \"United\", \"Spain\", \"United\", \"United\", \"United\", \"Argentina,\", \"United\", \"United\", \"United\", \"Philippines\", \"United\", \"Japan\", \"Japan\", \"United\", \"United\", \"India\", \"United\", \"India\", \"United\", \"United\", \"India,\", \"United\", \"United\", \"India\", \"India\", \"India\", \"Turkey\", \"Turkey\", \"India\", \"South\", \"United\", \"United\", \"France\", \"United\", \"South\", \"United\", \"United\", \"United\", \"United\", \"India\", \"United\", \"Pakistan\", \"India\", \"United\", \"Saudi\", \"China\", \"India\", \"United\", \"United\", \"United\", \"India\", \"United\", \"France\", \"United\", \"United\", \"United\", \"United\", \"United\", \"United\", \"United\", \"France\", \"United\", \"Australia\", \"United\", \"United\", \"India\", \"United\", \"United\", \"United\", \"Egypt\", \"Mexico\", \"Denmark\", \"United\", \"Poland\", \"South\", \"France,\", \"United\", \"India\", \"United\", \"United\", \"United\", \"Taiwan\", \"India\", \"Lebanon,\", \"India,\", \"Hong\", \"France\", \"United\", \"Germany\", \"Germany\", \"United\", \"United\", \"United\", \"United\", \"United\", \"Spain\", \"United\", \"United\", \"United\", \"United\", \"Egypt\", \"United\", \"United\", \"Austria,\", \"Poland\", \"France\", \"Kuwait\", \"United\", \"United\", \"Hong\", \"United\", \"India\", \"India\", \"Italy\", \"United\", \"United\", \"India\", \"United\", \"Spain\", \"United\", \"India\", \"China\", \"Australia\", \"France,\", \"France\", \"United\", \"Poland\", \"United\", \"United\", \"United\", \"United\", \"United\", \"United\", \"United\", \"China\", \"India\", \"Lebanon\", \"United\", \"United\", \"South\", \"United\", \"Turkey\", \"United\", \"South\", \"Taiwan\", \"Canada\", \"United\", \"United\", \"Taiwan\", \"United\", \"Spain\", \"India\", \"United\", \"India\", \"United\", \"United\", \"Austria\", \"United\", \"United\", \"United\", \"Indonesia\", \"Saudi\", \"India\", \"United\", \"United\", \"Spain\", \"United\", \"United\", \"Israel\", \"Taiwan\", \"Nigeria\", \"South\", \"United\", \"Peru,\", \"United\", \"Germany,\", \"United\", \"United\", \"Brazil\", \"Indonesia\", \"Uruguay,\", \"Lebanon,\", \"United\", \"United\", \"France,\", \"United\", \"United\", \"United\", \"United\", \"South\", \"United\", \"United\", \"United\", \"France\", \"United\", \"United\", \"Spain\", \"United\", \"Taiwan\", \"United\", \"United\", \"United\", \"Canada,\", \"Romania,\", \"United\", \"United\", \"United\", \"United\", \"Colombia\", \"Germany,\", \"United\", \"United\", \"United\", \"United\", \"United\", \"Hungary\", \"United\", \"United\", \"United\", \"Australia,\", \"United\", \"France,\", \"United\", \"Australia\", \"United\", \"Turkey\", \"United\", \"Italy\", \"Malaysia\", \"United\", \"United\", \"United\", \"United\", \"United\", \"Canada\", \"United\", \"Nigeria\", \"United\", \"United\", \"Turkey\", \"United\", \"United\", \"Poland\", \"Netherlands\", \"United\", \"United\", \"United\", \"United\", \"United\", \"United\", \"United\", \"Canada\", \"Singapore\", \"India\", \"Italy,\", \"United\", \"United\", \"United\", \"United\", \"United\", \"United\", \"United\", \"Australia\", \"Pakistan\", \"India\", \"United\", \"United\", \"United\", \"United\", \"United\", \"Canada,\", \"Egypt\", \"India\", \"United\", \"United\", \"Canada,\", \"United\", \"United\", \"Mexico\", \"India\", \"United\", \"India\", \"India\", \"India\", \"India\", \"India\", \"Mexico\", \"China\", \"Egypt,\", \"India\", \"India\", \"India\", \"France,\", \"United\", \"Thailand\", \"Thailand\", \"Thailand\", \"Singapore\", \"United\", \"South\", \"United\", \"Japan,\", \"United\", \"United\", \"Russia,\", \"United\", \"South\", \"United\", \"South\", \"United\", \"United\", \"United\", \"United\", \"Mexico\", \"Croatia,\", \"Philippines\", \"United\", \"United\", \"United\", \"Turkey\", \"Philippines\", \"Taiwan\", \"Mexico\", \"United\", \"United\", \"Hong\", \"United\", \"United\", \"Japan\", \"Taiwan\", \"Spain,\", \"Singapore\", \"India\", \"United\", \"United\", \"Egypt,\", \"Egypt\", \"Japan\", \"Japan,\", \"Spain\", \"Australia\", \"Turkey\", \"India\", \"United\", \"Brazil\", \"United\", \"United\", \"United\", \"Egypt\", \"Canada,\", \"India\", \"India\", \"India\", \"United\", \"France\", \"Pakistan\", \"Pakistan\", \"India\", \"United\", \"United\", \"Spain\", \"Mexico\", \"United\", \"Japan\", \"India\", \"United\", \"United\", \"Mexico\", \"India\", \"United\", \"Sweden,\", \"India\", \"United\", \"Australia\", \"United\"], \"xaxis\": \"x\", \"yaxis\": \"y\"}],\n",
              "                        {\"barmode\": \"relative\", \"legend\": {\"tracegroupgap\": 0}, \"margin\": {\"t\": 60}, \"template\": {\"data\": {\"bar\": [{\"error_x\": {\"color\": \"#2a3f5f\"}, \"error_y\": {\"color\": \"#2a3f5f\"}, \"marker\": {\"line\": {\"color\": \"#E5ECF6\", \"width\": 0.5}}, \"type\": \"bar\"}], \"barpolar\": [{\"marker\": {\"line\": {\"color\": \"#E5ECF6\", \"width\": 0.5}}, \"type\": \"barpolar\"}], \"carpet\": [{\"aaxis\": {\"endlinecolor\": \"#2a3f5f\", \"gridcolor\": \"white\", \"linecolor\": \"white\", \"minorgridcolor\": \"white\", \"startlinecolor\": \"#2a3f5f\"}, \"baxis\": {\"endlinecolor\": \"#2a3f5f\", \"gridcolor\": \"white\", \"linecolor\": \"white\", \"minorgridcolor\": \"white\", \"startlinecolor\": \"#2a3f5f\"}, \"type\": \"carpet\"}], \"choropleth\": [{\"colorbar\": {\"outlinewidth\": 0, \"ticks\": \"\"}, \"type\": \"choropleth\"}], \"contour\": [{\"colorbar\": {\"outlinewidth\": 0, \"ticks\": \"\"}, \"colorscale\": [[0.0, \"#0d0887\"], [0.1111111111111111, \"#46039f\"], [0.2222222222222222, \"#7201a8\"], [0.3333333333333333, \"#9c179e\"], [0.4444444444444444, \"#bd3786\"], [0.5555555555555556, \"#d8576b\"], [0.6666666666666666, \"#ed7953\"], [0.7777777777777778, \"#fb9f3a\"], [0.8888888888888888, \"#fdca26\"], [1.0, \"#f0f921\"]], \"type\": \"contour\"}], \"contourcarpet\": [{\"colorbar\": {\"outlinewidth\": 0, \"ticks\": \"\"}, \"type\": \"contourcarpet\"}], \"heatmap\": [{\"colorbar\": {\"outlinewidth\": 0, \"ticks\": \"\"}, \"colorscale\": [[0.0, \"#0d0887\"], [0.1111111111111111, \"#46039f\"], [0.2222222222222222, \"#7201a8\"], [0.3333333333333333, \"#9c179e\"], [0.4444444444444444, \"#bd3786\"], [0.5555555555555556, \"#d8576b\"], [0.6666666666666666, \"#ed7953\"], [0.7777777777777778, \"#fb9f3a\"], [0.8888888888888888, \"#fdca26\"], [1.0, \"#f0f921\"]], \"type\": \"heatmap\"}], \"heatmapgl\": [{\"colorbar\": {\"outlinewidth\": 0, \"ticks\": \"\"}, \"colorscale\": [[0.0, \"#0d0887\"], [0.1111111111111111, \"#46039f\"], [0.2222222222222222, \"#7201a8\"], [0.3333333333333333, \"#9c179e\"], [0.4444444444444444, \"#bd3786\"], [0.5555555555555556, \"#d8576b\"], [0.6666666666666666, \"#ed7953\"], [0.7777777777777778, \"#fb9f3a\"], [0.8888888888888888, \"#fdca26\"], [1.0, \"#f0f921\"]], \"type\": \"heatmapgl\"}], \"histogram\": [{\"marker\": {\"colorbar\": {\"outlinewidth\": 0, \"ticks\": \"\"}}, \"type\": \"histogram\"}], \"histogram2d\": [{\"colorbar\": {\"outlinewidth\": 0, \"ticks\": \"\"}, \"colorscale\": [[0.0, \"#0d0887\"], [0.1111111111111111, \"#46039f\"], [0.2222222222222222, \"#7201a8\"], [0.3333333333333333, \"#9c179e\"], [0.4444444444444444, \"#bd3786\"], [0.5555555555555556, \"#d8576b\"], [0.6666666666666666, \"#ed7953\"], [0.7777777777777778, \"#fb9f3a\"], [0.8888888888888888, \"#fdca26\"], [1.0, \"#f0f921\"]], \"type\": \"histogram2d\"}], \"histogram2dcontour\": [{\"colorbar\": {\"outlinewidth\": 0, \"ticks\": \"\"}, \"colorscale\": [[0.0, \"#0d0887\"], [0.1111111111111111, \"#46039f\"], [0.2222222222222222, \"#7201a8\"], [0.3333333333333333, \"#9c179e\"], [0.4444444444444444, \"#bd3786\"], [0.5555555555555556, \"#d8576b\"], [0.6666666666666666, \"#ed7953\"], [0.7777777777777778, \"#fb9f3a\"], [0.8888888888888888, \"#fdca26\"], [1.0, \"#f0f921\"]], \"type\": \"histogram2dcontour\"}], \"mesh3d\": [{\"colorbar\": {\"outlinewidth\": 0, \"ticks\": \"\"}, \"type\": \"mesh3d\"}], \"parcoords\": [{\"line\": {\"colorbar\": {\"outlinewidth\": 0, \"ticks\": \"\"}}, \"type\": \"parcoords\"}], \"pie\": [{\"automargin\": true, \"type\": \"pie\"}], \"scatter\": [{\"marker\": {\"colorbar\": {\"outlinewidth\": 0, \"ticks\": \"\"}}, \"type\": \"scatter\"}], \"scatter3d\": [{\"line\": {\"colorbar\": {\"outlinewidth\": 0, \"ticks\": \"\"}}, \"marker\": {\"colorbar\": {\"outlinewidth\": 0, \"ticks\": \"\"}}, \"type\": \"scatter3d\"}], \"scattercarpet\": [{\"marker\": {\"colorbar\": {\"outlinewidth\": 0, \"ticks\": \"\"}}, \"type\": \"scattercarpet\"}], \"scattergeo\": [{\"marker\": {\"colorbar\": {\"outlinewidth\": 0, \"ticks\": \"\"}}, \"type\": \"scattergeo\"}], \"scattergl\": [{\"marker\": {\"colorbar\": {\"outlinewidth\": 0, \"ticks\": \"\"}}, \"type\": \"scattergl\"}], \"scattermapbox\": [{\"marker\": {\"colorbar\": {\"outlinewidth\": 0, \"ticks\": \"\"}}, \"type\": \"scattermapbox\"}], \"scatterpolar\": [{\"marker\": {\"colorbar\": {\"outlinewidth\": 0, \"ticks\": \"\"}}, \"type\": \"scatterpolar\"}], \"scatterpolargl\": [{\"marker\": {\"colorbar\": {\"outlinewidth\": 0, \"ticks\": \"\"}}, \"type\": \"scatterpolargl\"}], \"scatterternary\": [{\"marker\": {\"colorbar\": {\"outlinewidth\": 0, \"ticks\": \"\"}}, \"type\": \"scatterternary\"}], \"surface\": [{\"colorbar\": {\"outlinewidth\": 0, \"ticks\": \"\"}, \"colorscale\": [[0.0, \"#0d0887\"], [0.1111111111111111, \"#46039f\"], [0.2222222222222222, \"#7201a8\"], [0.3333333333333333, \"#9c179e\"], [0.4444444444444444, \"#bd3786\"], [0.5555555555555556, \"#d8576b\"], [0.6666666666666666, \"#ed7953\"], [0.7777777777777778, \"#fb9f3a\"], [0.8888888888888888, \"#fdca26\"], [1.0, \"#f0f921\"]], \"type\": \"surface\"}], \"table\": [{\"cells\": {\"fill\": {\"color\": \"#EBF0F8\"}, \"line\": {\"color\": \"white\"}}, \"header\": {\"fill\": {\"color\": \"#C8D4E3\"}, \"line\": {\"color\": \"white\"}}, \"type\": \"table\"}]}, \"layout\": {\"annotationdefaults\": {\"arrowcolor\": \"#2a3f5f\", \"arrowhead\": 0, \"arrowwidth\": 1}, \"coloraxis\": {\"colorbar\": {\"outlinewidth\": 0, \"ticks\": \"\"}}, \"colorscale\": {\"diverging\": [[0, \"#8e0152\"], [0.1, \"#c51b7d\"], [0.2, \"#de77ae\"], [0.3, \"#f1b6da\"], [0.4, \"#fde0ef\"], [0.5, \"#f7f7f7\"], [0.6, \"#e6f5d0\"], [0.7, \"#b8e186\"], [0.8, \"#7fbc41\"], [0.9, \"#4d9221\"], [1, \"#276419\"]], \"sequential\": [[0.0, \"#0d0887\"], [0.1111111111111111, \"#46039f\"], [0.2222222222222222, \"#7201a8\"], [0.3333333333333333, \"#9c179e\"], [0.4444444444444444, \"#bd3786\"], [0.5555555555555556, \"#d8576b\"], [0.6666666666666666, \"#ed7953\"], [0.7777777777777778, \"#fb9f3a\"], [0.8888888888888888, \"#fdca26\"], [1.0, \"#f0f921\"]], \"sequentialminus\": [[0.0, \"#0d0887\"], [0.1111111111111111, \"#46039f\"], [0.2222222222222222, \"#7201a8\"], [0.3333333333333333, \"#9c179e\"], [0.4444444444444444, \"#bd3786\"], [0.5555555555555556, \"#d8576b\"], [0.6666666666666666, \"#ed7953\"], [0.7777777777777778, \"#fb9f3a\"], [0.8888888888888888, \"#fdca26\"], [1.0, \"#f0f921\"]]}, \"colorway\": [\"#636efa\", \"#EF553B\", \"#00cc96\", \"#ab63fa\", \"#FFA15A\", \"#19d3f3\", \"#FF6692\", \"#B6E880\", \"#FF97FF\", \"#FECB52\"], \"font\": {\"color\": \"#2a3f5f\"}, \"geo\": {\"bgcolor\": \"white\", \"lakecolor\": \"white\", \"landcolor\": \"#E5ECF6\", \"showlakes\": true, \"showland\": true, \"subunitcolor\": \"white\"}, \"hoverlabel\": {\"align\": \"left\"}, \"hovermode\": \"closest\", \"mapbox\": {\"style\": \"light\"}, \"paper_bgcolor\": \"white\", \"plot_bgcolor\": \"#E5ECF6\", \"polar\": {\"angularaxis\": {\"gridcolor\": \"white\", \"linecolor\": \"white\", \"ticks\": \"\"}, \"bgcolor\": \"#E5ECF6\", \"radialaxis\": {\"gridcolor\": \"white\", \"linecolor\": \"white\", \"ticks\": \"\"}}, \"scene\": {\"xaxis\": {\"backgroundcolor\": \"#E5ECF6\", \"gridcolor\": \"white\", \"gridwidth\": 2, \"linecolor\": \"white\", \"showbackground\": true, \"ticks\": \"\", \"zerolinecolor\": \"white\"}, \"yaxis\": {\"backgroundcolor\": \"#E5ECF6\", \"gridcolor\": \"white\", \"gridwidth\": 2, \"linecolor\": \"white\", \"showbackground\": true, \"ticks\": \"\", \"zerolinecolor\": \"white\"}, \"zaxis\": {\"backgroundcolor\": \"#E5ECF6\", \"gridcolor\": \"white\", \"gridwidth\": 2, \"linecolor\": \"white\", \"showbackground\": true, \"ticks\": \"\", \"zerolinecolor\": \"white\"}}, \"shapedefaults\": {\"line\": {\"color\": \"#2a3f5f\"}}, \"ternary\": {\"aaxis\": {\"gridcolor\": \"white\", \"linecolor\": \"white\", \"ticks\": \"\"}, \"baxis\": {\"gridcolor\": \"white\", \"linecolor\": \"white\", \"ticks\": \"\"}, \"bgcolor\": \"#E5ECF6\", \"caxis\": {\"gridcolor\": \"white\", \"linecolor\": \"white\", \"ticks\": \"\"}}, \"title\": {\"x\": 0.05}, \"xaxis\": {\"automargin\": true, \"gridcolor\": \"white\", \"linecolor\": \"white\", \"ticks\": \"\", \"title\": {\"standoff\": 15}, \"zerolinecolor\": \"white\", \"zerolinewidth\": 2}, \"yaxis\": {\"automargin\": true, \"gridcolor\": \"white\", \"linecolor\": \"white\", \"ticks\": \"\", \"title\": {\"standoff\": 15}, \"zerolinecolor\": \"white\", \"zerolinewidth\": 2}}}, \"xaxis\": {\"anchor\": \"y\", \"categoryorder\": \"total descending\", \"domain\": [0.0, 1.0], \"title\": {\"text\": \"principal_country\"}}, \"yaxis\": {\"anchor\": \"x\", \"domain\": [0.0, 1.0], \"title\": {\"text\": \"count\"}}},\n",
              "                        {\"responsive\": true}\n",
              "                    ).then(function(){\n",
              "                            \n",
              "var gd = document.getElementById('c2105799-5591-4cd1-9e5c-fcc829cbb7f2');\n",
              "var x = new MutationObserver(function (mutations, observer) {{\n",
              "        var display = window.getComputedStyle(gd).display;\n",
              "        if (!display || display === 'none') {{\n",
              "            console.log([gd, 'removed!']);\n",
              "            Plotly.purge(gd);\n",
              "            observer.disconnect();\n",
              "        }}\n",
              "}});\n",
              "\n",
              "// Listen for the removal of the full notebook cells\n",
              "var notebookContainer = gd.closest('#notebook-container');\n",
              "if (notebookContainer) {{\n",
              "    x.observe(notebookContainer, {childList: true});\n",
              "}}\n",
              "\n",
              "// Listen for the clearing of the current output cell\n",
              "var outputEl = gd.closest('.output');\n",
              "if (outputEl) {{\n",
              "    x.observe(outputEl, {childList: true});\n",
              "}}\n",
              "\n",
              "                        })\n",
              "                };\n",
              "                \n",
              "            </script>\n",
              "        </div>\n",
              "</body>\n",
              "</html>"
            ]
          },
          "metadata": {
            "tags": []
          }
        }
      ]
    },
    {
      "cell_type": "code",
      "metadata": {
        "colab": {
          "base_uri": "https://localhost:8080/",
          "height": 737
        },
        "id": "2Nx7Kp0l1bfL",
        "outputId": "5ff7afae-c97c-4e27-8184-1e19f1f5c834"
      },
      "source": [
        "data"
      ],
      "execution_count": 150,
      "outputs": [
        {
          "output_type": "execute_result",
          "data": {
            "text/html": [
              "<div>\n",
              "<style scoped>\n",
              "    .dataframe tbody tr th:only-of-type {\n",
              "        vertical-align: middle;\n",
              "    }\n",
              "\n",
              "    .dataframe tbody tr th {\n",
              "        vertical-align: top;\n",
              "    }\n",
              "\n",
              "    .dataframe thead th {\n",
              "        text-align: right;\n",
              "    }\n",
              "</style>\n",
              "<table border=\"1\" class=\"dataframe\">\n",
              "  <thead>\n",
              "    <tr style=\"text-align: right;\">\n",
              "      <th></th>\n",
              "      <th>show_id</th>\n",
              "      <th>type</th>\n",
              "      <th>title</th>\n",
              "      <th>country</th>\n",
              "      <th>date_added</th>\n",
              "      <th>release_year</th>\n",
              "      <th>rating</th>\n",
              "      <th>duration</th>\n",
              "      <th>listed_in</th>\n",
              "      <th>description</th>\n",
              "      <th>year_added</th>\n",
              "      <th>month_added</th>\n",
              "      <th>target_ages</th>\n",
              "      <th>principal_country</th>\n",
              "    </tr>\n",
              "  </thead>\n",
              "  <tbody>\n",
              "    <tr>\n",
              "      <th>0</th>\n",
              "      <td>s1</td>\n",
              "      <td>TV Show</td>\n",
              "      <td>3%</td>\n",
              "      <td>Brazil</td>\n",
              "      <td>August 14, 2020</td>\n",
              "      <td>2020</td>\n",
              "      <td>TV-MA</td>\n",
              "      <td>4 Seasons</td>\n",
              "      <td>International TV Shows, TV Dramas, TV Sci-Fi &amp;...</td>\n",
              "      <td>In a future where the elite inhabit an island ...</td>\n",
              "      <td>2020</td>\n",
              "      <td>August</td>\n",
              "      <td>Adults</td>\n",
              "      <td>Brazil</td>\n",
              "    </tr>\n",
              "    <tr>\n",
              "      <th>1</th>\n",
              "      <td>s2</td>\n",
              "      <td>Movie</td>\n",
              "      <td>7:19</td>\n",
              "      <td>Mexico</td>\n",
              "      <td>December 23, 2016</td>\n",
              "      <td>2016</td>\n",
              "      <td>TV-MA</td>\n",
              "      <td>93 min</td>\n",
              "      <td>Dramas, International Movies</td>\n",
              "      <td>After a devastating earthquake hits Mexico Cit...</td>\n",
              "      <td>2016</td>\n",
              "      <td>December</td>\n",
              "      <td>Adults</td>\n",
              "      <td>Mexico</td>\n",
              "    </tr>\n",
              "    <tr>\n",
              "      <th>2</th>\n",
              "      <td>s3</td>\n",
              "      <td>Movie</td>\n",
              "      <td>23:59</td>\n",
              "      <td>Singapore</td>\n",
              "      <td>December 20, 2018</td>\n",
              "      <td>2011</td>\n",
              "      <td>R</td>\n",
              "      <td>78 min</td>\n",
              "      <td>Horror Movies, International Movies</td>\n",
              "      <td>When an army recruit is found dead, his fellow...</td>\n",
              "      <td>2018</td>\n",
              "      <td>December</td>\n",
              "      <td>Adults</td>\n",
              "      <td>Singapore</td>\n",
              "    </tr>\n",
              "    <tr>\n",
              "      <th>3</th>\n",
              "      <td>s4</td>\n",
              "      <td>Movie</td>\n",
              "      <td>9</td>\n",
              "      <td>United States</td>\n",
              "      <td>November 16, 2017</td>\n",
              "      <td>2009</td>\n",
              "      <td>PG-13</td>\n",
              "      <td>80 min</td>\n",
              "      <td>Action &amp; Adventure, Independent Movies, Sci-Fi...</td>\n",
              "      <td>In a postapocalyptic world, rag-doll robots hi...</td>\n",
              "      <td>2017</td>\n",
              "      <td>November</td>\n",
              "      <td>Teens</td>\n",
              "      <td>United</td>\n",
              "    </tr>\n",
              "    <tr>\n",
              "      <th>4</th>\n",
              "      <td>s5</td>\n",
              "      <td>Movie</td>\n",
              "      <td>21</td>\n",
              "      <td>United States</td>\n",
              "      <td>January 1, 2020</td>\n",
              "      <td>2008</td>\n",
              "      <td>PG-13</td>\n",
              "      <td>123 min</td>\n",
              "      <td>Dramas</td>\n",
              "      <td>A brilliant group of students become card-coun...</td>\n",
              "      <td>2020</td>\n",
              "      <td>January</td>\n",
              "      <td>Teens</td>\n",
              "      <td>United</td>\n",
              "    </tr>\n",
              "    <tr>\n",
              "      <th>...</th>\n",
              "      <td>...</td>\n",
              "      <td>...</td>\n",
              "      <td>...</td>\n",
              "      <td>...</td>\n",
              "      <td>...</td>\n",
              "      <td>...</td>\n",
              "      <td>...</td>\n",
              "      <td>...</td>\n",
              "      <td>...</td>\n",
              "      <td>...</td>\n",
              "      <td>...</td>\n",
              "      <td>...</td>\n",
              "      <td>...</td>\n",
              "      <td>...</td>\n",
              "    </tr>\n",
              "    <tr>\n",
              "      <th>7782</th>\n",
              "      <td>s7783</td>\n",
              "      <td>Movie</td>\n",
              "      <td>Zozo</td>\n",
              "      <td>Sweden, Czech Republic, United Kingdom, Denmar...</td>\n",
              "      <td>October 19, 2020</td>\n",
              "      <td>2005</td>\n",
              "      <td>TV-MA</td>\n",
              "      <td>99 min</td>\n",
              "      <td>Dramas, International Movies</td>\n",
              "      <td>When Lebanon's Civil War deprives Zozo of his ...</td>\n",
              "      <td>2020</td>\n",
              "      <td>October</td>\n",
              "      <td>Adults</td>\n",
              "      <td>Sweden,</td>\n",
              "    </tr>\n",
              "    <tr>\n",
              "      <th>7783</th>\n",
              "      <td>s7784</td>\n",
              "      <td>Movie</td>\n",
              "      <td>Zubaan</td>\n",
              "      <td>India</td>\n",
              "      <td>March 2, 2019</td>\n",
              "      <td>2015</td>\n",
              "      <td>TV-14</td>\n",
              "      <td>111 min</td>\n",
              "      <td>Dramas, International Movies, Music &amp; Musicals</td>\n",
              "      <td>A scrappy but poor boy worms his way into a ty...</td>\n",
              "      <td>2019</td>\n",
              "      <td>March</td>\n",
              "      <td>Teens</td>\n",
              "      <td>India</td>\n",
              "    </tr>\n",
              "    <tr>\n",
              "      <th>7784</th>\n",
              "      <td>s7785</td>\n",
              "      <td>Movie</td>\n",
              "      <td>Zulu Man in Japan</td>\n",
              "      <td>United States</td>\n",
              "      <td>September 25, 2020</td>\n",
              "      <td>2019</td>\n",
              "      <td>TV-MA</td>\n",
              "      <td>44 min</td>\n",
              "      <td>Documentaries, International Movies, Music &amp; M...</td>\n",
              "      <td>In this documentary, South African rapper Nast...</td>\n",
              "      <td>2020</td>\n",
              "      <td>September</td>\n",
              "      <td>Adults</td>\n",
              "      <td>United</td>\n",
              "    </tr>\n",
              "    <tr>\n",
              "      <th>7785</th>\n",
              "      <td>s7786</td>\n",
              "      <td>TV Show</td>\n",
              "      <td>Zumbo's Just Desserts</td>\n",
              "      <td>Australia</td>\n",
              "      <td>October 31, 2020</td>\n",
              "      <td>2019</td>\n",
              "      <td>TV-PG</td>\n",
              "      <td>1 Season</td>\n",
              "      <td>International TV Shows, Reality TV</td>\n",
              "      <td>Dessert wizard Adriano Zumbo looks for the nex...</td>\n",
              "      <td>2020</td>\n",
              "      <td>October</td>\n",
              "      <td>Older Kids</td>\n",
              "      <td>Australia</td>\n",
              "    </tr>\n",
              "    <tr>\n",
              "      <th>7786</th>\n",
              "      <td>s7787</td>\n",
              "      <td>Movie</td>\n",
              "      <td>ZZ TOP: THAT LITTLE OL' BAND FROM TEXAS</td>\n",
              "      <td>United Kingdom, Canada, United States</td>\n",
              "      <td>March 1, 2020</td>\n",
              "      <td>2019</td>\n",
              "      <td>TV-MA</td>\n",
              "      <td>90 min</td>\n",
              "      <td>Documentaries, Music &amp; Musicals</td>\n",
              "      <td>This documentary delves into the mystique behi...</td>\n",
              "      <td>2020</td>\n",
              "      <td>March</td>\n",
              "      <td>Adults</td>\n",
              "      <td>United</td>\n",
              "    </tr>\n",
              "  </tbody>\n",
              "</table>\n",
              "<p>7777 rows × 14 columns</p>\n",
              "</div>"
            ],
            "text/plain": [
              "     show_id     type  ... target_ages principal_country\n",
              "0         s1  TV Show  ...      Adults            Brazil\n",
              "1         s2    Movie  ...      Adults            Mexico\n",
              "2         s3    Movie  ...      Adults         Singapore\n",
              "3         s4    Movie  ...       Teens            United\n",
              "4         s5    Movie  ...       Teens            United\n",
              "...      ...      ...  ...         ...               ...\n",
              "7782   s7783    Movie  ...      Adults           Sweden,\n",
              "7783   s7784    Movie  ...       Teens             India\n",
              "7784   s7785    Movie  ...      Adults            United\n",
              "7785   s7786  TV Show  ...  Older Kids         Australia\n",
              "7786   s7787    Movie  ...      Adults            United\n",
              "\n",
              "[7777 rows x 14 columns]"
            ]
          },
          "metadata": {
            "tags": []
          },
          "execution_count": 150
        }
      ]
    },
    {
      "cell_type": "markdown",
      "metadata": {
        "id": "CdJiRf1Z312p"
      },
      "source": [
        "\n",
        "發佈內容\n",
        "我們可以看到，在過去的幾年中，內容製作的數量在增加"
      ]
    },
    {
      "cell_type": "code",
      "metadata": {
        "colab": {
          "base_uri": "https://localhost:8080/",
          "height": 727
        },
        "id": "xjnzWpd_33Qv",
        "outputId": "4e41b93c-9c34-4b8f-b553-02cbfe56392b"
      },
      "source": [
        "released_year_df=data.loc[data['release_year']>2010].groupby(['release_year','type']).agg({'show_id':'count'}).reset_index()\n",
        "#released_year_df=released_year_df.sort_values('type').sort_values('release_year')\n",
        "released_year_df.columns=['release_year','type','count']\n",
        "released_year_df"
      ],
      "execution_count": 151,
      "outputs": [
        {
          "output_type": "execute_result",
          "data": {
            "text/html": [
              "<div>\n",
              "<style scoped>\n",
              "    .dataframe tbody tr th:only-of-type {\n",
              "        vertical-align: middle;\n",
              "    }\n",
              "\n",
              "    .dataframe tbody tr th {\n",
              "        vertical-align: top;\n",
              "    }\n",
              "\n",
              "    .dataframe thead th {\n",
              "        text-align: right;\n",
              "    }\n",
              "</style>\n",
              "<table border=\"1\" class=\"dataframe\">\n",
              "  <thead>\n",
              "    <tr style=\"text-align: right;\">\n",
              "      <th></th>\n",
              "      <th>release_year</th>\n",
              "      <th>type</th>\n",
              "      <th>count</th>\n",
              "    </tr>\n",
              "  </thead>\n",
              "  <tbody>\n",
              "    <tr>\n",
              "      <th>0</th>\n",
              "      <td>2011</td>\n",
              "      <td>Movie</td>\n",
              "      <td>127</td>\n",
              "    </tr>\n",
              "    <tr>\n",
              "      <th>1</th>\n",
              "      <td>2011</td>\n",
              "      <td>TV Show</td>\n",
              "      <td>39</td>\n",
              "    </tr>\n",
              "    <tr>\n",
              "      <th>2</th>\n",
              "      <td>2012</td>\n",
              "      <td>Movie</td>\n",
              "      <td>158</td>\n",
              "    </tr>\n",
              "    <tr>\n",
              "      <th>3</th>\n",
              "      <td>2012</td>\n",
              "      <td>TV Show</td>\n",
              "      <td>60</td>\n",
              "    </tr>\n",
              "    <tr>\n",
              "      <th>4</th>\n",
              "      <td>2013</td>\n",
              "      <td>Movie</td>\n",
              "      <td>202</td>\n",
              "    </tr>\n",
              "    <tr>\n",
              "      <th>5</th>\n",
              "      <td>2013</td>\n",
              "      <td>TV Show</td>\n",
              "      <td>64</td>\n",
              "    </tr>\n",
              "    <tr>\n",
              "      <th>6</th>\n",
              "      <td>2014</td>\n",
              "      <td>Movie</td>\n",
              "      <td>244</td>\n",
              "    </tr>\n",
              "    <tr>\n",
              "      <th>7</th>\n",
              "      <td>2014</td>\n",
              "      <td>TV Show</td>\n",
              "      <td>90</td>\n",
              "    </tr>\n",
              "    <tr>\n",
              "      <th>8</th>\n",
              "      <td>2015</td>\n",
              "      <td>Movie</td>\n",
              "      <td>382</td>\n",
              "    </tr>\n",
              "    <tr>\n",
              "      <th>9</th>\n",
              "      <td>2015</td>\n",
              "      <td>TV Show</td>\n",
              "      <td>157</td>\n",
              "    </tr>\n",
              "    <tr>\n",
              "      <th>10</th>\n",
              "      <td>2016</td>\n",
              "      <td>Movie</td>\n",
              "      <td>642</td>\n",
              "    </tr>\n",
              "    <tr>\n",
              "      <th>11</th>\n",
              "      <td>2016</td>\n",
              "      <td>TV Show</td>\n",
              "      <td>239</td>\n",
              "    </tr>\n",
              "    <tr>\n",
              "      <th>12</th>\n",
              "      <td>2017</td>\n",
              "      <td>Movie</td>\n",
              "      <td>744</td>\n",
              "    </tr>\n",
              "    <tr>\n",
              "      <th>13</th>\n",
              "      <td>2017</td>\n",
              "      <td>TV Show</td>\n",
              "      <td>268</td>\n",
              "    </tr>\n",
              "    <tr>\n",
              "      <th>14</th>\n",
              "      <td>2018</td>\n",
              "      <td>Movie</td>\n",
              "      <td>734</td>\n",
              "    </tr>\n",
              "    <tr>\n",
              "      <th>15</th>\n",
              "      <td>2018</td>\n",
              "      <td>TV Show</td>\n",
              "      <td>386</td>\n",
              "    </tr>\n",
              "    <tr>\n",
              "      <th>16</th>\n",
              "      <td>2019</td>\n",
              "      <td>Movie</td>\n",
              "      <td>582</td>\n",
              "    </tr>\n",
              "    <tr>\n",
              "      <th>17</th>\n",
              "      <td>2019</td>\n",
              "      <td>TV Show</td>\n",
              "      <td>414</td>\n",
              "    </tr>\n",
              "    <tr>\n",
              "      <th>18</th>\n",
              "      <td>2020</td>\n",
              "      <td>Movie</td>\n",
              "      <td>411</td>\n",
              "    </tr>\n",
              "    <tr>\n",
              "      <th>19</th>\n",
              "      <td>2020</td>\n",
              "      <td>TV Show</td>\n",
              "      <td>457</td>\n",
              "    </tr>\n",
              "    <tr>\n",
              "      <th>20</th>\n",
              "      <td>2021</td>\n",
              "      <td>Movie</td>\n",
              "      <td>12</td>\n",
              "    </tr>\n",
              "    <tr>\n",
              "      <th>21</th>\n",
              "      <td>2021</td>\n",
              "      <td>TV Show</td>\n",
              "      <td>19</td>\n",
              "    </tr>\n",
              "  </tbody>\n",
              "</table>\n",
              "</div>"
            ],
            "text/plain": [
              "    release_year     type  count\n",
              "0           2011    Movie    127\n",
              "1           2011  TV Show     39\n",
              "2           2012    Movie    158\n",
              "3           2012  TV Show     60\n",
              "4           2013    Movie    202\n",
              "5           2013  TV Show     64\n",
              "6           2014    Movie    244\n",
              "7           2014  TV Show     90\n",
              "8           2015    Movie    382\n",
              "9           2015  TV Show    157\n",
              "10          2016    Movie    642\n",
              "11          2016  TV Show    239\n",
              "12          2017    Movie    744\n",
              "13          2017  TV Show    268\n",
              "14          2018    Movie    734\n",
              "15          2018  TV Show    386\n",
              "16          2019    Movie    582\n",
              "17          2019  TV Show    414\n",
              "18          2020    Movie    411\n",
              "19          2020  TV Show    457\n",
              "20          2021    Movie     12\n",
              "21          2021  TV Show     19"
            ]
          },
          "metadata": {
            "tags": []
          },
          "execution_count": 151
        }
      ]
    },
    {
      "cell_type": "code",
      "metadata": {
        "colab": {
          "base_uri": "https://localhost:8080/",
          "height": 727
        },
        "id": "4oBHfMg07zJ1",
        "outputId": "b84f0b8f-c6cd-4857-bc0d-cb3e39e215f8"
      },
      "source": [
        "added_year_df = data.loc[data['year_added'] > 2010].groupby(['year_added', 'type']).agg({'show_id': 'count'}).reset_index()\n",
        "added_year_df.columns=['year_added','type','count']\n",
        "added_year_df"
      ],
      "execution_count": 152,
      "outputs": [
        {
          "output_type": "execute_result",
          "data": {
            "text/html": [
              "<div>\n",
              "<style scoped>\n",
              "    .dataframe tbody tr th:only-of-type {\n",
              "        vertical-align: middle;\n",
              "    }\n",
              "\n",
              "    .dataframe tbody tr th {\n",
              "        vertical-align: top;\n",
              "    }\n",
              "\n",
              "    .dataframe thead th {\n",
              "        text-align: right;\n",
              "    }\n",
              "</style>\n",
              "<table border=\"1\" class=\"dataframe\">\n",
              "  <thead>\n",
              "    <tr style=\"text-align: right;\">\n",
              "      <th></th>\n",
              "      <th>year_added</th>\n",
              "      <th>type</th>\n",
              "      <th>count</th>\n",
              "    </tr>\n",
              "  </thead>\n",
              "  <tbody>\n",
              "    <tr>\n",
              "      <th>0</th>\n",
              "      <td>2011</td>\n",
              "      <td>Movie</td>\n",
              "      <td>13</td>\n",
              "    </tr>\n",
              "    <tr>\n",
              "      <th>1</th>\n",
              "      <td>2011</td>\n",
              "      <td>TV Show</td>\n",
              "      <td>0</td>\n",
              "    </tr>\n",
              "    <tr>\n",
              "      <th>2</th>\n",
              "      <td>2012</td>\n",
              "      <td>Movie</td>\n",
              "      <td>3</td>\n",
              "    </tr>\n",
              "    <tr>\n",
              "      <th>3</th>\n",
              "      <td>2012</td>\n",
              "      <td>TV Show</td>\n",
              "      <td>0</td>\n",
              "    </tr>\n",
              "    <tr>\n",
              "      <th>4</th>\n",
              "      <td>2013</td>\n",
              "      <td>Movie</td>\n",
              "      <td>6</td>\n",
              "    </tr>\n",
              "    <tr>\n",
              "      <th>5</th>\n",
              "      <td>2013</td>\n",
              "      <td>TV Show</td>\n",
              "      <td>5</td>\n",
              "    </tr>\n",
              "    <tr>\n",
              "      <th>6</th>\n",
              "      <td>2014</td>\n",
              "      <td>Movie</td>\n",
              "      <td>19</td>\n",
              "    </tr>\n",
              "    <tr>\n",
              "      <th>7</th>\n",
              "      <td>2014</td>\n",
              "      <td>TV Show</td>\n",
              "      <td>6</td>\n",
              "    </tr>\n",
              "    <tr>\n",
              "      <th>8</th>\n",
              "      <td>2015</td>\n",
              "      <td>Movie</td>\n",
              "      <td>58</td>\n",
              "    </tr>\n",
              "    <tr>\n",
              "      <th>9</th>\n",
              "      <td>2015</td>\n",
              "      <td>TV Show</td>\n",
              "      <td>30</td>\n",
              "    </tr>\n",
              "    <tr>\n",
              "      <th>10</th>\n",
              "      <td>2016</td>\n",
              "      <td>Movie</td>\n",
              "      <td>258</td>\n",
              "    </tr>\n",
              "    <tr>\n",
              "      <th>11</th>\n",
              "      <td>2016</td>\n",
              "      <td>TV Show</td>\n",
              "      <td>185</td>\n",
              "    </tr>\n",
              "    <tr>\n",
              "      <th>12</th>\n",
              "      <td>2017</td>\n",
              "      <td>Movie</td>\n",
              "      <td>864</td>\n",
              "    </tr>\n",
              "    <tr>\n",
              "      <th>13</th>\n",
              "      <td>2017</td>\n",
              "      <td>TV Show</td>\n",
              "      <td>361</td>\n",
              "    </tr>\n",
              "    <tr>\n",
              "      <th>14</th>\n",
              "      <td>2018</td>\n",
              "      <td>Movie</td>\n",
              "      <td>1255</td>\n",
              "    </tr>\n",
              "    <tr>\n",
              "      <th>15</th>\n",
              "      <td>2018</td>\n",
              "      <td>TV Show</td>\n",
              "      <td>430</td>\n",
              "    </tr>\n",
              "    <tr>\n",
              "      <th>16</th>\n",
              "      <td>2019</td>\n",
              "      <td>Movie</td>\n",
              "      <td>1497</td>\n",
              "    </tr>\n",
              "    <tr>\n",
              "      <th>17</th>\n",
              "      <td>2019</td>\n",
              "      <td>TV Show</td>\n",
              "      <td>656</td>\n",
              "    </tr>\n",
              "    <tr>\n",
              "      <th>18</th>\n",
              "      <td>2020</td>\n",
              "      <td>Movie</td>\n",
              "      <td>1312</td>\n",
              "    </tr>\n",
              "    <tr>\n",
              "      <th>19</th>\n",
              "      <td>2020</td>\n",
              "      <td>TV Show</td>\n",
              "      <td>697</td>\n",
              "    </tr>\n",
              "    <tr>\n",
              "      <th>20</th>\n",
              "      <td>2021</td>\n",
              "      <td>Movie</td>\n",
              "      <td>88</td>\n",
              "    </tr>\n",
              "    <tr>\n",
              "      <th>21</th>\n",
              "      <td>2021</td>\n",
              "      <td>TV Show</td>\n",
              "      <td>29</td>\n",
              "    </tr>\n",
              "  </tbody>\n",
              "</table>\n",
              "</div>"
            ],
            "text/plain": [
              "    year_added     type  count\n",
              "0         2011    Movie     13\n",
              "1         2011  TV Show      0\n",
              "2         2012    Movie      3\n",
              "3         2012  TV Show      0\n",
              "4         2013    Movie      6\n",
              "5         2013  TV Show      5\n",
              "6         2014    Movie     19\n",
              "7         2014  TV Show      6\n",
              "8         2015    Movie     58\n",
              "9         2015  TV Show     30\n",
              "10        2016    Movie    258\n",
              "11        2016  TV Show    185\n",
              "12        2017    Movie    864\n",
              "13        2017  TV Show    361\n",
              "14        2018    Movie   1255\n",
              "15        2018  TV Show    430\n",
              "16        2019    Movie   1497\n",
              "17        2019  TV Show    656\n",
              "18        2020    Movie   1312\n",
              "19        2020  TV Show    697\n",
              "20        2021    Movie     88\n",
              "21        2021  TV Show     29"
            ]
          },
          "metadata": {
            "tags": []
          },
          "execution_count": 152
        }
      ]
    },
    {
      "cell_type": "code",
      "metadata": {
        "colab": {
          "base_uri": "https://localhost:8080/",
          "height": 542
        },
        "id": "o0u2rXbz4ATL",
        "outputId": "a4e0c507-c4ec-4111-85cd-dd502e224157"
      },
      "source": [
        "fig = go.Figure()\n",
        "fig.add_trace(go.Scatter( \n",
        "    x=released_year_df.loc[released_year_df['type'] == 'Movie']['release_year'], \n",
        "    y=released_year_df.loc[released_year_df['type'] == 'Movie']['count'],\n",
        "    mode='lines+markers',\n",
        "    name='Movie: Released Year',\n",
        "    marker_color='green',\n",
        "))\n",
        "fig.add_trace(go.Scatter( \n",
        "    x=released_year_df.loc[released_year_df['type'] == 'TV Show']['release_year'], \n",
        "    y=released_year_df.loc[released_year_df['type'] == 'TV Show']['count'],\n",
        "    mode='lines+markers',\n",
        "    name='TV Show: Released Year',\n",
        "    marker_color='darkgreen',\n",
        "))\n",
        "fig.add_trace(go.Scatter( \n",
        "    x=added_year_df.loc[added_year_df['type'] == 'Movie']['year_added'], \n",
        "    y=added_year_df.loc[added_year_df['type'] == 'Movie']['count'],\n",
        "    mode='lines+markers',\n",
        "    name='Movie: Year Added',\n",
        "    marker_color='orange',\n",
        "))\n",
        "fig.add_trace(go.Scatter( \n",
        "    x=added_year_df.loc[added_year_df['type'] == 'TV Show']['year_added'], \n",
        "    y=added_year_df.loc[added_year_df['type'] == 'TV Show']['count'],\n",
        "    mode='lines+markers',\n",
        "    name='TV Show: Year Added',\n",
        "    marker_color='darkorange',\n",
        "))\n",
        "fig.update_xaxes(categoryorder='total descending')\n",
        "fig.show()"
      ],
      "execution_count": 153,
      "outputs": [
        {
          "output_type": "display_data",
          "data": {
            "text/html": [
              "<html>\n",
              "<head><meta charset=\"utf-8\" /></head>\n",
              "<body>\n",
              "    <div>\n",
              "            <script src=\"https://cdnjs.cloudflare.com/ajax/libs/mathjax/2.7.5/MathJax.js?config=TeX-AMS-MML_SVG\"></script><script type=\"text/javascript\">if (window.MathJax) {MathJax.Hub.Config({SVG: {font: \"STIX-Web\"}});}</script>\n",
              "                <script type=\"text/javascript\">window.PlotlyConfig = {MathJaxConfig: 'local'};</script>\n",
              "        <script src=\"https://cdn.plot.ly/plotly-latest.min.js\"></script>    \n",
              "            <div id=\"893ca0e6-98be-4bfa-9984-f14ae3587710\" class=\"plotly-graph-div\" style=\"height:525px; width:100%;\"></div>\n",
              "            <script type=\"text/javascript\">\n",
              "                \n",
              "                    window.PLOTLYENV=window.PLOTLYENV || {};\n",
              "                    \n",
              "                if (document.getElementById(\"893ca0e6-98be-4bfa-9984-f14ae3587710\")) {\n",
              "                    Plotly.newPlot(\n",
              "                        '893ca0e6-98be-4bfa-9984-f14ae3587710',\n",
              "                        [{\"marker\": {\"color\": \"green\"}, \"mode\": \"lines+markers\", \"name\": \"Movie: Released Year\", \"type\": \"scatter\", \"x\": [2011, 2012, 2013, 2014, 2015, 2016, 2017, 2018, 2019, 2020, 2021], \"y\": [127, 158, 202, 244, 382, 642, 744, 734, 582, 411, 12]}, {\"marker\": {\"color\": \"darkgreen\"}, \"mode\": \"lines+markers\", \"name\": \"TV Show: Released Year\", \"type\": \"scatter\", \"x\": [2011, 2012, 2013, 2014, 2015, 2016, 2017, 2018, 2019, 2020, 2021], \"y\": [39, 60, 64, 90, 157, 239, 268, 386, 414, 457, 19]}, {\"marker\": {\"color\": \"orange\"}, \"mode\": \"lines+markers\", \"name\": \"Movie: Year Added\", \"type\": \"scatter\", \"x\": [2011, 2012, 2013, 2014, 2015, 2016, 2017, 2018, 2019, 2020, 2021], \"y\": [13, 3, 6, 19, 58, 258, 864, 1255, 1497, 1312, 88]}, {\"marker\": {\"color\": \"darkorange\"}, \"mode\": \"lines+markers\", \"name\": \"TV Show: Year Added\", \"type\": \"scatter\", \"x\": [2011, 2012, 2013, 2014, 2015, 2016, 2017, 2018, 2019, 2020, 2021], \"y\": [0, 0, 5, 6, 30, 185, 361, 430, 656, 697, 29]}],\n",
              "                        {\"template\": {\"data\": {\"bar\": [{\"error_x\": {\"color\": \"#2a3f5f\"}, \"error_y\": {\"color\": \"#2a3f5f\"}, \"marker\": {\"line\": {\"color\": \"#E5ECF6\", \"width\": 0.5}}, \"type\": \"bar\"}], \"barpolar\": [{\"marker\": {\"line\": {\"color\": \"#E5ECF6\", \"width\": 0.5}}, \"type\": \"barpolar\"}], \"carpet\": [{\"aaxis\": {\"endlinecolor\": \"#2a3f5f\", \"gridcolor\": \"white\", \"linecolor\": \"white\", \"minorgridcolor\": \"white\", \"startlinecolor\": \"#2a3f5f\"}, \"baxis\": {\"endlinecolor\": \"#2a3f5f\", \"gridcolor\": \"white\", \"linecolor\": \"white\", \"minorgridcolor\": \"white\", \"startlinecolor\": \"#2a3f5f\"}, \"type\": \"carpet\"}], \"choropleth\": [{\"colorbar\": {\"outlinewidth\": 0, \"ticks\": \"\"}, \"type\": \"choropleth\"}], \"contour\": [{\"colorbar\": {\"outlinewidth\": 0, \"ticks\": \"\"}, \"colorscale\": [[0.0, \"#0d0887\"], [0.1111111111111111, \"#46039f\"], [0.2222222222222222, \"#7201a8\"], [0.3333333333333333, \"#9c179e\"], [0.4444444444444444, \"#bd3786\"], [0.5555555555555556, \"#d8576b\"], [0.6666666666666666, \"#ed7953\"], [0.7777777777777778, \"#fb9f3a\"], [0.8888888888888888, \"#fdca26\"], [1.0, \"#f0f921\"]], \"type\": \"contour\"}], \"contourcarpet\": [{\"colorbar\": {\"outlinewidth\": 0, \"ticks\": \"\"}, \"type\": \"contourcarpet\"}], \"heatmap\": [{\"colorbar\": {\"outlinewidth\": 0, \"ticks\": \"\"}, \"colorscale\": [[0.0, \"#0d0887\"], [0.1111111111111111, \"#46039f\"], [0.2222222222222222, \"#7201a8\"], [0.3333333333333333, \"#9c179e\"], [0.4444444444444444, \"#bd3786\"], [0.5555555555555556, \"#d8576b\"], [0.6666666666666666, \"#ed7953\"], [0.7777777777777778, \"#fb9f3a\"], [0.8888888888888888, \"#fdca26\"], [1.0, \"#f0f921\"]], \"type\": \"heatmap\"}], \"heatmapgl\": [{\"colorbar\": {\"outlinewidth\": 0, \"ticks\": \"\"}, \"colorscale\": [[0.0, \"#0d0887\"], [0.1111111111111111, \"#46039f\"], [0.2222222222222222, \"#7201a8\"], [0.3333333333333333, \"#9c179e\"], [0.4444444444444444, \"#bd3786\"], [0.5555555555555556, \"#d8576b\"], [0.6666666666666666, \"#ed7953\"], [0.7777777777777778, \"#fb9f3a\"], [0.8888888888888888, \"#fdca26\"], [1.0, \"#f0f921\"]], \"type\": \"heatmapgl\"}], \"histogram\": [{\"marker\": {\"colorbar\": {\"outlinewidth\": 0, \"ticks\": \"\"}}, \"type\": \"histogram\"}], \"histogram2d\": [{\"colorbar\": {\"outlinewidth\": 0, \"ticks\": \"\"}, \"colorscale\": [[0.0, \"#0d0887\"], [0.1111111111111111, \"#46039f\"], [0.2222222222222222, \"#7201a8\"], [0.3333333333333333, \"#9c179e\"], [0.4444444444444444, \"#bd3786\"], [0.5555555555555556, \"#d8576b\"], [0.6666666666666666, \"#ed7953\"], [0.7777777777777778, \"#fb9f3a\"], [0.8888888888888888, \"#fdca26\"], [1.0, \"#f0f921\"]], \"type\": \"histogram2d\"}], \"histogram2dcontour\": [{\"colorbar\": {\"outlinewidth\": 0, \"ticks\": \"\"}, \"colorscale\": [[0.0, \"#0d0887\"], [0.1111111111111111, \"#46039f\"], [0.2222222222222222, \"#7201a8\"], [0.3333333333333333, \"#9c179e\"], [0.4444444444444444, \"#bd3786\"], [0.5555555555555556, \"#d8576b\"], [0.6666666666666666, \"#ed7953\"], [0.7777777777777778, \"#fb9f3a\"], [0.8888888888888888, \"#fdca26\"], [1.0, \"#f0f921\"]], \"type\": \"histogram2dcontour\"}], \"mesh3d\": [{\"colorbar\": {\"outlinewidth\": 0, \"ticks\": \"\"}, \"type\": \"mesh3d\"}], \"parcoords\": [{\"line\": {\"colorbar\": {\"outlinewidth\": 0, \"ticks\": \"\"}}, \"type\": \"parcoords\"}], \"pie\": [{\"automargin\": true, \"type\": \"pie\"}], \"scatter\": [{\"marker\": {\"colorbar\": {\"outlinewidth\": 0, \"ticks\": \"\"}}, \"type\": \"scatter\"}], \"scatter3d\": [{\"line\": {\"colorbar\": {\"outlinewidth\": 0, \"ticks\": \"\"}}, \"marker\": {\"colorbar\": {\"outlinewidth\": 0, \"ticks\": \"\"}}, \"type\": \"scatter3d\"}], \"scattercarpet\": [{\"marker\": {\"colorbar\": {\"outlinewidth\": 0, \"ticks\": \"\"}}, \"type\": \"scattercarpet\"}], \"scattergeo\": [{\"marker\": {\"colorbar\": {\"outlinewidth\": 0, \"ticks\": \"\"}}, \"type\": \"scattergeo\"}], \"scattergl\": [{\"marker\": {\"colorbar\": {\"outlinewidth\": 0, \"ticks\": \"\"}}, \"type\": \"scattergl\"}], \"scattermapbox\": [{\"marker\": {\"colorbar\": {\"outlinewidth\": 0, \"ticks\": \"\"}}, \"type\": \"scattermapbox\"}], \"scatterpolar\": [{\"marker\": {\"colorbar\": {\"outlinewidth\": 0, \"ticks\": \"\"}}, \"type\": \"scatterpolar\"}], \"scatterpolargl\": [{\"marker\": {\"colorbar\": {\"outlinewidth\": 0, \"ticks\": \"\"}}, \"type\": \"scatterpolargl\"}], \"scatterternary\": [{\"marker\": {\"colorbar\": {\"outlinewidth\": 0, \"ticks\": \"\"}}, \"type\": \"scatterternary\"}], \"surface\": [{\"colorbar\": {\"outlinewidth\": 0, \"ticks\": \"\"}, \"colorscale\": [[0.0, \"#0d0887\"], [0.1111111111111111, \"#46039f\"], [0.2222222222222222, \"#7201a8\"], [0.3333333333333333, \"#9c179e\"], [0.4444444444444444, \"#bd3786\"], [0.5555555555555556, \"#d8576b\"], [0.6666666666666666, \"#ed7953\"], [0.7777777777777778, \"#fb9f3a\"], [0.8888888888888888, \"#fdca26\"], [1.0, \"#f0f921\"]], \"type\": \"surface\"}], \"table\": [{\"cells\": {\"fill\": {\"color\": \"#EBF0F8\"}, \"line\": {\"color\": \"white\"}}, \"header\": {\"fill\": {\"color\": \"#C8D4E3\"}, \"line\": {\"color\": \"white\"}}, \"type\": \"table\"}]}, \"layout\": {\"annotationdefaults\": {\"arrowcolor\": \"#2a3f5f\", \"arrowhead\": 0, \"arrowwidth\": 1}, \"coloraxis\": {\"colorbar\": {\"outlinewidth\": 0, \"ticks\": \"\"}}, \"colorscale\": {\"diverging\": [[0, \"#8e0152\"], [0.1, \"#c51b7d\"], [0.2, \"#de77ae\"], [0.3, \"#f1b6da\"], [0.4, \"#fde0ef\"], [0.5, \"#f7f7f7\"], [0.6, \"#e6f5d0\"], [0.7, \"#b8e186\"], [0.8, \"#7fbc41\"], [0.9, \"#4d9221\"], [1, \"#276419\"]], \"sequential\": [[0.0, \"#0d0887\"], [0.1111111111111111, \"#46039f\"], [0.2222222222222222, \"#7201a8\"], [0.3333333333333333, \"#9c179e\"], [0.4444444444444444, \"#bd3786\"], [0.5555555555555556, \"#d8576b\"], [0.6666666666666666, \"#ed7953\"], [0.7777777777777778, \"#fb9f3a\"], [0.8888888888888888, \"#fdca26\"], [1.0, \"#f0f921\"]], \"sequentialminus\": [[0.0, \"#0d0887\"], [0.1111111111111111, \"#46039f\"], [0.2222222222222222, \"#7201a8\"], [0.3333333333333333, \"#9c179e\"], [0.4444444444444444, \"#bd3786\"], [0.5555555555555556, \"#d8576b\"], [0.6666666666666666, \"#ed7953\"], [0.7777777777777778, \"#fb9f3a\"], [0.8888888888888888, \"#fdca26\"], [1.0, \"#f0f921\"]]}, \"colorway\": [\"#636efa\", \"#EF553B\", \"#00cc96\", \"#ab63fa\", \"#FFA15A\", \"#19d3f3\", \"#FF6692\", \"#B6E880\", \"#FF97FF\", \"#FECB52\"], \"font\": {\"color\": \"#2a3f5f\"}, \"geo\": {\"bgcolor\": \"white\", \"lakecolor\": \"white\", \"landcolor\": \"#E5ECF6\", \"showlakes\": true, \"showland\": true, \"subunitcolor\": \"white\"}, \"hoverlabel\": {\"align\": \"left\"}, \"hovermode\": \"closest\", \"mapbox\": {\"style\": \"light\"}, \"paper_bgcolor\": \"white\", \"plot_bgcolor\": \"#E5ECF6\", \"polar\": {\"angularaxis\": {\"gridcolor\": \"white\", \"linecolor\": \"white\", \"ticks\": \"\"}, \"bgcolor\": \"#E5ECF6\", \"radialaxis\": {\"gridcolor\": \"white\", \"linecolor\": \"white\", \"ticks\": \"\"}}, \"scene\": {\"xaxis\": {\"backgroundcolor\": \"#E5ECF6\", \"gridcolor\": \"white\", \"gridwidth\": 2, \"linecolor\": \"white\", \"showbackground\": true, \"ticks\": \"\", \"zerolinecolor\": \"white\"}, \"yaxis\": {\"backgroundcolor\": \"#E5ECF6\", \"gridcolor\": \"white\", \"gridwidth\": 2, \"linecolor\": \"white\", \"showbackground\": true, \"ticks\": \"\", \"zerolinecolor\": \"white\"}, \"zaxis\": {\"backgroundcolor\": \"#E5ECF6\", \"gridcolor\": \"white\", \"gridwidth\": 2, \"linecolor\": \"white\", \"showbackground\": true, \"ticks\": \"\", \"zerolinecolor\": \"white\"}}, \"shapedefaults\": {\"line\": {\"color\": \"#2a3f5f\"}}, \"ternary\": {\"aaxis\": {\"gridcolor\": \"white\", \"linecolor\": \"white\", \"ticks\": \"\"}, \"baxis\": {\"gridcolor\": \"white\", \"linecolor\": \"white\", \"ticks\": \"\"}, \"bgcolor\": \"#E5ECF6\", \"caxis\": {\"gridcolor\": \"white\", \"linecolor\": \"white\", \"ticks\": \"\"}}, \"title\": {\"x\": 0.05}, \"xaxis\": {\"automargin\": true, \"gridcolor\": \"white\", \"linecolor\": \"white\", \"ticks\": \"\", \"title\": {\"standoff\": 15}, \"zerolinecolor\": \"white\", \"zerolinewidth\": 2}, \"yaxis\": {\"automargin\": true, \"gridcolor\": \"white\", \"linecolor\": \"white\", \"ticks\": \"\", \"title\": {\"standoff\": 15}, \"zerolinecolor\": \"white\", \"zerolinewidth\": 2}}}, \"xaxis\": {\"categoryorder\": \"total descending\"}},\n",
              "                        {\"responsive\": true}\n",
              "                    ).then(function(){\n",
              "                            \n",
              "var gd = document.getElementById('893ca0e6-98be-4bfa-9984-f14ae3587710');\n",
              "var x = new MutationObserver(function (mutations, observer) {{\n",
              "        var display = window.getComputedStyle(gd).display;\n",
              "        if (!display || display === 'none') {{\n",
              "            console.log([gd, 'removed!']);\n",
              "            Plotly.purge(gd);\n",
              "            observer.disconnect();\n",
              "        }}\n",
              "}});\n",
              "\n",
              "// Listen for the removal of the full notebook cells\n",
              "var notebookContainer = gd.closest('#notebook-container');\n",
              "if (notebookContainer) {{\n",
              "    x.observe(notebookContainer, {childList: true});\n",
              "}}\n",
              "\n",
              "// Listen for the clearing of the current output cell\n",
              "var outputEl = gd.closest('.output');\n",
              "if (outputEl) {{\n",
              "    x.observe(outputEl, {childList: true});\n",
              "}}\n",
              "\n",
              "                        })\n",
              "                };\n",
              "                \n",
              "            </script>\n",
              "        </div>\n",
              "</body>\n",
              "</html>"
            ]
          },
          "metadata": {
            "tags": []
          }
        }
      ]
    },
    {
      "cell_type": "code",
      "metadata": {
        "colab": {
          "base_uri": "https://localhost:8080/",
          "height": 384
        },
        "id": "yRu4Kj1m-CHM",
        "outputId": "07ba50fa-81ab-468e-bc97-b59a867bbacb"
      },
      "source": [
        "import seaborn as sns\n",
        "from scipy.stats import norm\n",
        "sns.distplot(data.loc[data['release_year'] > 2000, 'release_year'], fit=norm, kde=True)\n",
        "#displot()集合了matplotlib的hist()與核函數估計kdeplot的功能，\n",
        "#增加了rugplot分佈觀測條顯示與利用scipy庫fit擬合參數分佈的新穎用途。\n",
        "#fit：控制擬合的參數分佈圖形，能夠直觀地評估它與觀察數據的對應關係(黑色線條為確定的分佈)"
      ],
      "execution_count": 154,
      "outputs": [
        {
          "output_type": "stream",
          "text": [
            "/usr/local/lib/python3.7/dist-packages/seaborn/distributions.py:2557: FutureWarning:\n",
            "\n",
            "`distplot` is a deprecated function and will be removed in a future version. Please adapt your code to use either `displot` (a figure-level function with similar flexibility) or `histplot` (an axes-level function for histograms).\n",
            "\n"
          ],
          "name": "stderr"
        },
        {
          "output_type": "execute_result",
          "data": {
            "text/plain": [
              "<matplotlib.axes._subplots.AxesSubplot at 0x7fa4a79a1c50>"
            ]
          },
          "metadata": {
            "tags": []
          },
          "execution_count": 154
        },
        {
          "output_type": "display_data",
          "data": {
            "image/png": "[encoded data removed]",
            "text/plain": [
              "<Figure size 432x288 with 1 Axes>"
            ]
          },
          "metadata": {
            "tags": [],
            "needs_background": "light"
          }
        }
      ]
    },
    {
      "cell_type": "markdown",
      "metadata": {
        "id": "pqc4su9KbGLN"
      },
      "source": [
        "建立內容類型的數據框"
      ]
    },
    {
      "cell_type": "code",
      "metadata": {
        "id": "FLAGche--TZK"
      },
      "source": [
        "#導入SKLEARN的前處理套件, 將元素進行二元變換 , 輸入的資料會轉換成一個 一維 classes_\n",
        "#每組資料會轉換成和 classes_ 相同大小的一維陣列\n",
        "#如果資料有對應到 classes_  就為 1 否則為 0\n",
        "\n",
        "from sklearn.preprocessing import MultiLabelBinarizer"
      ],
      "execution_count": 155,
      "outputs": []
    },
    {
      "cell_type": "code",
      "metadata": {
        "colab": {
          "base_uri": "https://localhost:8080/"
        },
        "id": "-YmZd_a_ez1t",
        "outputId": "b0d9f50f-02ae-4fd7-89c8-f5060c95e2c1"
      },
      "source": [
        "data['genre'] = data['listed_in'].apply(lambda x :  x.replace(' ,',',').replace(', ',',').split(',')) \n",
        "data['genre'].head()"
      ],
      "execution_count": 166,
      "outputs": [
        {
          "output_type": "execute_result",
          "data": {
            "text/plain": [
              "0    [International TV Shows, TV Dramas, TV Sci-Fi ...\n",
              "1                       [Dramas, International Movies]\n",
              "2                [Horror Movies, International Movies]\n",
              "3    [Action & Adventure, Independent Movies, Sci-F...\n",
              "4                                             [Dramas]\n",
              "Name: genre, dtype: object"
            ]
          },
          "metadata": {
            "tags": []
          },
          "execution_count": 166
        }
      ]
    },
    {
      "cell_type": "code",
      "metadata": {
        "id": "4joaNToKfBvl"
      },
      "source": [
        "movie_df = data[data['type'] == 'Movie']\n",
        "show_df = data[data['type'] == 'TV Show']"
      ],
      "execution_count": 168,
      "outputs": []
    },
    {
      "cell_type": "code",
      "metadata": {
        "id": "NMWZgTPlYSP7"
      },
      "source": [
        "def calculate_mlb(series):\n",
        "    mlb = MultiLabelBinarizer()\n",
        "    mlb_df = pd.DataFrame(mlb.fit_transform(series), columns=mlb.classes_, index=series.index)\n",
        "    return mlb_df"
      ],
      "execution_count": 169,
      "outputs": []
    },
    {
      "cell_type": "code",
      "metadata": {
        "colab": {
          "base_uri": "https://localhost:8080/",
          "height": 290
        },
        "id": "86FAyhTeePGS",
        "outputId": "8cebeb35-f5c4-4a84-dbf6-74e320fc714d"
      },
      "source": [
        "calculate_mlb(data['genre']).head()"
      ],
      "execution_count": 170,
      "outputs": [
        {
          "output_type": "execute_result",
          "data": {
            "text/html": [
              "<div>\n",
              "<style scoped>\n",
              "    .dataframe tbody tr th:only-of-type {\n",
              "        vertical-align: middle;\n",
              "    }\n",
              "\n",
              "    .dataframe tbody tr th {\n",
              "        vertical-align: top;\n",
              "    }\n",
              "\n",
              "    .dataframe thead th {\n",
              "        text-align: right;\n",
              "    }\n",
              "</style>\n",
              "<table border=\"1\" class=\"dataframe\">\n",
              "  <thead>\n",
              "    <tr style=\"text-align: right;\">\n",
              "      <th></th>\n",
              "      <th>Action &amp; Adventure</th>\n",
              "      <th>Anime Features</th>\n",
              "      <th>Anime Series</th>\n",
              "      <th>British TV Shows</th>\n",
              "      <th>Children &amp; Family Movies</th>\n",
              "      <th>Classic &amp; Cult TV</th>\n",
              "      <th>Classic Movies</th>\n",
              "      <th>Comedies</th>\n",
              "      <th>Crime TV Shows</th>\n",
              "      <th>Cult Movies</th>\n",
              "      <th>Documentaries</th>\n",
              "      <th>Docuseries</th>\n",
              "      <th>Dramas</th>\n",
              "      <th>Faith &amp; Spirituality</th>\n",
              "      <th>Horror Movies</th>\n",
              "      <th>Independent Movies</th>\n",
              "      <th>International Movies</th>\n",
              "      <th>International TV Shows</th>\n",
              "      <th>Kids' TV</th>\n",
              "      <th>Korean TV Shows</th>\n",
              "      <th>LGBTQ Movies</th>\n",
              "      <th>Movies</th>\n",
              "      <th>Music &amp; Musicals</th>\n",
              "      <th>Reality TV</th>\n",
              "      <th>Romantic Movies</th>\n",
              "      <th>Romantic TV Shows</th>\n",
              "      <th>Sci-Fi &amp; Fantasy</th>\n",
              "      <th>Science &amp; Nature TV</th>\n",
              "      <th>Spanish-Language TV Shows</th>\n",
              "      <th>Sports Movies</th>\n",
              "      <th>Stand-Up Comedy</th>\n",
              "      <th>Stand-Up Comedy &amp; Talk Shows</th>\n",
              "      <th>TV Action &amp; Adventure</th>\n",
              "      <th>TV Comedies</th>\n",
              "      <th>TV Dramas</th>\n",
              "      <th>TV Horror</th>\n",
              "      <th>TV Mysteries</th>\n",
              "      <th>TV Sci-Fi &amp; Fantasy</th>\n",
              "      <th>TV Shows</th>\n",
              "      <th>TV Thrillers</th>\n",
              "      <th>Teen TV Shows</th>\n",
              "      <th>Thrillers</th>\n",
              "    </tr>\n",
              "  </thead>\n",
              "  <tbody>\n",
              "    <tr>\n",
              "      <th>0</th>\n",
              "      <td>0</td>\n",
              "      <td>0</td>\n",
              "      <td>0</td>\n",
              "      <td>0</td>\n",
              "      <td>0</td>\n",
              "      <td>0</td>\n",
              "      <td>0</td>\n",
              "      <td>0</td>\n",
              "      <td>0</td>\n",
              "      <td>0</td>\n",
              "      <td>0</td>\n",
              "      <td>0</td>\n",
              "      <td>0</td>\n",
              "      <td>0</td>\n",
              "      <td>0</td>\n",
              "      <td>0</td>\n",
              "      <td>0</td>\n",
              "      <td>1</td>\n",
              "      <td>0</td>\n",
              "      <td>0</td>\n",
              "      <td>0</td>\n",
              "      <td>0</td>\n",
              "      <td>0</td>\n",
              "      <td>0</td>\n",
              "      <td>0</td>\n",
              "      <td>0</td>\n",
              "      <td>0</td>\n",
              "      <td>0</td>\n",
              "      <td>0</td>\n",
              "      <td>0</td>\n",
              "      <td>0</td>\n",
              "      <td>0</td>\n",
              "      <td>0</td>\n",
              "      <td>0</td>\n",
              "      <td>1</td>\n",
              "      <td>0</td>\n",
              "      <td>0</td>\n",
              "      <td>1</td>\n",
              "      <td>0</td>\n",
              "      <td>0</td>\n",
              "      <td>0</td>\n",
              "      <td>0</td>\n",
              "    </tr>\n",
              "    <tr>\n",
              "      <th>1</th>\n",
              "      <td>0</td>\n",
              "      <td>0</td>\n",
              "      <td>0</td>\n",
              "      <td>0</td>\n",
              "      <td>0</td>\n",
              "      <td>0</td>\n",
              "      <td>0</td>\n",
              "      <td>0</td>\n",
              "      <td>0</td>\n",
              "      <td>0</td>\n",
              "      <td>0</td>\n",
              "      <td>0</td>\n",
              "      <td>1</td>\n",
              "      <td>0</td>\n",
              "      <td>0</td>\n",
              "      <td>0</td>\n",
              "      <td>1</td>\n",
              "      <td>0</td>\n",
              "      <td>0</td>\n",
              "      <td>0</td>\n",
              "      <td>0</td>\n",
              "      <td>0</td>\n",
              "      <td>0</td>\n",
              "      <td>0</td>\n",
              "      <td>0</td>\n",
              "      <td>0</td>\n",
              "      <td>0</td>\n",
              "      <td>0</td>\n",
              "      <td>0</td>\n",
              "      <td>0</td>\n",
              "      <td>0</td>\n",
              "      <td>0</td>\n",
              "      <td>0</td>\n",
              "      <td>0</td>\n",
              "      <td>0</td>\n",
              "      <td>0</td>\n",
              "      <td>0</td>\n",
              "      <td>0</td>\n",
              "      <td>0</td>\n",
              "      <td>0</td>\n",
              "      <td>0</td>\n",
              "      <td>0</td>\n",
              "    </tr>\n",
              "    <tr>\n",
              "      <th>2</th>\n",
              "      <td>0</td>\n",
              "      <td>0</td>\n",
              "      <td>0</td>\n",
              "      <td>0</td>\n",
              "      <td>0</td>\n",
              "      <td>0</td>\n",
              "      <td>0</td>\n",
              "      <td>0</td>\n",
              "      <td>0</td>\n",
              "      <td>0</td>\n",
              "      <td>0</td>\n",
              "      <td>0</td>\n",
              "      <td>0</td>\n",
              "      <td>0</td>\n",
              "      <td>1</td>\n",
              "      <td>0</td>\n",
              "      <td>1</td>\n",
              "      <td>0</td>\n",
              "      <td>0</td>\n",
              "      <td>0</td>\n",
              "      <td>0</td>\n",
              "      <td>0</td>\n",
              "      <td>0</td>\n",
              "      <td>0</td>\n",
              "      <td>0</td>\n",
              "      <td>0</td>\n",
              "      <td>0</td>\n",
              "      <td>0</td>\n",
              "      <td>0</td>\n",
              "      <td>0</td>\n",
              "      <td>0</td>\n",
              "      <td>0</td>\n",
              "      <td>0</td>\n",
              "      <td>0</td>\n",
              "      <td>0</td>\n",
              "      <td>0</td>\n",
              "      <td>0</td>\n",
              "      <td>0</td>\n",
              "      <td>0</td>\n",
              "      <td>0</td>\n",
              "      <td>0</td>\n",
              "      <td>0</td>\n",
              "    </tr>\n",
              "    <tr>\n",
              "      <th>3</th>\n",
              "      <td>1</td>\n",
              "      <td>0</td>\n",
              "      <td>0</td>\n",
              "      <td>0</td>\n",
              "      <td>0</td>\n",
              "      <td>0</td>\n",
              "      <td>0</td>\n",
              "      <td>0</td>\n",
              "      <td>0</td>\n",
              "      <td>0</td>\n",
              "      <td>0</td>\n",
              "      <td>0</td>\n",
              "      <td>0</td>\n",
              "      <td>0</td>\n",
              "      <td>0</td>\n",
              "      <td>1</td>\n",
              "      <td>0</td>\n",
              "      <td>0</td>\n",
              "      <td>0</td>\n",
              "      <td>0</td>\n",
              "      <td>0</td>\n",
              "      <td>0</td>\n",
              "      <td>0</td>\n",
              "      <td>0</td>\n",
              "      <td>0</td>\n",
              "      <td>0</td>\n",
              "      <td>1</td>\n",
              "      <td>0</td>\n",
              "      <td>0</td>\n",
              "      <td>0</td>\n",
              "      <td>0</td>\n",
              "      <td>0</td>\n",
              "      <td>0</td>\n",
              "      <td>0</td>\n",
              "      <td>0</td>\n",
              "      <td>0</td>\n",
              "      <td>0</td>\n",
              "      <td>0</td>\n",
              "      <td>0</td>\n",
              "      <td>0</td>\n",
              "      <td>0</td>\n",
              "      <td>0</td>\n",
              "    </tr>\n",
              "    <tr>\n",
              "      <th>4</th>\n",
              "      <td>0</td>\n",
              "      <td>0</td>\n",
              "      <td>0</td>\n",
              "      <td>0</td>\n",
              "      <td>0</td>\n",
              "      <td>0</td>\n",
              "      <td>0</td>\n",
              "      <td>0</td>\n",
              "      <td>0</td>\n",
              "      <td>0</td>\n",
              "      <td>0</td>\n",
              "      <td>0</td>\n",
              "      <td>1</td>\n",
              "      <td>0</td>\n",
              "      <td>0</td>\n",
              "      <td>0</td>\n",
              "      <td>0</td>\n",
              "      <td>0</td>\n",
              "      <td>0</td>\n",
              "      <td>0</td>\n",
              "      <td>0</td>\n",
              "      <td>0</td>\n",
              "      <td>0</td>\n",
              "      <td>0</td>\n",
              "      <td>0</td>\n",
              "      <td>0</td>\n",
              "      <td>0</td>\n",
              "      <td>0</td>\n",
              "      <td>0</td>\n",
              "      <td>0</td>\n",
              "      <td>0</td>\n",
              "      <td>0</td>\n",
              "      <td>0</td>\n",
              "      <td>0</td>\n",
              "      <td>0</td>\n",
              "      <td>0</td>\n",
              "      <td>0</td>\n",
              "      <td>0</td>\n",
              "      <td>0</td>\n",
              "      <td>0</td>\n",
              "      <td>0</td>\n",
              "      <td>0</td>\n",
              "    </tr>\n",
              "  </tbody>\n",
              "</table>\n",
              "</div>"
            ],
            "text/plain": [
              "   Action & Adventure  Anime Features  ...  Teen TV Shows  Thrillers\n",
              "0                   0               0  ...              0          0\n",
              "1                   0               0  ...              0          0\n",
              "2                   0               0  ...              0          0\n",
              "3                   1               0  ...              0          0\n",
              "4                   0               0  ...              0          0\n",
              "\n",
              "[5 rows x 42 columns]"
            ]
          },
          "metadata": {
            "tags": []
          },
          "execution_count": 170
        }
      ]
    },
    {
      "cell_type": "code",
      "metadata": {
        "id": "LGCCyJq7YUww"
      },
      "source": [
        "#如何在csv文件中將一列拆分為單獨的列\n",
        "\n",
        "def top_genres(df, title='Top ones'):\n",
        "    genres_df = calculate_mlb(df['genre'])\n",
        "    tdata = genres_df.sum().sort_values(ascending=False)\n",
        "    \n",
        "    fig = go.Figure()\n",
        "    fig.add_trace(go.Bar(\n",
        "        x=tdata.index,\n",
        "        y=tdata.values,\n",
        "    ))\n",
        "    fig.update_xaxes(categoryorder='total descending')\n",
        "    fig.update_layout(title=title)\n",
        "    fig.show()"
      ],
      "execution_count": 171,
      "outputs": []
    },
    {
      "cell_type": "code",
      "metadata": {
        "colab": {
          "base_uri": "https://localhost:8080/",
          "height": 542
        },
        "id": "eSmBcYkWYW4m",
        "outputId": "8262cbac-d0b3-4eaf-fc94-244086e3273a"
      },
      "source": [
        "top_genres(movie_df, title='Top Movies Genres')"
      ],
      "execution_count": 172,
      "outputs": [
        {
          "output_type": "display_data",
          "data": {
            "text/html": [
              "<html>\n",
              "<head><meta charset=\"utf-8\" /></head>\n",
              "<body>\n",
              "    <div>\n",
              "            <script src=\"https://cdnjs.cloudflare.com/ajax/libs/mathjax/2.7.5/MathJax.js?config=TeX-AMS-MML_SVG\"></script><script type=\"text/javascript\">if (window.MathJax) {MathJax.Hub.Config({SVG: {font: \"STIX-Web\"}});}</script>\n",
              "                <script type=\"text/javascript\">window.PlotlyConfig = {MathJaxConfig: 'local'};</script>\n",
              "        <script src=\"https://cdn.plot.ly/plotly-latest.min.js\"></script>    \n",
              "            <div id=\"bb6c2a2f-2c62-4907-af41-63c5f0f86867\" class=\"plotly-graph-div\" style=\"height:525px; width:100%;\"></div>\n",
              "            <script type=\"text/javascript\">\n",
              "                \n",
              "                    window.PLOTLYENV=window.PLOTLYENV || {};\n",
              "                    \n",
              "                if (document.getElementById(\"bb6c2a2f-2c62-4907-af41-63c5f0f86867\")) {\n",
              "                    Plotly.newPlot(\n",
              "                        'bb6c2a2f-2c62-4907-af41-63c5f0f86867',\n",
              "                        [{\"type\": \"bar\", \"x\": [\"International Movies\", \"Dramas\", \"Comedies\", \"Documentaries\", \"Action & Adventure\", \"Independent Movies\", \"Children & Family Movies\", \"Romantic Movies\", \"Thrillers\", \"Stand-Up Comedy\", \"Music & Musicals\", \"Horror Movies\", \"Sci-Fi & Fantasy\", \"Sports Movies\", \"Classic Movies\", \"LGBTQ Movies\", \"Cult Movies\", \"Faith & Spirituality\", \"Anime Features\", \"Movies\"], \"y\": [2437, 2106, 1471, 786, 721, 673, 532, 531, 491, 329, 321, 312, 218, 196, 103, 90, 59, 57, 57, 56]}],\n",
              "                        {\"template\": {\"data\": {\"bar\": [{\"error_x\": {\"color\": \"#2a3f5f\"}, \"error_y\": {\"color\": \"#2a3f5f\"}, \"marker\": {\"line\": {\"color\": \"#E5ECF6\", \"width\": 0.5}}, \"type\": \"bar\"}], \"barpolar\": [{\"marker\": {\"line\": {\"color\": \"#E5ECF6\", \"width\": 0.5}}, \"type\": \"barpolar\"}], \"carpet\": [{\"aaxis\": {\"endlinecolor\": \"#2a3f5f\", \"gridcolor\": \"white\", \"linecolor\": \"white\", \"minorgridcolor\": \"white\", \"startlinecolor\": \"#2a3f5f\"}, \"baxis\": {\"endlinecolor\": \"#2a3f5f\", \"gridcolor\": \"white\", \"linecolor\": \"white\", \"minorgridcolor\": \"white\", \"startlinecolor\": \"#2a3f5f\"}, \"type\": \"carpet\"}], \"choropleth\": [{\"colorbar\": {\"outlinewidth\": 0, \"ticks\": \"\"}, \"type\": \"choropleth\"}], \"contour\": [{\"colorbar\": {\"outlinewidth\": 0, \"ticks\": \"\"}, \"colorscale\": [[0.0, \"#0d0887\"], [0.1111111111111111, \"#46039f\"], [0.2222222222222222, \"#7201a8\"], [0.3333333333333333, \"#9c179e\"], [0.4444444444444444, \"#bd3786\"], [0.5555555555555556, \"#d8576b\"], [0.6666666666666666, \"#ed7953\"], [0.7777777777777778, \"#fb9f3a\"], [0.8888888888888888, \"#fdca26\"], [1.0, \"#f0f921\"]], \"type\": \"contour\"}], \"contourcarpet\": [{\"colorbar\": {\"outlinewidth\": 0, \"ticks\": \"\"}, \"type\": \"contourcarpet\"}], \"heatmap\": [{\"colorbar\": {\"outlinewidth\": 0, \"ticks\": \"\"}, \"colorscale\": [[0.0, \"#0d0887\"], [0.1111111111111111, \"#46039f\"], [0.2222222222222222, \"#7201a8\"], [0.3333333333333333, \"#9c179e\"], [0.4444444444444444, \"#bd3786\"], [0.5555555555555556, \"#d8576b\"], [0.6666666666666666, \"#ed7953\"], [0.7777777777777778, \"#fb9f3a\"], [0.8888888888888888, \"#fdca26\"], [1.0, \"#f0f921\"]], \"type\": \"heatmap\"}], \"heatmapgl\": [{\"colorbar\": {\"outlinewidth\": 0, \"ticks\": \"\"}, \"colorscale\": [[0.0, \"#0d0887\"], [0.1111111111111111, \"#46039f\"], [0.2222222222222222, \"#7201a8\"], [0.3333333333333333, \"#9c179e\"], [0.4444444444444444, \"#bd3786\"], [0.5555555555555556, \"#d8576b\"], [0.6666666666666666, \"#ed7953\"], [0.7777777777777778, \"#fb9f3a\"], [0.8888888888888888, \"#fdca26\"], [1.0, \"#f0f921\"]], \"type\": \"heatmapgl\"}], \"histogram\": [{\"marker\": {\"colorbar\": {\"outlinewidth\": 0, \"ticks\": \"\"}}, \"type\": \"histogram\"}], \"histogram2d\": [{\"colorbar\": {\"outlinewidth\": 0, \"ticks\": \"\"}, \"colorscale\": [[0.0, \"#0d0887\"], [0.1111111111111111, \"#46039f\"], [0.2222222222222222, \"#7201a8\"], [0.3333333333333333, \"#9c179e\"], [0.4444444444444444, \"#bd3786\"], [0.5555555555555556, \"#d8576b\"], [0.6666666666666666, \"#ed7953\"], [0.7777777777777778, \"#fb9f3a\"], [0.8888888888888888, \"#fdca26\"], [1.0, \"#f0f921\"]], \"type\": \"histogram2d\"}], \"histogram2dcontour\": [{\"colorbar\": {\"outlinewidth\": 0, \"ticks\": \"\"}, \"colorscale\": [[0.0, \"#0d0887\"], [0.1111111111111111, \"#46039f\"], [0.2222222222222222, \"#7201a8\"], [0.3333333333333333, \"#9c179e\"], [0.4444444444444444, \"#bd3786\"], [0.5555555555555556, \"#d8576b\"], [0.6666666666666666, \"#ed7953\"], [0.7777777777777778, \"#fb9f3a\"], [0.8888888888888888, \"#fdca26\"], [1.0, \"#f0f921\"]], \"type\": \"histogram2dcontour\"}], \"mesh3d\": [{\"colorbar\": {\"outlinewidth\": 0, \"ticks\": \"\"}, \"type\": \"mesh3d\"}], \"parcoords\": [{\"line\": {\"colorbar\": {\"outlinewidth\": 0, \"ticks\": \"\"}}, \"type\": \"parcoords\"}], \"pie\": [{\"automargin\": true, \"type\": \"pie\"}], \"scatter\": [{\"marker\": {\"colorbar\": {\"outlinewidth\": 0, \"ticks\": \"\"}}, \"type\": \"scatter\"}], \"scatter3d\": [{\"line\": {\"colorbar\": {\"outlinewidth\": 0, \"ticks\": \"\"}}, \"marker\": {\"colorbar\": {\"outlinewidth\": 0, \"ticks\": \"\"}}, \"type\": \"scatter3d\"}], \"scattercarpet\": [{\"marker\": {\"colorbar\": {\"outlinewidth\": 0, \"ticks\": \"\"}}, \"type\": \"scattercarpet\"}], \"scattergeo\": [{\"marker\": {\"colorbar\": {\"outlinewidth\": 0, \"ticks\": \"\"}}, \"type\": \"scattergeo\"}], \"scattergl\": [{\"marker\": {\"colorbar\": {\"outlinewidth\": 0, \"ticks\": \"\"}}, \"type\": \"scattergl\"}], \"scattermapbox\": [{\"marker\": {\"colorbar\": {\"outlinewidth\": 0, \"ticks\": \"\"}}, \"type\": \"scattermapbox\"}], \"scatterpolar\": [{\"marker\": {\"colorbar\": {\"outlinewidth\": 0, \"ticks\": \"\"}}, \"type\": \"scatterpolar\"}], \"scatterpolargl\": [{\"marker\": {\"colorbar\": {\"outlinewidth\": 0, \"ticks\": \"\"}}, \"type\": \"scatterpolargl\"}], \"scatterternary\": [{\"marker\": {\"colorbar\": {\"outlinewidth\": 0, \"ticks\": \"\"}}, \"type\": \"scatterternary\"}], \"surface\": [{\"colorbar\": {\"outlinewidth\": 0, \"ticks\": \"\"}, \"colorscale\": [[0.0, \"#0d0887\"], [0.1111111111111111, \"#46039f\"], [0.2222222222222222, \"#7201a8\"], [0.3333333333333333, \"#9c179e\"], [0.4444444444444444, \"#bd3786\"], [0.5555555555555556, \"#d8576b\"], [0.6666666666666666, \"#ed7953\"], [0.7777777777777778, \"#fb9f3a\"], [0.8888888888888888, \"#fdca26\"], [1.0, \"#f0f921\"]], \"type\": \"surface\"}], \"table\": [{\"cells\": {\"fill\": {\"color\": \"#EBF0F8\"}, \"line\": {\"color\": \"white\"}}, \"header\": {\"fill\": {\"color\": \"#C8D4E3\"}, \"line\": {\"color\": \"white\"}}, \"type\": \"table\"}]}, \"layout\": {\"annotationdefaults\": {\"arrowcolor\": \"#2a3f5f\", \"arrowhead\": 0, \"arrowwidth\": 1}, \"coloraxis\": {\"colorbar\": {\"outlinewidth\": 0, \"ticks\": \"\"}}, \"colorscale\": {\"diverging\": [[0, \"#8e0152\"], [0.1, \"#c51b7d\"], [0.2, \"#de77ae\"], [0.3, \"#f1b6da\"], [0.4, \"#fde0ef\"], [0.5, \"#f7f7f7\"], [0.6, \"#e6f5d0\"], [0.7, \"#b8e186\"], [0.8, \"#7fbc41\"], [0.9, \"#4d9221\"], [1, \"#276419\"]], \"sequential\": [[0.0, \"#0d0887\"], [0.1111111111111111, \"#46039f\"], [0.2222222222222222, \"#7201a8\"], [0.3333333333333333, \"#9c179e\"], [0.4444444444444444, \"#bd3786\"], [0.5555555555555556, \"#d8576b\"], [0.6666666666666666, \"#ed7953\"], [0.7777777777777778, \"#fb9f3a\"], [0.8888888888888888, \"#fdca26\"], [1.0, \"#f0f921\"]], \"sequentialminus\": [[0.0, \"#0d0887\"], [0.1111111111111111, \"#46039f\"], [0.2222222222222222, \"#7201a8\"], [0.3333333333333333, \"#9c179e\"], [0.4444444444444444, \"#bd3786\"], [0.5555555555555556, \"#d8576b\"], [0.6666666666666666, \"#ed7953\"], [0.7777777777777778, \"#fb9f3a\"], [0.8888888888888888, \"#fdca26\"], [1.0, \"#f0f921\"]]}, \"colorway\": [\"#636efa\", \"#EF553B\", \"#00cc96\", \"#ab63fa\", \"#FFA15A\", \"#19d3f3\", \"#FF6692\", \"#B6E880\", \"#FF97FF\", \"#FECB52\"], \"font\": {\"color\": \"#2a3f5f\"}, \"geo\": {\"bgcolor\": \"white\", \"lakecolor\": \"white\", \"landcolor\": \"#E5ECF6\", \"showlakes\": true, \"showland\": true, \"subunitcolor\": \"white\"}, \"hoverlabel\": {\"align\": \"left\"}, \"hovermode\": \"closest\", \"mapbox\": {\"style\": \"light\"}, \"paper_bgcolor\": \"white\", \"plot_bgcolor\": \"#E5ECF6\", \"polar\": {\"angularaxis\": {\"gridcolor\": \"white\", \"linecolor\": \"white\", \"ticks\": \"\"}, \"bgcolor\": \"#E5ECF6\", \"radialaxis\": {\"gridcolor\": \"white\", \"linecolor\": \"white\", \"ticks\": \"\"}}, \"scene\": {\"xaxis\": {\"backgroundcolor\": \"#E5ECF6\", \"gridcolor\": \"white\", \"gridwidth\": 2, \"linecolor\": \"white\", \"showbackground\": true, \"ticks\": \"\", \"zerolinecolor\": \"white\"}, \"yaxis\": {\"backgroundcolor\": \"#E5ECF6\", \"gridcolor\": \"white\", \"gridwidth\": 2, \"linecolor\": \"white\", \"showbackground\": true, \"ticks\": \"\", \"zerolinecolor\": \"white\"}, \"zaxis\": {\"backgroundcolor\": \"#E5ECF6\", \"gridcolor\": \"white\", \"gridwidth\": 2, \"linecolor\": \"white\", \"showbackground\": true, \"ticks\": \"\", \"zerolinecolor\": \"white\"}}, \"shapedefaults\": {\"line\": {\"color\": \"#2a3f5f\"}}, \"ternary\": {\"aaxis\": {\"gridcolor\": \"white\", \"linecolor\": \"white\", \"ticks\": \"\"}, \"baxis\": {\"gridcolor\": \"white\", \"linecolor\": \"white\", \"ticks\": \"\"}, \"bgcolor\": \"#E5ECF6\", \"caxis\": {\"gridcolor\": \"white\", \"linecolor\": \"white\", \"ticks\": \"\"}}, \"title\": {\"x\": 0.05}, \"xaxis\": {\"automargin\": true, \"gridcolor\": \"white\", \"linecolor\": \"white\", \"ticks\": \"\", \"title\": {\"standoff\": 15}, \"zerolinecolor\": \"white\", \"zerolinewidth\": 2}, \"yaxis\": {\"automargin\": true, \"gridcolor\": \"white\", \"linecolor\": \"white\", \"ticks\": \"\", \"title\": {\"standoff\": 15}, \"zerolinecolor\": \"white\", \"zerolinewidth\": 2}}}, \"title\": {\"text\": \"Top Movies Genres\"}, \"xaxis\": {\"categoryorder\": \"total descending\"}},\n",
              "                        {\"responsive\": true}\n",
              "                    ).then(function(){\n",
              "                            \n",
              "var gd = document.getElementById('bb6c2a2f-2c62-4907-af41-63c5f0f86867');\n",
              "var x = new MutationObserver(function (mutations, observer) {{\n",
              "        var display = window.getComputedStyle(gd).display;\n",
              "        if (!display || display === 'none') {{\n",
              "            console.log([gd, 'removed!']);\n",
              "            Plotly.purge(gd);\n",
              "            observer.disconnect();\n",
              "        }}\n",
              "}});\n",
              "\n",
              "// Listen for the removal of the full notebook cells\n",
              "var notebookContainer = gd.closest('#notebook-container');\n",
              "if (notebookContainer) {{\n",
              "    x.observe(notebookContainer, {childList: true});\n",
              "}}\n",
              "\n",
              "// Listen for the clearing of the current output cell\n",
              "var outputEl = gd.closest('.output');\n",
              "if (outputEl) {{\n",
              "    x.observe(outputEl, {childList: true});\n",
              "}}\n",
              "\n",
              "                        })\n",
              "                };\n",
              "                \n",
              "            </script>\n",
              "        </div>\n",
              "</body>\n",
              "</html>"
            ]
          },
          "metadata": {
            "tags": []
          }
        }
      ]
    },
    {
      "cell_type": "code",
      "metadata": {
        "colab": {
          "base_uri": "https://localhost:8080/",
          "height": 542
        },
        "id": "z0TzAXQnYYmS",
        "outputId": "69b61cf1-5419-4d70-b593-39e7dcb33dd4"
      },
      "source": [
        "top_genres(show_df, title='Top TV Shows Genres')"
      ],
      "execution_count": 173,
      "outputs": [
        {
          "output_type": "display_data",
          "data": {
            "text/html": [
              "<html>\n",
              "<head><meta charset=\"utf-8\" /></head>\n",
              "<body>\n",
              "    <div>\n",
              "            <script src=\"https://cdnjs.cloudflare.com/ajax/libs/mathjax/2.7.5/MathJax.js?config=TeX-AMS-MML_SVG\"></script><script type=\"text/javascript\">if (window.MathJax) {MathJax.Hub.Config({SVG: {font: \"STIX-Web\"}});}</script>\n",
              "                <script type=\"text/javascript\">window.PlotlyConfig = {MathJaxConfig: 'local'};</script>\n",
              "        <script src=\"https://cdn.plot.ly/plotly-latest.min.js\"></script>    \n",
              "            <div id=\"3abe238c-a775-451e-ba04-b6f078423869\" class=\"plotly-graph-div\" style=\"height:525px; width:100%;\"></div>\n",
              "            <script type=\"text/javascript\">\n",
              "                \n",
              "                    window.PLOTLYENV=window.PLOTLYENV || {};\n",
              "                    \n",
              "                if (document.getElementById(\"3abe238c-a775-451e-ba04-b6f078423869\")) {\n",
              "                    Plotly.newPlot(\n",
              "                        '3abe238c-a775-451e-ba04-b6f078423869',\n",
              "                        [{\"type\": \"bar\", \"x\": [\"International TV Shows\", \"TV Dramas\", \"TV Comedies\", \"Crime TV Shows\", \"Kids' TV\", \"Docuseries\", \"Romantic TV Shows\", \"British TV Shows\", \"Reality TV\", \"Korean TV Shows\", \"TV Action & Adventure\", \"Anime Series\", \"Spanish-Language TV Shows\", \"TV Mysteries\", \"Science & Nature TV\", \"TV Sci-Fi & Fantasy\", \"TV Horror\", \"Teen TV Shows\", \"Stand-Up Comedy & Talk Shows\", \"TV Thrillers\", \"Classic & Cult TV\", \"TV Shows\"], \"y\": [1198, 703, 518, 426, 412, 352, 333, 231, 222, 150, 149, 147, 146, 90, 85, 75, 69, 60, 52, 50, 25, 12]}],\n",
              "                        {\"template\": {\"data\": {\"bar\": [{\"error_x\": {\"color\": \"#2a3f5f\"}, \"error_y\": {\"color\": \"#2a3f5f\"}, \"marker\": {\"line\": {\"color\": \"#E5ECF6\", \"width\": 0.5}}, \"type\": \"bar\"}], \"barpolar\": [{\"marker\": {\"line\": {\"color\": \"#E5ECF6\", \"width\": 0.5}}, \"type\": \"barpolar\"}], \"carpet\": [{\"aaxis\": {\"endlinecolor\": \"#2a3f5f\", \"gridcolor\": \"white\", \"linecolor\": \"white\", \"minorgridcolor\": \"white\", \"startlinecolor\": \"#2a3f5f\"}, \"baxis\": {\"endlinecolor\": \"#2a3f5f\", \"gridcolor\": \"white\", \"linecolor\": \"white\", \"minorgridcolor\": \"white\", \"startlinecolor\": \"#2a3f5f\"}, \"type\": \"carpet\"}], \"choropleth\": [{\"colorbar\": {\"outlinewidth\": 0, \"ticks\": \"\"}, \"type\": \"choropleth\"}], \"contour\": [{\"colorbar\": {\"outlinewidth\": 0, \"ticks\": \"\"}, \"colorscale\": [[0.0, \"#0d0887\"], [0.1111111111111111, \"#46039f\"], [0.2222222222222222, \"#7201a8\"], [0.3333333333333333, \"#9c179e\"], [0.4444444444444444, \"#bd3786\"], [0.5555555555555556, \"#d8576b\"], [0.6666666666666666, \"#ed7953\"], [0.7777777777777778, \"#fb9f3a\"], [0.8888888888888888, \"#fdca26\"], [1.0, \"#f0f921\"]], \"type\": \"contour\"}], \"contourcarpet\": [{\"colorbar\": {\"outlinewidth\": 0, \"ticks\": \"\"}, \"type\": \"contourcarpet\"}], \"heatmap\": [{\"colorbar\": {\"outlinewidth\": 0, \"ticks\": \"\"}, \"colorscale\": [[0.0, \"#0d0887\"], [0.1111111111111111, \"#46039f\"], [0.2222222222222222, \"#7201a8\"], [0.3333333333333333, \"#9c179e\"], [0.4444444444444444, \"#bd3786\"], [0.5555555555555556, \"#d8576b\"], [0.6666666666666666, \"#ed7953\"], [0.7777777777777778, \"#fb9f3a\"], [0.8888888888888888, \"#fdca26\"], [1.0, \"#f0f921\"]], \"type\": \"heatmap\"}], \"heatmapgl\": [{\"colorbar\": {\"outlinewidth\": 0, \"ticks\": \"\"}, \"colorscale\": [[0.0, \"#0d0887\"], [0.1111111111111111, \"#46039f\"], [0.2222222222222222, \"#7201a8\"], [0.3333333333333333, \"#9c179e\"], [0.4444444444444444, \"#bd3786\"], [0.5555555555555556, \"#d8576b\"], [0.6666666666666666, \"#ed7953\"], [0.7777777777777778, \"#fb9f3a\"], [0.8888888888888888, \"#fdca26\"], [1.0, \"#f0f921\"]], \"type\": \"heatmapgl\"}], \"histogram\": [{\"marker\": {\"colorbar\": {\"outlinewidth\": 0, \"ticks\": \"\"}}, \"type\": \"histogram\"}], \"histogram2d\": [{\"colorbar\": {\"outlinewidth\": 0, \"ticks\": \"\"}, \"colorscale\": [[0.0, \"#0d0887\"], [0.1111111111111111, \"#46039f\"], [0.2222222222222222, \"#7201a8\"], [0.3333333333333333, \"#9c179e\"], [0.4444444444444444, \"#bd3786\"], [0.5555555555555556, \"#d8576b\"], [0.6666666666666666, \"#ed7953\"], [0.7777777777777778, \"#fb9f3a\"], [0.8888888888888888, \"#fdca26\"], [1.0, \"#f0f921\"]], \"type\": \"histogram2d\"}], \"histogram2dcontour\": [{\"colorbar\": {\"outlinewidth\": 0, \"ticks\": \"\"}, \"colorscale\": [[0.0, \"#0d0887\"], [0.1111111111111111, \"#46039f\"], [0.2222222222222222, \"#7201a8\"], [0.3333333333333333, \"#9c179e\"], [0.4444444444444444, \"#bd3786\"], [0.5555555555555556, \"#d8576b\"], [0.6666666666666666, \"#ed7953\"], [0.7777777777777778, \"#fb9f3a\"], [0.8888888888888888, \"#fdca26\"], [1.0, \"#f0f921\"]], \"type\": \"histogram2dcontour\"}], \"mesh3d\": [{\"colorbar\": {\"outlinewidth\": 0, \"ticks\": \"\"}, \"type\": \"mesh3d\"}], \"parcoords\": [{\"line\": {\"colorbar\": {\"outlinewidth\": 0, \"ticks\": \"\"}}, \"type\": \"parcoords\"}], \"pie\": [{\"automargin\": true, \"type\": \"pie\"}], \"scatter\": [{\"marker\": {\"colorbar\": {\"outlinewidth\": 0, \"ticks\": \"\"}}, \"type\": \"scatter\"}], \"scatter3d\": [{\"line\": {\"colorbar\": {\"outlinewidth\": 0, \"ticks\": \"\"}}, \"marker\": {\"colorbar\": {\"outlinewidth\": 0, \"ticks\": \"\"}}, \"type\": \"scatter3d\"}], \"scattercarpet\": [{\"marker\": {\"colorbar\": {\"outlinewidth\": 0, \"ticks\": \"\"}}, \"type\": \"scattercarpet\"}], \"scattergeo\": [{\"marker\": {\"colorbar\": {\"outlinewidth\": 0, \"ticks\": \"\"}}, \"type\": \"scattergeo\"}], \"scattergl\": [{\"marker\": {\"colorbar\": {\"outlinewidth\": 0, \"ticks\": \"\"}}, \"type\": \"scattergl\"}], \"scattermapbox\": [{\"marker\": {\"colorbar\": {\"outlinewidth\": 0, \"ticks\": \"\"}}, \"type\": \"scattermapbox\"}], \"scatterpolar\": [{\"marker\": {\"colorbar\": {\"outlinewidth\": 0, \"ticks\": \"\"}}, \"type\": \"scatterpolar\"}], \"scatterpolargl\": [{\"marker\": {\"colorbar\": {\"outlinewidth\": 0, \"ticks\": \"\"}}, \"type\": \"scatterpolargl\"}], \"scatterternary\": [{\"marker\": {\"colorbar\": {\"outlinewidth\": 0, \"ticks\": \"\"}}, \"type\": \"scatterternary\"}], \"surface\": [{\"colorbar\": {\"outlinewidth\": 0, \"ticks\": \"\"}, \"colorscale\": [[0.0, \"#0d0887\"], [0.1111111111111111, \"#46039f\"], [0.2222222222222222, \"#7201a8\"], [0.3333333333333333, \"#9c179e\"], [0.4444444444444444, \"#bd3786\"], [0.5555555555555556, \"#d8576b\"], [0.6666666666666666, \"#ed7953\"], [0.7777777777777778, \"#fb9f3a\"], [0.8888888888888888, \"#fdca26\"], [1.0, \"#f0f921\"]], \"type\": \"surface\"}], \"table\": [{\"cells\": {\"fill\": {\"color\": \"#EBF0F8\"}, \"line\": {\"color\": \"white\"}}, \"header\": {\"fill\": {\"color\": \"#C8D4E3\"}, \"line\": {\"color\": \"white\"}}, \"type\": \"table\"}]}, \"layout\": {\"annotationdefaults\": {\"arrowcolor\": \"#2a3f5f\", \"arrowhead\": 0, \"arrowwidth\": 1}, \"coloraxis\": {\"colorbar\": {\"outlinewidth\": 0, \"ticks\": \"\"}}, \"colorscale\": {\"diverging\": [[0, \"#8e0152\"], [0.1, \"#c51b7d\"], [0.2, \"#de77ae\"], [0.3, \"#f1b6da\"], [0.4, \"#fde0ef\"], [0.5, \"#f7f7f7\"], [0.6, \"#e6f5d0\"], [0.7, \"#b8e186\"], [0.8, \"#7fbc41\"], [0.9, \"#4d9221\"], [1, \"#276419\"]], \"sequential\": [[0.0, \"#0d0887\"], [0.1111111111111111, \"#46039f\"], [0.2222222222222222, \"#7201a8\"], [0.3333333333333333, \"#9c179e\"], [0.4444444444444444, \"#bd3786\"], [0.5555555555555556, \"#d8576b\"], [0.6666666666666666, \"#ed7953\"], [0.7777777777777778, \"#fb9f3a\"], [0.8888888888888888, \"#fdca26\"], [1.0, \"#f0f921\"]], \"sequentialminus\": [[0.0, \"#0d0887\"], [0.1111111111111111, \"#46039f\"], [0.2222222222222222, \"#7201a8\"], [0.3333333333333333, \"#9c179e\"], [0.4444444444444444, \"#bd3786\"], [0.5555555555555556, \"#d8576b\"], [0.6666666666666666, \"#ed7953\"], [0.7777777777777778, \"#fb9f3a\"], [0.8888888888888888, \"#fdca26\"], [1.0, \"#f0f921\"]]}, \"colorway\": [\"#636efa\", \"#EF553B\", \"#00cc96\", \"#ab63fa\", \"#FFA15A\", \"#19d3f3\", \"#FF6692\", \"#B6E880\", \"#FF97FF\", \"#FECB52\"], \"font\": {\"color\": \"#2a3f5f\"}, \"geo\": {\"bgcolor\": \"white\", \"lakecolor\": \"white\", \"landcolor\": \"#E5ECF6\", \"showlakes\": true, \"showland\": true, \"subunitcolor\": \"white\"}, \"hoverlabel\": {\"align\": \"left\"}, \"hovermode\": \"closest\", \"mapbox\": {\"style\": \"light\"}, \"paper_bgcolor\": \"white\", \"plot_bgcolor\": \"#E5ECF6\", \"polar\": {\"angularaxis\": {\"gridcolor\": \"white\", \"linecolor\": \"white\", \"ticks\": \"\"}, \"bgcolor\": \"#E5ECF6\", \"radialaxis\": {\"gridcolor\": \"white\", \"linecolor\": \"white\", \"ticks\": \"\"}}, \"scene\": {\"xaxis\": {\"backgroundcolor\": \"#E5ECF6\", \"gridcolor\": \"white\", \"gridwidth\": 2, \"linecolor\": \"white\", \"showbackground\": true, \"ticks\": \"\", \"zerolinecolor\": \"white\"}, \"yaxis\": {\"backgroundcolor\": \"#E5ECF6\", \"gridcolor\": \"white\", \"gridwidth\": 2, \"linecolor\": \"white\", \"showbackground\": true, \"ticks\": \"\", \"zerolinecolor\": \"white\"}, \"zaxis\": {\"backgroundcolor\": \"#E5ECF6\", \"gridcolor\": \"white\", \"gridwidth\": 2, \"linecolor\": \"white\", \"showbackground\": true, \"ticks\": \"\", \"zerolinecolor\": \"white\"}}, \"shapedefaults\": {\"line\": {\"color\": \"#2a3f5f\"}}, \"ternary\": {\"aaxis\": {\"gridcolor\": \"white\", \"linecolor\": \"white\", \"ticks\": \"\"}, \"baxis\": {\"gridcolor\": \"white\", \"linecolor\": \"white\", \"ticks\": \"\"}, \"bgcolor\": \"#E5ECF6\", \"caxis\": {\"gridcolor\": \"white\", \"linecolor\": \"white\", \"ticks\": \"\"}}, \"title\": {\"x\": 0.05}, \"xaxis\": {\"automargin\": true, \"gridcolor\": \"white\", \"linecolor\": \"white\", \"ticks\": \"\", \"title\": {\"standoff\": 15}, \"zerolinecolor\": \"white\", \"zerolinewidth\": 2}, \"yaxis\": {\"automargin\": true, \"gridcolor\": \"white\", \"linecolor\": \"white\", \"ticks\": \"\", \"title\": {\"standoff\": 15}, \"zerolinecolor\": \"white\", \"zerolinewidth\": 2}}}, \"title\": {\"text\": \"Top TV Shows Genres\"}, \"xaxis\": {\"categoryorder\": \"total descending\"}},\n",
              "                        {\"responsive\": true}\n",
              "                    ).then(function(){\n",
              "                            \n",
              "var gd = document.getElementById('3abe238c-a775-451e-ba04-b6f078423869');\n",
              "var x = new MutationObserver(function (mutations, observer) {{\n",
              "        var display = window.getComputedStyle(gd).display;\n",
              "        if (!display || display === 'none') {{\n",
              "            console.log([gd, 'removed!']);\n",
              "            Plotly.purge(gd);\n",
              "            observer.disconnect();\n",
              "        }}\n",
              "}});\n",
              "\n",
              "// Listen for the removal of the full notebook cells\n",
              "var notebookContainer = gd.closest('#notebook-container');\n",
              "if (notebookContainer) {{\n",
              "    x.observe(notebookContainer, {childList: true});\n",
              "}}\n",
              "\n",
              "// Listen for the clearing of the current output cell\n",
              "var outputEl = gd.closest('.output');\n",
              "if (outputEl) {{\n",
              "    x.observe(outputEl, {childList: true});\n",
              "}}\n",
              "\n",
              "                        })\n",
              "                };\n",
              "                \n",
              "            </script>\n",
              "        </div>\n",
              "</body>\n",
              "</html>"
            ]
          },
          "metadata": {
            "tags": []
          }
        }
      ]
    },
    {
      "cell_type": "code",
      "metadata": {
        "colab": {
          "base_uri": "https://localhost:8080/",
          "height": 544
        },
        "id": "y9sjbsEDZY0E",
        "outputId": "ae385472-4ceb-4944-f487-db69fcc2cb77"
      },
      "source": [
        "#如何在csv文件中將一列拆分為單獨的列\n",
        "import numpy as np\n",
        "genres_df = calculate_mlb(movie_df['genre'])\n",
        "\n",
        "movie_corr = genres_df.corr()\n",
        "movie_mask = np.zeros_like(movie_corr, dtype=np.bool)\n",
        "movie_mask[np.triu_indices_from(movie_mask)] = True\n",
        "fig, ax = plt.subplots(figsize=(10, 7))\n",
        "pl = sns.heatmap(movie_corr, mask=movie_mask, cmap= \"coolwarm\", vmax=.5, vmin=-.5, center=0, linewidths=.5,\n",
        "                 cbar_kws={\"shrink\": 0.6})\n",
        "plt.show()"
      ],
      "execution_count": 175,
      "outputs": [
        {
          "output_type": "display_data",
          "data": {
            "image/png": "[encoded data removed]",
            "text/plain": [
              "<Figure size 720x504 with 2 Axes>"
            ]
          },
          "metadata": {
            "tags": [],
            "needs_background": "light"
          }
        }
      ]
    },
    {
      "cell_type": "code",
      "metadata": {
        "colab": {
          "base_uri": "https://localhost:8080/",
          "height": 577
        },
        "id": "V80RoFi-f6sR",
        "outputId": "e4204499-0e95-4831-84ef-9a8d6eb517d4"
      },
      "source": [
        "genres_df = calculate_mlb(show_df['genre'])\n",
        "\n",
        "show_corr = genres_df.corr()\n",
        "show_mask = np.zeros_like(show_corr, dtype=np.bool)\n",
        "show_mask[np.triu_indices_from(show_mask)] = True\n",
        "fig, ax = plt.subplots(figsize=(10, 7))\n",
        "pl = sns.heatmap(show_corr, mask=show_mask, cmap= \"coolwarm\", vmax=.5, vmin=-.5, center=0, linewidths=.5,\n",
        "                 cbar_kws={\"shrink\": 0.6})\n",
        "plt.show()\n"
      ],
      "execution_count": 177,
      "outputs": [
        {
          "output_type": "display_data",
          "data": {
            "image/png": "[encoded data removed]",
            "text/plain": [
              "<Figure size 720x504 with 2 Axes>"
            ]
          },
          "metadata": {
            "tags": [],
            "needs_background": "light"
          }
        }
      ]
    },
    {
      "cell_type": "code",
      "metadata": {
        "id": "CNzMJPLyZZb_"
      },
      "source": [
        "!pip install wordcloud"
      ],
      "execution_count": null,
      "outputs": []
    },
    {
      "cell_type": "code",
      "metadata": {
        "colab": {
          "base_uri": "https://localhost:8080/",
          "height": 846
        },
        "id": "sDpuwaNtZlU3",
        "outputId": "44620480-ea27-424a-b795-451c4f0dfc6e"
      },
      "source": [
        "#使用文字雲, 找出最多被使用在資料集上的描述\n",
        "#對文本數據中出現頻率較高的“關鍵詞”在視覺上的突出呈現，形成關鍵詞的渲染形成類似雲一樣的彩色圖片，從而一眼就可以領略文本數據的主要表達意思\n",
        "from wordcloud import WordCloud\n",
        "\n",
        "text = str(list(movie_df['genre'])).replace(',', '').replace('[', '').replace(\"'\", '').replace(']', '')\n",
        "\n",
        "plt.rcParams['figure.figsize'] = (15, 15)\n",
        "wordcloud = WordCloud(background_color = 'white', width = 1200,  height = 1200, max_words = 121).generate(text)\n",
        "plt.imshow(wordcloud)\n",
        "plt.axis('off')\n",
        "plt.show()"
      ],
      "execution_count": 178,
      "outputs": [
        {
          "output_type": "display_data",
          "data": {
            "image/png": "[encoded data removed]",
            "text/plain": [
              "<Figure size 1080x1080 with 1 Axes>"
            ]
          },
          "metadata": {
            "tags": [],
            "needs_background": "light"
          }
        }
      ]
    },
    {
      "cell_type": "code",
      "metadata": {
        "id": "cFw3blEEZoK6"
      },
      "source": [
        "#分析TV SHOW系列持續時間\n",
        "fig = px.histogram(x=show_df['duration'])\n",
        "fig.update_xaxes(categoryorder=\"total descending\")\n",
        "fig.update_layout(\n",
        "    title=\"Distribution of shows duration\",\n",
        "    xaxis_title=\"Duration of the Show\",\n",
        ")\n",
        "fig.show()"
      ],
      "execution_count": null,
      "outputs": []
    },
    {
      "cell_type": "code",
      "metadata": {
        "id": "MTTR6bvpZqWe"
      },
      "source": [
        ""
      ],
      "execution_count": null,
      "outputs": []
    }
  ]
}