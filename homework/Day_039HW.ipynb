
from google.colab import files
upload=files.upload()

import pandas as pd
data=pd.read_csv('Titanic_train.csv')

data.isnull().any()
data[data.Age.isnull().values==True]
data.info()


#survived轉為離散值
data['Survived2']=data.Survived #[]才會新增欄位，更改
data['Survived2']=data.Survived2.astype(object)

data.info()


## Age:連續型 Survived_cate 為離散型，所以採用 Eta Squared
#計算相關係數，不能允許有遺失值，所以必須先補值，或者把遺失值刪除
complete_data=data[['Age','Survived2']].dropna()
complete_data

pip install pingouin

import pingouin as pg
aov = pg.anova(dv='Age', between='Survived2', data=complete_data, detailed=True)
etaSq = aov.SS[0] / (aov.SS[0] + aov.SS[1])#愈小愈不關聯


def judgment_etaSq(etaSq):
    if etaSq < .01:
        qual = 'Negligible'
    elif etaSq < .06:
        qual = 'Small'
    elif etaSq < .14:
        qual = 'Medium'
    else:
        qual = 'Large'
    return(qual)
judgment_etaSq(etaSq)


import seaborn as sns
g=sns.catplot(x='Survived2',y='Age',hue='Survived2',data=data,kind='violin')
#結論: 年紀和存活沒有相關性(complete_data)，思考是否需要放入模型，或者要深入觀察特性，是否需要做特徵轉換


#Q2:透過數值法計算 Sex 和 Survived 是否有相關性?
#sex(離散)、survived(離散)，使用卡方檢定。 Cramér's V


contable=pd.crosstab(data.Sex,data.Survived2)
df=min(contable.shape[0],contable.shape[1])-1
df

!pip install researchpy
import researchpy   
crosstab,res=researchpy.crosstab(data['Survived'],data['Sex'],test='chi-square')

print("Cramer's value is",res.results[2])

def judgment_CramerV(df,V):
    if df == 1:
        if V < 0.10:
            qual = 'negligible'
        elif V < 0.30:
            qual = 'small'
        elif V < 0.50:
            qual = 'medium'
        else:
            qual = 'large'
    elif df == 2:
        if V < 0.07:
            qual = 'negligible'
        elif V < 0.21:
            qual = 'small'
        elif V < 0.35:
            qual = 'medium'
        else:
            qual = 'large'
    elif df == 3:
        if V < 0.06:
            qual = 'negligible'
        elif V < 0.17:
            qual = 'small'
        elif V < 0.29:
            qual = 'medium'
        else:
            qual = 'large'
    elif df == 4:
        if V < 0.05:
            qual = 'negligible'
        elif V < 0.15:
            qual = 'small'
        elif V < 0.25:
            qual = 'medium'
        else:
            qual = 'large'
    else:
        if V < 0.05:
            qual = 'negligible'
        elif V < 0.13:
            qual = 'small'
        elif V < 0.22:
            qual = 'medium'
        else:
            qual = 'large'
    return(qual)

judgment_CramerV(df,res.loc[2,'results'])

g= sns.countplot(x="Sex", hue="Survived2", data=data)

#Q3: 透過數值法計算 Age 和 Fare 是否有相關性?
## Age 連續 , Fare 連續，用 Pearson 相關係數

com_data=data[['Age','Fare']].dropna()
from scipy import stats
corr,_=stats.pearsonr(com_data.Age,com_data.Fare)
corr



g=sns.scatterplot(x='Age',y='Fare',data=com_data)
g=sns.regplot(x='Age',y='Fare',data=com_data)


