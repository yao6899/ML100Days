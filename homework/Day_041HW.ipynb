from google.colab import files
upload=files.upload()
import pandas as pd
data=pd.read_csv('Titanic_train.csv')

#先將survived int 轉為survived object
data['Survived_cate']=data['Survived'].astype('object')
data.info()
data.isnull().any()
c_data=data.dropna()
c_data.isnull()

#排除 Ｎame 當特徵，先刪除每一個人都是獨特的資料，先檢視其他變數
c_data=c_data.drop(['Name','Ticket','PassengerId'],axis=1)

def swap(x):
  if x==1:
    return 'Y'
  else:
    return 'N'
c_data['Survived_cate']=c_data['Survived_cate'].apply(swap)

num_features=[]
for dtype, feature in zip(c_data.dtypes, c_data.columns):
    if dtype=='float64' or dtype=='int64':
      num_features.append(feature)
print(f'{len(num_features)} Numeric Features:{num_features}')

# 定義 x,y
x=c_data[['Pclass', 'Age', 'SibSp', 'Parch', 'Fare','Sex', 'Embarked']]
y=c_data['Survived']
display(x.head(5))
display(y.head(5))


x=x.copy()
def sexswap(x):
  if x=='female':
    return 0
  else:
    return 1
x['Sex']=x['Sex'].apply(sexswap)

#離散要轉換成數值，['Sex',  'Cabin', 'Embarked']
#Can only use .cat accessor with a 'category' dtype
# .cat.codes ：分類的編碼，用數字表示分類數據
# x = x.copy()
# c = x.loc[:,'Sex'].astype('category')
# d = dict(enumerate(c.cat.categories))
# print (d)
# x.loc[:,'Sex']=x.loc[:,'Sex'].astype('category').cat.codes # ok
# display(x.head(5))

def Embarkedswap(x):
  if x=='C':
    return 0
  elif x=='Q':
    return 1
  else:
    return 2
x['Embarked']=x['Embarked'].apply(Embarkedswap)

# c = x.loc[:,'Embarked'].astype('category')
# d = dict(enumerate(c.cat.categories))
# print (d)
# x.loc[:,'Embarked']=x.loc[:,'Embarked'].astype('category').cat.codes # ok


# 特徵選取會用到的函數
from sklearn.feature_selection import VarianceThreshold
from sklearn import preprocessing

from sklearn.datasets import make_friedman1
from sklearn.feature_selection import RFE
from sklearn.svm import SVC

#執行 包裝法

estimator = SVC(kernel="linear")
selector = RFE(estimator, n_features_to_select=2, step=1)
selector = selector.fit(x, y)
## True= selected feature
print(selector.support_)
#Selected (i.e., estimated best) features are assigned rank 1.
ranking=selector.ranking_
print(ranking)
rfe_feature = x.loc[:,selector.support_].columns.tolist()
print(rfe_feature)
















