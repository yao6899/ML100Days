{
 "cells": [
  {
   "cell_type": "code",
   "execution_count": 2,
   "metadata": {},
   "outputs": [],
   "source": [
    "#連續行機率分配\n",
    "#連續型機率分配之基本性質：無法列出所有實驗的可能值（不可數）\n",
    "# #大自然很少連續型均勻分配\n",
    "# 你知道智商的平均是甚麼分配？沒錯就是常態分配。\n",
    "# 常態分配(Normal Distribution) 是統計學中最重要的一個分配，亦為連續分配中最重要的一個分配。\n",
    "# 常態分佈(normal distribution)，又稱高斯分佈(Gaussian distribution)"
   ]
  },
  {
   "cell_type": "code",
   "execution_count": null,
   "metadata": {},
   "outputs": [],
   "source": []
  }
 ],
 "metadata": {
  "kernelspec": {
   "display_name": "Python 3",
   "language": "python",
   "name": "python3"
  },
  "language_info": {
   "codemirror_mode": {
    "name": "ipython",
    "version": 3
   },
   "file_extension": ".py",
   "mimetype": "text/x-python",
   "name": "python",
   "nbconvert_exporter": "python",
   "pygments_lexer": "ipython3",
   "version": "3.8.5"
  }
 },
 "nbformat": 4,
 "nbformat_minor": 4
}
