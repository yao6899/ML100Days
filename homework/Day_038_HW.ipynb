
from google.colab import files
upload=files.upload()
import pandas as pd
data=pd.read_csv('Titanic_train.csv')
data.describe()


miss_val=data.isnull().sum()/len(data)
miss_val.sort_values(ascending=False)

missing_index=data.isnull()
data[missing_index.values==True]


#觀察Age
import seaborn as sns
print(data.describe())
g=sns.FacetGrid(data,col='Survived')
g.map(sns.distplot,'Age')



g=sns.catplot(x='Pclass',y='Age',hue='Sex',data=data,kind='box')
#每一倉的年紀分布不同，用 Pclass和 Sex 來透過 KNN 來補值

sns.boxplot(x='Pclass',y='Age',hue='Sex',data=data)

from sklearn import preprocessing
le=preprocessing.LabelEncoder()
data.Pclass=le.fit_transform(data.Pclass)
data.Sex=le.fit_transform(data.Sex)

data_1=data[['Sex','Age','Pclass']]
data_1=data_1.reset_index(drop=True)



k=1
from sklearn.impute import KNNImputer
imputer=KNNImputer(n_neighbors=k)
data_2=imputer.fit_transform(data_1)
data_2=pd.DataFrame(data_2)
missing_index=data_1.isnull()
display(data_1[missing_index.values==True])
display(data_2[missing_index.values==True])



